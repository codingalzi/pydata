{
  "nbformat": 4,
  "nbformat_minor": 0,
  "metadata": {
    "kernelspec": {
      "display_name": "Python 3",
      "language": "python",
      "name": "python3"
    },
    "language_info": {
      "codemirror_mode": {
        "name": "ipython",
        "version": 3
      },
      "file_extension": ".py",
      "mimetype": "text/x-python",
      "name": "python",
      "nbconvert_exporter": "python",
      "pygments_lexer": "ipython3",
      "version": "3.8.5"
    },
    "colab": {
      "name": "3차과제-넘파이",
      "provenance": [],
      "collapsed_sections": [
        "XqmFjn3G0NmS",
        "EZKmtNHB0NmV",
        "RsmMf41v0NmY",
        "x8-0PK940Nmi",
        "5Y_4N5JZ0Nmj",
        "YGw00k7U0Nmk",
        "mZ4bZufo0Nml",
        "ICDKbaDv0Nmm",
        "kEKMTdKM0Nmn",
        "QtqTPn2t0Nmo"
      ]
    }
  },
  "cells": [
    {
      "cell_type": "markdown",
      "metadata": {
        "id": "FlVRNh6l0NmL"
      },
      "source": [
        "# 4장 넘파이 4편: 고급 넘파이"
      ]
    },
    {
      "cell_type": "markdown",
      "metadata": {
        "id": "_EoqAyKT0NmR"
      },
      "source": [
        "## 기본 설정"
      ]
    },
    {
      "cell_type": "markdown",
      "metadata": {
        "id": "OtxgUHjH0NmR"
      },
      "source": [
        "`numpy` 모듈과 시각화 도구 모듈인 `matplotlib.pyplot`에 대한 기본 설정을 지정한다."
      ]
    },
    {
      "cell_type": "code",
      "metadata": {
        "id": "9yzO70VN0NmR"
      },
      "source": [
        "# 넘파이\n",
        "import numpy as np\n",
        "# 램덤 시드\n",
        "np.random.seed(12345)\n",
        "# 어레이 사용되는 부동소수점들의 정확도 지정\n",
        "np.set_printoptions(precision=4, suppress=True)\n",
        "\n",
        "# 파이플롯\n",
        "import matplotlib.pyplot as plt\n",
        "# 도표 크기 지정\n",
        "plt.rc('figure', figsize=(10, 6))"
      ],
      "execution_count": null,
      "outputs": []
    },
    {
      "cell_type": "markdown",
      "metadata": {
        "id": "z1ru7qoX0Nmq"
      },
      "source": [
        "## 과제"
      ]
    },
    {
      "cell_type": "markdown",
      "metadata": {
        "id": "PuQD7FBI0Nmq"
      },
      "source": [
        "아래 코드는 인터넷 데이터 저장소로부터 아이리스(붓꽃) 데이터(`iris.data`)를 \n",
        "2차원 넘파이 어레이로 불러온다."
      ]
    },
    {
      "cell_type": "code",
      "metadata": {
        "id": "LUVIDcz10Nmq"
      },
      "source": [
        "# 아이리스(붓꽃) 데이터 불러오기\n",
        "url = 'https://archive.ics.uci.edu/ml/machine-learning-databases/iris/iris.data'\n",
        "iris = np.genfromtxt(url, delimiter=',', dtype='str')"
      ],
      "execution_count": null,
      "outputs": []
    },
    {
      "cell_type": "markdown",
      "metadata": {
        "id": "2KCBBeMr0Nmq"
      },
      "source": [
        "`iris.data` 파일에는 아래 형식의 데이터가 150개 들어 있다. \n",
        "\n",
        "```python\n",
        "5.1,3.5,1.4,0.2,Iris-setosa\n",
        "```\n",
        "\n",
        "하나의 데이터에 사용된 값들은 하나의 아이리스(붓꽃)에 대한 꽃잎, 꽃받침과 관련된 특성(features)과 품종을 나타내며,\n",
        "보다 구체적으로 아래 순서를 따른다.\n",
        "\n",
        "```\n",
        "꽃받침 길이, 꽃받침 너비, 꽃잎 길이, 꽃잎 너비, 품종\n",
        "```"
      ]
    },
    {
      "cell_type": "code",
      "metadata": {
        "id": "1C3bQX6t0Nmq",
        "colab": {
          "base_uri": "https://localhost:8080/"
        },
        "outputId": "162368da-8606-44df-f98e-8371a4b433f3"
      },
      "source": [
        "iris.shape"
      ],
      "execution_count": null,
      "outputs": [
        {
          "output_type": "execute_result",
          "data": {
            "text/plain": [
              "(150, 5)"
            ]
          },
          "metadata": {
            "tags": []
          },
          "execution_count": 3
        }
      ]
    },
    {
      "cell_type": "markdown",
      "metadata": {
        "id": "XfZUO6-V0Nmr"
      },
      "source": [
        "길이와 너비를 저장하는 특성들은 숫자로 저장되어 있었지만 위 코드는 문자열로 저장된 품종 특성과의 자료형을 통일시키기 위해\n",
        "모두 문자열 자료형으로 불러왔다.\n",
        "처음 5개 데이터를 확인하면 다음과 같다.\n",
        "\n",
        "__참고:__ `'<U15'`는 길이가 최대 15인 유니코드 문자열 자료형을 나타낸다."
      ]
    },
    {
      "cell_type": "code",
      "metadata": {
        "id": "6bFQRBdh0Nmr",
        "colab": {
          "base_uri": "https://localhost:8080/"
        },
        "outputId": "ebbe2e4f-5f42-4bfb-fc22-a48d18d4f24b"
      },
      "source": [
        "iris[:5]"
      ],
      "execution_count": null,
      "outputs": [
        {
          "output_type": "execute_result",
          "data": {
            "text/plain": [
              "array([['5.1', '3.5', '1.4', '0.2', 'Iris-setosa'],\n",
              "       ['4.9', '3.0', '1.4', '0.2', 'Iris-setosa'],\n",
              "       ['4.7', '3.2', '1.3', '0.2', 'Iris-setosa'],\n",
              "       ['4.6', '3.1', '1.5', '0.2', 'Iris-setosa'],\n",
              "       ['5.0', '3.6', '1.4', '0.2', 'Iris-setosa']], dtype='<U15')"
            ]
          },
          "metadata": {
            "tags": []
          },
          "execution_count": 4
        }
      ]
    },
    {
      "cell_type": "markdown",
      "metadata": {
        "id": "FviHZkeR0Nmr"
      },
      "source": [
        "수치형 데이터와 품종 데이터를 분리해서 각각 (150,4), (150,) 모양의 어레이를 생성하자.\n",
        "이때 수치형 데이터는 `'f8'`, 즉 `'float64'` 자료형을 사용하도록 한다."
      ]
    },
    {
      "cell_type": "code",
      "metadata": {
        "id": "tZRCjmvh0Nmr"
      },
      "source": [
        "iris_features = iris[:,:4].astype('f8')\n",
        "iris_labels = iris[:, 4]"
      ],
      "execution_count": null,
      "outputs": []
    },
    {
      "cell_type": "code",
      "metadata": {
        "id": "SihJ0vNH0Nmr",
        "colab": {
          "base_uri": "https://localhost:8080/"
        },
        "outputId": "d41cc86e-d166-400e-85cc-501390a3b658"
      },
      "source": [
        "iris_features[:5]"
      ],
      "execution_count": null,
      "outputs": [
        {
          "output_type": "execute_result",
          "data": {
            "text/plain": [
              "array([[5.1, 3.5, 1.4, 0.2],\n",
              "       [4.9, 3. , 1.4, 0.2],\n",
              "       [4.7, 3.2, 1.3, 0.2],\n",
              "       [4.6, 3.1, 1.5, 0.2],\n",
              "       [5. , 3.6, 1.4, 0.2]])"
            ]
          },
          "metadata": {
            "tags": []
          },
          "execution_count": 6
        }
      ]
    },
    {
      "cell_type": "markdown",
      "metadata": {
        "id": "GOjOv4pl0Nmr"
      },
      "source": [
        "150개의 데이터는 아래 세 개의 품종으로 구분되며, 각각 50개씩 아래 언급된 순서대로 구분되어 있다.\n",
        "\n",
        "```\n",
        "'Iris-setosa', 'Iris-versicolor', 'Iris-virginica'\n",
        "```\n",
        "\n",
        "즉, 0번, 50번, 100번부터 각 품종의 데이터가 시작된다."
      ]
    },
    {
      "cell_type": "code",
      "metadata": {
        "id": "XWABUAyy0Nms",
        "colab": {
          "base_uri": "https://localhost:8080/"
        },
        "outputId": "eb010143-6ef8-4e3f-a351-e80c2f263765"
      },
      "source": [
        "iris_labels[::50]"
      ],
      "execution_count": null,
      "outputs": [
        {
          "output_type": "execute_result",
          "data": {
            "text/plain": [
              "array(['Iris-setosa', 'Iris-versicolor', 'Iris-virginica'], dtype='<U15')"
            ]
          },
          "metadata": {
            "tags": []
          },
          "execution_count": 7
        }
      ]
    },
    {
      "cell_type": "code",
      "metadata": {
        "id": "M6k6HyG60Nms",
        "colab": {
          "base_uri": "https://localhost:8080/"
        },
        "outputId": "e8d6beca-e200-4980-c854-9ba6c3675085"
      },
      "source": [
        "iris_labels[:5]"
      ],
      "execution_count": null,
      "outputs": [
        {
          "output_type": "execute_result",
          "data": {
            "text/plain": [
              "array(['Iris-setosa', 'Iris-setosa', 'Iris-setosa', 'Iris-setosa',\n",
              "       'Iris-setosa'], dtype='<U15')"
            ]
          },
          "metadata": {
            "tags": []
          },
          "execution_count": 8
        }
      ]
    },
    {
      "cell_type": "code",
      "metadata": {
        "id": "fuGT0Asr0Nms",
        "colab": {
          "base_uri": "https://localhost:8080/"
        },
        "outputId": "4c0b8294-a83a-479d-f499-1e49fa484aa9"
      },
      "source": [
        "iris_labels[50:55]"
      ],
      "execution_count": null,
      "outputs": [
        {
          "output_type": "execute_result",
          "data": {
            "text/plain": [
              "array(['Iris-versicolor', 'Iris-versicolor', 'Iris-versicolor',\n",
              "       'Iris-versicolor', 'Iris-versicolor'], dtype='<U15')"
            ]
          },
          "metadata": {
            "tags": []
          },
          "execution_count": 9
        }
      ]
    },
    {
      "cell_type": "code",
      "metadata": {
        "id": "zIGKhJrN0Nms",
        "colab": {
          "base_uri": "https://localhost:8080/"
        },
        "outputId": "3363fd12-0944-4805-8f55-2c6415654e7c"
      },
      "source": [
        "iris_labels[100:105]"
      ],
      "execution_count": null,
      "outputs": [
        {
          "output_type": "execute_result",
          "data": {
            "text/plain": [
              "array(['Iris-virginica', 'Iris-virginica', 'Iris-virginica',\n",
              "       'Iris-virginica', 'Iris-virginica'], dtype='<U15')"
            ]
          },
          "metadata": {
            "tags": []
          },
          "execution_count": 10
        }
      ]
    },
    {
      "cell_type": "markdown",
      "metadata": {
        "id": "ul95hHae0Nms"
      },
      "source": [
        "__과제 1.__ 꽃잎 길이(2번 열)가 1.5보다 크거나 꽃받침 길이(0번 열)가 5.0보다 작은 데이터만 추출하라."
      ]
    },
    {
      "cell_type": "code",
      "metadata": {
        "id": "T6ZZnEot0Nmt",
        "colab": {
          "base_uri": "https://localhost:8080/"
        },
        "outputId": "472f2285-321f-4d0a-aae5-181729e32578"
      },
      "source": [
        "# None을 적절한 부울 표현식으로 대체하라.\n",
        "\n",
        "mask = (iris_features[:,2]>1.5) | (iris_features[:,0]<5.0)\n",
        "mask"
      ],
      "execution_count": null,
      "outputs": [
        {
          "output_type": "execute_result",
          "data": {
            "text/plain": [
              "array([False,  True,  True,  True, False,  True,  True, False,  True,\n",
              "        True, False,  True,  True,  True, False, False, False, False,\n",
              "        True, False,  True, False,  True,  True,  True,  True,  True,\n",
              "       False, False,  True,  True, False, False, False,  True, False,\n",
              "       False,  True,  True, False, False,  True,  True,  True,  True,\n",
              "        True,  True,  True, False, False,  True,  True,  True,  True,\n",
              "        True,  True,  True,  True,  True,  True,  True,  True,  True,\n",
              "        True,  True,  True,  True,  True,  True,  True,  True,  True,\n",
              "        True,  True,  True,  True,  True,  True,  True,  True,  True,\n",
              "        True,  True,  True,  True,  True,  True,  True,  True,  True,\n",
              "        True,  True,  True,  True,  True,  True,  True,  True,  True,\n",
              "        True,  True,  True,  True,  True,  True,  True,  True,  True,\n",
              "        True,  True,  True,  True,  True,  True,  True,  True,  True,\n",
              "        True,  True,  True,  True,  True,  True,  True,  True,  True,\n",
              "        True,  True,  True,  True,  True,  True,  True,  True,  True,\n",
              "        True,  True,  True,  True,  True,  True,  True,  True,  True,\n",
              "        True,  True,  True,  True,  True,  True])"
            ]
          },
          "metadata": {
            "tags": []
          },
          "execution_count": 11
        }
      ]
    },
    {
      "cell_type": "code",
      "metadata": {
        "id": "wHEgQSXnkweg",
        "colab": {
          "base_uri": "https://localhost:8080/"
        },
        "outputId": "e81de473-1a51-443a-bc14-ad1c3750abd9"
      },
      "source": [
        "\n",
        "iris_features[mask].shape"
      ],
      "execution_count": null,
      "outputs": [
        {
          "output_type": "execute_result",
          "data": {
            "text/plain": [
              "(129, 4)"
            ]
          },
          "metadata": {
            "tags": []
          },
          "execution_count": 12
        }
      ]
    },
    {
      "cell_type": "markdown",
      "metadata": {
        "id": "NEeBCuW90Nmt"
      },
      "source": [
        "__과제 2.__ 꽃받침 길이(0번 열)와 꽃잎 길이(2번 열) 사이의 상관관계를 계산하라.\n",
        "\n",
        "힌트: 넘파이의 적절한 함수를 활용한다. 상관계수에 대한 설명은 [위키백과: 상관분석](https://ko.wikipedia.org/wiki/상관_분석)을 참고한다."
      ]
    },
    {
      "cell_type": "code",
      "metadata": {
        "id": "Revg5hIX0Nmt",
        "colab": {
          "base_uri": "https://localhost:8080/"
        },
        "outputId": "61abaa58-637f-4249-af2f-de1aad1c16e5"
      },
      "source": [
        "# 적절한 넘파이 함수를 호출하라.\n",
        "np.tril(np.corrcoef(iris_features[:,0],iris_features[:,2]),k=-1)[1,0]"
      ],
      "execution_count": null,
      "outputs": [
        {
          "output_type": "execute_result",
          "data": {
            "text/plain": [
              "0.8717541573048718"
            ]
          },
          "metadata": {
            "tags": []
          },
          "execution_count": 13
        }
      ]
    },
    {
      "cell_type": "code",
      "metadata": {
        "colab": {
          "base_uri": "https://localhost:8080/"
        },
        "id": "5oVxJtfdapTV",
        "outputId": "0839158c-d073-42ef-a4cc-27b4dab283e2"
      },
      "source": [
        "# 적절한 넘파이 함수를 호출하라.\n",
        "np.corrcoef(iris_features[:,0],iris_features[:,2])"
      ],
      "execution_count": null,
      "outputs": [
        {
          "output_type": "execute_result",
          "data": {
            "text/plain": [
              "array([[1.    , 0.8718],\n",
              "       [0.8718, 1.    ]])"
            ]
          },
          "metadata": {
            "tags": []
          },
          "execution_count": 14
        }
      ]
    },
    {
      "cell_type": "markdown",
      "metadata": {
        "id": "h6fWfGPP0Nmt"
      },
      "source": [
        "__과제 3.__ 아래 식으로 계산된 값을 갖는 새로운 열(column)이 추가된 2차원 어레이  `iris_features_added`를 생성하라.\n",
        "\n",
        "$$\\frac{\\text{원주율} \\times \\text{꽃잎길이} \\times \\text{꽃받침길이}^2}{3} $$\n",
        "\n",
        "힌트: `np.stack()` 함수를 활용할 수 있다."
      ]
    },
    {
      "cell_type": "code",
      "metadata": {
        "id": "M4cPMPr_0Nmt",
        "colab": {
          "base_uri": "https://localhost:8080/"
        },
        "outputId": "35f462fe-a7cb-4451-e302-82eae190c305"
      },
      "source": [
        "# pass와 None을 각각 적절한 코드와 표현식으로 대체하라.\n",
        "\n",
        "caled = (3.14 * iris_features[:,2] * iris_features[:,0]**2) / 3\n",
        "iris_features_added = np.hstack((iris_features, caled[:, np.newaxis]))\n",
        "\n",
        "assert iris_features_added.shape == (150, 5)\n",
        "iris_features_added[:5]"
      ],
      "execution_count": null,
      "outputs": [
        {
          "output_type": "execute_result",
          "data": {
            "text/plain": [
              "array([[ 5.1   ,  3.5   ,  1.4   ,  0.2   , 38.1133],\n",
              "       [ 4.9   ,  3.    ,  1.4   ,  0.2   , 35.1827],\n",
              "       [ 4.7   ,  3.2   ,  1.3   ,  0.2   , 30.0571],\n",
              "       [ 4.6   ,  3.1   ,  1.5   ,  0.2   , 33.2212],\n",
              "       [ 5.    ,  3.6   ,  1.4   ,  0.2   , 36.6333]])"
            ]
          },
          "metadata": {
            "tags": []
          },
          "execution_count": 15
        }
      ]
    },
    {
      "cell_type": "markdown",
      "metadata": {
        "id": "sPb0bX1F0Nmt"
      },
      "source": [
        "__과제 4.__ `Iris_versicolor` 품종에 해당하는 데이터만 `iris_features`로부터 추출하라. "
      ]
    },
    {
      "cell_type": "code",
      "metadata": {
        "id": "Fvq7ZIuV0Nmt",
        "colab": {
          "base_uri": "https://localhost:8080/"
        },
        "outputId": "f8222cf2-e159-45b7-e955-dd0d35e0952a"
      },
      "source": [
        "# None을 적절한 부울 표현식으로 대체하라.\n",
        "\n",
        "mask = iris_labels == 'Iris-versicolor'\n",
        "iris_features[mask][:5]"
      ],
      "execution_count": null,
      "outputs": [
        {
          "output_type": "execute_result",
          "data": {
            "text/plain": [
              "array([[7. , 3.2, 4.7, 1.4],\n",
              "       [6.4, 3.2, 4.5, 1.5],\n",
              "       [6.9, 3.1, 4.9, 1.5],\n",
              "       [5.5, 2.3, 4. , 1.3],\n",
              "       [6.5, 2.8, 4.6, 1.5]])"
            ]
          },
          "metadata": {
            "tags": []
          },
          "execution_count": 16
        }
      ]
    },
    {
      "cell_type": "markdown",
      "metadata": {
        "id": "kTpmu5nd0Nmu"
      },
      "source": [
        "__과제 5.__ 꽃받침 길이(0번 열)의 평균값(mean), 중앙값(median), 표준편차(standard deviation)를 구하라."
      ]
    },
    {
      "cell_type": "code",
      "metadata": {
        "id": "hHSyfeQW0Nmu",
        "colab": {
          "base_uri": "https://localhost:8080/"
        },
        "outputId": "02b11f14-f8d0-4159-9bc7-a241f0e245fa"
      },
      "source": [
        "# None을 적절한 표현식으로 대체하라.\n",
        "\n",
        "petal_length_mean = np.mean(iris_features[:,0])\n",
        "petal_length_median = np.median(iris_features[:,0])\n",
        "petal_length_std = np.std(iris_features[:,0])\n",
        "\n",
        "print(petal_length_mean, petal_length_median, petal_length_std)"
      ],
      "execution_count": null,
      "outputs": [
        {
          "output_type": "stream",
          "text": [
            "5.843333333333334 5.8 0.8253012917851409\n"
          ],
          "name": "stdout"
        }
      ]
    },
    {
      "cell_type": "code",
      "metadata": {
        "colab": {
          "base_uri": "https://localhost:8080/"
        },
        "id": "weqsrXmQbezo",
        "outputId": "fa5e0278-7307-495c-e968-93bf7d65cf0a"
      },
      "source": [
        "# None을 적절한 표현식으로 대체하라.\n",
        "\n",
        "petal_length_mean = iris_features.mean(axis=0)[0]\n",
        "petal_length_median = np.median(iris_features[:,0])\n",
        "petal_length_std = iris_features.std(axis=0)[0]\n",
        "\n",
        "print(petal_length_mean, petal_length_median, petal_length_std)"
      ],
      "execution_count": null,
      "outputs": [
        {
          "output_type": "stream",
          "text": [
            "5.843333333333335 5.8 0.8253012917851409\n"
          ],
          "name": "stdout"
        }
      ]
    },
    {
      "cell_type": "markdown",
      "metadata": {
        "id": "rxi1lkS20Nmu"
      },
      "source": [
        "__과제 6.__ 세 개의 품종 별 꽃받침 너비(1번 열)의 평균값을 계산하여 아래 어레이와 동일한 모양을 갖는 \n",
        "어레이 `iris_kind_sepal_length`를 생성하라.\n",
        "\n",
        "```\n",
        "[['Iris-setosa', 3.418],\n",
        " ['Iris-versicolor', 2.770],\n",
        " ['Iris-virginica', 2.974]]\n",
        "```"
      ]
    },
    {
      "cell_type": "code",
      "metadata": {
        "id": "3wPKs76A0Nmu",
        "colab": {
          "base_uri": "https://localhost:8080/"
        },
        "outputId": "00e04d3c-947a-4971-8cb9-034a2aebaad5"
      },
      "source": [
        "# pass와 None을 각각 적절한 코드와 표현식으로 대체하라.\n",
        "\n",
        "mask1 = iris_labels == 'Iris-setosa'\n",
        "mask2 = iris_labels == 'Iris-versicolor'\n",
        "mask3 = iris_labels == 'Iris-virginica'\n",
        "mean1 = np.mean(iris_features[mask1][:,1])\n",
        "mean2 = np.mean(iris_features[mask2][:,1])\n",
        "mean3 = np.mean(iris_features[mask3][:,1])\n",
        "iris_kind_sepal_length = np.array([['Iris-setosa',mean1],['Iris-versicolor',mean2],['Iris-virginica',mean3]])\n",
        "\n",
        "iris_kind_sepal_length"
      ],
      "execution_count": null,
      "outputs": [
        {
          "output_type": "execute_result",
          "data": {
            "text/plain": [
              "array([['Iris-setosa', '3.418'],\n",
              "       ['Iris-versicolor', '2.7700000000000005'],\n",
              "       ['Iris-virginica', '2.974']], dtype='<U18')"
            ]
          },
          "metadata": {
            "tags": []
          },
          "execution_count": 19
        }
      ]
    },
    {
      "cell_type": "markdown",
      "metadata": {
        "id": "gGi6px0z0Nmu"
      },
      "source": [
        "__과제 7.__ 꽃잎 너비(3번 열)에 사용된 값을 모두 0과 1사이의 값으로 변환하라. \n",
        "\n",
        "힌트: 하나의 특성, 여기서는 꽃잎 너비,에 속하는 값을 모두 0과 1사이의 값으로 변환하는 작업을 정규화(normalization)이라 한다.\n",
        "정규화에 대한 설명은 [정규화/표준화](https://rucrazia.tistory.com/90)을 참고하라."
      ]
    },
    {
      "cell_type": "code",
      "metadata": {
        "id": "xv7fcbb60Nmu",
        "colab": {
          "base_uri": "https://localhost:8080/"
        },
        "outputId": "4b16d219-a6a8-4ced-d49e-cf85899abd51"
      },
      "source": [
        "# None을 적절한 부울 표현식으로 대체하라.\n",
        "\n",
        "iris_features_normalized = (iris_features[:,3] - np.min(iris_features[:,3]))/(np.max(iris_features[:,3])-np.min(iris_features[:,3]))\n",
        "\n",
        "iris_features_normalized[:5]"
      ],
      "execution_count": null,
      "outputs": [
        {
          "output_type": "execute_result",
          "data": {
            "text/plain": [
              "array([0.0417, 0.0417, 0.0417, 0.0417, 0.0417])"
            ]
          },
          "metadata": {
            "tags": []
          },
          "execution_count": 27
        }
      ]
    },
    {
      "cell_type": "code",
      "metadata": {
        "id": "iaZW8LW2v4t_",
        "colab": {
          "base_uri": "https://localhost:8080/"
        },
        "outputId": "68134988-aee0-442b-c5eb-5a4498faa008"
      },
      "source": [
        "iris_features[:5]"
      ],
      "execution_count": null,
      "outputs": [
        {
          "output_type": "execute_result",
          "data": {
            "text/plain": [
              "array([[5.1, 3.5, 1.4, 0.2],\n",
              "       [4.9, 3. , 1.4, 0.2],\n",
              "       [4.7, 3.2, 1.3, 0.2],\n",
              "       [4.6, 3.1, 1.5, 0.2],\n",
              "       [5. , 3.6, 1.4, 0.2]])"
            ]
          },
          "metadata": {
            "tags": []
          },
          "execution_count": 25
        }
      ]
    },
    {
      "cell_type": "code",
      "metadata": {
        "id": "bDHd0ppcwYQu",
        "colab": {
          "base_uri": "https://localhost:8080/"
        },
        "outputId": "49263fd1-77a8-4109-ac10-4163e28c8d0b"
      },
      "source": [
        "np.min(iris_features, axis=0)"
      ],
      "execution_count": null,
      "outputs": [
        {
          "output_type": "execute_result",
          "data": {
            "text/plain": [
              "array([4.3, 2. , 1. , 0.1])"
            ]
          },
          "metadata": {
            "tags": []
          },
          "execution_count": 37
        }
      ]
    },
    {
      "cell_type": "code",
      "metadata": {
        "colab": {
          "base_uri": "https://localhost:8080/"
        },
        "id": "swRT_sExvRFb",
        "outputId": "f2a61412-6bd6-425a-d6bc-292f717a6812"
      },
      "source": [
        "# None을 적절한 부울 표현식으로 대체하라.\n",
        "\n",
        "iris_features_normalized = (iris_features - iris_features.min(axis=0))/(iris_features.max(axis=0) - iris_features.min(axis=0))\n",
        "\n",
        "iris_features_normalized[:5]"
      ],
      "execution_count": null,
      "outputs": [
        {
          "output_type": "execute_result",
          "data": {
            "text/plain": [
              "array([[0.2222, 0.625 , 0.0678, 0.0417],\n",
              "       [0.1667, 0.4167, 0.0678, 0.0417],\n",
              "       [0.1111, 0.5   , 0.0508, 0.0417],\n",
              "       [0.0833, 0.4583, 0.0847, 0.0417],\n",
              "       [0.1944, 0.6667, 0.0678, 0.0417]])"
            ]
          },
          "metadata": {
            "tags": []
          },
          "execution_count": 39
        }
      ]
    },
    {
      "cell_type": "markdown",
      "metadata": {
        "id": "7JsHgv360Nmv"
      },
      "source": [
        "__과제 8.__ `iris_features`에 사용된 모든 값을 특성 별로 표준화(standardization)하라. \n",
        "\n",
        "힌트: 표준화에 대한 설명은 [정규화/표준화](https://rucrazia.tistory.com/90)을 참고하라."
      ]
    },
    {
      "cell_type": "code",
      "metadata": {
        "id": "q0lFBkNW0Nmv",
        "colab": {
          "base_uri": "https://localhost:8080/"
        },
        "outputId": "147b0885-494e-4104-fd97-67cb50847554"
      },
      "source": [
        "# None을 적절한 부울 표현식으로 대체하라.\n",
        "\n",
        "iris_features_standardized = (iris_features - iris_features.mean(axis=0)) / iris_features.std(axis=0)\n",
        "\n",
        "iris_features_standardized[:5]"
      ],
      "execution_count": null,
      "outputs": [
        {
          "output_type": "execute_result",
          "data": {
            "text/plain": [
              "array([[-0.9007,  1.0321, -1.3413, -1.313 ],\n",
              "       [-1.143 , -0.125 , -1.3413, -1.313 ],\n",
              "       [-1.3854,  0.3378, -1.3981, -1.313 ],\n",
              "       [-1.5065,  0.1064, -1.2844, -1.313 ],\n",
              "       [-1.0218,  1.2635, -1.3413, -1.313 ]])"
            ]
          },
          "metadata": {
            "tags": []
          },
          "execution_count": 40
        }
      ]
    }
  ]
}