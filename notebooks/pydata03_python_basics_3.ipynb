{
 "cells": [
  {
   "cell_type": "markdown",
   "metadata": {},
   "source": [
    "# 3장 파이썬 프로그래밍 기초 2부 3편"
   ]
  },
  {
   "cell_type": "markdown",
   "metadata": {},
   "source": [
    "## 주요 내용\n",
    "\n",
    "* 함수"
   ]
  },
  {
   "cell_type": "markdown",
   "metadata": {},
   "source": [
    "## 함수"
   ]
  },
  {
   "cell_type": "markdown",
   "metadata": {},
   "source": [
    "함수는 지정된 코드에 이름을 주어 필요할 때 간편하게 재사용할 수 있도록 도와주는 수단이다.\n",
    "\n",
    "* 함수는 `def` 예약어를 이용하여 선언한다.\n",
    "* 함수는 여러 개의 인자를 받을 수 있으며, 인자를 받는 역할을 수행하는 변수를 __매개변수__ 또는 \n",
    "    __키워드__라고 한다.\n",
    "* 함수의 인자는 __위치 인자__와 키__워드 인자__로 구분된다.\n",
    "    예를 들어, 아래 함수에서 `x`와 `y`는 위치 인자를 받는 매개변수이고,\n",
    "    `z`는 키워드 인자를 받는 매개변수이다.\n",
    "* 키워드 인자는 함수를 선언할 때 함께 지정되며, 해당 함수를 호출할 때 키워드 인자를 별도로 지정하지 않으면\n",
    "    함수를 선언할 때 지정된 기본값이 사용된다."
   ]
  },
  {
   "cell_type": "markdown",
   "metadata": {},
   "source": [
    "아래 함수는 셋째 인자, 즉, 키워드 인자를 1보다 큰 값으로 지정할 때와 \n",
    "아닐 때를 구분하여 다른 값을 계산하여 반환한다.\n",
    "만약에 키워드 인자를 따로 지정하지 않으면 기본값이 1보다 크기에 2배 연산이 사용된 값이 반환된다."
   ]
  },
  {
   "cell_type": "code",
   "execution_count": 1,
   "metadata": {},
   "outputs": [],
   "source": [
    "def my_function(x, y, z=1.5):\n",
    "    if z > 1:\n",
    "        return 2 * (x + y) - z\n",
    "    else:\n",
    "        return (x + y) + z"
   ]
  },
  {
   "cell_type": "code",
   "execution_count": 2,
   "metadata": {},
   "outputs": [
    {
     "data": {
      "text/plain": [
       "12"
      ]
     },
     "execution_count": 2,
     "metadata": {},
     "output_type": "execute_result"
    }
   ],
   "source": [
    "my_function(5, 6, z=1)"
   ]
  },
  {
   "cell_type": "code",
   "execution_count": 3,
   "metadata": {},
   "outputs": [
    {
     "data": {
      "text/plain": [
       "16.78"
      ]
     },
     "execution_count": 3,
     "metadata": {},
     "output_type": "execute_result"
    }
   ],
   "source": [
    "my_function(3.14, 7, 3.5)"
   ]
  },
  {
   "cell_type": "code",
   "execution_count": 4,
   "metadata": {},
   "outputs": [
    {
     "data": {
      "text/plain": [
       "58.5"
      ]
     },
     "execution_count": 4,
     "metadata": {},
     "output_type": "execute_result"
    }
   ],
   "source": [
    "my_function(10, 20)"
   ]
  },
  {
   "cell_type": "markdown",
   "metadata": {},
   "source": [
    "### 네임 스페이스와 스코프"
   ]
  },
  {
   "cell_type": "markdown",
   "metadata": {},
   "source": [
    "함수는 전역 변수와 지역 변수 모두 사용할 수 있다.\n",
    "\n",
    "* 전역 변수: 함수 밖에서 선언된 변수\n",
    "* 지역 변수: 함수의 매개변수 또는 함수 내에서 선언된 변수"
   ]
  },
  {
   "cell_type": "markdown",
   "metadata": {},
   "source": [
    "예를 들어 아래 함수 `func1()`는 두 개의 지역변수 `a`와 `b` 모두 사용한다."
   ]
  },
  {
   "cell_type": "code",
   "execution_count": 5,
   "metadata": {},
   "outputs": [],
   "source": [
    "def func1(b):\n",
    "    a = []\n",
    "    for i in range(5):\n",
    "        a.append(i)\n",
    "    \n",
    "    b.extend(a)\n",
    "    return b"
   ]
  },
  {
   "cell_type": "code",
   "execution_count": 6,
   "metadata": {},
   "outputs": [
    {
     "name": "stdout",
     "output_type": "stream",
     "text": [
      "[-4, -3, -2, -1, 0, 1, 2, 3, 4]\n"
     ]
    }
   ],
   "source": [
    "print(func1([-4, -3, -2, -1]))"
   ]
  },
  {
   "cell_type": "markdown",
   "metadata": {},
   "source": [
    "아래 함수 `func2()`는 전역변수 `a`와 지역변수 `b` 모두 사용한다."
   ]
  },
  {
   "cell_type": "code",
   "execution_count": 7,
   "metadata": {},
   "outputs": [],
   "source": [
    "a = []\n",
    "\n",
    "def func2(b):\n",
    "    for i in range(5):\n",
    "        a.append(i)\n",
    "    \n",
    "    b.extend(a)\n",
    "    return b"
   ]
  },
  {
   "cell_type": "code",
   "execution_count": 8,
   "metadata": {},
   "outputs": [
    {
     "name": "stdout",
     "output_type": "stream",
     "text": [
      "[-4, -3, -2, -1, 0, 1, 2, 3, 4]\n"
     ]
    }
   ],
   "source": [
    "print(func2([-4, -3, -2, -1]))"
   ]
  },
  {
   "cell_type": "markdown",
   "metadata": {},
   "source": [
    "전역변수가 가리키는 값을 함수 내에서 변경하려면 `global` 예약어를 이용해야 한다.\n",
    "`global` 예약어를 사용하지 않으면 의도대로 작동하지 않을 수 있다."
   ]
  },
  {
   "cell_type": "code",
   "execution_count": 9,
   "metadata": {},
   "outputs": [
    {
     "name": "stdout",
     "output_type": "stream",
     "text": [
      "None\n"
     ]
    }
   ],
   "source": [
    "a = None\n",
    "\n",
    "def bind_a_variable(b):\n",
    "    a = [1, 2, 3]\n",
    "    a = a + b\n",
    "\n",
    "bind_a_variable([4, 5])\n",
    "\n",
    "print(a)"
   ]
  },
  {
   "cell_type": "markdown",
   "metadata": {},
   "source": [
    "`global` 예약어를 사용하면 다르게 작동한다.\n",
    "\n",
    "__주의사항:__ `global` 예약어는 조심스럽게 다루어어야 하기에\n",
    "특별한 상황이 아니라면 사용을 피해야 한다. \n",
    "이유는 복잡하기에 여기서는 그렇다고 언급만 한다."
   ]
  },
  {
   "cell_type": "code",
   "execution_count": 10,
   "metadata": {},
   "outputs": [
    {
     "name": "stdout",
     "output_type": "stream",
     "text": [
      "[1, 2, 3, 4, 5]\n"
     ]
    }
   ],
   "source": [
    "a = None\n",
    "\n",
    "def bind_a_variable(b):\n",
    "    global a\n",
    "    a = [1, 2, 3]\n",
    "    a = a + b\n",
    "\n",
    "bind_a_variable([4, 5])\n",
    "\n",
    "print(a)"
   ]
  },
  {
   "cell_type": "markdown",
   "metadata": {},
   "source": [
    "모든 변수는 이처럼 역할에 따라 활동 영역이 달라진다.\n",
    "변수의 활동영역을 __스코프__(scope)라 부르며, \n",
    "변수를 스코프에 따라 구분하여 관리하는 도구가 __네임 스페이스__(name space)이다.\n",
    "\n",
    "예를 들어, 전역변수 네임 스페이스에 포함된 변수는 `globals()` 함수를 이용하여 확인할 수 있다.\n",
    "아래 코드를 실행하면 매우 많은 변수를 확인하게 된다.\n",
    "\n",
    "```python\n",
    "globals()\n",
    "```"
   ]
  },
  {
   "cell_type": "markdown",
   "metadata": {},
   "source": [
    "모든 함수는 자체의 네임 스페이스를 관리한다.\n",
    "함수가 실행되는 도중에 `locals()` 함수가 호출되면 해당 함수가 사용할 수 있는 지역변수들을 확인할 수 있다."
   ]
  },
  {
   "cell_type": "code",
   "execution_count": 11,
   "metadata": {},
   "outputs": [],
   "source": [
    "a = []\n",
    "\n",
    "def func2(b):\n",
    "    for i in range(5):\n",
    "        a.append(i)\n",
    "        \n",
    "    b.extend(a)\n",
    "    \n",
    "    print(\"지역 변수: \", locals())  # func2() 함수의 네임 스페이스 확인\n",
    "    return b"
   ]
  },
  {
   "cell_type": "markdown",
   "metadata": {},
   "source": [
    "`func2()` 는 실행 도중에 전역변수 이외에 `b`와 `i` 두 개의 지역변수를 사용할 수 있음을\n",
    "아래와 같이 확인할 수 있다."
   ]
  },
  {
   "cell_type": "code",
   "execution_count": 12,
   "metadata": {},
   "outputs": [
    {
     "name": "stdout",
     "output_type": "stream",
     "text": [
      "지역 변수:  {'b': [0, 1, 2, 3, 4], 'i': 4}\n"
     ]
    },
    {
     "data": {
      "text/plain": [
       "[0, 1, 2, 3, 4]"
      ]
     },
     "execution_count": 12,
     "metadata": {},
     "output_type": "execute_result"
    }
   ],
   "source": [
    "func2([])"
   ]
  },
  {
   "cell_type": "markdown",
   "metadata": {},
   "source": [
    "### 여러 개의 값 반환하기"
   ]
  },
  {
   "cell_type": "markdown",
   "metadata": {},
   "source": [
    "함수는 실행 중에 `return` 예약어를 만나는 순간에 지정된 값을 반환하고 실행을 멈춘다.\n",
    "즉, 원칙적으로 하나의 값만 반환할 수 있다는 의미이다.\n",
    "그런데 튜플을 이용하여 여러 개의 값을 하나로 묶어서 하나의 값으로 반환할 수 있다.\n",
    "예를 들어, 아래 함수는 `a`, `b`, `c` 세 개의 값을 튜플로 묶어 반환한다."
   ]
  },
  {
   "cell_type": "code",
   "execution_count": 13,
   "metadata": {},
   "outputs": [],
   "source": [
    "def f():\n",
    "    a = 5\n",
    "    b = 6\n",
    "    c = 7\n",
    "    return a, b, c\n",
    "\n",
    "a, b, c = f()"
   ]
  },
  {
   "cell_type": "markdown",
   "metadata": {},
   "source": [
    "__주의사항:__ 마치 세 개의 값을 반환하는 것처럼 보이지만 실제로는 `(a, b, c)`를 반환한다."
   ]
  },
  {
   "cell_type": "code",
   "execution_count": 14,
   "metadata": {},
   "outputs": [
    {
     "data": {
      "text/plain": [
       "tuple"
      ]
     },
     "execution_count": 14,
     "metadata": {},
     "output_type": "execute_result"
    }
   ],
   "source": [
    "type(f())"
   ]
  },
  {
   "cell_type": "markdown",
   "metadata": {},
   "source": [
    "### 제1종 객체와 함수"
   ]
  },
  {
   "cell_type": "markdown",
   "metadata": {},
   "source": [
    "변수를 선언할 때 또는 함수의 인자 및 반환값 등으로 사용되어\n",
    "저장 및 변경이 가능한 객체를 __제1종 객체__(first-class object)라 한다.\n",
    "정수, 부동소수점, 문자열, 리스트, 튜플, 사전 등이 대표적인 제1종 객체이다.\n",
    "그런데 파이썬에서는 함수도 제1종 객체이다. \n",
    "앞서 파이썬에서 다루는 모든 값은 객체라고 하였는데 함수 역시 객체로 정의된다.\n",
    "\n",
    "__참고:__ '제1종 객체' 표현 대신에 '1급 객체' 표현이 참고서에 많이 사용된다. \n",
    "하지만 객체를 1급, 2급 등으로 나누는 것은 표현상 적절하지 않다는 판단하에 여기서는 제1종, 제2종 등의\n",
    "표현을 사용한다.\n",
    "프로그래밍 언어에 따라 제1종 객체의 범위가 다르다.\n",
    "예를 들어, C와 자바 등에서는 함수는 제1종 객체가 아니다."
   ]
  },
  {
   "cell_type": "markdown",
   "metadata": {},
   "source": [
    "#### 예제"
   ]
  },
  {
   "cell_type": "markdown",
   "metadata": {},
   "source": [
    "정돈되지 않은 문자열들의 리스트가 아래와 같이 주어졌을 때 필요 없는 기호를 제거하는 작업을 진행하려 한다."
   ]
  },
  {
   "cell_type": "code",
   "execution_count": 15,
   "metadata": {},
   "outputs": [],
   "source": [
    "states = ['   Alabama ', 'Georgia!', 'Georgia', 'georgia', 'FlOrIda',\n",
    "          'south   carolina##', 'West virginia?']"
   ]
  },
  {
   "cell_type": "markdown",
   "metadata": {},
   "source": [
    "예를 들어, 스페이스, 느낌표, 물음표 등의 기호를 삭제하거나, 단어의 첫글자를 대문자로 변경하는 작업이 필요하다.\n",
    "언급된 작업 모두 문자열 메서드 또는 문자열과 관련된 함수로 처리할 수 있다."
   ]
  },
  {
   "cell_type": "markdown",
   "metadata": {},
   "source": [
    "* `strip()` 문자열 메서드: 단어 양끝의 스페이스 제거"
   ]
  },
  {
   "cell_type": "code",
   "execution_count": 16,
   "metadata": {},
   "outputs": [
    {
     "data": {
      "text/plain": [
       "'Alabama'"
      ]
     },
     "execution_count": 16,
     "metadata": {},
     "output_type": "execute_result"
    }
   ],
   "source": [
    "\"\\n   Alabama\\t   \".strip()"
   ]
  },
  {
   "cell_type": "markdown",
   "metadata": {},
   "source": [
    "* `title()` 문자열 메서드: 단어의 첫글자만 대문자로 변경"
   ]
  },
  {
   "cell_type": "code",
   "execution_count": 17,
   "metadata": {},
   "outputs": [
    {
     "data": {
      "text/plain": [
       "'South   Carolina'"
      ]
     },
     "execution_count": 17,
     "metadata": {},
     "output_type": "execute_result"
    }
   ],
   "source": [
    "\"souTh   cArolina\".title()"
   ]
  },
  {
   "cell_type": "markdown",
   "metadata": {},
   "source": [
    "* `re` 모듈의 `sub()` 함수: 문자열의 일부를 다른 문자열로 대체"
   ]
  },
  {
   "cell_type": "code",
   "execution_count": 18,
   "metadata": {},
   "outputs": [
    {
     "data": {
      "text/plain": [
       "'Georgia'"
      ]
     },
     "execution_count": 18,
     "metadata": {},
     "output_type": "execute_result"
    }
   ],
   "source": [
    "import re\n",
    "\n",
    "# [!#?]: 느낌표, 샵, 물음표 를 대상으로 한다는 의미임.\n",
    "re.sub('[!#?]', '', \"Geo#rgi?a!\")"
   ]
  },
  {
   "cell_type": "markdown",
   "metadata": {},
   "source": [
    "세 함수를 `for` 반복문에 함께 이용하면 리스트에 모든 문자열을 \n",
    "예쁘게 처리할 수 있다.\n",
    "\n",
    "__참고:__ 이와 같이 데이터를 다루기 좋게 처리하는 과정을 __데이터 전처리__라고 한다."
   ]
  },
  {
   "cell_type": "code",
   "execution_count": 19,
   "metadata": {},
   "outputs": [
    {
     "data": {
      "text/plain": [
       "['Alabama',\n",
       " 'Georgia',\n",
       " 'Georgia',\n",
       " 'Georgia',\n",
       " 'Florida',\n",
       " 'South   Carolina',\n",
       " 'West Virginia']"
      ]
     },
     "execution_count": 19,
     "metadata": {},
     "output_type": "execute_result"
    }
   ],
   "source": [
    "result = []\n",
    "for value in states:\n",
    "    value = value.strip()\n",
    "    value = re.sub('[!#?]', '', value)\n",
    "    value = value.title()\n",
    "    result.append(value)\n",
    "    \n",
    "result"
   ]
  },
  {
   "cell_type": "markdown",
   "metadata": {},
   "source": [
    "아래 함수는 임의의 리스트에 대해 앞서 언급된 전처리를 수행하는 함수이다."
   ]
  },
  {
   "cell_type": "code",
   "execution_count": 20,
   "metadata": {},
   "outputs": [],
   "source": [
    "def clean_strings(strings):\n",
    "    result = []\n",
    "    for value in strings:\n",
    "        value = value.strip()\n",
    "        value = re.sub('[!#?]', '', value)\n",
    "        value = value.title()\n",
    "        result.append(value)\n",
    "    return result"
   ]
  },
  {
   "cell_type": "markdown",
   "metadata": {},
   "source": [
    "위 함수를 이용하면 동일한 결과를 얻는다."
   ]
  },
  {
   "cell_type": "code",
   "execution_count": 21,
   "metadata": {},
   "outputs": [
    {
     "data": {
      "text/plain": [
       "['Alabama',\n",
       " 'Georgia',\n",
       " 'Georgia',\n",
       " 'Georgia',\n",
       " 'Florida',\n",
       " 'South   Carolina',\n",
       " 'West Virginia']"
      ]
     },
     "execution_count": 21,
     "metadata": {},
     "output_type": "execute_result"
    }
   ],
   "source": [
    "clean_strings(states)"
   ]
  },
  {
   "cell_type": "markdown",
   "metadata": {},
   "source": [
    "`clean_strings()` 함수가 갖는 하나의 한계는 전처리 과정에 다른 종류의 작업을 처리하는 함수가 추가되어야 하거나\n",
    "처리 작업의 종류가 달라질 때 발생한다.\n",
    "왜냐하면 그럴 때는 함수 자체의 정의를 수정해야 하는 수고를 들여야 하기 때문이다.\n",
    "\n",
    "이에 대한 해결책은 함수의 본문에서 처리하는 과정을 작업 기능에 따라 분리해 내어 `clean_string()` 함수와\n",
    "별도로 관리하는 것이다. \n",
    "예를 들어, 각각의 작업처리 함수를 하나의 리스트에 담아 놓은 후 `clean_sting()` 함수는 그 리스트에 포함된\n",
    "함수를 필요할 때 활용하도록 할 수 있다.\n",
    "그런데 이렇게 하려면 함수를 리스트의 항목으로 사용할 수 있어야 하는데,\n",
    "파이썬에서는 함수의 이름으로 구성된 리스트를 작성하기만 하면 된다.\n",
    "\n",
    "예를 들어, `strip()`과 `title()` 두 문자열 메서드의 이름으로 구성된 리스트는 아래와 같다.\n",
    "\n",
    "__주의사항:__ 함수를 명기 할 때 괄호를 사용하면 함수가 실행되어 반환한 값을 가리킨다. \n",
    "따라서 괄호를 사용하지 않아야 함수 자체가 값으로 취급된다."
   ]
  },
  {
   "cell_type": "code",
   "execution_count": 22,
   "metadata": {},
   "outputs": [
    {
     "data": {
      "text/plain": [
       "[<method 'strip' of 'str' objects>, <method 'title' of 'str' objects>]"
      ]
     },
     "execution_count": 22,
     "metadata": {},
     "output_type": "execute_result"
    }
   ],
   "source": [
    "[str.strip, str.title]"
   ]
  },
  {
   "cell_type": "markdown",
   "metadata": {},
   "source": [
    "위 리스트에 느낌표, 샵, 물음표 기호를 제거하는 함수를 추가하려면 먼저 해당 함수를 정의해야 한다."
   ]
  },
  {
   "cell_type": "code",
   "execution_count": 23,
   "metadata": {},
   "outputs": [],
   "source": [
    "def remove_punctuation(value):\n",
    "    return re.sub('[!#?]', '', value)"
   ]
  },
  {
   "cell_type": "markdown",
   "metadata": {},
   "source": [
    "이제 앞서 사용된 세 작업을 수행하는 함수들의 리스트는 다음과 같다."
   ]
  },
  {
   "cell_type": "code",
   "execution_count": 24,
   "metadata": {},
   "outputs": [],
   "source": [
    "clean_ops = [str.strip, remove_punctuation, str.title]"
   ]
  },
  {
   "cell_type": "markdown",
   "metadata": {},
   "source": [
    "위 리스트를 이용하여 `clean_string()` 함수를 재정의할 수 있다.\n",
    "\n",
    "* 첫째 인자: 단어들의 리스트\n",
    "* 둘째 인자: 작업 처리 함수들의 리스트"
   ]
  },
  {
   "cell_type": "code",
   "execution_count": 25,
   "metadata": {},
   "outputs": [],
   "source": [
    "def clean_strings(strings, ops):\n",
    "    result = []\n",
    "    for value in strings:\n",
    "        for function in ops:\n",
    "            value = function(value)\n",
    "        result.append(value)\n",
    "    return result"
   ]
  },
  {
   "cell_type": "code",
   "execution_count": 26,
   "metadata": {},
   "outputs": [
    {
     "data": {
      "text/plain": [
       "['Alabama',\n",
       " 'Georgia',\n",
       " 'Georgia',\n",
       " 'Georgia',\n",
       " 'Florida',\n",
       " 'South   Carolina',\n",
       " 'West Virginia']"
      ]
     },
     "execution_count": 26,
     "metadata": {},
     "output_type": "execute_result"
    }
   ],
   "source": [
    "clean_strings(states, clean_ops)"
   ]
  },
  {
   "cell_type": "markdown",
   "metadata": {},
   "source": [
    "좋아 보인다. 그런데 'South   Carolina'의 경우 두 단어 사이에 스페이스가 너무 많이 들어가 있는데\n",
    "언급된 세 작업은 이를 처리하지 못한다. \n",
    "이런 문자열을 처리하는 방법은 문자열을 스페이스 기준으로 쪼갠 다음에 다시 하나의 문자열로 합치는 것이다.\n",
    "\n",
    "* `split()` 문자열 메서드: 지정된 인자를 기준으로 문자열 쪼개기. 반환값은 쪼개진 문자열들의 리스트.\n",
    "    인자를 지정하지 않으면 스페이스가 기본 인자로 사용됨."
   ]
  },
  {
   "cell_type": "code",
   "execution_count": 27,
   "metadata": {},
   "outputs": [
    {
     "data": {
      "text/plain": [
       "['South', 'Carolina']"
      ]
     },
     "execution_count": 27,
     "metadata": {},
     "output_type": "execute_result"
    }
   ],
   "source": [
    "'South   Carolina'.split()"
   ]
  },
  {
   "cell_type": "markdown",
   "metadata": {},
   "source": [
    "* `join()` 문자열 메서드: 지정된 문자열을 매개체로 이용하여 여러 문자열 이어붙이기\n",
    "\n",
    "예를 들어, 스페이스(\" \")를 기준으로 `South`와 `Carolina`를 이어붙이는 방법은 다음과 같다."
   ]
  },
  {
   "cell_type": "code",
   "execution_count": 28,
   "metadata": {},
   "outputs": [
    {
     "data": {
      "text/plain": [
       "'South Carolina'"
      ]
     },
     "execution_count": 28,
     "metadata": {},
     "output_type": "execute_result"
    }
   ],
   "source": [
    "\" \".join(['South', 'Carolina'])"
   ]
  },
  {
   "cell_type": "markdown",
   "metadata": {},
   "source": [
    "쉼표와 스페이스(`, `)로 구분하고 싶다음 다음과 같이 한다."
   ]
  },
  {
   "cell_type": "code",
   "execution_count": 29,
   "metadata": {},
   "outputs": [
    {
     "data": {
      "text/plain": [
       "'South, Carolina'"
      ]
     },
     "execution_count": 29,
     "metadata": {},
     "output_type": "execute_result"
    }
   ],
   "source": [
    "\", \".join(['South', 'Carolina'])"
   ]
  },
  {
   "cell_type": "markdown",
   "metadata": {},
   "source": [
    "위 두 작업을 처리하는 함수를 `clean_ops`가 가리키는 함수 리스트에 추가해야 한다.\n",
    "`split()` 문자열 메서드는 `str.split` 으로 지정하면 되지만,\n",
    "`join()` 문자열 메서드는 여기서 필요한 스페이스를 이어붙이기의 매개체로 지정해야 하기에 아래와 같이 함수를 새로 정의해서 사용한다."
   ]
  },
  {
   "cell_type": "code",
   "execution_count": 30,
   "metadata": {},
   "outputs": [],
   "source": [
    "def space_join(a_list):\n",
    "    return \" \".join(a_list)"
   ]
  },
  {
   "cell_type": "markdown",
   "metadata": {},
   "source": [
    "이제 위 두 함수를 `clean_ops` 리스트에 추가한 후에 `clean_string()` 함수를 다시 실행하면\n",
    "보다 깔끔하게 정돈된 문자열들의 리스트가 생성된다.\n",
    "\n",
    "__주의사항:__ `clean_string()` 함수는 전혀 수정하지 않는다."
   ]
  },
  {
   "cell_type": "code",
   "execution_count": 31,
   "metadata": {},
   "outputs": [],
   "source": [
    "clean_ops.extend([str.split, space_join])"
   ]
  },
  {
   "cell_type": "code",
   "execution_count": 32,
   "metadata": {},
   "outputs": [
    {
     "data": {
      "text/plain": [
       "['Alabama',\n",
       " 'Georgia',\n",
       " 'Georgia',\n",
       " 'Georgia',\n",
       " 'Florida',\n",
       " 'South Carolina',\n",
       " 'West Virginia']"
      ]
     },
     "execution_count": 32,
     "metadata": {},
     "output_type": "execute_result"
    }
   ],
   "source": [
    "cleaned_strings = clean_strings(states, clean_ops)\n",
    "\n",
    "cleaned_strings"
   ]
  },
  {
   "cell_type": "markdown",
   "metadata": {},
   "source": [
    "#### 연습문제"
   ]
  },
  {
   "cell_type": "markdown",
   "metadata": {},
   "source": [
    "'Georgia'처럼 중복 사용된 리스트의 항목을 제거하는 방법은 무엇인가?"
   ]
  },
  {
   "cell_type": "markdown",
   "metadata": {},
   "source": [
    "_**견본 답안 1**_"
   ]
  },
  {
   "cell_type": "markdown",
   "metadata": {},
   "source": [
    "리스트에서 중복 항목을 제거하는 가장 간단한 방법은 집합 자료형으로 형변환했다가\n",
    "다시 리스트로 형변환을 실행하는 것이다. \n",
    "즉, 다음과 같이 실행한다."
   ]
  },
  {
   "cell_type": "code",
   "execution_count": 33,
   "metadata": {},
   "outputs": [
    {
     "data": {
      "text/plain": [
       "['Georgia', 'West Virginia', 'Florida', 'Alabama', 'South Carolina']"
      ]
     },
     "execution_count": 33,
     "metadata": {},
     "output_type": "execute_result"
    }
   ],
   "source": [
    "list(set(cleaned_strings))"
   ]
  },
  {
   "cell_type": "markdown",
   "metadata": {},
   "source": [
    "_**견본 답안 2**_"
   ]
  },
  {
   "cell_type": "markdown",
   "metadata": {},
   "source": [
    "리스트에서 집합으로, 집합에서 리스트로 형변환하면 기존 리스트에 포함된 항목들의 순서가 반드시 지켜지지 않는다.\n",
    "이유는 집합 자체에 순서 개념이 없기 때문이다.\n",
    "따라서 기존 리스트에 포함된 항목들의 순서를 유지하려면 `for` 반복문을 \n",
    "사용하는 것 이외에 달리 특별한 방법이 없다."
   ]
  },
  {
   "cell_type": "code",
   "execution_count": 34,
   "metadata": {},
   "outputs": [
    {
     "data": {
      "text/plain": [
       "['Alabama', 'Georgia', 'Florida', 'South Carolina', 'West Virginia']"
      ]
     },
     "execution_count": 34,
     "metadata": {},
     "output_type": "execute_result"
    }
   ],
   "source": [
    "new_cleaned_strings = []\n",
    "for item in cleaned_strings:\n",
    "    if item not in new_cleaned_strings:\n",
    "        new_cleaned_strings.append(item)\n",
    "        \n",
    "new_cleaned_strings        "
   ]
  },
  {
   "cell_type": "markdown",
   "metadata": {},
   "source": [
    "### 고계 함수"
   ]
  },
  {
   "cell_type": "markdown",
   "metadata": {},
   "source": [
    "함수가 제1종 객체이기 때문에 함수를 다른 함수의 인자 또는 반환값으로 사용할 수 있다.\n",
    "예를 들어, 아래 함수는 인자로 들어오는 함수를 정수 1과 함께 호출하여 반환된 값에 1을 더한 값을 반환한다."
   ]
  },
  {
   "cell_type": "code",
   "execution_count": 35,
   "metadata": {},
   "outputs": [],
   "source": [
    "def higher_func1(f):\n",
    "    return f(1) + 1"
   ]
  },
  {
   "cell_type": "markdown",
   "metadata": {},
   "source": [
    "`add_three()` 함수는 입력값에 3을 더한 값을 반환한다."
   ]
  },
  {
   "cell_type": "code",
   "execution_count": 36,
   "metadata": {},
   "outputs": [],
   "source": [
    "def add_three(y):\n",
    "    return 3 + y"
   ]
  },
  {
   "cell_type": "markdown",
   "metadata": {},
   "source": [
    "`higher_func1()` 함수에 `add_three`를 인자로 사용하면 아래 결과가 나온다."
   ]
  },
  {
   "cell_type": "code",
   "execution_count": 37,
   "metadata": {},
   "outputs": [
    {
     "data": {
      "text/plain": [
       "5"
      ]
     },
     "execution_count": 37,
     "metadata": {},
     "output_type": "execute_result"
    }
   ],
   "source": [
    "higher_func1(add_three)"
   ]
  },
  {
   "cell_type": "markdown",
   "metadata": {},
   "source": [
    "`higher_func1()` 처럼 함수를 인자로 받거나 반환하는 함수를 __고계 함수__(higher-order function)라 한다."
   ]
  },
  {
   "cell_type": "markdown",
   "metadata": {},
   "source": [
    "### 람다 함수"
   ]
  },
  {
   "cell_type": "markdown",
   "metadata": {},
   "source": [
    "람다 함수는 이름 없이 정의된 함수를 의미한다. \n",
    "k개의 인자를 받는 함수를 람다 함수로 정의하는 양식은 아래와 같다. \n",
    "\n",
    "```python\n",
    "lambda 변수1, 변수2, ..., 변수k: 반환값\n",
    "```\n",
    "\n",
    "__주의사항:__ 반환값을 지정할 때 `return` 예약어가 사용되지 않는다."
   ]
  },
  {
   "cell_type": "markdown",
   "metadata": {},
   "source": [
    "#### 예제\n",
    "\n",
    "예를 들어 두 수의 합을 반환하는 함수는 다음과 같이 정의한다."
   ]
  },
  {
   "cell_type": "code",
   "execution_count": 38,
   "metadata": {},
   "outputs": [
    {
     "data": {
      "text/plain": [
       "<function __main__.<lambda>(x, y)>"
      ]
     },
     "execution_count": 38,
     "metadata": {},
     "output_type": "execute_result"
    }
   ],
   "source": [
    "lambda x, y: x + y"
   ]
  },
  {
   "cell_type": "markdown",
   "metadata": {},
   "source": [
    "람다 함수는 이름이 없기 때문에 사용하려면 항상 람다 함수 자체를 하나의 이름처럼 사용해야 한다.\n",
    "예를 들어, 2와 4를 더하려면 다음과 같이 사용한다."
   ]
  },
  {
   "cell_type": "code",
   "execution_count": 39,
   "metadata": {},
   "outputs": [
    {
     "data": {
      "text/plain": [
       "6"
      ]
     },
     "execution_count": 39,
     "metadata": {},
     "output_type": "execute_result"
    }
   ],
   "source": [
    "(lambda x, y: x + y)(2, 4)"
   ]
  },
  {
   "cell_type": "markdown",
   "metadata": {},
   "source": [
    "#### 예제\n",
    "\n",
    "예를 들어, 아래 고계 함수는 숫자 `x`가 인자로 들어오면 \n",
    "그 `x`를 자신의 인자 `y`와 더한 값을 반환하는 함수 `f()`를 반환한다.\n",
    "즉, 함수 내에서 다른 함수를 정의하고 그 함수를 반환값으로 지정한다."
   ]
  },
  {
   "cell_type": "code",
   "execution_count": 40,
   "metadata": {},
   "outputs": [],
   "source": [
    "def higher_func2(x):\n",
    "    def f(y):\n",
    "        return y + x\n",
    "    return f"
   ]
  },
  {
   "cell_type": "markdown",
   "metadata": {},
   "source": [
    "위 함수를 이용하여 `add_three()` 함수를 아래와 같이 정의할 수 있다."
   ]
  },
  {
   "cell_type": "code",
   "execution_count": 41,
   "metadata": {},
   "outputs": [],
   "source": [
    "add_three_new = higher_func2(3)"
   ]
  },
  {
   "cell_type": "markdown",
   "metadata": {},
   "source": [
    "실제 실행 결과가 동일하다. "
   ]
  },
  {
   "cell_type": "code",
   "execution_count": 42,
   "metadata": {},
   "outputs": [
    {
     "data": {
      "text/plain": [
       "True"
      ]
     },
     "execution_count": 42,
     "metadata": {},
     "output_type": "execute_result"
    }
   ],
   "source": [
    "add_three_new(7) == add_three(7)"
   ]
  },
  {
   "cell_type": "code",
   "execution_count": 43,
   "metadata": {},
   "outputs": [
    {
     "data": {
      "text/plain": [
       "True"
      ]
     },
     "execution_count": 43,
     "metadata": {},
     "output_type": "execute_result"
    }
   ],
   "source": [
    "add_three_new(99) == add_three(99)"
   ]
  },
  {
   "cell_type": "markdown",
   "metadata": {},
   "source": [
    "그런데 `higher_func2()` 함수의 본문에서\n",
    "정의된 함수 `f()`는 함수의 리턴값으로만 사용되며\n",
    "다른 곳에서는 전혀 사용할 수 없다.\n",
    "이처럼 한 번만 사용할 함수를 정의하기 위해 굳이 이름을 줄 필요가 없으며,\n",
    "함수가 간단하게 정의되기에 아래와 같이 람다 함수를 바로 반환하도록 하는 게\n",
    "이해에 보다 도움이 된다."
   ]
  },
  {
   "cell_type": "code",
   "execution_count": 44,
   "metadata": {},
   "outputs": [],
   "source": [
    "def higher_func2(x):\n",
    "    return (lambda y: y+x)"
   ]
  },
  {
   "cell_type": "markdown",
   "metadata": {},
   "source": [
    "#### 예제"
   ]
  },
  {
   "cell_type": "markdown",
   "metadata": {},
   "source": [
    "고계 함수의 인자로 종종 람다 함수를 사용한다.\n",
    "아래 함수는 리스트의 각 항목에 지정된 함수를 적용하여 새로운 리스트를 생성하는 함수이다."
   ]
  },
  {
   "cell_type": "code",
   "execution_count": 45,
   "metadata": {},
   "outputs": [],
   "source": [
    "def apply_to_list(f, some_list):\n",
    "    return [f(x) for x in some_list]"
   ]
  },
  {
   "cell_type": "markdown",
   "metadata": {},
   "source": [
    "각 매개변수의 역할은 다음과 같다.\n",
    "\n",
    "* `some_list`: 리스트를 인자로 받음.\n",
    "* `f`: 하나의 인자를 받는 함수를 인자로 받음.\n",
    "\n",
    "반환값은 `some_list`의 각 항목값과 함께 `f()` 함수를 호출하여 반환되는 값들로 이루어진 리스트이다.\n",
    "예를 들어, 각 항목의 두 배로 이루어진 리스트는 다음과 같이 생성한다."
   ]
  },
  {
   "cell_type": "code",
   "execution_count": 46,
   "metadata": {},
   "outputs": [
    {
     "data": {
      "text/plain": [
       "[8, 0, 2, 10, 12]"
      ]
     },
     "execution_count": 46,
     "metadata": {},
     "output_type": "execute_result"
    }
   ],
   "source": [
    "ints = [4, 0, 1, 5, 6]\n",
    "\n",
    "apply_to_list(lambda x: x * 2, ints)"
   ]
  },
  {
   "cell_type": "markdown",
   "metadata": {},
   "source": [
    "__참고:__ `apply_to_list()` 함수는 파이썬에서 기본으로 제공하는 `map()` 함수의 일부 기능을 구현하였다. \n",
    "단, `map()` 함수의 반환값은 리스트가 아닌 `map`이라는 이터러블 객체다.\n",
    "이터러블 객체에 대한 자세한 설명은 잠시 뒤에 이루어진다."
   ]
  },
  {
   "cell_type": "code",
   "execution_count": 47,
   "metadata": {},
   "outputs": [
    {
     "data": {
      "text/plain": [
       "map"
      ]
     },
     "execution_count": 47,
     "metadata": {},
     "output_type": "execute_result"
    }
   ],
   "source": [
    "ints = [4, 0, 1, 5, 6]\n",
    "new_ints = map(lambda x: x * 2, ints)\n",
    "\n",
    "type(new_ints)"
   ]
  },
  {
   "cell_type": "markdown",
   "metadata": {},
   "source": [
    "`new_ints` 에 담긴 항목을 확인하려면 리스트로 형변환하면 된다."
   ]
  },
  {
   "cell_type": "code",
   "execution_count": 48,
   "metadata": {},
   "outputs": [
    {
     "data": {
      "text/plain": [
       "[8, 0, 2, 10, 12]"
      ]
     },
     "execution_count": 48,
     "metadata": {},
     "output_type": "execute_result"
    }
   ],
   "source": [
    "ints = [4, 0, 1, 5, 6]\n",
    "\n",
    "list(map(lambda x: x * 2, ints))"
   ]
  },
  {
   "cell_type": "markdown",
   "metadata": {},
   "source": [
    "물론 이터러블 자료형의 특성을 `for` 반복문에 적용해도 된다."
   ]
  },
  {
   "cell_type": "code",
   "execution_count": 49,
   "metadata": {},
   "outputs": [
    {
     "name": "stdout",
     "output_type": "stream",
     "text": [
      "8, 0, 2, 10, 12, "
     ]
    }
   ],
   "source": [
    "for item in new_ints:\n",
    "    print(item, end=', ')"
   ]
  },
  {
   "cell_type": "markdown",
   "metadata": {},
   "source": [
    "__참고:__ `new_ints`와 같은 이터러블 자료형은 `for` 반복문에 한 번 사용되면 더 이상 사용될 수 없다.\n",
    "아래 결과에서 아무 것도 출력되지 않는 이유가 거기에 있다.\n",
    "이유는 `map`과 같은 이터러블 자료형은 포함된 항목을 한 번만 순회하도록 만들어졌기 때문이다.\n",
    "단, 리스트보다 메모리를 훨씬 덜 차지하고 속도도 빠르다는 장점이 있어서 \n",
    "매우 많은 항목을 한 번 순회하는 용도로 많이 사용된다. "
   ]
  },
  {
   "cell_type": "code",
   "execution_count": 50,
   "metadata": {},
   "outputs": [],
   "source": [
    "for item in new_ints:\n",
    "    print(item, end=', ')"
   ]
  },
  {
   "cell_type": "markdown",
   "metadata": {},
   "source": [
    "`map()` 함수는 여러 개의 인자를 받는 함수도 사용할 수 있다. 단,\n",
    "인자의 개수만큼의 리스트가 인자로 사용되어야 한다.\n",
    "그러면 각 리스트의 동일한 인덱스에 위치한 값을 묶어 첫째 인자로 사용된 함수의 인자로 전달된다."
   ]
  },
  {
   "cell_type": "code",
   "execution_count": 51,
   "metadata": {},
   "outputs": [
    {
     "data": {
      "text/plain": [
       "[101, 202, 303]"
      ]
     },
     "execution_count": 51,
     "metadata": {},
     "output_type": "execute_result"
    }
   ],
   "source": [
    "list(map(lambda x, y: x + y, [1, 2, 3], [100, 200, 300]))"
   ]
  },
  {
   "cell_type": "markdown",
   "metadata": {},
   "source": [
    "리스트의 길이가 다르면 가장 짧은 리스트의 항목 수만큼만 함수를 적용한 결과를 리스트로 반환한다."
   ]
  },
  {
   "cell_type": "code",
   "execution_count": 52,
   "metadata": {},
   "outputs": [
    {
     "data": {
      "text/plain": [
       "[101, -202]"
      ]
     },
     "execution_count": 52,
     "metadata": {},
     "output_type": "execute_result"
    }
   ],
   "source": [
    "list(map(lambda x, y, z: (x + y) * z, [1, 2, 3], [100, 200, 300], [1, -1]))"
   ]
  },
  {
   "cell_type": "markdown",
   "metadata": {},
   "source": [
    "#### 예제"
   ]
  },
  {
   "cell_type": "markdown",
   "metadata": {},
   "source": [
    "함수를 키워드 인자로 받는 경우에 람다 함수가 유용하게 활용된다.\n",
    "예를 들어, 리스트의 `sort()` 메서드는 항목을 크기 순으로 정렬한다.\n",
    "그리고 크기 기준의 기본으로\n",
    "숫자인 경우는 숫자 크기, 문자열인 경우는 사전식 알파벳 순서와 같이 일반적으로 \n",
    "알려진 기준을 사용한다. \n",
    "\n",
    "하지만, 예를 들어, 문자열의 크기 기준을 문자열에 포함된 서로 다른 문자들의 개수로 정하면 \n",
    "크기 기준을 다르게 적용해서 정렬해야 한다.\n",
    "이때 `sort()` 메서드의 `key` 키워드가 크기 기준으로 사용되는 함수를 지정하는 데에 사용된다.\n",
    "\n",
    "`key` 키워드의 인자는 하나의 인자만 사용하는 함수이어야 하며, 해당 함수의 반환값을 이용하여 크기 순서를 정하게 된다.\n",
    "따라서 문자열의 길이를 기준으로 정렬하려면 아래 함수를 `key`의 인자로 사용해야 한다.\n",
    "\n",
    "__참고:__ `set()` 함수는 중복된 항목을 하나의 항목으로 처리한다."
   ]
  },
  {
   "cell_type": "code",
   "execution_count": 53,
   "metadata": {},
   "outputs": [],
   "source": [
    "def count_chars(x):\n",
    "    return len(set(x))"
   ]
  },
  {
   "cell_type": "markdown",
   "metadata": {},
   "source": [
    "아래 문자열들의 리스트를 새로운 기준으로 정렬해보자."
   ]
  },
  {
   "cell_type": "code",
   "execution_count": 54,
   "metadata": {},
   "outputs": [],
   "source": [
    "strings = ['foo', 'card', 'bar', 'aaaa', 'abab']"
   ]
  },
  {
   "cell_type": "markdown",
   "metadata": {},
   "source": [
    "위 문자열들에 사용된 서로 다른 알파벳의 수는 아래처럼 확인할 수 있다.\n",
    "아래 코드는 리스트 조건제시법을 사용한다. "
   ]
  },
  {
   "cell_type": "code",
   "execution_count": 55,
   "metadata": {},
   "outputs": [
    {
     "data": {
      "text/plain": [
       "[2, 4, 3, 1, 2]"
      ]
     },
     "execution_count": 55,
     "metadata": {},
     "output_type": "execute_result"
    }
   ],
   "source": [
    "[count_chars(x) for x in strings]"
   ]
  },
  {
   "cell_type": "markdown",
   "metadata": {},
   "source": [
    "이제 `key` 매개변수의 인자를 `count_chars`로 지정하여 정렬하면 된다.\n",
    "\n",
    "__주의사항:__ `count_chars()` 라고 적지 않음에 주의하라.\n",
    "만약, 그렇게 하면 `count_chars` 함수가 아니라 해당 함수를 호출하여 반환된 값이 `key`에 대한\n",
    "키워드 인자로 사용된다. 하지만 `count_chars` 함수는 인자를 반드시 하나 받아서 호출되어야 하기에\n",
    "오류가 발생한다."
   ]
  },
  {
   "cell_type": "code",
   "execution_count": 56,
   "metadata": {},
   "outputs": [
    {
     "data": {
      "text/plain": [
       "['aaaa', 'foo', 'abab', 'bar', 'card']"
      ]
     },
     "execution_count": 56,
     "metadata": {},
     "output_type": "execute_result"
    }
   ],
   "source": [
    "strings.sort(key=count_chars)\n",
    "strings"
   ]
  },
  {
   "cell_type": "markdown",
   "metadata": {},
   "source": [
    "잘 작동한다. \n",
    "하지만 `count_chars()` 함수가 한 번만 사용된다면 \n",
    "굳이 이름을 지정하여 정의할 필요 없이 \n",
    "람다 함수로 직접 `key` 매개변수의 인자로 지정하는 것이 좀 더 편하다."
   ]
  },
  {
   "cell_type": "code",
   "execution_count": 57,
   "metadata": {},
   "outputs": [
    {
     "data": {
      "text/plain": [
       "['aaaa', 'foo', 'abab', 'bar', 'card']"
      ]
     },
     "execution_count": 57,
     "metadata": {},
     "output_type": "execute_result"
    }
   ],
   "source": [
    "strings.sort(key=lambda x: len(set(x)))\n",
    "strings"
   ]
  },
  {
   "cell_type": "markdown",
   "metadata": {},
   "source": [
    "### 부분 적용 함수"
   ]
  },
  {
   "cell_type": "markdown",
   "metadata": {},
   "source": [
    "앞서 다룬 `add_three()` 함수는 `add_numbers()` 함수의 첫째 인자를 3으로 고정한 함수로 볼 수 있다.\n",
    "즉 아래 관계가 성립한다.\n",
    "\n",
    "```python\n",
    "add_three(y) == add_numbers(3, y)\n",
    "```\n",
    "\n",
    "따라서 `add_three()` 함수를 `add_numbers()`를 이용하여 아래와 같이 정의할 수 있다.\n",
    "\n",
    "__주의사항:__ `add_three()` 라고 선언하지 않음에 주의하라."
   ]
  },
  {
   "cell_type": "code",
   "execution_count": 58,
   "metadata": {},
   "outputs": [],
   "source": [
    "add_three = lambda y: add_numbers(3, y)"
   ]
  },
  {
   "cell_type": "markdown",
   "metadata": {},
   "source": [
    "위 식은 엄밀히 말하면 `add_numbers()` 함수와 람다 표현식을 이용하여 \n",
    "변수 `add_three`를 선언하는 과정이다.\n",
    "하지만 변수 `add_three`를 바로 함수처럼 사용하면 된다."
   ]
  },
  {
   "cell_type": "code",
   "execution_count": 59,
   "metadata": {},
   "outputs": [
    {
     "ename": "NameError",
     "evalue": "name 'add_numbers' is not defined",
     "output_type": "error",
     "traceback": [
      "\u001b[0;31m---------------------------------------------------------------------------\u001b[0m",
      "\u001b[0;31mNameError\u001b[0m                                 Traceback (most recent call last)",
      "\u001b[0;32m<ipython-input-59-f88d5e7a4be4>\u001b[0m in \u001b[0;36m<module>\u001b[0;34m\u001b[0m\n\u001b[0;32m----> 1\u001b[0;31m \u001b[0madd_three\u001b[0m\u001b[0;34m(\u001b[0m\u001b[0;36m5\u001b[0m\u001b[0;34m)\u001b[0m\u001b[0;34m\u001b[0m\u001b[0;34m\u001b[0m\u001b[0m\n\u001b[0m",
      "\u001b[0;32m<ipython-input-58-cccb8dd81cda>\u001b[0m in \u001b[0;36m<lambda>\u001b[0;34m(y)\u001b[0m\n\u001b[0;32m----> 1\u001b[0;31m \u001b[0madd_three\u001b[0m \u001b[0;34m=\u001b[0m \u001b[0;32mlambda\u001b[0m \u001b[0my\u001b[0m\u001b[0;34m:\u001b[0m \u001b[0madd_numbers\u001b[0m\u001b[0;34m(\u001b[0m\u001b[0;36m3\u001b[0m\u001b[0;34m,\u001b[0m \u001b[0my\u001b[0m\u001b[0;34m)\u001b[0m\u001b[0;34m\u001b[0m\u001b[0;34m\u001b[0m\u001b[0m\n\u001b[0m",
      "\u001b[0;31mNameError\u001b[0m: name 'add_numbers' is not defined"
     ]
    }
   ],
   "source": [
    "add_three(5)"
   ]
  },
  {
   "cell_type": "code",
   "execution_count": 60,
   "metadata": {},
   "outputs": [
    {
     "ename": "NameError",
     "evalue": "name 'add_numbers' is not defined",
     "output_type": "error",
     "traceback": [
      "\u001b[0;31m---------------------------------------------------------------------------\u001b[0m",
      "\u001b[0;31mNameError\u001b[0m                                 Traceback (most recent call last)",
      "\u001b[0;32m<ipython-input-60-0b267fdbca20>\u001b[0m in \u001b[0;36m<module>\u001b[0;34m\u001b[0m\n\u001b[0;32m----> 1\u001b[0;31m \u001b[0madd_three\u001b[0m\u001b[0;34m(\u001b[0m\u001b[0;36m11\u001b[0m\u001b[0;34m)\u001b[0m\u001b[0;34m\u001b[0m\u001b[0;34m\u001b[0m\u001b[0m\n\u001b[0m",
      "\u001b[0;32m<ipython-input-58-cccb8dd81cda>\u001b[0m in \u001b[0;36m<lambda>\u001b[0;34m(y)\u001b[0m\n\u001b[0;32m----> 1\u001b[0;31m \u001b[0madd_three\u001b[0m \u001b[0;34m=\u001b[0m \u001b[0;32mlambda\u001b[0m \u001b[0my\u001b[0m\u001b[0;34m:\u001b[0m \u001b[0madd_numbers\u001b[0m\u001b[0;34m(\u001b[0m\u001b[0;36m3\u001b[0m\u001b[0;34m,\u001b[0m \u001b[0my\u001b[0m\u001b[0;34m)\u001b[0m\u001b[0;34m\u001b[0m\u001b[0;34m\u001b[0m\u001b[0m\n\u001b[0m",
      "\u001b[0;31mNameError\u001b[0m: name 'add_numbers' is not defined"
     ]
    }
   ],
   "source": [
    "add_three(11)"
   ]
  },
  {
   "cell_type": "markdown",
   "metadata": {},
   "source": [
    "이처럼 주어지 함수의 일부 인자를 특정 값으로 지정하는 방식으로 \n",
    "정의되는 함수를 원래 함수의 __부분 적용 함수__(partilly-applied functions)라 한다. \n",
    "즉, `add_three()` 함수는 `add_numbers()` 함수의 부분 적용 함수이다.\n",
    "\n",
    "__참고:__ 일부 참고 문헌에 __부분 함수__라고 번역하였지만 옳지 않은 표현이다. \n",
    "부분 함수(partial function)는 전혀 다른 의미로 사용되는 개념이다."
   ]
  },
  {
   "cell_type": "markdown",
   "metadata": {},
   "source": [
    "#### `functools`  모듈의 `partial()` 활용하기 "
   ]
  },
  {
   "cell_type": "markdown",
   "metadata": {},
   "source": [
    "앞서 설명한 부분 적용 함수 기능은 기존에 정의된 함수를 활용하는 유용한 기법이다.\n",
    "람다 함수를 이용하는 방식 보다 편하게 부분 적용 함수를 정의하는 것을 도와주는 \n",
    "도구가 있다. 바로 `functools` 모듈의 `partial()` 함수이며,\n",
    "기본 사용법은 다음과 같다."
   ]
  },
  {
   "cell_type": "code",
   "execution_count": 61,
   "metadata": {},
   "outputs": [
    {
     "ename": "NameError",
     "evalue": "name 'add_numbers' is not defined",
     "output_type": "error",
     "traceback": [
      "\u001b[0;31m---------------------------------------------------------------------------\u001b[0m",
      "\u001b[0;31mNameError\u001b[0m                                 Traceback (most recent call last)",
      "\u001b[0;32m<ipython-input-61-3f91e91309dd>\u001b[0m in \u001b[0;36m<module>\u001b[0;34m\u001b[0m\n\u001b[1;32m      1\u001b[0m \u001b[0;32mfrom\u001b[0m \u001b[0mfunctools\u001b[0m \u001b[0;32mimport\u001b[0m \u001b[0mpartial\u001b[0m\u001b[0;34m\u001b[0m\u001b[0;34m\u001b[0m\u001b[0m\n\u001b[1;32m      2\u001b[0m \u001b[0;34m\u001b[0m\u001b[0m\n\u001b[0;32m----> 3\u001b[0;31m \u001b[0madd_three\u001b[0m \u001b[0;34m=\u001b[0m \u001b[0mpartial\u001b[0m\u001b[0;34m(\u001b[0m\u001b[0madd_numbers\u001b[0m\u001b[0;34m,\u001b[0m \u001b[0;36m3\u001b[0m\u001b[0;34m)\u001b[0m\u001b[0;34m\u001b[0m\u001b[0;34m\u001b[0m\u001b[0m\n\u001b[0m",
      "\u001b[0;31mNameError\u001b[0m: name 'add_numbers' is not defined"
     ]
    }
   ],
   "source": [
    "from functools import partial\n",
    "\n",
    "add_three = partial(add_numbers, 3)"
   ]
  },
  {
   "cell_type": "markdown",
   "metadata": {},
   "source": [
    "`partial()` 함수를 이용하여 여러 인자가 미리 부분 적용된 함수도 정의할 수 있다."
   ]
  },
  {
   "cell_type": "code",
   "execution_count": 62,
   "metadata": {},
   "outputs": [],
   "source": [
    "def multi_add(x, y, z):\n",
    "    return x+y+z\n",
    "\n",
    "add_3_5 = partial(multi_add, 3, 5) # 3 + 5 + x 를 계산"
   ]
  },
  {
   "cell_type": "code",
   "execution_count": 63,
   "metadata": {},
   "outputs": [
    {
     "data": {
      "text/plain": [
       "16"
      ]
     },
     "execution_count": 63,
     "metadata": {},
     "output_type": "execute_result"
    }
   ],
   "source": [
    "add_3_5(8) # 3 + 5 + 8 계산"
   ]
  },
  {
   "cell_type": "markdown",
   "metadata": {},
   "source": [
    "`add_3_5()` 함수를 정의할 때 미리 지정된 인자는 위치상 처음 두 개의 인자였다.\n",
    "그런데 아래처럼 첫째, 셋째 인자를 미리 지정하여 부분 적용 함수를 정의할 때는 상당히 조심해야 한다."
   ]
  },
  {
   "cell_type": "code",
   "execution_count": 64,
   "metadata": {},
   "outputs": [],
   "source": [
    "add_3_5_second = partial(multi_add, x=3, z=5)"
   ]
  },
  {
   "cell_type": "markdown",
   "metadata": {},
   "source": [
    "둘째 인자를 지정하기만 하면 되는데 아래와 같이 실행하면 오류가 발생한다."
   ]
  },
  {
   "cell_type": "code",
   "execution_count": 65,
   "metadata": {},
   "outputs": [
    {
     "ename": "TypeError",
     "evalue": "multi_add() got multiple values for argument 'x'",
     "output_type": "error",
     "traceback": [
      "\u001b[0;31m---------------------------------------------------------------------------\u001b[0m",
      "\u001b[0;31mTypeError\u001b[0m                                 Traceback (most recent call last)",
      "\u001b[0;32m<ipython-input-65-16fc5e63f483>\u001b[0m in \u001b[0;36m<module>\u001b[0;34m\u001b[0m\n\u001b[0;32m----> 1\u001b[0;31m \u001b[0madd_3_5_second\u001b[0m\u001b[0;34m(\u001b[0m\u001b[0;36m4\u001b[0m\u001b[0;34m)\u001b[0m\u001b[0;34m\u001b[0m\u001b[0;34m\u001b[0m\u001b[0m\n\u001b[0m",
      "\u001b[0;31mTypeError\u001b[0m: multi_add() got multiple values for argument 'x'"
     ]
    }
   ],
   "source": [
    "add_3_5_second(4)"
   ]
  },
  {
   "cell_type": "markdown",
   "metadata": {},
   "source": [
    "오류가 발생하는 이유는 기존 함수의 매개변수가 선언된 순서대로 인자가 전달되기 때문이다.\n",
    "즉, 4가 `y`가 아닌 `x`에게 전달되어, `x`에 대한 인자가 두 번 지정되는 오류가 발생하게 된다.\n",
    "해결책 중에 하나는 매개변수를 키워드로 사용하는 것이다."
   ]
  },
  {
   "cell_type": "code",
   "execution_count": 66,
   "metadata": {},
   "outputs": [
    {
     "data": {
      "text/plain": [
       "12"
      ]
     },
     "execution_count": 66,
     "metadata": {},
     "output_type": "execute_result"
    }
   ],
   "source": [
    "add_3_5_second(y=4)"
   ]
  },
  {
   "cell_type": "markdown",
   "metadata": {},
   "source": [
    "하지만 이 방식은 매개변수를 기억해야 한다는 점에서 매우 불편하다.\n",
    "이럴 때는 그냥 람다 함수를 이용하여 부분 적용 함수를 정의하는 게 보다 좋다."
   ]
  },
  {
   "cell_type": "code",
   "execution_count": 67,
   "metadata": {},
   "outputs": [],
   "source": [
    "add_3_5_second = lambda y: multi_add(3, y, 5)"
   ]
  },
  {
   "cell_type": "markdown",
   "metadata": {},
   "source": [
    "이제 키워드 없이 바로 사용할 수 있다."
   ]
  },
  {
   "cell_type": "code",
   "execution_count": 68,
   "metadata": {},
   "outputs": [
    {
     "data": {
      "text/plain": [
       "12"
      ]
     },
     "execution_count": 68,
     "metadata": {},
     "output_type": "execute_result"
    }
   ],
   "source": [
    "add_3_5_second(4)"
   ]
  }
 ],
 "metadata": {
  "kernelspec": {
   "display_name": "Python 3",
   "language": "python",
   "name": "python3"
  },
  "language_info": {
   "codemirror_mode": {
    "name": "ipython",
    "version": 3
   },
   "file_extension": ".py",
   "mimetype": "text/x-python",
   "name": "python",
   "nbconvert_exporter": "python",
   "pygments_lexer": "ipython3",
   "version": "3.8.3"
  }
 },
 "nbformat": 4,
 "nbformat_minor": 1
}
