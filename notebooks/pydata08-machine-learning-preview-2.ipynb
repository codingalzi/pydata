{
 "cells": [
  {
   "cell_type": "markdown",
   "metadata": {},
   "source": [
    "# 머신러닝 맛보기 2편"
   ]
  },
  {
   "cell_type": "markdown",
   "metadata": {},
   "source": [
    "__참고:__ 오렐리앙 제롱의 [<핸즈온 머신러닝(2판)>](https://github.com/ageron/handson-ml2) \n",
    "1장의 소스코드를 사용합니다."
   ]
  },
  {
   "cell_type": "markdown",
   "metadata": {},
   "source": [
    "## 주요 내용"
   ]
  },
  {
   "cell_type": "markdown",
   "metadata": {},
   "source": [
    "머신러닝에서 일어나는 일을 한 눈에 볼 수 있도록 실전예제를 사용하여\n",
    "선형회귀 모델의 훈련과정을 자세하게 소개한다.\n",
    "사용되는 예제는 한 나라의 1인당 GDP와 해당 국가의 삶의 만족도 사이의 \n",
    "선형회귀 관계를 예측하는 모델이다."
   ]
  },
  {
   "cell_type": "markdown",
   "metadata": {
    "id": "i3VsdS7c_yut"
   },
   "source": [
    "## 기본 설정"
   ]
  },
  {
   "cell_type": "code",
   "execution_count": 1,
   "metadata": {
    "id": "Pkthf-FMdXbW"
   },
   "outputs": [],
   "source": [
    "import matplotlib.pyplot as plt\n",
    "import numpy as np\n",
    "import pandas as pd\n",
    "\n",
    "%matplotlib inline \n",
    "\n",
    "import matplotlib as mpl\n",
    "mpl.rc('axes', labelsize=14)\n",
    "mpl.rc('xtick', labelsize=12)\n",
    "mpl.rc('ytick', labelsize=12)\n",
    "\n",
    "np.random.seed(42)"
   ]
  },
  {
   "cell_type": "markdown",
   "metadata": {},
   "source": [
    "## 머신러닝 한 눈에 보기"
   ]
  },
  {
   "cell_type": "markdown",
   "metadata": {},
   "source": [
    "선형회귀 모델을 구현하는 다섯 단계를 밟아가면서 머신러닝 문제해결의 전형적인 과정을 살펴본다.\n",
    "\n",
    "1. 문제 정의\n",
    "1. 데이터 구하기\n",
    "1. 데이터 적재, 정제, 전처리\n",
    "1. 모델 선택과 훈련\n",
    "1. 학습된 모델 활용"
   ]
  },
  {
   "cell_type": "markdown",
   "metadata": {
    "id": "_lVvXk2aah6v"
   },
   "source": [
    "### 1단계: 문제 정의"
   ]
  },
  {
   "cell_type": "markdown",
   "metadata": {},
   "source": [
    "어느 국가의 1인당 GDP가 알려졌을 때 해당 국가의 삶의 만족도를 예측하는 모델(함수)을 구현한다."
   ]
  },
  {
   "cell_type": "markdown",
   "metadata": {
    "id": "_lVvXk2aah6v"
   },
   "source": [
    "### 2단계: 데이터 구하기"
   ]
  },
  {
   "cell_type": "markdown",
   "metadata": {
    "id": "UH3a-VlafLIh"
   },
   "source": [
    "1인당 GDP와 삶의 만족도 사이의 관계를 예측하는 모델을 구현하기위해 소위 __모델 훈련__ 과정을 실행해야 한다.\n",
    "모델 훈련을 위해 필요한 데이터셋(데이터 집합)을 __훈련 세트__라 부르며,\n",
    "훈련 세트는 __입력__ 데이터와 __타깃__(target) 데이터로 구분된다.\n",
    "그러면 모델 훈련은 준비된 훈련 세트의 입력 데이터와 타깃 데이터 사이의 관계를 가장 적절하게 \n",
    "묘사하는 특정 모델(함수)을 학습해가는 과정이다.\n",
    "\n",
    "1인당 GDP와 삶의 만족도 사이의 관계를 가장 적절하게 묘사하는 모델(함수)를 훈련시키기 위해\n",
    "사용되는 훈련 세트는 여기서는 다음과 같다.\n",
    "\n",
    "- 국가별 1인당 [GDP](https://ko.wikipedia.org/wiki/%EA%B5%AD%EB%82%B4%EC%B4%9D%EC%83%9D%EC%82%B0)\n",
    "    데이터: [국제통화기금(IMF)](https://ko.wikipedia.org/wiki/%EA%B5%AD%EC%A0%9C_%ED%86%B5%ED%99%94_%EA%B8%B0%EA%B8%88#:~:text=%EA%B5%AD%EC%A0%9C%20%ED%86%B5%ED%99%94%20%EA%B8%B0%EA%B8%88(%E5%9C%8B%E9%9A%9B%E9%80%9A%E8%B2%A8,%EC%9C%84%EC%9E%84%EB%B0%9B%EC%9D%80%20%EA%B5%AD%EC%A0%9C%20%EA%B8%B0%EA%B5%AC%EC%9D%B4%EB%8B%A4.)의 \n",
    "[세계 경제전망 데이터베이스](http://goo.gl/j1MSKe)에 포함됨.\n",
    "- [OECD](https://ko.wikipedia.org/wiki/%EA%B2%BD%EC%A0%9C%ED%98%91%EB%A0%A5%EA%B0%9C%EB%B0%9C%EA%B8%B0%EA%B5%AC)\n",
    "    회원 국가별 '삶의 만족도'(life satisfaction) 데이터: OECD가 매년 발표하는 \n",
    "    ['더 나은 삶의 지수'(BLI, Better Life Index) 자료](https://stats.oecd.org/Index.aspx?DataSetCode=BLI)에 포함되어 있음.\n",
    "\n",
    "여기서는 2015년 기준 자료를 아래 링크에서 미리 준비된 두 개의 데이터 파일을 다운로드하는 것으로 대체한다.\n",
    "다만 실제 자료를 아래와 같이 잘 정리된 데이터 파일로 만드는 과정이 일반적으로 간단하지 않다는 점만을 언급해둔다.\n",
    "\n",
    "* `oecd_bli_2015.csv`: 2015년도 기준 OECD 국가들의 '더 나은 삶의 지수'(BLI) 데이터\n",
    "* `gdp_per_capita.csv`: IMF(국제통화기금)에 제공하는 1인당 국내총생산 데이터(GDP) 데이터\n",
    "\n",
    "다운로드 경로는 다음과 같다."
   ]
  },
  {
   "cell_type": "code",
   "execution_count": 2,
   "metadata": {},
   "outputs": [],
   "source": [
    "datapath = \"https://raw.githubusercontent.com/codingalzi/handson-ml2/master/notebooks/datasets/lifesat/\""
   ]
  },
  {
   "cell_type": "markdown",
   "metadata": {},
   "source": [
    "위 경로에 파일의 이름을 추가하면 해당 파일을 다운로드하여 컴퓨터에 저장할 수 있다.\n",
    "하지만 컴퓨터에 저장하는 대신 이어서 설명하는 데이터 적재를 동시에 진행하는 것으로 \n",
    "데이터 구하기 단계를 해결한다."
   ]
  },
  {
   "cell_type": "markdown",
   "metadata": {
    "id": "1oKdsRdEfLIh"
   },
   "source": [
    "### 3단계: 데이터 적재, 정제, 전처리"
   ]
  },
  {
   "cell_type": "markdown",
   "metadata": {},
   "source": [
    "컴퓨터에 저장된 또는 다운로드된 데이터는 일반적으로 바로 모델 훈련에 사용할 수 없으며, \n",
    "데이터 적재, 데이터 정제, 데이터 전처리 등의 과정을 거쳐야 비로소 모델 훈련에 활용될 수 있다.\n",
    "\n",
    "* __데이터 적재__(data loading): 인터넷에 존재하거나 컴퓨터에 저장되어 있는 파일을 \n",
    "    특정 자료형의 값으로 불러오는 과정\n",
    "\n",
    "* __데이터 정제__(data cleaning): 적재된 데이터셋에 포함된 오류, 부정확한 값, \n",
    "    누락된 값, 상관없는 값 등을 제거, 수정, 보완하는 과정\n",
    "\n",
    "* __데이터 전처리__(data preprocessing): 정제된 데이터셋에서 출발하여\n",
    "    적절한 내용의 데이터를 추가한 후 적절한 형식으로 변환하는 과정"
   ]
  },
  {
   "cell_type": "markdown",
   "metadata": {
    "id": "RQmkDH-3fLIi"
   },
   "source": [
    "#### 1인당 GDP 데이터 적재, 정제, 전처리"
   ]
  },
  {
   "cell_type": "markdown",
   "metadata": {
    "id": "eF75ITQKFJpi"
   },
   "source": [
    "아래 코드는 IMF 에서 다운로드한 csv 파일에서 2015년 기준 국가별 1인당 GDP 관련 데이터를 데이터프레임 객체로 불러온다.\n",
    "\n",
    "- `thousands=','`: 1000단위로 쉼표 찍기\n",
    "- `delimiter='\\t'`: 탭(tab)으로 열 구분\n",
    "- `encoding='latin1'`: 인코딩 방식 지정. 파일에서 사용된 'C&ocirc;te d'Ivoire'(코트디브와르)와 같은 특수 알파벳을 사용하는 국가명 처리용\n",
    "- `na_values=\"n/a\"`: 결측치를 'NaN'으로 처리."
   ]
  },
  {
   "cell_type": "code",
   "execution_count": 3,
   "metadata": {
    "colab": {
     "base_uri": "https://localhost:8080/",
     "height": 326
    },
    "id": "4KOHAUozfLIi",
    "outputId": "8ac53511-cbd4-438f-9153-a4c526c8362c"
   },
   "outputs": [],
   "source": [
    "gdp_per_capita = pd.read_csv(datapath+\"gdp_per_capita.csv\", \n",
    "                             thousands=',', \n",
    "                             delimiter='\\t',\n",
    "                             encoding='latin1', \n",
    "                             na_values=\"n/a\")"
   ]
  },
  {
   "cell_type": "markdown",
   "metadata": {},
   "source": [
    "총 190개 국가의 1인당 GDP 정보를 담고 있다."
   ]
  },
  {
   "cell_type": "code",
   "execution_count": 4,
   "metadata": {},
   "outputs": [
    {
     "data": {
      "text/html": [
       "<div>\n",
       "<style scoped>\n",
       "    .dataframe tbody tr th:only-of-type {\n",
       "        vertical-align: middle;\n",
       "    }\n",
       "\n",
       "    .dataframe tbody tr th {\n",
       "        vertical-align: top;\n",
       "    }\n",
       "\n",
       "    .dataframe thead th {\n",
       "        text-align: right;\n",
       "    }\n",
       "</style>\n",
       "<table border=\"1\" class=\"dataframe\">\n",
       "  <thead>\n",
       "    <tr style=\"text-align: right;\">\n",
       "      <th></th>\n",
       "      <th>Country</th>\n",
       "      <th>Subject Descriptor</th>\n",
       "      <th>Units</th>\n",
       "      <th>Scale</th>\n",
       "      <th>Country/Series-specific Notes</th>\n",
       "      <th>2015</th>\n",
       "      <th>Estimates Start After</th>\n",
       "    </tr>\n",
       "  </thead>\n",
       "  <tbody>\n",
       "    <tr>\n",
       "      <th>0</th>\n",
       "      <td>Afghanistan</td>\n",
       "      <td>Gross domestic product per capita, current prices</td>\n",
       "      <td>U.S. dollars</td>\n",
       "      <td>Units</td>\n",
       "      <td>See notes for:  Gross domestic product, curren...</td>\n",
       "      <td>599.994</td>\n",
       "      <td>2013.0</td>\n",
       "    </tr>\n",
       "    <tr>\n",
       "      <th>1</th>\n",
       "      <td>Albania</td>\n",
       "      <td>Gross domestic product per capita, current prices</td>\n",
       "      <td>U.S. dollars</td>\n",
       "      <td>Units</td>\n",
       "      <td>See notes for:  Gross domestic product, curren...</td>\n",
       "      <td>3995.383</td>\n",
       "      <td>2010.0</td>\n",
       "    </tr>\n",
       "    <tr>\n",
       "      <th>2</th>\n",
       "      <td>Algeria</td>\n",
       "      <td>Gross domestic product per capita, current prices</td>\n",
       "      <td>U.S. dollars</td>\n",
       "      <td>Units</td>\n",
       "      <td>See notes for:  Gross domestic product, curren...</td>\n",
       "      <td>4318.135</td>\n",
       "      <td>2014.0</td>\n",
       "    </tr>\n",
       "    <tr>\n",
       "      <th>3</th>\n",
       "      <td>Angola</td>\n",
       "      <td>Gross domestic product per capita, current prices</td>\n",
       "      <td>U.S. dollars</td>\n",
       "      <td>Units</td>\n",
       "      <td>See notes for:  Gross domestic product, curren...</td>\n",
       "      <td>4100.315</td>\n",
       "      <td>2014.0</td>\n",
       "    </tr>\n",
       "    <tr>\n",
       "      <th>4</th>\n",
       "      <td>Antigua and Barbuda</td>\n",
       "      <td>Gross domestic product per capita, current prices</td>\n",
       "      <td>U.S. dollars</td>\n",
       "      <td>Units</td>\n",
       "      <td>See notes for:  Gross domestic product, curren...</td>\n",
       "      <td>14414.302</td>\n",
       "      <td>2011.0</td>\n",
       "    </tr>\n",
       "    <tr>\n",
       "      <th>...</th>\n",
       "      <td>...</td>\n",
       "      <td>...</td>\n",
       "      <td>...</td>\n",
       "      <td>...</td>\n",
       "      <td>...</td>\n",
       "      <td>...</td>\n",
       "      <td>...</td>\n",
       "    </tr>\n",
       "    <tr>\n",
       "      <th>185</th>\n",
       "      <td>Vietnam</td>\n",
       "      <td>Gross domestic product per capita, current prices</td>\n",
       "      <td>U.S. dollars</td>\n",
       "      <td>Units</td>\n",
       "      <td>See notes for:  Gross domestic product, curren...</td>\n",
       "      <td>2088.344</td>\n",
       "      <td>2012.0</td>\n",
       "    </tr>\n",
       "    <tr>\n",
       "      <th>186</th>\n",
       "      <td>Yemen</td>\n",
       "      <td>Gross domestic product per capita, current prices</td>\n",
       "      <td>U.S. dollars</td>\n",
       "      <td>Units</td>\n",
       "      <td>See notes for:  Gross domestic product, curren...</td>\n",
       "      <td>1302.940</td>\n",
       "      <td>2008.0</td>\n",
       "    </tr>\n",
       "    <tr>\n",
       "      <th>187</th>\n",
       "      <td>Zambia</td>\n",
       "      <td>Gross domestic product per capita, current prices</td>\n",
       "      <td>U.S. dollars</td>\n",
       "      <td>Units</td>\n",
       "      <td>See notes for:  Gross domestic product, curren...</td>\n",
       "      <td>1350.151</td>\n",
       "      <td>2010.0</td>\n",
       "    </tr>\n",
       "    <tr>\n",
       "      <th>188</th>\n",
       "      <td>Zimbabwe</td>\n",
       "      <td>Gross domestic product per capita, current prices</td>\n",
       "      <td>U.S. dollars</td>\n",
       "      <td>Units</td>\n",
       "      <td>See notes for:  Gross domestic product, curren...</td>\n",
       "      <td>1064.350</td>\n",
       "      <td>2012.0</td>\n",
       "    </tr>\n",
       "    <tr>\n",
       "      <th>189</th>\n",
       "      <td>International Monetary Fund, World Economic Ou...</td>\n",
       "      <td>NaN</td>\n",
       "      <td>NaN</td>\n",
       "      <td>NaN</td>\n",
       "      <td>NaN</td>\n",
       "      <td>NaN</td>\n",
       "      <td>NaN</td>\n",
       "    </tr>\n",
       "  </tbody>\n",
       "</table>\n",
       "<p>190 rows × 7 columns</p>\n",
       "</div>"
      ],
      "text/plain": [
       "                                               Country  \\\n",
       "0                                          Afghanistan   \n",
       "1                                              Albania   \n",
       "2                                              Algeria   \n",
       "3                                               Angola   \n",
       "4                                  Antigua and Barbuda   \n",
       "..                                                 ...   \n",
       "185                                            Vietnam   \n",
       "186                                              Yemen   \n",
       "187                                             Zambia   \n",
       "188                                           Zimbabwe   \n",
       "189  International Monetary Fund, World Economic Ou...   \n",
       "\n",
       "                                    Subject Descriptor         Units  Scale  \\\n",
       "0    Gross domestic product per capita, current prices  U.S. dollars  Units   \n",
       "1    Gross domestic product per capita, current prices  U.S. dollars  Units   \n",
       "2    Gross domestic product per capita, current prices  U.S. dollars  Units   \n",
       "3    Gross domestic product per capita, current prices  U.S. dollars  Units   \n",
       "4    Gross domestic product per capita, current prices  U.S. dollars  Units   \n",
       "..                                                 ...           ...    ...   \n",
       "185  Gross domestic product per capita, current prices  U.S. dollars  Units   \n",
       "186  Gross domestic product per capita, current prices  U.S. dollars  Units   \n",
       "187  Gross domestic product per capita, current prices  U.S. dollars  Units   \n",
       "188  Gross domestic product per capita, current prices  U.S. dollars  Units   \n",
       "189                                                NaN           NaN    NaN   \n",
       "\n",
       "                         Country/Series-specific Notes       2015  \\\n",
       "0    See notes for:  Gross domestic product, curren...    599.994   \n",
       "1    See notes for:  Gross domestic product, curren...   3995.383   \n",
       "2    See notes for:  Gross domestic product, curren...   4318.135   \n",
       "3    See notes for:  Gross domestic product, curren...   4100.315   \n",
       "4    See notes for:  Gross domestic product, curren...  14414.302   \n",
       "..                                                 ...        ...   \n",
       "185  See notes for:  Gross domestic product, curren...   2088.344   \n",
       "186  See notes for:  Gross domestic product, curren...   1302.940   \n",
       "187  See notes for:  Gross domestic product, curren...   1350.151   \n",
       "188  See notes for:  Gross domestic product, curren...   1064.350   \n",
       "189                                                NaN        NaN   \n",
       "\n",
       "     Estimates Start After  \n",
       "0                   2013.0  \n",
       "1                   2010.0  \n",
       "2                   2014.0  \n",
       "3                   2014.0  \n",
       "4                   2011.0  \n",
       "..                     ...  \n",
       "185                 2012.0  \n",
       "186                 2008.0  \n",
       "187                 2010.0  \n",
       "188                 2012.0  \n",
       "189                    NaN  \n",
       "\n",
       "[190 rows x 7 columns]"
      ]
     },
     "execution_count": 4,
     "metadata": {},
     "output_type": "execute_result"
    }
   ],
   "source": [
    "gdp_per_capita"
   ]
  },
  {
   "cell_type": "markdown",
   "metadata": {
    "colab": {
     "base_uri": "https://localhost:8080/",
     "height": 326
    },
    "id": "4KOHAUozfLIi",
    "outputId": "8ac53511-cbd4-438f-9153-a4c526c8362c"
   },
   "source": [
    "국가명을 행 인덱스로 지정한다."
   ]
  },
  {
   "cell_type": "code",
   "execution_count": 5,
   "metadata": {
    "colab": {
     "base_uri": "https://localhost:8080/",
     "height": 326
    },
    "id": "4KOHAUozfLIi",
    "outputId": "8ac53511-cbd4-438f-9153-a4c526c8362c"
   },
   "outputs": [
    {
     "data": {
      "text/html": [
       "<div>\n",
       "<style scoped>\n",
       "    .dataframe tbody tr th:only-of-type {\n",
       "        vertical-align: middle;\n",
       "    }\n",
       "\n",
       "    .dataframe tbody tr th {\n",
       "        vertical-align: top;\n",
       "    }\n",
       "\n",
       "    .dataframe thead th {\n",
       "        text-align: right;\n",
       "    }\n",
       "</style>\n",
       "<table border=\"1\" class=\"dataframe\">\n",
       "  <thead>\n",
       "    <tr style=\"text-align: right;\">\n",
       "      <th></th>\n",
       "      <th>Subject Descriptor</th>\n",
       "      <th>Units</th>\n",
       "      <th>Scale</th>\n",
       "      <th>Country/Series-specific Notes</th>\n",
       "      <th>2015</th>\n",
       "      <th>Estimates Start After</th>\n",
       "    </tr>\n",
       "    <tr>\n",
       "      <th>Country</th>\n",
       "      <th></th>\n",
       "      <th></th>\n",
       "      <th></th>\n",
       "      <th></th>\n",
       "      <th></th>\n",
       "      <th></th>\n",
       "    </tr>\n",
       "  </thead>\n",
       "  <tbody>\n",
       "    <tr>\n",
       "      <th>Afghanistan</th>\n",
       "      <td>Gross domestic product per capita, current prices</td>\n",
       "      <td>U.S. dollars</td>\n",
       "      <td>Units</td>\n",
       "      <td>See notes for:  Gross domestic product, curren...</td>\n",
       "      <td>599.994</td>\n",
       "      <td>2013.0</td>\n",
       "    </tr>\n",
       "    <tr>\n",
       "      <th>Albania</th>\n",
       "      <td>Gross domestic product per capita, current prices</td>\n",
       "      <td>U.S. dollars</td>\n",
       "      <td>Units</td>\n",
       "      <td>See notes for:  Gross domestic product, curren...</td>\n",
       "      <td>3995.383</td>\n",
       "      <td>2010.0</td>\n",
       "    </tr>\n",
       "    <tr>\n",
       "      <th>Algeria</th>\n",
       "      <td>Gross domestic product per capita, current prices</td>\n",
       "      <td>U.S. dollars</td>\n",
       "      <td>Units</td>\n",
       "      <td>See notes for:  Gross domestic product, curren...</td>\n",
       "      <td>4318.135</td>\n",
       "      <td>2014.0</td>\n",
       "    </tr>\n",
       "    <tr>\n",
       "      <th>Angola</th>\n",
       "      <td>Gross domestic product per capita, current prices</td>\n",
       "      <td>U.S. dollars</td>\n",
       "      <td>Units</td>\n",
       "      <td>See notes for:  Gross domestic product, curren...</td>\n",
       "      <td>4100.315</td>\n",
       "      <td>2014.0</td>\n",
       "    </tr>\n",
       "    <tr>\n",
       "      <th>Antigua and Barbuda</th>\n",
       "      <td>Gross domestic product per capita, current prices</td>\n",
       "      <td>U.S. dollars</td>\n",
       "      <td>Units</td>\n",
       "      <td>See notes for:  Gross domestic product, curren...</td>\n",
       "      <td>14414.302</td>\n",
       "      <td>2011.0</td>\n",
       "    </tr>\n",
       "  </tbody>\n",
       "</table>\n",
       "</div>"
      ],
      "text/plain": [
       "                                                    Subject Descriptor  \\\n",
       "Country                                                                  \n",
       "Afghanistan          Gross domestic product per capita, current prices   \n",
       "Albania              Gross domestic product per capita, current prices   \n",
       "Algeria              Gross domestic product per capita, current prices   \n",
       "Angola               Gross domestic product per capita, current prices   \n",
       "Antigua and Barbuda  Gross domestic product per capita, current prices   \n",
       "\n",
       "                            Units  Scale  \\\n",
       "Country                                    \n",
       "Afghanistan          U.S. dollars  Units   \n",
       "Albania              U.S. dollars  Units   \n",
       "Algeria              U.S. dollars  Units   \n",
       "Angola               U.S. dollars  Units   \n",
       "Antigua and Barbuda  U.S. dollars  Units   \n",
       "\n",
       "                                         Country/Series-specific Notes  \\\n",
       "Country                                                                  \n",
       "Afghanistan          See notes for:  Gross domestic product, curren...   \n",
       "Albania              See notes for:  Gross domestic product, curren...   \n",
       "Algeria              See notes for:  Gross domestic product, curren...   \n",
       "Angola               See notes for:  Gross domestic product, curren...   \n",
       "Antigua and Barbuda  See notes for:  Gross domestic product, curren...   \n",
       "\n",
       "                          2015  Estimates Start After  \n",
       "Country                                                \n",
       "Afghanistan            599.994                 2013.0  \n",
       "Albania               3995.383                 2010.0  \n",
       "Algeria               4318.135                 2014.0  \n",
       "Angola                4100.315                 2014.0  \n",
       "Antigua and Barbuda  14414.302                 2011.0  "
      ]
     },
     "execution_count": 5,
     "metadata": {},
     "output_type": "execute_result"
    }
   ],
   "source": [
    "gdp_per_capita.set_index(\"Country\", inplace=True)\n",
    "\n",
    "gdp_per_capita.head()"
   ]
  },
  {
   "cell_type": "markdown",
   "metadata": {
    "colab": {
     "base_uri": "https://localhost:8080/",
     "height": 326
    },
    "id": "4KOHAUozfLIi",
    "outputId": "8ac53511-cbd4-438f-9153-a4c526c8362c"
   },
   "source": [
    "이어서 1인당 GDP 데이터임을 명시하기 위해 열 이름 `\"2015\"`를 `\"GDP per capita\"`로 변경한다."
   ]
  },
  {
   "cell_type": "code",
   "execution_count": 6,
   "metadata": {
    "colab": {
     "base_uri": "https://localhost:8080/",
     "height": 326
    },
    "id": "4KOHAUozfLIi",
    "outputId": "8ac53511-cbd4-438f-9153-a4c526c8362c"
   },
   "outputs": [
    {
     "data": {
      "text/html": [
       "<div>\n",
       "<style scoped>\n",
       "    .dataframe tbody tr th:only-of-type {\n",
       "        vertical-align: middle;\n",
       "    }\n",
       "\n",
       "    .dataframe tbody tr th {\n",
       "        vertical-align: top;\n",
       "    }\n",
       "\n",
       "    .dataframe thead th {\n",
       "        text-align: right;\n",
       "    }\n",
       "</style>\n",
       "<table border=\"1\" class=\"dataframe\">\n",
       "  <thead>\n",
       "    <tr style=\"text-align: right;\">\n",
       "      <th></th>\n",
       "      <th>Subject Descriptor</th>\n",
       "      <th>Units</th>\n",
       "      <th>Scale</th>\n",
       "      <th>Country/Series-specific Notes</th>\n",
       "      <th>GDP per capita</th>\n",
       "      <th>Estimates Start After</th>\n",
       "    </tr>\n",
       "    <tr>\n",
       "      <th>Country</th>\n",
       "      <th></th>\n",
       "      <th></th>\n",
       "      <th></th>\n",
       "      <th></th>\n",
       "      <th></th>\n",
       "      <th></th>\n",
       "    </tr>\n",
       "  </thead>\n",
       "  <tbody>\n",
       "    <tr>\n",
       "      <th>Afghanistan</th>\n",
       "      <td>Gross domestic product per capita, current prices</td>\n",
       "      <td>U.S. dollars</td>\n",
       "      <td>Units</td>\n",
       "      <td>See notes for:  Gross domestic product, curren...</td>\n",
       "      <td>599.994</td>\n",
       "      <td>2013.0</td>\n",
       "    </tr>\n",
       "    <tr>\n",
       "      <th>Albania</th>\n",
       "      <td>Gross domestic product per capita, current prices</td>\n",
       "      <td>U.S. dollars</td>\n",
       "      <td>Units</td>\n",
       "      <td>See notes for:  Gross domestic product, curren...</td>\n",
       "      <td>3995.383</td>\n",
       "      <td>2010.0</td>\n",
       "    </tr>\n",
       "    <tr>\n",
       "      <th>Algeria</th>\n",
       "      <td>Gross domestic product per capita, current prices</td>\n",
       "      <td>U.S. dollars</td>\n",
       "      <td>Units</td>\n",
       "      <td>See notes for:  Gross domestic product, curren...</td>\n",
       "      <td>4318.135</td>\n",
       "      <td>2014.0</td>\n",
       "    </tr>\n",
       "    <tr>\n",
       "      <th>Angola</th>\n",
       "      <td>Gross domestic product per capita, current prices</td>\n",
       "      <td>U.S. dollars</td>\n",
       "      <td>Units</td>\n",
       "      <td>See notes for:  Gross domestic product, curren...</td>\n",
       "      <td>4100.315</td>\n",
       "      <td>2014.0</td>\n",
       "    </tr>\n",
       "    <tr>\n",
       "      <th>Antigua and Barbuda</th>\n",
       "      <td>Gross domestic product per capita, current prices</td>\n",
       "      <td>U.S. dollars</td>\n",
       "      <td>Units</td>\n",
       "      <td>See notes for:  Gross domestic product, curren...</td>\n",
       "      <td>14414.302</td>\n",
       "      <td>2011.0</td>\n",
       "    </tr>\n",
       "  </tbody>\n",
       "</table>\n",
       "</div>"
      ],
      "text/plain": [
       "                                                    Subject Descriptor  \\\n",
       "Country                                                                  \n",
       "Afghanistan          Gross domestic product per capita, current prices   \n",
       "Albania              Gross domestic product per capita, current prices   \n",
       "Algeria              Gross domestic product per capita, current prices   \n",
       "Angola               Gross domestic product per capita, current prices   \n",
       "Antigua and Barbuda  Gross domestic product per capita, current prices   \n",
       "\n",
       "                            Units  Scale  \\\n",
       "Country                                    \n",
       "Afghanistan          U.S. dollars  Units   \n",
       "Albania              U.S. dollars  Units   \n",
       "Algeria              U.S. dollars  Units   \n",
       "Angola               U.S. dollars  Units   \n",
       "Antigua and Barbuda  U.S. dollars  Units   \n",
       "\n",
       "                                         Country/Series-specific Notes  \\\n",
       "Country                                                                  \n",
       "Afghanistan          See notes for:  Gross domestic product, curren...   \n",
       "Albania              See notes for:  Gross domestic product, curren...   \n",
       "Algeria              See notes for:  Gross domestic product, curren...   \n",
       "Angola               See notes for:  Gross domestic product, curren...   \n",
       "Antigua and Barbuda  See notes for:  Gross domestic product, curren...   \n",
       "\n",
       "                     GDP per capita  Estimates Start After  \n",
       "Country                                                     \n",
       "Afghanistan                 599.994                 2013.0  \n",
       "Albania                    3995.383                 2010.0  \n",
       "Algeria                    4318.135                 2014.0  \n",
       "Angola                     4100.315                 2014.0  \n",
       "Antigua and Barbuda       14414.302                 2011.0  "
      ]
     },
     "execution_count": 6,
     "metadata": {},
     "output_type": "execute_result"
    }
   ],
   "source": [
    "gdp_per_capita.rename(columns={\"2015\": \"GDP per capita\"}, inplace=True) \n",
    "\n",
    "gdp_per_capita.head()"
   ]
  },
  {
   "cell_type": "markdown",
   "metadata": {
    "id": "1oKdsRdEfLIh"
   },
   "source": [
    "#### 삶의 만족도 데이터 적재, 정제, 전처리"
   ]
  },
  {
   "cell_type": "markdown",
   "metadata": {
    "id": "6elL5nNU9dBJ"
   },
   "source": [
    "OECD 국가별 삶의 만족도 데이터는 '더 나은 삶의 지수' 데이터 파일에 포함되어 있다. \n",
    "따라서 먼저 해당 csv 파일을 판다스의 데이터프레임 객체로 불러온 후에 \n",
    "삶의 만족도와 관련된 내용을 추출하는 과정을 밟는다.\n",
    "\n",
    "- `pandas.read_csv()` 함수는 지정한 경로에 저장되어 있는 csv 파일을 다운로드하여 바로 데이터프레임 객체를\n",
    "생성한다."
   ]
  },
  {
   "cell_type": "code",
   "execution_count": 7,
   "metadata": {
    "colab": {
     "base_uri": "https://localhost:8080/",
     "height": 346
    },
    "id": "PjGtsWetfLIh",
    "outputId": "9aa7fecc-1809-4187-9e71-0d2708fafb07"
   },
   "outputs": [],
   "source": [
    "oecd_bli = pd.read_csv(datapath + \"oecd_bli_2015.csv\", thousands=',')"
   ]
  },
  {
   "cell_type": "markdown",
   "metadata": {},
   "source": [
    "생성된 데이터프레임의 모양은 다음과 같다."
   ]
  },
  {
   "cell_type": "code",
   "execution_count": 8,
   "metadata": {},
   "outputs": [
    {
     "data": {
      "text/plain": [
       "(3292, 17)"
      ]
     },
     "execution_count": 8,
     "metadata": {},
     "output_type": "execute_result"
    }
   ],
   "source": [
    "oecd_bli.shape"
   ]
  },
  {
   "cell_type": "markdown",
   "metadata": {},
   "source": [
    "처음 5행를 살펴보자."
   ]
  },
  {
   "cell_type": "code",
   "execution_count": 9,
   "metadata": {
    "colab": {
     "base_uri": "https://localhost:8080/",
     "height": 346
    },
    "id": "PjGtsWetfLIh",
    "outputId": "9aa7fecc-1809-4187-9e71-0d2708fafb07"
   },
   "outputs": [
    {
     "data": {
      "text/html": [
       "<div>\n",
       "<style scoped>\n",
       "    .dataframe tbody tr th:only-of-type {\n",
       "        vertical-align: middle;\n",
       "    }\n",
       "\n",
       "    .dataframe tbody tr th {\n",
       "        vertical-align: top;\n",
       "    }\n",
       "\n",
       "    .dataframe thead th {\n",
       "        text-align: right;\n",
       "    }\n",
       "</style>\n",
       "<table border=\"1\" class=\"dataframe\">\n",
       "  <thead>\n",
       "    <tr style=\"text-align: right;\">\n",
       "      <th></th>\n",
       "      <th>LOCATION</th>\n",
       "      <th>Country</th>\n",
       "      <th>INDICATOR</th>\n",
       "      <th>Indicator</th>\n",
       "      <th>MEASURE</th>\n",
       "      <th>Measure</th>\n",
       "      <th>INEQUALITY</th>\n",
       "      <th>Inequality</th>\n",
       "      <th>Unit Code</th>\n",
       "      <th>Unit</th>\n",
       "      <th>PowerCode Code</th>\n",
       "      <th>PowerCode</th>\n",
       "      <th>Reference Period Code</th>\n",
       "      <th>Reference Period</th>\n",
       "      <th>Value</th>\n",
       "      <th>Flag Codes</th>\n",
       "      <th>Flags</th>\n",
       "    </tr>\n",
       "  </thead>\n",
       "  <tbody>\n",
       "    <tr>\n",
       "      <th>0</th>\n",
       "      <td>AUS</td>\n",
       "      <td>Australia</td>\n",
       "      <td>HO_BASE</td>\n",
       "      <td>Dwellings without basic facilities</td>\n",
       "      <td>L</td>\n",
       "      <td>Value</td>\n",
       "      <td>TOT</td>\n",
       "      <td>Total</td>\n",
       "      <td>PC</td>\n",
       "      <td>Percentage</td>\n",
       "      <td>0</td>\n",
       "      <td>units</td>\n",
       "      <td>NaN</td>\n",
       "      <td>NaN</td>\n",
       "      <td>1.1</td>\n",
       "      <td>E</td>\n",
       "      <td>Estimated value</td>\n",
       "    </tr>\n",
       "    <tr>\n",
       "      <th>1</th>\n",
       "      <td>AUT</td>\n",
       "      <td>Austria</td>\n",
       "      <td>HO_BASE</td>\n",
       "      <td>Dwellings without basic facilities</td>\n",
       "      <td>L</td>\n",
       "      <td>Value</td>\n",
       "      <td>TOT</td>\n",
       "      <td>Total</td>\n",
       "      <td>PC</td>\n",
       "      <td>Percentage</td>\n",
       "      <td>0</td>\n",
       "      <td>units</td>\n",
       "      <td>NaN</td>\n",
       "      <td>NaN</td>\n",
       "      <td>1.0</td>\n",
       "      <td>NaN</td>\n",
       "      <td>NaN</td>\n",
       "    </tr>\n",
       "    <tr>\n",
       "      <th>2</th>\n",
       "      <td>BEL</td>\n",
       "      <td>Belgium</td>\n",
       "      <td>HO_BASE</td>\n",
       "      <td>Dwellings without basic facilities</td>\n",
       "      <td>L</td>\n",
       "      <td>Value</td>\n",
       "      <td>TOT</td>\n",
       "      <td>Total</td>\n",
       "      <td>PC</td>\n",
       "      <td>Percentage</td>\n",
       "      <td>0</td>\n",
       "      <td>units</td>\n",
       "      <td>NaN</td>\n",
       "      <td>NaN</td>\n",
       "      <td>2.0</td>\n",
       "      <td>NaN</td>\n",
       "      <td>NaN</td>\n",
       "    </tr>\n",
       "    <tr>\n",
       "      <th>3</th>\n",
       "      <td>CAN</td>\n",
       "      <td>Canada</td>\n",
       "      <td>HO_BASE</td>\n",
       "      <td>Dwellings without basic facilities</td>\n",
       "      <td>L</td>\n",
       "      <td>Value</td>\n",
       "      <td>TOT</td>\n",
       "      <td>Total</td>\n",
       "      <td>PC</td>\n",
       "      <td>Percentage</td>\n",
       "      <td>0</td>\n",
       "      <td>units</td>\n",
       "      <td>NaN</td>\n",
       "      <td>NaN</td>\n",
       "      <td>0.2</td>\n",
       "      <td>NaN</td>\n",
       "      <td>NaN</td>\n",
       "    </tr>\n",
       "    <tr>\n",
       "      <th>4</th>\n",
       "      <td>CZE</td>\n",
       "      <td>Czech Republic</td>\n",
       "      <td>HO_BASE</td>\n",
       "      <td>Dwellings without basic facilities</td>\n",
       "      <td>L</td>\n",
       "      <td>Value</td>\n",
       "      <td>TOT</td>\n",
       "      <td>Total</td>\n",
       "      <td>PC</td>\n",
       "      <td>Percentage</td>\n",
       "      <td>0</td>\n",
       "      <td>units</td>\n",
       "      <td>NaN</td>\n",
       "      <td>NaN</td>\n",
       "      <td>0.9</td>\n",
       "      <td>NaN</td>\n",
       "      <td>NaN</td>\n",
       "    </tr>\n",
       "  </tbody>\n",
       "</table>\n",
       "</div>"
      ],
      "text/plain": [
       "  LOCATION         Country INDICATOR                           Indicator  \\\n",
       "0      AUS       Australia   HO_BASE  Dwellings without basic facilities   \n",
       "1      AUT         Austria   HO_BASE  Dwellings without basic facilities   \n",
       "2      BEL         Belgium   HO_BASE  Dwellings without basic facilities   \n",
       "3      CAN          Canada   HO_BASE  Dwellings without basic facilities   \n",
       "4      CZE  Czech Republic   HO_BASE  Dwellings without basic facilities   \n",
       "\n",
       "  MEASURE Measure INEQUALITY Inequality Unit Code        Unit  PowerCode Code  \\\n",
       "0       L   Value        TOT      Total        PC  Percentage               0   \n",
       "1       L   Value        TOT      Total        PC  Percentage               0   \n",
       "2       L   Value        TOT      Total        PC  Percentage               0   \n",
       "3       L   Value        TOT      Total        PC  Percentage               0   \n",
       "4       L   Value        TOT      Total        PC  Percentage               0   \n",
       "\n",
       "  PowerCode  Reference Period Code  Reference Period  Value Flag Codes  \\\n",
       "0     units                    NaN               NaN    1.1          E   \n",
       "1     units                    NaN               NaN    1.0        NaN   \n",
       "2     units                    NaN               NaN    2.0        NaN   \n",
       "3     units                    NaN               NaN    0.2        NaN   \n",
       "4     units                    NaN               NaN    0.9        NaN   \n",
       "\n",
       "             Flags  \n",
       "0  Estimated value  \n",
       "1              NaN  \n",
       "2              NaN  \n",
       "3              NaN  \n",
       "4              NaN  "
      ]
     },
     "execution_count": 9,
     "metadata": {},
     "output_type": "execute_result"
    }
   ],
   "source": [
    "oecd_bli.head()"
   ]
  },
  {
   "cell_type": "markdown",
   "metadata": {},
   "source": [
    "국가별 삶의 만족도는 `'Life satisfaction'`이라는 측정지표(`'Indicator'`) 열(column)의\n",
    "특성값 중에 하나이다. \n",
    "총 24개 측정지표가 사용되며 그중에 하나임을 확인할 수 있다."
   ]
  },
  {
   "cell_type": "code",
   "execution_count": 10,
   "metadata": {},
   "outputs": [
    {
     "data": {
      "text/plain": [
       "array(['Dwellings without basic facilities', 'Housing expenditure',\n",
       "       'Rooms per person', 'Household net adjusted disposable income',\n",
       "       'Household net financial wealth', 'Employment rate',\n",
       "       'Job security', 'Long-term unemployment rate', 'Personal earnings',\n",
       "       'Quality of support network', 'Educational attainment',\n",
       "       'Student skills', 'Years in education', 'Air pollution',\n",
       "       'Water quality', 'Consultation on rule-making', 'Voter turnout',\n",
       "       'Life expectancy', 'Self-reported health', 'Life satisfaction',\n",
       "       'Assault rate', 'Homicide rate',\n",
       "       'Employees working very long hours',\n",
       "       'Time devoted to leisure and personal care'], dtype=object)"
      ]
     },
     "execution_count": 10,
     "metadata": {},
     "output_type": "execute_result"
    }
   ],
   "source": [
    "oecd_bli.Indicator.unique()"
   ]
  },
  {
   "cell_type": "code",
   "execution_count": 11,
   "metadata": {},
   "outputs": [
    {
     "data": {
      "text/plain": [
       "(24,)"
      ]
     },
     "execution_count": 11,
     "metadata": {},
     "output_type": "execute_result"
    }
   ],
   "source": [
    "oecd_bli.Indicator.unique().shape"
   ]
  },
  {
   "cell_type": "code",
   "execution_count": 12,
   "metadata": {},
   "outputs": [
    {
     "data": {
      "text/plain": [
       "True"
      ]
     },
     "execution_count": 12,
     "metadata": {},
     "output_type": "execute_result"
    }
   ],
   "source": [
    "'Life satisfaction' in oecd_bli.Indicator.unique()"
   ]
  },
  {
   "cell_type": "markdown",
   "metadata": {},
   "source": [
    "그런데 삶의 만족도와 관련된 행이 OECD 회원국의 수인 37보다 많다.\n",
    "이는 삶의 만족도와 관련해서 데이터의 중복이 있다는 것을 의미한다. "
   ]
  },
  {
   "cell_type": "code",
   "execution_count": 13,
   "metadata": {},
   "outputs": [
    {
     "data": {
      "text/plain": [
       "(179, 17)"
      ]
     },
     "execution_count": 13,
     "metadata": {},
     "output_type": "execute_result"
    }
   ],
   "source": [
    "mask = oecd_bli.Indicator == 'Life satisfaction'\n",
    "oecd_bli[mask].shape"
   ]
  },
  {
   "cell_type": "markdown",
   "metadata": {},
   "source": [
    "무엇이 중복되었는지를 알아내기 위해 \n",
    "OECD 회원국가별로 `'Indicator'` 열에 포함된 24개 측정지표에 해당하는 값(value)만을 따로 추출해보자.\n",
    "즉, ['더 나은 삶의 지수'(BLI, Better Life Index) 자료](https://stats.oecd.org/Index.aspx?DataSetCode=BLI)(2021년 5월 18일 자)에서\n",
    "볼 수 있는 아래 테이블 이미지와 같은 데이터프레임을 생성하고자 한다. \n",
    "\n",
    "- 행: OECD 회원국(`Country`)\n",
    "- 열: 측정지표(`Indicator`)\n",
    "- 항목 값: 국가별 지표 수치(`Value`)"
   ]
  },
  {
   "cell_type": "markdown",
   "metadata": {},
   "source": [
    "<div align=\"center\"><img src=\"https://raw.githubusercontent.com/codingalzi/pydata/master/notebooks/images/oecd_bli.png\"/></div>"
   ]
  },
  {
   "cell_type": "markdown",
   "metadata": {},
   "source": [
    "이를 위해 국가명(`'Country'` 열의 항목)을 행의 인덱스 이름으로, \n",
    "`'Indicator'`의 항목을 열의 인덱스 이름으로 사용하는\n",
    "데이터프레임을 생성한다.\n",
    "해당 열과 항목에 해당하는 값은 `'Value'` 열에 포함된 값을 사용한다."
   ]
  },
  {
   "cell_type": "markdown",
   "metadata": {},
   "source": [
    "이 작업을 위한 전제조건으로 새로운 데이터프레임에 사용될 항목별 값을 유일하게 지정할 수 있어야 한다.\n",
    "그런데 OECD의 원본 파일에는 각 측정지표의 값으로 국가별 소득 불평등(`'INEQUALITY'`)과 관련된 5가지 \n",
    "기준에 따라 다섯 개의 값이 포함되어 있다(위 이미지 좌상단 화살표 참조).\n",
    "\n",
    "| 기준   | 기호 | 대상     |\n",
    "| :---  | :---| :---    |\n",
    "| Total | TOT | 전체 인구 |\n",
    "| Men   | MN  | 남성     |\n",
    "| Wemen | WMN | 여성     |\n",
    "| High  | HGH | 상위 소득 |\n",
    "| Low   | LW  | 하위 소득 |"
   ]
  },
  {
   "cell_type": "code",
   "execution_count": 14,
   "metadata": {},
   "outputs": [
    {
     "data": {
      "text/plain": [
       "array(['TOT', 'MN', 'WMN', 'HGH', 'LW'], dtype=object)"
      ]
     },
     "execution_count": 14,
     "metadata": {},
     "output_type": "execute_result"
    }
   ],
   "source": [
    "oecd_bli.INEQUALITY.unique()"
   ]
  },
  {
   "cell_type": "markdown",
   "metadata": {},
   "source": [
    "각 기준별 행의 개수는 다음과 같다."
   ]
  },
  {
   "cell_type": "code",
   "execution_count": 15,
   "metadata": {},
   "outputs": [
    {
     "name": "stdout",
     "output_type": "stream",
     "text": [
      "TOT:\t888행\n",
      " MN:\t881행\n",
      "WMN:\t881행\n",
      "HGH:\t328행\n",
      " LW:\t314행\n",
      "\n",
      " 총:\t3292행\n"
     ]
    }
   ],
   "source": [
    "arr1 = oecd_bli.INEQUALITY.unique()\n",
    "\n",
    "sum = 0\n",
    "for ineq in arr1:\n",
    "    num_lines = (oecd_bli['INEQUALITY'] == ineq).sum()\n",
    "    sum += num_lines\n",
    "    print(f\"{ineq:>3}:\\t{num_lines}행\")\n",
    "\n",
    "print(f\"\\n 총:\\t{sum}행\")"
   ]
  },
  {
   "cell_type": "markdown",
   "metadata": {},
   "source": [
    "따라서 먼저 하나의 기준을 선택해서 해당 기준에 맞는 행들만 추출한다.\n",
    "여기서는 전체 인구를 대상으로 하는 기준을 사용한다."
   ]
  },
  {
   "cell_type": "code",
   "execution_count": 16,
   "metadata": {
    "colab": {
     "base_uri": "https://localhost:8080/",
     "height": 346
    },
    "id": "PjGtsWetfLIh",
    "outputId": "9aa7fecc-1809-4187-9e71-0d2708fafb07"
   },
   "outputs": [],
   "source": [
    "oecd_bli = oecd_bli[oecd_bli[\"INEQUALITY\"]==\"TOT\"]"
   ]
  },
  {
   "cell_type": "markdown",
   "metadata": {},
   "source": [
    "앞서 확인한 대로 총 888행으로 이루어진 데이터프레임이다."
   ]
  },
  {
   "cell_type": "code",
   "execution_count": 17,
   "metadata": {
    "colab": {
     "base_uri": "https://localhost:8080/",
     "height": 346
    },
    "id": "PjGtsWetfLIh",
    "outputId": "9aa7fecc-1809-4187-9e71-0d2708fafb07"
   },
   "outputs": [
    {
     "data": {
      "text/plain": [
       "(888, 17)"
      ]
     },
     "execution_count": 17,
     "metadata": {},
     "output_type": "execute_result"
    }
   ],
   "source": [
    "oecd_bli.shape"
   ]
  },
  {
   "cell_type": "markdown",
   "metadata": {},
   "source": [
    "여기서 `37 * 24 = 888`이 성립함에 주목해야 한다. \n",
    "왜냐하면 이는 위데이터프레임이 37개 OECD 회원국별로 24개의 지표를 조사한 데이터를 포함한다는 의미이기 때문이다.\n",
    "또한 측정된 지표값은 `'Value'` 열에 포함되어 있다.\n",
    "\n",
    "이제 데이터프레임 객체의 `pivot()` 메서드를 이용하여 \n",
    "`'Indicator'` 의 항목에 대한 각 국가별 수치만을 추출하기 위해\n",
    "국가명(`'Country'` 열의 항목)을 행의 인덱스 이름으로, \n",
    "`'Indicator'`의 항목을 열의 인덱스 이름으로 사용하면서\n",
    "해당 행과 열의 항목에는 `'Value'` 열에 포함된 값을 사용하는 \n",
    "데이터프레임을 아래와 같이 생성할 수 있다."
   ]
  },
  {
   "cell_type": "code",
   "execution_count": 18,
   "metadata": {
    "colab": {
     "base_uri": "https://localhost:8080/",
     "height": 346
    },
    "id": "PjGtsWetfLIh",
    "outputId": "9aa7fecc-1809-4187-9e71-0d2708fafb07"
   },
   "outputs": [],
   "source": [
    "oecd_bli = oecd_bli.pivot(index=\"Country\", columns=\"Indicator\", values=\"Value\")"
   ]
  },
  {
   "cell_type": "markdown",
   "metadata": {},
   "source": [
    "이제 총 37개 국가의 측정지표별 수치를 확인하면 다음과 같다."
   ]
  },
  {
   "cell_type": "code",
   "execution_count": 19,
   "metadata": {
    "colab": {
     "base_uri": "https://localhost:8080/",
     "height": 346
    },
    "id": "PjGtsWetfLIh",
    "outputId": "9aa7fecc-1809-4187-9e71-0d2708fafb07"
   },
   "outputs": [
    {
     "data": {
      "text/html": [
       "<div>\n",
       "<style scoped>\n",
       "    .dataframe tbody tr th:only-of-type {\n",
       "        vertical-align: middle;\n",
       "    }\n",
       "\n",
       "    .dataframe tbody tr th {\n",
       "        vertical-align: top;\n",
       "    }\n",
       "\n",
       "    .dataframe thead th {\n",
       "        text-align: right;\n",
       "    }\n",
       "</style>\n",
       "<table border=\"1\" class=\"dataframe\">\n",
       "  <thead>\n",
       "    <tr style=\"text-align: right;\">\n",
       "      <th>Indicator</th>\n",
       "      <th>Air pollution</th>\n",
       "      <th>Assault rate</th>\n",
       "      <th>Consultation on rule-making</th>\n",
       "      <th>Dwellings without basic facilities</th>\n",
       "      <th>Educational attainment</th>\n",
       "      <th>Employees working very long hours</th>\n",
       "      <th>Employment rate</th>\n",
       "      <th>Homicide rate</th>\n",
       "      <th>Household net adjusted disposable income</th>\n",
       "      <th>Household net financial wealth</th>\n",
       "      <th>...</th>\n",
       "      <th>Long-term unemployment rate</th>\n",
       "      <th>Personal earnings</th>\n",
       "      <th>Quality of support network</th>\n",
       "      <th>Rooms per person</th>\n",
       "      <th>Self-reported health</th>\n",
       "      <th>Student skills</th>\n",
       "      <th>Time devoted to leisure and personal care</th>\n",
       "      <th>Voter turnout</th>\n",
       "      <th>Water quality</th>\n",
       "      <th>Years in education</th>\n",
       "    </tr>\n",
       "    <tr>\n",
       "      <th>Country</th>\n",
       "      <th></th>\n",
       "      <th></th>\n",
       "      <th></th>\n",
       "      <th></th>\n",
       "      <th></th>\n",
       "      <th></th>\n",
       "      <th></th>\n",
       "      <th></th>\n",
       "      <th></th>\n",
       "      <th></th>\n",
       "      <th></th>\n",
       "      <th></th>\n",
       "      <th></th>\n",
       "      <th></th>\n",
       "      <th></th>\n",
       "      <th></th>\n",
       "      <th></th>\n",
       "      <th></th>\n",
       "      <th></th>\n",
       "      <th></th>\n",
       "      <th></th>\n",
       "    </tr>\n",
       "  </thead>\n",
       "  <tbody>\n",
       "    <tr>\n",
       "      <th>Australia</th>\n",
       "      <td>13.0</td>\n",
       "      <td>2.1</td>\n",
       "      <td>10.5</td>\n",
       "      <td>1.1</td>\n",
       "      <td>76.0</td>\n",
       "      <td>14.02</td>\n",
       "      <td>72.0</td>\n",
       "      <td>0.8</td>\n",
       "      <td>31588.0</td>\n",
       "      <td>47657.0</td>\n",
       "      <td>...</td>\n",
       "      <td>1.08</td>\n",
       "      <td>50449.0</td>\n",
       "      <td>92.0</td>\n",
       "      <td>2.3</td>\n",
       "      <td>85.0</td>\n",
       "      <td>512.0</td>\n",
       "      <td>14.41</td>\n",
       "      <td>93.0</td>\n",
       "      <td>91.0</td>\n",
       "      <td>19.4</td>\n",
       "    </tr>\n",
       "    <tr>\n",
       "      <th>Austria</th>\n",
       "      <td>27.0</td>\n",
       "      <td>3.4</td>\n",
       "      <td>7.1</td>\n",
       "      <td>1.0</td>\n",
       "      <td>83.0</td>\n",
       "      <td>7.61</td>\n",
       "      <td>72.0</td>\n",
       "      <td>0.4</td>\n",
       "      <td>31173.0</td>\n",
       "      <td>49887.0</td>\n",
       "      <td>...</td>\n",
       "      <td>1.19</td>\n",
       "      <td>45199.0</td>\n",
       "      <td>89.0</td>\n",
       "      <td>1.6</td>\n",
       "      <td>69.0</td>\n",
       "      <td>500.0</td>\n",
       "      <td>14.46</td>\n",
       "      <td>75.0</td>\n",
       "      <td>94.0</td>\n",
       "      <td>17.0</td>\n",
       "    </tr>\n",
       "    <tr>\n",
       "      <th>Belgium</th>\n",
       "      <td>21.0</td>\n",
       "      <td>6.6</td>\n",
       "      <td>4.5</td>\n",
       "      <td>2.0</td>\n",
       "      <td>72.0</td>\n",
       "      <td>4.57</td>\n",
       "      <td>62.0</td>\n",
       "      <td>1.1</td>\n",
       "      <td>28307.0</td>\n",
       "      <td>83876.0</td>\n",
       "      <td>...</td>\n",
       "      <td>3.88</td>\n",
       "      <td>48082.0</td>\n",
       "      <td>94.0</td>\n",
       "      <td>2.2</td>\n",
       "      <td>74.0</td>\n",
       "      <td>509.0</td>\n",
       "      <td>15.71</td>\n",
       "      <td>89.0</td>\n",
       "      <td>87.0</td>\n",
       "      <td>18.9</td>\n",
       "    </tr>\n",
       "    <tr>\n",
       "      <th>Brazil</th>\n",
       "      <td>18.0</td>\n",
       "      <td>7.9</td>\n",
       "      <td>4.0</td>\n",
       "      <td>6.7</td>\n",
       "      <td>45.0</td>\n",
       "      <td>10.41</td>\n",
       "      <td>67.0</td>\n",
       "      <td>25.5</td>\n",
       "      <td>11664.0</td>\n",
       "      <td>6844.0</td>\n",
       "      <td>...</td>\n",
       "      <td>1.97</td>\n",
       "      <td>17177.0</td>\n",
       "      <td>90.0</td>\n",
       "      <td>1.6</td>\n",
       "      <td>69.0</td>\n",
       "      <td>402.0</td>\n",
       "      <td>14.97</td>\n",
       "      <td>79.0</td>\n",
       "      <td>72.0</td>\n",
       "      <td>16.3</td>\n",
       "    </tr>\n",
       "    <tr>\n",
       "      <th>Canada</th>\n",
       "      <td>15.0</td>\n",
       "      <td>1.3</td>\n",
       "      <td>10.5</td>\n",
       "      <td>0.2</td>\n",
       "      <td>89.0</td>\n",
       "      <td>3.94</td>\n",
       "      <td>72.0</td>\n",
       "      <td>1.5</td>\n",
       "      <td>29365.0</td>\n",
       "      <td>67913.0</td>\n",
       "      <td>...</td>\n",
       "      <td>0.90</td>\n",
       "      <td>46911.0</td>\n",
       "      <td>92.0</td>\n",
       "      <td>2.5</td>\n",
       "      <td>89.0</td>\n",
       "      <td>522.0</td>\n",
       "      <td>14.25</td>\n",
       "      <td>61.0</td>\n",
       "      <td>91.0</td>\n",
       "      <td>17.2</td>\n",
       "    </tr>\n",
       "    <tr>\n",
       "      <th>Chile</th>\n",
       "      <td>46.0</td>\n",
       "      <td>6.9</td>\n",
       "      <td>2.0</td>\n",
       "      <td>9.4</td>\n",
       "      <td>57.0</td>\n",
       "      <td>15.42</td>\n",
       "      <td>62.0</td>\n",
       "      <td>4.4</td>\n",
       "      <td>14533.0</td>\n",
       "      <td>17733.0</td>\n",
       "      <td>...</td>\n",
       "      <td>1.59</td>\n",
       "      <td>22101.0</td>\n",
       "      <td>86.0</td>\n",
       "      <td>1.2</td>\n",
       "      <td>59.0</td>\n",
       "      <td>436.0</td>\n",
       "      <td>14.41</td>\n",
       "      <td>49.0</td>\n",
       "      <td>73.0</td>\n",
       "      <td>16.5</td>\n",
       "    </tr>\n",
       "    <tr>\n",
       "      <th>Czech Republic</th>\n",
       "      <td>16.0</td>\n",
       "      <td>2.8</td>\n",
       "      <td>6.8</td>\n",
       "      <td>0.9</td>\n",
       "      <td>92.0</td>\n",
       "      <td>6.98</td>\n",
       "      <td>68.0</td>\n",
       "      <td>0.8</td>\n",
       "      <td>18404.0</td>\n",
       "      <td>17299.0</td>\n",
       "      <td>...</td>\n",
       "      <td>3.12</td>\n",
       "      <td>20338.0</td>\n",
       "      <td>85.0</td>\n",
       "      <td>1.4</td>\n",
       "      <td>60.0</td>\n",
       "      <td>500.0</td>\n",
       "      <td>14.98</td>\n",
       "      <td>59.0</td>\n",
       "      <td>85.0</td>\n",
       "      <td>18.1</td>\n",
       "    </tr>\n",
       "    <tr>\n",
       "      <th>Denmark</th>\n",
       "      <td>15.0</td>\n",
       "      <td>3.9</td>\n",
       "      <td>7.0</td>\n",
       "      <td>0.9</td>\n",
       "      <td>78.0</td>\n",
       "      <td>2.03</td>\n",
       "      <td>73.0</td>\n",
       "      <td>0.3</td>\n",
       "      <td>26491.0</td>\n",
       "      <td>44488.0</td>\n",
       "      <td>...</td>\n",
       "      <td>1.78</td>\n",
       "      <td>48347.0</td>\n",
       "      <td>95.0</td>\n",
       "      <td>1.9</td>\n",
       "      <td>72.0</td>\n",
       "      <td>498.0</td>\n",
       "      <td>16.06</td>\n",
       "      <td>88.0</td>\n",
       "      <td>94.0</td>\n",
       "      <td>19.4</td>\n",
       "    </tr>\n",
       "    <tr>\n",
       "      <th>Estonia</th>\n",
       "      <td>9.0</td>\n",
       "      <td>5.5</td>\n",
       "      <td>3.3</td>\n",
       "      <td>8.1</td>\n",
       "      <td>90.0</td>\n",
       "      <td>3.30</td>\n",
       "      <td>68.0</td>\n",
       "      <td>4.8</td>\n",
       "      <td>15167.0</td>\n",
       "      <td>7680.0</td>\n",
       "      <td>...</td>\n",
       "      <td>3.82</td>\n",
       "      <td>18944.0</td>\n",
       "      <td>89.0</td>\n",
       "      <td>1.5</td>\n",
       "      <td>54.0</td>\n",
       "      <td>526.0</td>\n",
       "      <td>14.90</td>\n",
       "      <td>64.0</td>\n",
       "      <td>79.0</td>\n",
       "      <td>17.5</td>\n",
       "    </tr>\n",
       "    <tr>\n",
       "      <th>Finland</th>\n",
       "      <td>15.0</td>\n",
       "      <td>2.4</td>\n",
       "      <td>9.0</td>\n",
       "      <td>0.6</td>\n",
       "      <td>85.0</td>\n",
       "      <td>3.58</td>\n",
       "      <td>69.0</td>\n",
       "      <td>1.4</td>\n",
       "      <td>27927.0</td>\n",
       "      <td>18761.0</td>\n",
       "      <td>...</td>\n",
       "      <td>1.73</td>\n",
       "      <td>40060.0</td>\n",
       "      <td>95.0</td>\n",
       "      <td>1.9</td>\n",
       "      <td>65.0</td>\n",
       "      <td>529.0</td>\n",
       "      <td>14.89</td>\n",
       "      <td>69.0</td>\n",
       "      <td>94.0</td>\n",
       "      <td>19.7</td>\n",
       "    </tr>\n",
       "    <tr>\n",
       "      <th>France</th>\n",
       "      <td>12.0</td>\n",
       "      <td>5.0</td>\n",
       "      <td>3.5</td>\n",
       "      <td>0.5</td>\n",
       "      <td>73.0</td>\n",
       "      <td>8.15</td>\n",
       "      <td>64.0</td>\n",
       "      <td>0.6</td>\n",
       "      <td>28799.0</td>\n",
       "      <td>48741.0</td>\n",
       "      <td>...</td>\n",
       "      <td>3.99</td>\n",
       "      <td>40242.0</td>\n",
       "      <td>87.0</td>\n",
       "      <td>1.8</td>\n",
       "      <td>67.0</td>\n",
       "      <td>500.0</td>\n",
       "      <td>15.33</td>\n",
       "      <td>80.0</td>\n",
       "      <td>82.0</td>\n",
       "      <td>16.4</td>\n",
       "    </tr>\n",
       "    <tr>\n",
       "      <th>Germany</th>\n",
       "      <td>16.0</td>\n",
       "      <td>3.6</td>\n",
       "      <td>4.5</td>\n",
       "      <td>0.1</td>\n",
       "      <td>86.0</td>\n",
       "      <td>5.25</td>\n",
       "      <td>73.0</td>\n",
       "      <td>0.5</td>\n",
       "      <td>31252.0</td>\n",
       "      <td>50394.0</td>\n",
       "      <td>...</td>\n",
       "      <td>2.37</td>\n",
       "      <td>43682.0</td>\n",
       "      <td>94.0</td>\n",
       "      <td>1.8</td>\n",
       "      <td>65.0</td>\n",
       "      <td>515.0</td>\n",
       "      <td>15.31</td>\n",
       "      <td>72.0</td>\n",
       "      <td>95.0</td>\n",
       "      <td>18.2</td>\n",
       "    </tr>\n",
       "    <tr>\n",
       "      <th>Greece</th>\n",
       "      <td>27.0</td>\n",
       "      <td>3.7</td>\n",
       "      <td>6.5</td>\n",
       "      <td>0.7</td>\n",
       "      <td>68.0</td>\n",
       "      <td>6.16</td>\n",
       "      <td>49.0</td>\n",
       "      <td>1.6</td>\n",
       "      <td>18575.0</td>\n",
       "      <td>14579.0</td>\n",
       "      <td>...</td>\n",
       "      <td>18.39</td>\n",
       "      <td>25503.0</td>\n",
       "      <td>83.0</td>\n",
       "      <td>1.2</td>\n",
       "      <td>74.0</td>\n",
       "      <td>466.0</td>\n",
       "      <td>14.91</td>\n",
       "      <td>64.0</td>\n",
       "      <td>69.0</td>\n",
       "      <td>18.6</td>\n",
       "    </tr>\n",
       "    <tr>\n",
       "      <th>Hungary</th>\n",
       "      <td>15.0</td>\n",
       "      <td>3.6</td>\n",
       "      <td>7.9</td>\n",
       "      <td>4.8</td>\n",
       "      <td>82.0</td>\n",
       "      <td>3.19</td>\n",
       "      <td>58.0</td>\n",
       "      <td>1.3</td>\n",
       "      <td>15442.0</td>\n",
       "      <td>13277.0</td>\n",
       "      <td>...</td>\n",
       "      <td>5.10</td>\n",
       "      <td>20948.0</td>\n",
       "      <td>87.0</td>\n",
       "      <td>1.1</td>\n",
       "      <td>57.0</td>\n",
       "      <td>487.0</td>\n",
       "      <td>15.04</td>\n",
       "      <td>62.0</td>\n",
       "      <td>77.0</td>\n",
       "      <td>17.6</td>\n",
       "    </tr>\n",
       "    <tr>\n",
       "      <th>Iceland</th>\n",
       "      <td>18.0</td>\n",
       "      <td>2.7</td>\n",
       "      <td>5.1</td>\n",
       "      <td>0.4</td>\n",
       "      <td>71.0</td>\n",
       "      <td>12.25</td>\n",
       "      <td>82.0</td>\n",
       "      <td>0.3</td>\n",
       "      <td>23965.0</td>\n",
       "      <td>43045.0</td>\n",
       "      <td>...</td>\n",
       "      <td>1.18</td>\n",
       "      <td>55716.0</td>\n",
       "      <td>96.0</td>\n",
       "      <td>1.5</td>\n",
       "      <td>77.0</td>\n",
       "      <td>484.0</td>\n",
       "      <td>14.61</td>\n",
       "      <td>81.0</td>\n",
       "      <td>97.0</td>\n",
       "      <td>19.8</td>\n",
       "    </tr>\n",
       "    <tr>\n",
       "      <th>Ireland</th>\n",
       "      <td>13.0</td>\n",
       "      <td>2.6</td>\n",
       "      <td>9.0</td>\n",
       "      <td>0.2</td>\n",
       "      <td>75.0</td>\n",
       "      <td>4.20</td>\n",
       "      <td>60.0</td>\n",
       "      <td>0.8</td>\n",
       "      <td>23917.0</td>\n",
       "      <td>31580.0</td>\n",
       "      <td>...</td>\n",
       "      <td>8.39</td>\n",
       "      <td>49506.0</td>\n",
       "      <td>96.0</td>\n",
       "      <td>2.1</td>\n",
       "      <td>82.0</td>\n",
       "      <td>516.0</td>\n",
       "      <td>15.19</td>\n",
       "      <td>70.0</td>\n",
       "      <td>80.0</td>\n",
       "      <td>17.6</td>\n",
       "    </tr>\n",
       "    <tr>\n",
       "      <th>Israel</th>\n",
       "      <td>21.0</td>\n",
       "      <td>6.4</td>\n",
       "      <td>2.5</td>\n",
       "      <td>3.7</td>\n",
       "      <td>85.0</td>\n",
       "      <td>16.03</td>\n",
       "      <td>67.0</td>\n",
       "      <td>2.3</td>\n",
       "      <td>22104.0</td>\n",
       "      <td>52933.0</td>\n",
       "      <td>...</td>\n",
       "      <td>0.79</td>\n",
       "      <td>28817.0</td>\n",
       "      <td>87.0</td>\n",
       "      <td>1.2</td>\n",
       "      <td>80.0</td>\n",
       "      <td>474.0</td>\n",
       "      <td>14.48</td>\n",
       "      <td>68.0</td>\n",
       "      <td>68.0</td>\n",
       "      <td>15.8</td>\n",
       "    </tr>\n",
       "    <tr>\n",
       "      <th>Italy</th>\n",
       "      <td>21.0</td>\n",
       "      <td>4.7</td>\n",
       "      <td>5.0</td>\n",
       "      <td>1.1</td>\n",
       "      <td>57.0</td>\n",
       "      <td>3.66</td>\n",
       "      <td>56.0</td>\n",
       "      <td>0.7</td>\n",
       "      <td>25166.0</td>\n",
       "      <td>54987.0</td>\n",
       "      <td>...</td>\n",
       "      <td>6.94</td>\n",
       "      <td>34561.0</td>\n",
       "      <td>90.0</td>\n",
       "      <td>1.4</td>\n",
       "      <td>66.0</td>\n",
       "      <td>490.0</td>\n",
       "      <td>14.98</td>\n",
       "      <td>75.0</td>\n",
       "      <td>71.0</td>\n",
       "      <td>16.8</td>\n",
       "    </tr>\n",
       "    <tr>\n",
       "      <th>Japan</th>\n",
       "      <td>24.0</td>\n",
       "      <td>1.4</td>\n",
       "      <td>7.3</td>\n",
       "      <td>6.4</td>\n",
       "      <td>94.0</td>\n",
       "      <td>22.26</td>\n",
       "      <td>72.0</td>\n",
       "      <td>0.3</td>\n",
       "      <td>26111.0</td>\n",
       "      <td>86764.0</td>\n",
       "      <td>...</td>\n",
       "      <td>1.67</td>\n",
       "      <td>35405.0</td>\n",
       "      <td>89.0</td>\n",
       "      <td>1.8</td>\n",
       "      <td>30.0</td>\n",
       "      <td>540.0</td>\n",
       "      <td>14.93</td>\n",
       "      <td>53.0</td>\n",
       "      <td>85.0</td>\n",
       "      <td>16.3</td>\n",
       "    </tr>\n",
       "    <tr>\n",
       "      <th>Korea</th>\n",
       "      <td>30.0</td>\n",
       "      <td>2.1</td>\n",
       "      <td>10.4</td>\n",
       "      <td>4.2</td>\n",
       "      <td>82.0</td>\n",
       "      <td>18.72</td>\n",
       "      <td>64.0</td>\n",
       "      <td>1.1</td>\n",
       "      <td>19510.0</td>\n",
       "      <td>29091.0</td>\n",
       "      <td>...</td>\n",
       "      <td>0.01</td>\n",
       "      <td>36354.0</td>\n",
       "      <td>72.0</td>\n",
       "      <td>1.4</td>\n",
       "      <td>35.0</td>\n",
       "      <td>542.0</td>\n",
       "      <td>14.63</td>\n",
       "      <td>76.0</td>\n",
       "      <td>78.0</td>\n",
       "      <td>17.5</td>\n",
       "    </tr>\n",
       "    <tr>\n",
       "      <th>Luxembourg</th>\n",
       "      <td>12.0</td>\n",
       "      <td>4.3</td>\n",
       "      <td>6.0</td>\n",
       "      <td>0.1</td>\n",
       "      <td>78.0</td>\n",
       "      <td>3.47</td>\n",
       "      <td>66.0</td>\n",
       "      <td>0.4</td>\n",
       "      <td>38951.0</td>\n",
       "      <td>61765.0</td>\n",
       "      <td>...</td>\n",
       "      <td>1.78</td>\n",
       "      <td>56021.0</td>\n",
       "      <td>87.0</td>\n",
       "      <td>2.0</td>\n",
       "      <td>72.0</td>\n",
       "      <td>490.0</td>\n",
       "      <td>15.12</td>\n",
       "      <td>91.0</td>\n",
       "      <td>86.0</td>\n",
       "      <td>15.1</td>\n",
       "    </tr>\n",
       "    <tr>\n",
       "      <th>Mexico</th>\n",
       "      <td>30.0</td>\n",
       "      <td>12.8</td>\n",
       "      <td>9.0</td>\n",
       "      <td>4.2</td>\n",
       "      <td>37.0</td>\n",
       "      <td>28.83</td>\n",
       "      <td>61.0</td>\n",
       "      <td>23.4</td>\n",
       "      <td>13085.0</td>\n",
       "      <td>9056.0</td>\n",
       "      <td>...</td>\n",
       "      <td>0.08</td>\n",
       "      <td>16193.0</td>\n",
       "      <td>77.0</td>\n",
       "      <td>1.0</td>\n",
       "      <td>66.0</td>\n",
       "      <td>417.0</td>\n",
       "      <td>13.89</td>\n",
       "      <td>63.0</td>\n",
       "      <td>67.0</td>\n",
       "      <td>14.4</td>\n",
       "    </tr>\n",
       "    <tr>\n",
       "      <th>Netherlands</th>\n",
       "      <td>30.0</td>\n",
       "      <td>4.9</td>\n",
       "      <td>6.1</td>\n",
       "      <td>0.0</td>\n",
       "      <td>73.0</td>\n",
       "      <td>0.45</td>\n",
       "      <td>74.0</td>\n",
       "      <td>0.9</td>\n",
       "      <td>27888.0</td>\n",
       "      <td>77961.0</td>\n",
       "      <td>...</td>\n",
       "      <td>2.40</td>\n",
       "      <td>47590.0</td>\n",
       "      <td>90.0</td>\n",
       "      <td>2.0</td>\n",
       "      <td>76.0</td>\n",
       "      <td>519.0</td>\n",
       "      <td>15.44</td>\n",
       "      <td>75.0</td>\n",
       "      <td>92.0</td>\n",
       "      <td>18.7</td>\n",
       "    </tr>\n",
       "    <tr>\n",
       "      <th>New Zealand</th>\n",
       "      <td>11.0</td>\n",
       "      <td>2.2</td>\n",
       "      <td>10.3</td>\n",
       "      <td>0.2</td>\n",
       "      <td>74.0</td>\n",
       "      <td>13.87</td>\n",
       "      <td>73.0</td>\n",
       "      <td>1.2</td>\n",
       "      <td>23815.0</td>\n",
       "      <td>28290.0</td>\n",
       "      <td>...</td>\n",
       "      <td>0.75</td>\n",
       "      <td>35609.0</td>\n",
       "      <td>94.0</td>\n",
       "      <td>2.4</td>\n",
       "      <td>90.0</td>\n",
       "      <td>509.0</td>\n",
       "      <td>14.87</td>\n",
       "      <td>77.0</td>\n",
       "      <td>89.0</td>\n",
       "      <td>18.1</td>\n",
       "    </tr>\n",
       "    <tr>\n",
       "      <th>Norway</th>\n",
       "      <td>16.0</td>\n",
       "      <td>3.3</td>\n",
       "      <td>8.1</td>\n",
       "      <td>0.3</td>\n",
       "      <td>82.0</td>\n",
       "      <td>2.82</td>\n",
       "      <td>75.0</td>\n",
       "      <td>0.6</td>\n",
       "      <td>33492.0</td>\n",
       "      <td>8797.0</td>\n",
       "      <td>...</td>\n",
       "      <td>0.32</td>\n",
       "      <td>50282.0</td>\n",
       "      <td>94.0</td>\n",
       "      <td>2.0</td>\n",
       "      <td>76.0</td>\n",
       "      <td>496.0</td>\n",
       "      <td>15.56</td>\n",
       "      <td>78.0</td>\n",
       "      <td>94.0</td>\n",
       "      <td>17.9</td>\n",
       "    </tr>\n",
       "    <tr>\n",
       "      <th>OECD - Total</th>\n",
       "      <td>20.0</td>\n",
       "      <td>3.9</td>\n",
       "      <td>7.3</td>\n",
       "      <td>2.4</td>\n",
       "      <td>75.0</td>\n",
       "      <td>12.51</td>\n",
       "      <td>65.0</td>\n",
       "      <td>4.0</td>\n",
       "      <td>25908.0</td>\n",
       "      <td>67139.0</td>\n",
       "      <td>...</td>\n",
       "      <td>2.79</td>\n",
       "      <td>36118.0</td>\n",
       "      <td>88.0</td>\n",
       "      <td>1.8</td>\n",
       "      <td>68.0</td>\n",
       "      <td>497.0</td>\n",
       "      <td>14.97</td>\n",
       "      <td>68.0</td>\n",
       "      <td>81.0</td>\n",
       "      <td>17.7</td>\n",
       "    </tr>\n",
       "    <tr>\n",
       "      <th>Poland</th>\n",
       "      <td>33.0</td>\n",
       "      <td>1.4</td>\n",
       "      <td>10.8</td>\n",
       "      <td>3.2</td>\n",
       "      <td>90.0</td>\n",
       "      <td>7.41</td>\n",
       "      <td>60.0</td>\n",
       "      <td>0.9</td>\n",
       "      <td>17852.0</td>\n",
       "      <td>10919.0</td>\n",
       "      <td>...</td>\n",
       "      <td>3.77</td>\n",
       "      <td>22655.0</td>\n",
       "      <td>91.0</td>\n",
       "      <td>1.1</td>\n",
       "      <td>58.0</td>\n",
       "      <td>521.0</td>\n",
       "      <td>14.20</td>\n",
       "      <td>55.0</td>\n",
       "      <td>79.0</td>\n",
       "      <td>18.4</td>\n",
       "    </tr>\n",
       "    <tr>\n",
       "      <th>Portugal</th>\n",
       "      <td>18.0</td>\n",
       "      <td>5.7</td>\n",
       "      <td>6.5</td>\n",
       "      <td>0.9</td>\n",
       "      <td>38.0</td>\n",
       "      <td>9.62</td>\n",
       "      <td>61.0</td>\n",
       "      <td>1.1</td>\n",
       "      <td>20086.0</td>\n",
       "      <td>31245.0</td>\n",
       "      <td>...</td>\n",
       "      <td>9.11</td>\n",
       "      <td>23688.0</td>\n",
       "      <td>86.0</td>\n",
       "      <td>1.6</td>\n",
       "      <td>46.0</td>\n",
       "      <td>488.0</td>\n",
       "      <td>14.95</td>\n",
       "      <td>58.0</td>\n",
       "      <td>86.0</td>\n",
       "      <td>17.6</td>\n",
       "    </tr>\n",
       "    <tr>\n",
       "      <th>Russia</th>\n",
       "      <td>15.0</td>\n",
       "      <td>3.8</td>\n",
       "      <td>2.5</td>\n",
       "      <td>15.1</td>\n",
       "      <td>94.0</td>\n",
       "      <td>0.16</td>\n",
       "      <td>69.0</td>\n",
       "      <td>12.8</td>\n",
       "      <td>19292.0</td>\n",
       "      <td>3412.0</td>\n",
       "      <td>...</td>\n",
       "      <td>1.70</td>\n",
       "      <td>20885.0</td>\n",
       "      <td>90.0</td>\n",
       "      <td>0.9</td>\n",
       "      <td>37.0</td>\n",
       "      <td>481.0</td>\n",
       "      <td>14.97</td>\n",
       "      <td>65.0</td>\n",
       "      <td>56.0</td>\n",
       "      <td>16.0</td>\n",
       "    </tr>\n",
       "    <tr>\n",
       "      <th>Slovak Republic</th>\n",
       "      <td>13.0</td>\n",
       "      <td>3.0</td>\n",
       "      <td>6.6</td>\n",
       "      <td>0.6</td>\n",
       "      <td>92.0</td>\n",
       "      <td>7.02</td>\n",
       "      <td>60.0</td>\n",
       "      <td>1.2</td>\n",
       "      <td>17503.0</td>\n",
       "      <td>8663.0</td>\n",
       "      <td>...</td>\n",
       "      <td>9.46</td>\n",
       "      <td>20307.0</td>\n",
       "      <td>90.0</td>\n",
       "      <td>1.1</td>\n",
       "      <td>66.0</td>\n",
       "      <td>472.0</td>\n",
       "      <td>14.99</td>\n",
       "      <td>59.0</td>\n",
       "      <td>81.0</td>\n",
       "      <td>16.3</td>\n",
       "    </tr>\n",
       "    <tr>\n",
       "      <th>Slovenia</th>\n",
       "      <td>26.0</td>\n",
       "      <td>3.9</td>\n",
       "      <td>10.3</td>\n",
       "      <td>0.5</td>\n",
       "      <td>85.0</td>\n",
       "      <td>5.63</td>\n",
       "      <td>63.0</td>\n",
       "      <td>0.4</td>\n",
       "      <td>19326.0</td>\n",
       "      <td>18465.0</td>\n",
       "      <td>...</td>\n",
       "      <td>5.15</td>\n",
       "      <td>32037.0</td>\n",
       "      <td>90.0</td>\n",
       "      <td>1.5</td>\n",
       "      <td>65.0</td>\n",
       "      <td>499.0</td>\n",
       "      <td>14.62</td>\n",
       "      <td>52.0</td>\n",
       "      <td>88.0</td>\n",
       "      <td>18.4</td>\n",
       "    </tr>\n",
       "    <tr>\n",
       "      <th>Spain</th>\n",
       "      <td>24.0</td>\n",
       "      <td>4.2</td>\n",
       "      <td>7.3</td>\n",
       "      <td>0.1</td>\n",
       "      <td>55.0</td>\n",
       "      <td>5.89</td>\n",
       "      <td>56.0</td>\n",
       "      <td>0.6</td>\n",
       "      <td>22477.0</td>\n",
       "      <td>24774.0</td>\n",
       "      <td>...</td>\n",
       "      <td>12.96</td>\n",
       "      <td>34824.0</td>\n",
       "      <td>95.0</td>\n",
       "      <td>1.9</td>\n",
       "      <td>72.0</td>\n",
       "      <td>490.0</td>\n",
       "      <td>16.06</td>\n",
       "      <td>69.0</td>\n",
       "      <td>71.0</td>\n",
       "      <td>17.6</td>\n",
       "    </tr>\n",
       "    <tr>\n",
       "      <th>Sweden</th>\n",
       "      <td>10.0</td>\n",
       "      <td>5.1</td>\n",
       "      <td>10.9</td>\n",
       "      <td>0.0</td>\n",
       "      <td>88.0</td>\n",
       "      <td>1.13</td>\n",
       "      <td>74.0</td>\n",
       "      <td>0.7</td>\n",
       "      <td>29185.0</td>\n",
       "      <td>60328.0</td>\n",
       "      <td>...</td>\n",
       "      <td>1.37</td>\n",
       "      <td>40818.0</td>\n",
       "      <td>92.0</td>\n",
       "      <td>1.7</td>\n",
       "      <td>81.0</td>\n",
       "      <td>482.0</td>\n",
       "      <td>15.11</td>\n",
       "      <td>86.0</td>\n",
       "      <td>95.0</td>\n",
       "      <td>19.3</td>\n",
       "    </tr>\n",
       "    <tr>\n",
       "      <th>Switzerland</th>\n",
       "      <td>20.0</td>\n",
       "      <td>4.2</td>\n",
       "      <td>8.4</td>\n",
       "      <td>0.0</td>\n",
       "      <td>86.0</td>\n",
       "      <td>6.72</td>\n",
       "      <td>80.0</td>\n",
       "      <td>0.5</td>\n",
       "      <td>33491.0</td>\n",
       "      <td>108823.0</td>\n",
       "      <td>...</td>\n",
       "      <td>1.46</td>\n",
       "      <td>54236.0</td>\n",
       "      <td>96.0</td>\n",
       "      <td>1.8</td>\n",
       "      <td>81.0</td>\n",
       "      <td>518.0</td>\n",
       "      <td>14.98</td>\n",
       "      <td>49.0</td>\n",
       "      <td>96.0</td>\n",
       "      <td>17.3</td>\n",
       "    </tr>\n",
       "    <tr>\n",
       "      <th>Turkey</th>\n",
       "      <td>35.0</td>\n",
       "      <td>5.0</td>\n",
       "      <td>5.5</td>\n",
       "      <td>12.7</td>\n",
       "      <td>34.0</td>\n",
       "      <td>40.86</td>\n",
       "      <td>50.0</td>\n",
       "      <td>1.2</td>\n",
       "      <td>14095.0</td>\n",
       "      <td>3251.0</td>\n",
       "      <td>...</td>\n",
       "      <td>2.37</td>\n",
       "      <td>16919.0</td>\n",
       "      <td>86.0</td>\n",
       "      <td>1.1</td>\n",
       "      <td>68.0</td>\n",
       "      <td>462.0</td>\n",
       "      <td>13.42</td>\n",
       "      <td>88.0</td>\n",
       "      <td>62.0</td>\n",
       "      <td>16.4</td>\n",
       "    </tr>\n",
       "    <tr>\n",
       "      <th>United Kingdom</th>\n",
       "      <td>13.0</td>\n",
       "      <td>1.9</td>\n",
       "      <td>11.5</td>\n",
       "      <td>0.2</td>\n",
       "      <td>78.0</td>\n",
       "      <td>12.70</td>\n",
       "      <td>71.0</td>\n",
       "      <td>0.3</td>\n",
       "      <td>27029.0</td>\n",
       "      <td>60778.0</td>\n",
       "      <td>...</td>\n",
       "      <td>2.77</td>\n",
       "      <td>41192.0</td>\n",
       "      <td>91.0</td>\n",
       "      <td>1.9</td>\n",
       "      <td>74.0</td>\n",
       "      <td>502.0</td>\n",
       "      <td>14.83</td>\n",
       "      <td>66.0</td>\n",
       "      <td>88.0</td>\n",
       "      <td>16.4</td>\n",
       "    </tr>\n",
       "    <tr>\n",
       "      <th>United States</th>\n",
       "      <td>18.0</td>\n",
       "      <td>1.5</td>\n",
       "      <td>8.3</td>\n",
       "      <td>0.1</td>\n",
       "      <td>89.0</td>\n",
       "      <td>11.30</td>\n",
       "      <td>67.0</td>\n",
       "      <td>5.2</td>\n",
       "      <td>41355.0</td>\n",
       "      <td>145769.0</td>\n",
       "      <td>...</td>\n",
       "      <td>1.91</td>\n",
       "      <td>56340.0</td>\n",
       "      <td>90.0</td>\n",
       "      <td>2.4</td>\n",
       "      <td>88.0</td>\n",
       "      <td>492.0</td>\n",
       "      <td>14.27</td>\n",
       "      <td>68.0</td>\n",
       "      <td>85.0</td>\n",
       "      <td>17.2</td>\n",
       "    </tr>\n",
       "  </tbody>\n",
       "</table>\n",
       "<p>37 rows × 24 columns</p>\n",
       "</div>"
      ],
      "text/plain": [
       "Indicator        Air pollution  Assault rate  Consultation on rule-making  \\\n",
       "Country                                                                     \n",
       "Australia                 13.0           2.1                         10.5   \n",
       "Austria                   27.0           3.4                          7.1   \n",
       "Belgium                   21.0           6.6                          4.5   \n",
       "Brazil                    18.0           7.9                          4.0   \n",
       "Canada                    15.0           1.3                         10.5   \n",
       "Chile                     46.0           6.9                          2.0   \n",
       "Czech Republic            16.0           2.8                          6.8   \n",
       "Denmark                   15.0           3.9                          7.0   \n",
       "Estonia                    9.0           5.5                          3.3   \n",
       "Finland                   15.0           2.4                          9.0   \n",
       "France                    12.0           5.0                          3.5   \n",
       "Germany                   16.0           3.6                          4.5   \n",
       "Greece                    27.0           3.7                          6.5   \n",
       "Hungary                   15.0           3.6                          7.9   \n",
       "Iceland                   18.0           2.7                          5.1   \n",
       "Ireland                   13.0           2.6                          9.0   \n",
       "Israel                    21.0           6.4                          2.5   \n",
       "Italy                     21.0           4.7                          5.0   \n",
       "Japan                     24.0           1.4                          7.3   \n",
       "Korea                     30.0           2.1                         10.4   \n",
       "Luxembourg                12.0           4.3                          6.0   \n",
       "Mexico                    30.0          12.8                          9.0   \n",
       "Netherlands               30.0           4.9                          6.1   \n",
       "New Zealand               11.0           2.2                         10.3   \n",
       "Norway                    16.0           3.3                          8.1   \n",
       "OECD - Total              20.0           3.9                          7.3   \n",
       "Poland                    33.0           1.4                         10.8   \n",
       "Portugal                  18.0           5.7                          6.5   \n",
       "Russia                    15.0           3.8                          2.5   \n",
       "Slovak Republic           13.0           3.0                          6.6   \n",
       "Slovenia                  26.0           3.9                         10.3   \n",
       "Spain                     24.0           4.2                          7.3   \n",
       "Sweden                    10.0           5.1                         10.9   \n",
       "Switzerland               20.0           4.2                          8.4   \n",
       "Turkey                    35.0           5.0                          5.5   \n",
       "United Kingdom            13.0           1.9                         11.5   \n",
       "United States             18.0           1.5                          8.3   \n",
       "\n",
       "Indicator        Dwellings without basic facilities  Educational attainment  \\\n",
       "Country                                                                       \n",
       "Australia                                       1.1                    76.0   \n",
       "Austria                                         1.0                    83.0   \n",
       "Belgium                                         2.0                    72.0   \n",
       "Brazil                                          6.7                    45.0   \n",
       "Canada                                          0.2                    89.0   \n",
       "Chile                                           9.4                    57.0   \n",
       "Czech Republic                                  0.9                    92.0   \n",
       "Denmark                                         0.9                    78.0   \n",
       "Estonia                                         8.1                    90.0   \n",
       "Finland                                         0.6                    85.0   \n",
       "France                                          0.5                    73.0   \n",
       "Germany                                         0.1                    86.0   \n",
       "Greece                                          0.7                    68.0   \n",
       "Hungary                                         4.8                    82.0   \n",
       "Iceland                                         0.4                    71.0   \n",
       "Ireland                                         0.2                    75.0   \n",
       "Israel                                          3.7                    85.0   \n",
       "Italy                                           1.1                    57.0   \n",
       "Japan                                           6.4                    94.0   \n",
       "Korea                                           4.2                    82.0   \n",
       "Luxembourg                                      0.1                    78.0   \n",
       "Mexico                                          4.2                    37.0   \n",
       "Netherlands                                     0.0                    73.0   \n",
       "New Zealand                                     0.2                    74.0   \n",
       "Norway                                          0.3                    82.0   \n",
       "OECD - Total                                    2.4                    75.0   \n",
       "Poland                                          3.2                    90.0   \n",
       "Portugal                                        0.9                    38.0   \n",
       "Russia                                         15.1                    94.0   \n",
       "Slovak Republic                                 0.6                    92.0   \n",
       "Slovenia                                        0.5                    85.0   \n",
       "Spain                                           0.1                    55.0   \n",
       "Sweden                                          0.0                    88.0   \n",
       "Switzerland                                     0.0                    86.0   \n",
       "Turkey                                         12.7                    34.0   \n",
       "United Kingdom                                  0.2                    78.0   \n",
       "United States                                   0.1                    89.0   \n",
       "\n",
       "Indicator        Employees working very long hours  Employment rate  \\\n",
       "Country                                                               \n",
       "Australia                                    14.02             72.0   \n",
       "Austria                                       7.61             72.0   \n",
       "Belgium                                       4.57             62.0   \n",
       "Brazil                                       10.41             67.0   \n",
       "Canada                                        3.94             72.0   \n",
       "Chile                                        15.42             62.0   \n",
       "Czech Republic                                6.98             68.0   \n",
       "Denmark                                       2.03             73.0   \n",
       "Estonia                                       3.30             68.0   \n",
       "Finland                                       3.58             69.0   \n",
       "France                                        8.15             64.0   \n",
       "Germany                                       5.25             73.0   \n",
       "Greece                                        6.16             49.0   \n",
       "Hungary                                       3.19             58.0   \n",
       "Iceland                                      12.25             82.0   \n",
       "Ireland                                       4.20             60.0   \n",
       "Israel                                       16.03             67.0   \n",
       "Italy                                         3.66             56.0   \n",
       "Japan                                        22.26             72.0   \n",
       "Korea                                        18.72             64.0   \n",
       "Luxembourg                                    3.47             66.0   \n",
       "Mexico                                       28.83             61.0   \n",
       "Netherlands                                   0.45             74.0   \n",
       "New Zealand                                  13.87             73.0   \n",
       "Norway                                        2.82             75.0   \n",
       "OECD - Total                                 12.51             65.0   \n",
       "Poland                                        7.41             60.0   \n",
       "Portugal                                      9.62             61.0   \n",
       "Russia                                        0.16             69.0   \n",
       "Slovak Republic                               7.02             60.0   \n",
       "Slovenia                                      5.63             63.0   \n",
       "Spain                                         5.89             56.0   \n",
       "Sweden                                        1.13             74.0   \n",
       "Switzerland                                   6.72             80.0   \n",
       "Turkey                                       40.86             50.0   \n",
       "United Kingdom                               12.70             71.0   \n",
       "United States                                11.30             67.0   \n",
       "\n",
       "Indicator        Homicide rate  Household net adjusted disposable income  \\\n",
       "Country                                                                    \n",
       "Australia                  0.8                                   31588.0   \n",
       "Austria                    0.4                                   31173.0   \n",
       "Belgium                    1.1                                   28307.0   \n",
       "Brazil                    25.5                                   11664.0   \n",
       "Canada                     1.5                                   29365.0   \n",
       "Chile                      4.4                                   14533.0   \n",
       "Czech Republic             0.8                                   18404.0   \n",
       "Denmark                    0.3                                   26491.0   \n",
       "Estonia                    4.8                                   15167.0   \n",
       "Finland                    1.4                                   27927.0   \n",
       "France                     0.6                                   28799.0   \n",
       "Germany                    0.5                                   31252.0   \n",
       "Greece                     1.6                                   18575.0   \n",
       "Hungary                    1.3                                   15442.0   \n",
       "Iceland                    0.3                                   23965.0   \n",
       "Ireland                    0.8                                   23917.0   \n",
       "Israel                     2.3                                   22104.0   \n",
       "Italy                      0.7                                   25166.0   \n",
       "Japan                      0.3                                   26111.0   \n",
       "Korea                      1.1                                   19510.0   \n",
       "Luxembourg                 0.4                                   38951.0   \n",
       "Mexico                    23.4                                   13085.0   \n",
       "Netherlands                0.9                                   27888.0   \n",
       "New Zealand                1.2                                   23815.0   \n",
       "Norway                     0.6                                   33492.0   \n",
       "OECD - Total               4.0                                   25908.0   \n",
       "Poland                     0.9                                   17852.0   \n",
       "Portugal                   1.1                                   20086.0   \n",
       "Russia                    12.8                                   19292.0   \n",
       "Slovak Republic            1.2                                   17503.0   \n",
       "Slovenia                   0.4                                   19326.0   \n",
       "Spain                      0.6                                   22477.0   \n",
       "Sweden                     0.7                                   29185.0   \n",
       "Switzerland                0.5                                   33491.0   \n",
       "Turkey                     1.2                                   14095.0   \n",
       "United Kingdom             0.3                                   27029.0   \n",
       "United States              5.2                                   41355.0   \n",
       "\n",
       "Indicator        Household net financial wealth  ...  \\\n",
       "Country                                          ...   \n",
       "Australia                               47657.0  ...   \n",
       "Austria                                 49887.0  ...   \n",
       "Belgium                                 83876.0  ...   \n",
       "Brazil                                   6844.0  ...   \n",
       "Canada                                  67913.0  ...   \n",
       "Chile                                   17733.0  ...   \n",
       "Czech Republic                          17299.0  ...   \n",
       "Denmark                                 44488.0  ...   \n",
       "Estonia                                  7680.0  ...   \n",
       "Finland                                 18761.0  ...   \n",
       "France                                  48741.0  ...   \n",
       "Germany                                 50394.0  ...   \n",
       "Greece                                  14579.0  ...   \n",
       "Hungary                                 13277.0  ...   \n",
       "Iceland                                 43045.0  ...   \n",
       "Ireland                                 31580.0  ...   \n",
       "Israel                                  52933.0  ...   \n",
       "Italy                                   54987.0  ...   \n",
       "Japan                                   86764.0  ...   \n",
       "Korea                                   29091.0  ...   \n",
       "Luxembourg                              61765.0  ...   \n",
       "Mexico                                   9056.0  ...   \n",
       "Netherlands                             77961.0  ...   \n",
       "New Zealand                             28290.0  ...   \n",
       "Norway                                   8797.0  ...   \n",
       "OECD - Total                            67139.0  ...   \n",
       "Poland                                  10919.0  ...   \n",
       "Portugal                                31245.0  ...   \n",
       "Russia                                   3412.0  ...   \n",
       "Slovak Republic                          8663.0  ...   \n",
       "Slovenia                                18465.0  ...   \n",
       "Spain                                   24774.0  ...   \n",
       "Sweden                                  60328.0  ...   \n",
       "Switzerland                            108823.0  ...   \n",
       "Turkey                                   3251.0  ...   \n",
       "United Kingdom                          60778.0  ...   \n",
       "United States                          145769.0  ...   \n",
       "\n",
       "Indicator        Long-term unemployment rate  Personal earnings  \\\n",
       "Country                                                           \n",
       "Australia                               1.08            50449.0   \n",
       "Austria                                 1.19            45199.0   \n",
       "Belgium                                 3.88            48082.0   \n",
       "Brazil                                  1.97            17177.0   \n",
       "Canada                                  0.90            46911.0   \n",
       "Chile                                   1.59            22101.0   \n",
       "Czech Republic                          3.12            20338.0   \n",
       "Denmark                                 1.78            48347.0   \n",
       "Estonia                                 3.82            18944.0   \n",
       "Finland                                 1.73            40060.0   \n",
       "France                                  3.99            40242.0   \n",
       "Germany                                 2.37            43682.0   \n",
       "Greece                                 18.39            25503.0   \n",
       "Hungary                                 5.10            20948.0   \n",
       "Iceland                                 1.18            55716.0   \n",
       "Ireland                                 8.39            49506.0   \n",
       "Israel                                  0.79            28817.0   \n",
       "Italy                                   6.94            34561.0   \n",
       "Japan                                   1.67            35405.0   \n",
       "Korea                                   0.01            36354.0   \n",
       "Luxembourg                              1.78            56021.0   \n",
       "Mexico                                  0.08            16193.0   \n",
       "Netherlands                             2.40            47590.0   \n",
       "New Zealand                             0.75            35609.0   \n",
       "Norway                                  0.32            50282.0   \n",
       "OECD - Total                            2.79            36118.0   \n",
       "Poland                                  3.77            22655.0   \n",
       "Portugal                                9.11            23688.0   \n",
       "Russia                                  1.70            20885.0   \n",
       "Slovak Republic                         9.46            20307.0   \n",
       "Slovenia                                5.15            32037.0   \n",
       "Spain                                  12.96            34824.0   \n",
       "Sweden                                  1.37            40818.0   \n",
       "Switzerland                             1.46            54236.0   \n",
       "Turkey                                  2.37            16919.0   \n",
       "United Kingdom                          2.77            41192.0   \n",
       "United States                           1.91            56340.0   \n",
       "\n",
       "Indicator        Quality of support network  Rooms per person  \\\n",
       "Country                                                         \n",
       "Australia                              92.0               2.3   \n",
       "Austria                                89.0               1.6   \n",
       "Belgium                                94.0               2.2   \n",
       "Brazil                                 90.0               1.6   \n",
       "Canada                                 92.0               2.5   \n",
       "Chile                                  86.0               1.2   \n",
       "Czech Republic                         85.0               1.4   \n",
       "Denmark                                95.0               1.9   \n",
       "Estonia                                89.0               1.5   \n",
       "Finland                                95.0               1.9   \n",
       "France                                 87.0               1.8   \n",
       "Germany                                94.0               1.8   \n",
       "Greece                                 83.0               1.2   \n",
       "Hungary                                87.0               1.1   \n",
       "Iceland                                96.0               1.5   \n",
       "Ireland                                96.0               2.1   \n",
       "Israel                                 87.0               1.2   \n",
       "Italy                                  90.0               1.4   \n",
       "Japan                                  89.0               1.8   \n",
       "Korea                                  72.0               1.4   \n",
       "Luxembourg                             87.0               2.0   \n",
       "Mexico                                 77.0               1.0   \n",
       "Netherlands                            90.0               2.0   \n",
       "New Zealand                            94.0               2.4   \n",
       "Norway                                 94.0               2.0   \n",
       "OECD - Total                           88.0               1.8   \n",
       "Poland                                 91.0               1.1   \n",
       "Portugal                               86.0               1.6   \n",
       "Russia                                 90.0               0.9   \n",
       "Slovak Republic                        90.0               1.1   \n",
       "Slovenia                               90.0               1.5   \n",
       "Spain                                  95.0               1.9   \n",
       "Sweden                                 92.0               1.7   \n",
       "Switzerland                            96.0               1.8   \n",
       "Turkey                                 86.0               1.1   \n",
       "United Kingdom                         91.0               1.9   \n",
       "United States                          90.0               2.4   \n",
       "\n",
       "Indicator        Self-reported health  Student skills  \\\n",
       "Country                                                 \n",
       "Australia                        85.0           512.0   \n",
       "Austria                          69.0           500.0   \n",
       "Belgium                          74.0           509.0   \n",
       "Brazil                           69.0           402.0   \n",
       "Canada                           89.0           522.0   \n",
       "Chile                            59.0           436.0   \n",
       "Czech Republic                   60.0           500.0   \n",
       "Denmark                          72.0           498.0   \n",
       "Estonia                          54.0           526.0   \n",
       "Finland                          65.0           529.0   \n",
       "France                           67.0           500.0   \n",
       "Germany                          65.0           515.0   \n",
       "Greece                           74.0           466.0   \n",
       "Hungary                          57.0           487.0   \n",
       "Iceland                          77.0           484.0   \n",
       "Ireland                          82.0           516.0   \n",
       "Israel                           80.0           474.0   \n",
       "Italy                            66.0           490.0   \n",
       "Japan                            30.0           540.0   \n",
       "Korea                            35.0           542.0   \n",
       "Luxembourg                       72.0           490.0   \n",
       "Mexico                           66.0           417.0   \n",
       "Netherlands                      76.0           519.0   \n",
       "New Zealand                      90.0           509.0   \n",
       "Norway                           76.0           496.0   \n",
       "OECD - Total                     68.0           497.0   \n",
       "Poland                           58.0           521.0   \n",
       "Portugal                         46.0           488.0   \n",
       "Russia                           37.0           481.0   \n",
       "Slovak Republic                  66.0           472.0   \n",
       "Slovenia                         65.0           499.0   \n",
       "Spain                            72.0           490.0   \n",
       "Sweden                           81.0           482.0   \n",
       "Switzerland                      81.0           518.0   \n",
       "Turkey                           68.0           462.0   \n",
       "United Kingdom                   74.0           502.0   \n",
       "United States                    88.0           492.0   \n",
       "\n",
       "Indicator        Time devoted to leisure and personal care  Voter turnout  \\\n",
       "Country                                                                     \n",
       "Australia                                            14.41           93.0   \n",
       "Austria                                              14.46           75.0   \n",
       "Belgium                                              15.71           89.0   \n",
       "Brazil                                               14.97           79.0   \n",
       "Canada                                               14.25           61.0   \n",
       "Chile                                                14.41           49.0   \n",
       "Czech Republic                                       14.98           59.0   \n",
       "Denmark                                              16.06           88.0   \n",
       "Estonia                                              14.90           64.0   \n",
       "Finland                                              14.89           69.0   \n",
       "France                                               15.33           80.0   \n",
       "Germany                                              15.31           72.0   \n",
       "Greece                                               14.91           64.0   \n",
       "Hungary                                              15.04           62.0   \n",
       "Iceland                                              14.61           81.0   \n",
       "Ireland                                              15.19           70.0   \n",
       "Israel                                               14.48           68.0   \n",
       "Italy                                                14.98           75.0   \n",
       "Japan                                                14.93           53.0   \n",
       "Korea                                                14.63           76.0   \n",
       "Luxembourg                                           15.12           91.0   \n",
       "Mexico                                               13.89           63.0   \n",
       "Netherlands                                          15.44           75.0   \n",
       "New Zealand                                          14.87           77.0   \n",
       "Norway                                               15.56           78.0   \n",
       "OECD - Total                                         14.97           68.0   \n",
       "Poland                                               14.20           55.0   \n",
       "Portugal                                             14.95           58.0   \n",
       "Russia                                               14.97           65.0   \n",
       "Slovak Republic                                      14.99           59.0   \n",
       "Slovenia                                             14.62           52.0   \n",
       "Spain                                                16.06           69.0   \n",
       "Sweden                                               15.11           86.0   \n",
       "Switzerland                                          14.98           49.0   \n",
       "Turkey                                               13.42           88.0   \n",
       "United Kingdom                                       14.83           66.0   \n",
       "United States                                        14.27           68.0   \n",
       "\n",
       "Indicator        Water quality  Years in education  \n",
       "Country                                             \n",
       "Australia                 91.0                19.4  \n",
       "Austria                   94.0                17.0  \n",
       "Belgium                   87.0                18.9  \n",
       "Brazil                    72.0                16.3  \n",
       "Canada                    91.0                17.2  \n",
       "Chile                     73.0                16.5  \n",
       "Czech Republic            85.0                18.1  \n",
       "Denmark                   94.0                19.4  \n",
       "Estonia                   79.0                17.5  \n",
       "Finland                   94.0                19.7  \n",
       "France                    82.0                16.4  \n",
       "Germany                   95.0                18.2  \n",
       "Greece                    69.0                18.6  \n",
       "Hungary                   77.0                17.6  \n",
       "Iceland                   97.0                19.8  \n",
       "Ireland                   80.0                17.6  \n",
       "Israel                    68.0                15.8  \n",
       "Italy                     71.0                16.8  \n",
       "Japan                     85.0                16.3  \n",
       "Korea                     78.0                17.5  \n",
       "Luxembourg                86.0                15.1  \n",
       "Mexico                    67.0                14.4  \n",
       "Netherlands               92.0                18.7  \n",
       "New Zealand               89.0                18.1  \n",
       "Norway                    94.0                17.9  \n",
       "OECD - Total              81.0                17.7  \n",
       "Poland                    79.0                18.4  \n",
       "Portugal                  86.0                17.6  \n",
       "Russia                    56.0                16.0  \n",
       "Slovak Republic           81.0                16.3  \n",
       "Slovenia                  88.0                18.4  \n",
       "Spain                     71.0                17.6  \n",
       "Sweden                    95.0                19.3  \n",
       "Switzerland               96.0                17.3  \n",
       "Turkey                    62.0                16.4  \n",
       "United Kingdom            88.0                16.4  \n",
       "United States             85.0                17.2  \n",
       "\n",
       "[37 rows x 24 columns]"
      ]
     },
     "execution_count": 19,
     "metadata": {},
     "output_type": "execute_result"
    }
   ],
   "source": [
    "oecd_bli"
   ]
  },
  {
   "cell_type": "markdown",
   "metadata": {},
   "source": [
    "참고로 대한민국의 측정지표별 수치는 다음과 같다(위 이미지 중간의 파란띠로 구분된 영역 참조)."
   ]
  },
  {
   "cell_type": "code",
   "execution_count": 20,
   "metadata": {
    "colab": {
     "base_uri": "https://localhost:8080/",
     "height": 346
    },
    "id": "PjGtsWetfLIh",
    "outputId": "9aa7fecc-1809-4187-9e71-0d2708fafb07"
   },
   "outputs": [
    {
     "data": {
      "text/plain": [
       "Indicator\n",
       "Air pollution                                   30.00\n",
       "Assault rate                                     2.10\n",
       "Consultation on rule-making                     10.40\n",
       "Dwellings without basic facilities               4.20\n",
       "Educational attainment                          82.00\n",
       "Employees working very long hours               18.72\n",
       "Employment rate                                 64.00\n",
       "Homicide rate                                    1.10\n",
       "Household net adjusted disposable income     19510.00\n",
       "Household net financial wealth               29091.00\n",
       "Housing expenditure                             16.00\n",
       "Job security                                     3.20\n",
       "Life expectancy                                 81.30\n",
       "Life satisfaction                                5.80\n",
       "Long-term unemployment rate                      0.01\n",
       "Personal earnings                            36354.00\n",
       "Quality of support network                      72.00\n",
       "Rooms per person                                 1.40\n",
       "Self-reported health                            35.00\n",
       "Student skills                                 542.00\n",
       "Time devoted to leisure and personal care       14.63\n",
       "Voter turnout                                   76.00\n",
       "Water quality                                   78.00\n",
       "Years in education                              17.50\n",
       "Name: Korea, dtype: float64"
      ]
     },
     "execution_count": 20,
     "metadata": {},
     "output_type": "execute_result"
    }
   ],
   "source": [
    "oecd_bli.loc['Korea']"
   ]
  },
  {
   "cell_type": "markdown",
   "metadata": {
    "id": "e3Ll4sW8CkFn"
   },
   "source": [
    "알파벳 순으로 첫 5개 국가의 삶의 만족도는 `\"Life satisfaction\"` 열(column)에서 확인할 수 있다."
   ]
  },
  {
   "cell_type": "code",
   "execution_count": 21,
   "metadata": {
    "colab": {
     "base_uri": "https://localhost:8080/"
    },
    "id": "15T7EozwfLIi",
    "outputId": "1dcc2504-7e6c-4f5a-f9f4-272bb3037274"
   },
   "outputs": [
    {
     "data": {
      "text/plain": [
       "Country\n",
       "Australia    7.3\n",
       "Austria      6.9\n",
       "Belgium      6.9\n",
       "Brazil       7.0\n",
       "Canada       7.3\n",
       "Name: Life satisfaction, dtype: float64"
      ]
     },
     "execution_count": 21,
     "metadata": {},
     "output_type": "execute_result"
    }
   ],
   "source": [
    "oecd_bli[\"Life satisfaction\"].head()"
   ]
  },
  {
   "cell_type": "markdown",
   "metadata": {
    "id": "DPaCKhp3GkNo"
   },
   "source": [
    "#### 데이터 병합"
   ]
  },
  {
   "cell_type": "markdown",
   "metadata": {
    "id": "82AsWgtEGd_v"
   },
   "source": [
    "앞서 살펴본 대로 1인당 GDP 데이터는 OECD 회원국 이상의 국가 데이터가 포함되어 있다.\n",
    "OECD 회원국으로 제한해서 1인당 GDP와 삶의 만족도 사이의 관계를 파악하기 위해\n",
    "여기서는 앞서 구한 두 개의 데이터프레임을 하나로 병합하는 방식을 이용한다. \n",
    "더 나은 삶의 지수에서는 삶의 만족도를, GDP 데이터에서는 1인당 GDP 열만 이용하며 \n",
    "국가명을 기준으로 하면 자연스럽게 OECD 회원국에 해당하는 행만 추출된다."
   ]
  },
  {
   "cell_type": "markdown",
   "metadata": {
    "id": "RxlDkn-Ge_1m"
   },
   "source": [
    "__참고:__ OECD 회원국들만 대상으로 하기 위해 \n",
    "`left_index=True`와 `right_index=True`로 설정한다."
   ]
  },
  {
   "cell_type": "code",
   "execution_count": 22,
   "metadata": {
    "id": "vzx39qQifLIi"
   },
   "outputs": [],
   "source": [
    "oecd_country_stats = pd.merge(left=gdp_per_capita['GDP per capita'],\n",
    "                              right=oecd_bli['Life satisfaction'], \n",
    "                              left_index=True, right_index=True)"
   ]
  },
  {
   "cell_type": "markdown",
   "metadata": {},
   "source": [
    "### 4단계: 모델 선택과 훈련"
   ]
  },
  {
   "cell_type": "markdown",
   "metadata": {
    "id": "82AsWgtEGd_v"
   },
   "source": [
    "1인당 GDP와 삶의 만족도 사이의 선형 관계를 확인하기 위해 국가를 \n",
    "1인당 GDP 기준 오름차순으로 정렬시킨다."
   ]
  },
  {
   "cell_type": "code",
   "execution_count": 23,
   "metadata": {
    "id": "vzx39qQifLIi"
   },
   "outputs": [
    {
     "data": {
      "text/html": [
       "<div>\n",
       "<style scoped>\n",
       "    .dataframe tbody tr th:only-of-type {\n",
       "        vertical-align: middle;\n",
       "    }\n",
       "\n",
       "    .dataframe tbody tr th {\n",
       "        vertical-align: top;\n",
       "    }\n",
       "\n",
       "    .dataframe thead th {\n",
       "        text-align: right;\n",
       "    }\n",
       "</style>\n",
       "<table border=\"1\" class=\"dataframe\">\n",
       "  <thead>\n",
       "    <tr style=\"text-align: right;\">\n",
       "      <th></th>\n",
       "      <th>GDP per capita</th>\n",
       "      <th>Life satisfaction</th>\n",
       "    </tr>\n",
       "    <tr>\n",
       "      <th>Country</th>\n",
       "      <th></th>\n",
       "      <th></th>\n",
       "    </tr>\n",
       "  </thead>\n",
       "  <tbody>\n",
       "    <tr>\n",
       "      <th>Brazil</th>\n",
       "      <td>8669.998</td>\n",
       "      <td>7.0</td>\n",
       "    </tr>\n",
       "    <tr>\n",
       "      <th>Mexico</th>\n",
       "      <td>9009.280</td>\n",
       "      <td>6.7</td>\n",
       "    </tr>\n",
       "    <tr>\n",
       "      <th>Russia</th>\n",
       "      <td>9054.914</td>\n",
       "      <td>6.0</td>\n",
       "    </tr>\n",
       "    <tr>\n",
       "      <th>Turkey</th>\n",
       "      <td>9437.372</td>\n",
       "      <td>5.6</td>\n",
       "    </tr>\n",
       "    <tr>\n",
       "      <th>Hungary</th>\n",
       "      <td>12239.894</td>\n",
       "      <td>4.9</td>\n",
       "    </tr>\n",
       "    <tr>\n",
       "      <th>Poland</th>\n",
       "      <td>12495.334</td>\n",
       "      <td>5.8</td>\n",
       "    </tr>\n",
       "    <tr>\n",
       "      <th>Chile</th>\n",
       "      <td>13340.905</td>\n",
       "      <td>6.7</td>\n",
       "    </tr>\n",
       "    <tr>\n",
       "      <th>Slovak Republic</th>\n",
       "      <td>15991.736</td>\n",
       "      <td>6.1</td>\n",
       "    </tr>\n",
       "    <tr>\n",
       "      <th>Czech Republic</th>\n",
       "      <td>17256.918</td>\n",
       "      <td>6.5</td>\n",
       "    </tr>\n",
       "    <tr>\n",
       "      <th>Estonia</th>\n",
       "      <td>17288.083</td>\n",
       "      <td>5.6</td>\n",
       "    </tr>\n",
       "    <tr>\n",
       "      <th>Greece</th>\n",
       "      <td>18064.288</td>\n",
       "      <td>4.8</td>\n",
       "    </tr>\n",
       "    <tr>\n",
       "      <th>Portugal</th>\n",
       "      <td>19121.592</td>\n",
       "      <td>5.1</td>\n",
       "    </tr>\n",
       "    <tr>\n",
       "      <th>Slovenia</th>\n",
       "      <td>20732.482</td>\n",
       "      <td>5.7</td>\n",
       "    </tr>\n",
       "    <tr>\n",
       "      <th>Spain</th>\n",
       "      <td>25864.721</td>\n",
       "      <td>6.5</td>\n",
       "    </tr>\n",
       "    <tr>\n",
       "      <th>Korea</th>\n",
       "      <td>27195.197</td>\n",
       "      <td>5.8</td>\n",
       "    </tr>\n",
       "    <tr>\n",
       "      <th>Italy</th>\n",
       "      <td>29866.581</td>\n",
       "      <td>6.0</td>\n",
       "    </tr>\n",
       "    <tr>\n",
       "      <th>Japan</th>\n",
       "      <td>32485.545</td>\n",
       "      <td>5.9</td>\n",
       "    </tr>\n",
       "    <tr>\n",
       "      <th>Israel</th>\n",
       "      <td>35343.336</td>\n",
       "      <td>7.4</td>\n",
       "    </tr>\n",
       "    <tr>\n",
       "      <th>New Zealand</th>\n",
       "      <td>37044.891</td>\n",
       "      <td>7.3</td>\n",
       "    </tr>\n",
       "    <tr>\n",
       "      <th>France</th>\n",
       "      <td>37675.006</td>\n",
       "      <td>6.5</td>\n",
       "    </tr>\n",
       "    <tr>\n",
       "      <th>Belgium</th>\n",
       "      <td>40106.632</td>\n",
       "      <td>6.9</td>\n",
       "    </tr>\n",
       "    <tr>\n",
       "      <th>Germany</th>\n",
       "      <td>40996.511</td>\n",
       "      <td>7.0</td>\n",
       "    </tr>\n",
       "    <tr>\n",
       "      <th>Finland</th>\n",
       "      <td>41973.988</td>\n",
       "      <td>7.4</td>\n",
       "    </tr>\n",
       "    <tr>\n",
       "      <th>Canada</th>\n",
       "      <td>43331.961</td>\n",
       "      <td>7.3</td>\n",
       "    </tr>\n",
       "    <tr>\n",
       "      <th>Netherlands</th>\n",
       "      <td>43603.115</td>\n",
       "      <td>7.3</td>\n",
       "    </tr>\n",
       "    <tr>\n",
       "      <th>Austria</th>\n",
       "      <td>43724.031</td>\n",
       "      <td>6.9</td>\n",
       "    </tr>\n",
       "    <tr>\n",
       "      <th>United Kingdom</th>\n",
       "      <td>43770.688</td>\n",
       "      <td>6.8</td>\n",
       "    </tr>\n",
       "    <tr>\n",
       "      <th>Sweden</th>\n",
       "      <td>49866.266</td>\n",
       "      <td>7.2</td>\n",
       "    </tr>\n",
       "    <tr>\n",
       "      <th>Iceland</th>\n",
       "      <td>50854.583</td>\n",
       "      <td>7.5</td>\n",
       "    </tr>\n",
       "    <tr>\n",
       "      <th>Australia</th>\n",
       "      <td>50961.865</td>\n",
       "      <td>7.3</td>\n",
       "    </tr>\n",
       "    <tr>\n",
       "      <th>Ireland</th>\n",
       "      <td>51350.744</td>\n",
       "      <td>7.0</td>\n",
       "    </tr>\n",
       "    <tr>\n",
       "      <th>Denmark</th>\n",
       "      <td>52114.165</td>\n",
       "      <td>7.5</td>\n",
       "    </tr>\n",
       "    <tr>\n",
       "      <th>United States</th>\n",
       "      <td>55805.204</td>\n",
       "      <td>7.2</td>\n",
       "    </tr>\n",
       "    <tr>\n",
       "      <th>Norway</th>\n",
       "      <td>74822.106</td>\n",
       "      <td>7.4</td>\n",
       "    </tr>\n",
       "    <tr>\n",
       "      <th>Switzerland</th>\n",
       "      <td>80675.308</td>\n",
       "      <td>7.5</td>\n",
       "    </tr>\n",
       "    <tr>\n",
       "      <th>Luxembourg</th>\n",
       "      <td>101994.093</td>\n",
       "      <td>6.9</td>\n",
       "    </tr>\n",
       "  </tbody>\n",
       "</table>\n",
       "</div>"
      ],
      "text/plain": [
       "                 GDP per capita  Life satisfaction\n",
       "Country                                           \n",
       "Brazil                 8669.998                7.0\n",
       "Mexico                 9009.280                6.7\n",
       "Russia                 9054.914                6.0\n",
       "Turkey                 9437.372                5.6\n",
       "Hungary               12239.894                4.9\n",
       "Poland                12495.334                5.8\n",
       "Chile                 13340.905                6.7\n",
       "Slovak Republic       15991.736                6.1\n",
       "Czech Republic        17256.918                6.5\n",
       "Estonia               17288.083                5.6\n",
       "Greece                18064.288                4.8\n",
       "Portugal              19121.592                5.1\n",
       "Slovenia              20732.482                5.7\n",
       "Spain                 25864.721                6.5\n",
       "Korea                 27195.197                5.8\n",
       "Italy                 29866.581                6.0\n",
       "Japan                 32485.545                5.9\n",
       "Israel                35343.336                7.4\n",
       "New Zealand           37044.891                7.3\n",
       "France                37675.006                6.5\n",
       "Belgium               40106.632                6.9\n",
       "Germany               40996.511                7.0\n",
       "Finland               41973.988                7.4\n",
       "Canada                43331.961                7.3\n",
       "Netherlands           43603.115                7.3\n",
       "Austria               43724.031                6.9\n",
       "United Kingdom        43770.688                6.8\n",
       "Sweden                49866.266                7.2\n",
       "Iceland               50854.583                7.5\n",
       "Australia             50961.865                7.3\n",
       "Ireland               51350.744                7.0\n",
       "Denmark               52114.165                7.5\n",
       "United States         55805.204                7.2\n",
       "Norway                74822.106                7.4\n",
       "Switzerland           80675.308                7.5\n",
       "Luxembourg           101994.093                6.9"
      ]
     },
     "execution_count": 23,
     "metadata": {},
     "output_type": "execute_result"
    }
   ],
   "source": [
    "oecd_country_stats.sort_values(by=\"GDP per capita\", inplace=True)\n",
    "\n",
    "oecd_country_stats"
   ]
  },
  {
   "cell_type": "markdown",
   "metadata": {
    "id": "bBKF8FbcK75g"
   },
   "source": [
    "아래 코드는 이어서 다룰 선형회귀 모델의 적합도를 설명하기 위해 \n",
    "고의로 7개 국가의 데이터를 데이터셋에서 제외시킨다. "
   ]
  },
  {
   "cell_type": "markdown",
   "metadata": {
    "id": "ZN4J5Ew8fLIj"
   },
   "source": [
    "* 삭제할 7개 국가의 행 인덱스들의 리스트와 나머지 인덱스들의 리스트"
   ]
  },
  {
   "cell_type": "code",
   "execution_count": 24,
   "metadata": {
    "id": "ZN4J5Ew8fLIj"
   },
   "outputs": [],
   "source": [
    "remove_indices = [0, 1, 6, 8, 33, 34, 35]\n",
    "\n",
    "keep_indices = list(set(range(36)) - set(remove_indices))"
   ]
  },
  {
   "cell_type": "markdown",
   "metadata": {
    "id": "ZN4J5Ew8fLIj"
   },
   "source": [
    "제외된 7개 국가의 1인당 GDP와 삶의 만족도 데이터는 다음과 같다."
   ]
  },
  {
   "cell_type": "code",
   "execution_count": 25,
   "metadata": {
    "id": "ZN4J5Ew8fLIj"
   },
   "outputs": [
    {
     "data": {
      "text/html": [
       "<div>\n",
       "<style scoped>\n",
       "    .dataframe tbody tr th:only-of-type {\n",
       "        vertical-align: middle;\n",
       "    }\n",
       "\n",
       "    .dataframe tbody tr th {\n",
       "        vertical-align: top;\n",
       "    }\n",
       "\n",
       "    .dataframe thead th {\n",
       "        text-align: right;\n",
       "    }\n",
       "</style>\n",
       "<table border=\"1\" class=\"dataframe\">\n",
       "  <thead>\n",
       "    <tr style=\"text-align: right;\">\n",
       "      <th></th>\n",
       "      <th>GDP per capita</th>\n",
       "      <th>Life satisfaction</th>\n",
       "    </tr>\n",
       "    <tr>\n",
       "      <th>Country</th>\n",
       "      <th></th>\n",
       "      <th></th>\n",
       "    </tr>\n",
       "  </thead>\n",
       "  <tbody>\n",
       "    <tr>\n",
       "      <th>Brazil</th>\n",
       "      <td>8669.998</td>\n",
       "      <td>7.0</td>\n",
       "    </tr>\n",
       "    <tr>\n",
       "      <th>Mexico</th>\n",
       "      <td>9009.280</td>\n",
       "      <td>6.7</td>\n",
       "    </tr>\n",
       "    <tr>\n",
       "      <th>Chile</th>\n",
       "      <td>13340.905</td>\n",
       "      <td>6.7</td>\n",
       "    </tr>\n",
       "    <tr>\n",
       "      <th>Czech Republic</th>\n",
       "      <td>17256.918</td>\n",
       "      <td>6.5</td>\n",
       "    </tr>\n",
       "    <tr>\n",
       "      <th>Norway</th>\n",
       "      <td>74822.106</td>\n",
       "      <td>7.4</td>\n",
       "    </tr>\n",
       "    <tr>\n",
       "      <th>Switzerland</th>\n",
       "      <td>80675.308</td>\n",
       "      <td>7.5</td>\n",
       "    </tr>\n",
       "    <tr>\n",
       "      <th>Luxembourg</th>\n",
       "      <td>101994.093</td>\n",
       "      <td>6.9</td>\n",
       "    </tr>\n",
       "  </tbody>\n",
       "</table>\n",
       "</div>"
      ],
      "text/plain": [
       "                GDP per capita  Life satisfaction\n",
       "Country                                          \n",
       "Brazil                8669.998                7.0\n",
       "Mexico                9009.280                6.7\n",
       "Chile                13340.905                6.7\n",
       "Czech Republic       17256.918                6.5\n",
       "Norway               74822.106                7.4\n",
       "Switzerland          80675.308                7.5\n",
       "Luxembourg          101994.093                6.9"
      ]
     },
     "execution_count": 25,
     "metadata": {},
     "output_type": "execute_result"
    }
   ],
   "source": [
    "missing_data = oecd_country_stats.iloc[remove_indices]\n",
    "\n",
    "missing_data"
   ]
  },
  {
   "cell_type": "markdown",
   "metadata": {
    "id": "ZN4J5Ew8fLIj"
   },
   "source": [
    "* 7개 국가를 제외한 국가들의 1인당 GDP와 삶의 만족도 데이터"
   ]
  },
  {
   "cell_type": "code",
   "execution_count": 26,
   "metadata": {
    "id": "ZN4J5Ew8fLIj"
   },
   "outputs": [],
   "source": [
    "sample_data = oecd_country_stats.iloc[keep_indices] "
   ]
  },
  {
   "cell_type": "markdown",
   "metadata": {
    "id": "jtxTmNgjM0jH"
   },
   "source": [
    "#### 선형 관계 확인"
   ]
  },
  {
   "cell_type": "markdown",
   "metadata": {
    "id": "opoNhrYMLBRp"
   },
   "source": [
    "아래 코드는 앞서 언급된 7개 국가의 데이터를 제외한 국가들의 1인당 GDP와 \n",
    "삶의 만족도 사이의 관계를 산점도로 나타낸다.\n",
    "선형관계를 잘 보여주는 5개 국가는 빨간색 점으로 표시한다.\n",
    "\n",
    "* 헝가리(Hungary)\n",
    "* 대한민국(Korea)\n",
    "* 프랑스(France)\n",
    "* 호주(Australia)\n",
    "* 미국(United States)"
   ]
  },
  {
   "cell_type": "code",
   "execution_count": 27,
   "metadata": {
    "colab": {
     "base_uri": "https://localhost:8080/",
     "height": 242
    },
    "id": "786ll6jafLIj",
    "outputId": "d0039ce1-80ad-4b3c-85cb-5641dff32f69"
   },
   "outputs": [
    {
     "data": {
      "image/png": "[encoded data removed]",
      "text/plain": [
       "<Figure size 360x216 with 1 Axes>"
      ]
     },
     "metadata": {
      "needs_background": "light"
     },
     "output_type": "display_data"
    }
   ],
   "source": [
    "# 7개 국가를 제외한 국가들의 데이터 산점도\n",
    "sample_data.plot(kind='scatter', x=\"GDP per capita\", y='Life satisfaction', figsize=(5,3))\n",
    "plt.axis([0, 60000, 0, 10])\n",
    "\n",
    "# 언급된 5개 국가명 명기 좌표\n",
    "position_text = {\n",
    "    \"Hungary\": (5000, 1),\n",
    "    \"Korea\": (18000, 1.7),\n",
    "    \"France\": (29000, 2.4),\n",
    "    \"Australia\": (40000, 3.0),\n",
    "    \"United States\": (52000, 3.8),\n",
    "}\n",
    "\n",
    "# 5개 국가는 좌표를 이용하여 빨강색 점으로 표기\n",
    "for country, pos_text in position_text.items():\n",
    "    pos_data_x, pos_data_y = sample_data.loc[country]\n",
    "    \n",
    "    # 5개 국가명 표기\n",
    "    country = \"U.S.\" if country == \"United States\" else country\n",
    "    plt.annotate(country, xy=(pos_data_x, pos_data_y), xytext=pos_text,\n",
    "            arrowprops=dict(facecolor='black', width=0.5, shrink=0.1, headwidth=5))\n",
    "    \n",
    "    # 5개 국가 산점도 그리기\n",
    "    plt.plot(pos_data_x, pos_data_y, \"ro\")\n",
    "\n",
    "plt.xlabel(\"GDP per capita (USD)\")\n",
    "\n",
    "plt.show()"
   ]
  },
  {
   "cell_type": "markdown",
   "metadata": {
    "id": "0Y7UCwmlL-6W"
   },
   "source": [
    "언급된 5개 국가의 1인당 GDP와 삶의 만족도를 데이터에서 직접 확인하면 다음과 같다."
   ]
  },
  {
   "cell_type": "code",
   "execution_count": 28,
   "metadata": {
    "colab": {
     "base_uri": "https://localhost:8080/",
     "height": 225
    },
    "id": "jxhc5gBE9_WT",
    "outputId": "ac7d365b-d05f-46ed-c99a-e90f9e01d5de"
   },
   "outputs": [
    {
     "data": {
      "text/html": [
       "<div>\n",
       "<style scoped>\n",
       "    .dataframe tbody tr th:only-of-type {\n",
       "        vertical-align: middle;\n",
       "    }\n",
       "\n",
       "    .dataframe tbody tr th {\n",
       "        vertical-align: top;\n",
       "    }\n",
       "\n",
       "    .dataframe thead th {\n",
       "        text-align: right;\n",
       "    }\n",
       "</style>\n",
       "<table border=\"1\" class=\"dataframe\">\n",
       "  <thead>\n",
       "    <tr style=\"text-align: right;\">\n",
       "      <th></th>\n",
       "      <th>GDP per capita</th>\n",
       "      <th>Life satisfaction</th>\n",
       "    </tr>\n",
       "    <tr>\n",
       "      <th>Country</th>\n",
       "      <th></th>\n",
       "      <th></th>\n",
       "    </tr>\n",
       "  </thead>\n",
       "  <tbody>\n",
       "    <tr>\n",
       "      <th>Hungary</th>\n",
       "      <td>12239.894</td>\n",
       "      <td>4.9</td>\n",
       "    </tr>\n",
       "    <tr>\n",
       "      <th>Korea</th>\n",
       "      <td>27195.197</td>\n",
       "      <td>5.8</td>\n",
       "    </tr>\n",
       "    <tr>\n",
       "      <th>France</th>\n",
       "      <td>37675.006</td>\n",
       "      <td>6.5</td>\n",
       "    </tr>\n",
       "    <tr>\n",
       "      <th>Australia</th>\n",
       "      <td>50961.865</td>\n",
       "      <td>7.3</td>\n",
       "    </tr>\n",
       "    <tr>\n",
       "      <th>United States</th>\n",
       "      <td>55805.204</td>\n",
       "      <td>7.2</td>\n",
       "    </tr>\n",
       "  </tbody>\n",
       "</table>\n",
       "</div>"
      ],
      "text/plain": [
       "               GDP per capita  Life satisfaction\n",
       "Country                                         \n",
       "Hungary             12239.894                4.9\n",
       "Korea               27195.197                5.8\n",
       "France              37675.006                6.5\n",
       "Australia           50961.865                7.3\n",
       "United States       55805.204                7.2"
      ]
     },
     "execution_count": 28,
     "metadata": {},
     "output_type": "execute_result"
    }
   ],
   "source": [
    "sample_data.loc[list(position_text.keys())]"
   ]
  },
  {
   "cell_type": "markdown",
   "metadata": {
    "id": "NVga35bvM9Te"
   },
   "source": [
    "위 산점도에 따르면 1인당 GDP와 삶의 만족도가 어느 정도 선형 관계에 있는 것처럼 보인다.\n",
    "그런데 어떤 선형관계가 가장 적절한가를 판단해야 한다.\n",
    "예를 들어, 아래 도표에서 그려진 세 개의 직선 중에서는 파랑색 실선이 선형 관계를 가장 적절하게 나타낸다."
   ]
  },
  {
   "cell_type": "code",
   "execution_count": 29,
   "metadata": {
    "colab": {
     "base_uri": "https://localhost:8080/",
     "height": 242
    },
    "id": "gVt72CJcfLIk",
    "outputId": "3a0d0cc7-2e52-4db3-8c52-dfd861d880bc"
   },
   "outputs": [
    {
     "data": {
      "image/png": "[encoded data removed]",
      "text/plain": [
       "<Figure size 360x216 with 1 Axes>"
      ]
     },
     "metadata": {
      "needs_background": "light"
     },
     "output_type": "display_data"
    }
   ],
   "source": [
    "import numpy as np\n",
    "\n",
    "sample_data.plot(kind='scatter', x=\"GDP per capita\", y='Life satisfaction', figsize=(5,3))\n",
    "plt.xlabel(\"GDP per capita (USD)\")\n",
    "plt.axis([0, 60000, 0, 10])\n",
    "\n",
    "# 직서 그리기\n",
    "X=np.linspace(0, 60000, 1000)\n",
    "\n",
    "# 빨강 직선\n",
    "plt.plot(X, 2*X/100000, \"r\")\n",
    "plt.text(40000, 2.7, r\"$\\theta_0 = 0$\", fontsize=14, color=\"r\")\n",
    "plt.text(40000, 1.8, r\"$\\theta_1 = 2 \\times 10^{-5}$\", fontsize=14, color=\"r\")\n",
    "\n",
    "# 초록 직선\n",
    "plt.plot(X, 8 - 5*X/100000, \"g\")\n",
    "plt.text(5000, 9.1, r\"$\\theta_0 = 8$\", fontsize=14, color=\"g\")\n",
    "plt.text(5000, 8.2, r\"$\\theta_1 = -5 \\times 10^{-5}$\", fontsize=14, color=\"g\")\n",
    "\n",
    "# 파랑 직선\n",
    "plt.plot(X, 4 + 5*X/100000, \"b\")\n",
    "plt.text(5000, 3.5, r\"$\\theta_0 = 4$\", fontsize=14, color=\"b\")\n",
    "plt.text(5000, 2.6, r\"$\\theta_1 = 5 \\times 10^{-5}$\", fontsize=14, color=\"b\")\n",
    "\n",
    "plt.show()"
   ]
  },
  {
   "cell_type": "markdown",
   "metadata": {
    "id": "jtxTmNgjM0jH"
   },
   "source": [
    "#### 선형회귀 모델"
   ]
  },
  {
   "cell_type": "markdown",
   "metadata": {
    "id": "uxkg3Jfl_iQR"
   },
   "source": [
    "위 그림에서처럼 y축의 값이 x축의 값에 선형적으로 의존하는 관계를 __선형관계__라 하며,\n",
    "그런 선형관계를 함수로 구현하는 모델을 __선형회귀 모델__(linear regression model)이라 하며,\n",
    "여기서는 선형회귀 모델이 1인당 GDP 하나를 인자로 사용하는 1차 함수 형식으로 구현된다.\n",
    "그리고 1차 함수 모델은 직선의 절편(y축과 만나는 점)과 기울기 두 개의 값을 알면 바로 구현할 수 있다.\n",
    "절편과 기울기처럼 모델 구현에 사용되는 값들을 __모델 파라미터__(model parameters)라 하며,\n",
    "바로 이런 값들을 찾아내는 것이 머신러닝 모델훈련의 주요 과제이다. \n",
    "\n",
    "정리하면 다음과 같다. '1인당 GDP'와 '삶의 만족도' 사이의 선형관계를 최대한 잘 \n",
    "반영하는 선형회귀 모델은 아래 식을 만족시키는 적절한 절편 $\\theta_0$과 기울기 $\\theta_1$에 의해 결정된다.\n",
    "\n",
    "$$\n",
    "\\text{'삶의만족도'} = \\theta_0 + \\theta_1 \\cdot \\text{'1인당GDP'}\n",
    "$$"
   ]
  },
  {
   "cell_type": "markdown",
   "metadata": {},
   "source": [
    "#### 사이킷런 라이브러리 활용 선형회귀 모델 훈련"
   ]
  },
  {
   "cell_type": "markdown",
   "metadata": {},
   "source": [
    "사이킷런(scikit-learn) 라이브러리는 머신러닝에서 사용되는 다양한 모델의 기본적인 틀(basic models)들을 제공한다.\n",
    "선형회귀의 경우 `LinearRegression` 클래스의 객체를 생성하여 훈련시키면 \n",
    "최적의 절편과 기울기를 계산해준다. \n",
    "모델을 지정하고 훈련시키는 과정은 다음과 같다."
   ]
  },
  {
   "cell_type": "markdown",
   "metadata": {},
   "source": [
    "* 과정 1: 모델 지정. \n",
    "    사이킷런(sklearn) 패키지의 `linear_model` 모듈에 포함된 `LinearRegression` 클래스의 객체를 선언한다.\n",
    "    선언된 모델은 아직 어떤 훈련도 하지 않은 상태이다. "
   ]
  },
  {
   "cell_type": "code",
   "execution_count": 30,
   "metadata": {
    "colab": {
     "base_uri": "https://localhost:8080/"
    },
    "id": "6qm6yOoSfLIk",
    "outputId": "7f8ea2b4-d66f-4ee0-8789-ba6faf8e89a5"
   },
   "outputs": [],
   "source": [
    "from sklearn import linear_model\n",
    "\n",
    "lin1 = linear_model.LinearRegression()"
   ]
  },
  {
   "cell_type": "markdown",
   "metadata": {},
   "source": [
    "* 과정 2: 훈련 세트 지정. 입력 데이터와 타깃 데이터를 2차원 어레이로 지정한다. \n",
    "    이유는 선형회귀 모델이 2차원 어레이 형식의 입력 데이터를 요구하기 때문이다.\n",
    "    * 입력 데이터: x축에 해당하는 값이며 여기서는 1인당 GDP 사용.\n",
    "    * 타깃 데이터: y축에 해당하는 값이며 여기서는 삶의 만족도 사용."
   ]
  },
  {
   "cell_type": "code",
   "execution_count": 31,
   "metadata": {
    "colab": {
     "base_uri": "https://localhost:8080/"
    },
    "id": "6qm6yOoSfLIk",
    "outputId": "7f8ea2b4-d66f-4ee0-8789-ba6faf8e89a5"
   },
   "outputs": [],
   "source": [
    "Xsample = np.c_[sample_data[\"GDP per capita\"]]\n",
    "ysample = np.c_[sample_data[\"Life satisfaction\"]]"
   ]
  },
  {
   "cell_type": "markdown",
   "metadata": {},
   "source": [
    "입력 데이터 훈련 세트에 포함된 모든 데이터 샘플을 항목으로 갖는다.\n",
    "여기서는 각 샘플 데이터가 1인당 GDP에 해당하는 한 개의 값으로 이루어져 있기에 길이가 일인 1차원 어레이로 표현된다.\n",
    "일반적으로는 하나의 훈련 샘플 데이터는 다양한 특성을 가진, 즉, 길이가 1보다 큰 1차원 어레이로 표현된다.\n",
    "따라서 모든 입력 데이터를 아래와 같은 $m$x$n$ 모양의 2차원 어레이로 표현할 수 있다. \n",
    "\n",
    "- $m$: 훈련 세트 크기, 즉 훈련 데이터 샘플의 개수. 여기서는 30개 OECD 국가 데이터를 사용하므로 $m = 30$.\n",
    "- $n$: 훈련 데이터 샘플의 특성 수. 여기서는 국가별 특성으로 1인당 GDP만 사용하므로 $n=1$. \n",
    "- $\\mathbf{x}_{j}^{(i)}$: $i$ 번째 훈련 입력 데이터 샘플의 $j$번째 특성값.\n",
    "\n",
    "$$\n",
    "\\mathbf{X}_{\\textit{train}} = \n",
    "\\begin{bmatrix}\n",
    "\\mathbf{x}_{1}^{(1)} & \\mathbf{x}_{2}^{(1)} & \\cdots & \\mathbf{x}_{n}^{(1)}\\\\\n",
    "\\mathbf{x}_{1}^{(2)} & \\mathbf{x}_{2}^{(2)} & \\cdots & \\mathbf{x}_{n}^{(2)}\\\\\n",
    " & \\vdots & \\\\\n",
    "\\mathbf{x}_{1}^{(m)} & \\mathbf{x}_{2}^{(m)} & \\cdots & \\mathbf{x}_{n}^{(m)}\n",
    "\\end{bmatrix}\n",
    "$$\n",
    "\n",
    "처음 5개의 입력 데이터는 다음과 같다."
   ]
  },
  {
   "cell_type": "code",
   "execution_count": 32,
   "metadata": {},
   "outputs": [
    {
     "data": {
      "text/plain": [
       "array([[ 9054.914],\n",
       "       [ 9437.372],\n",
       "       [12239.894],\n",
       "       [12495.334],\n",
       "       [15991.736]])"
      ]
     },
     "execution_count": 32,
     "metadata": {},
     "output_type": "execute_result"
    }
   ],
   "source": [
    "Xsample[:5]"
   ]
  },
  {
   "cell_type": "markdown",
   "metadata": {},
   "source": [
    "타깃값 또한 여러 개의 값으로 이루어져 있는 경우가 있기 때문에 각 훈련 데이터 샘플에 대한 타깃도 1차원 어레이로 표현된다.\n",
    "따라서 타깃 데이터 세트 역시 2차원 어레이로 다뤄진다.\n",
    "\n",
    "처음 5개의 입력 데이터 샘플에 대한 타깃은 다음과 같다."
   ]
  },
  {
   "cell_type": "code",
   "execution_count": 33,
   "metadata": {},
   "outputs": [
    {
     "data": {
      "text/plain": [
       "array([[6. ],\n",
       "       [5.6],\n",
       "       [4.9],\n",
       "       [5.8],\n",
       "       [6.1]])"
      ]
     },
     "execution_count": 33,
     "metadata": {},
     "output_type": "execute_result"
    }
   ],
   "source": [
    "ysample[:5]"
   ]
  },
  {
   "cell_type": "markdown",
   "metadata": {},
   "source": [
    "* 과정 3: 모델 훈련. 최적의 $\\theta_0$와 $\\theta_1$를 찾아가는 과정.\n",
    "    `LinearRegression` 모델의 경우 `fit()` 메서드를 지정된 훈련 세트와 함께 호출하면 됨.\n",
    "    `fit()` 메서의 반환값은 훈련된 `LinearRegression` 객체다.    "
   ]
  },
  {
   "cell_type": "code",
   "execution_count": 34,
   "metadata": {
    "colab": {
     "base_uri": "https://localhost:8080/"
    },
    "id": "6qm6yOoSfLIk",
    "outputId": "7f8ea2b4-d66f-4ee0-8789-ba6faf8e89a5"
   },
   "outputs": [
    {
     "data": {
      "text/plain": [
       "LinearRegression()"
      ]
     },
     "execution_count": 34,
     "metadata": {},
     "output_type": "execute_result"
    }
   ],
   "source": [
    "lin1.fit(Xsample, ysample)"
   ]
  },
  {
   "cell_type": "markdown",
   "metadata": {
    "id": "uxkg3Jfl_iQR"
   },
   "source": [
    "훈련된 모델이 알아낸 최적 선형 모델의 절편과 기울기는 아래 두 속성에 저장된다.\n",
    "\n",
    "* `intercept_[0]`: 직선의 절편\n",
    "* `coef_[0]`: 직선의 기울기"
   ]
  },
  {
   "cell_type": "code",
   "execution_count": 35,
   "metadata": {
    "colab": {
     "base_uri": "https://localhost:8080/"
    },
    "id": "6qm6yOoSfLIk",
    "outputId": "7f8ea2b4-d66f-4ee0-8789-ba6faf8e89a5"
   },
   "outputs": [
    {
     "name": "stdout",
     "output_type": "stream",
     "text": [
      "절편:\t 4.853052800266436t1\n",
      "기울기:\t 4.911544589158483e-05t1\n"
     ]
    }
   ],
   "source": [
    "t0, t1 = lin1.intercept_[0], lin1.coef_[0][0]\n",
    "\n",
    "print(f\"절편:\\t {t0}t1\")\n",
    "print(f\"기울기:\\t {t1}t1\")"
   ]
  },
  {
   "cell_type": "markdown",
   "metadata": {
    "id": "ib2Rs7KsAn9j"
   },
   "source": [
    "구해진 기울기와 절편을 이용하여 산점도와 함께 직선을 그리면 다음과 같다."
   ]
  },
  {
   "cell_type": "code",
   "execution_count": 36,
   "metadata": {
    "colab": {
     "base_uri": "https://localhost:8080/",
     "height": 242
    },
    "id": "GM3jaIv1fLIl",
    "outputId": "6e0bba5b-98b7-4730-fae1-5f28af4cfd74"
   },
   "outputs": [
    {
     "data": {
      "image/png": "[encoded data removed]",
      "text/plain": [
       "<Figure size 360x216 with 1 Axes>"
      ]
     },
     "metadata": {
      "needs_background": "light"
     },
     "output_type": "display_data"
    }
   ],
   "source": [
    "# 산점도\n",
    "sample_data.plot(kind='scatter', x=\"GDP per capita\", y='Life satisfaction', figsize=(5,3))\n",
    "plt.xlabel(\"GDP per capita (USD)\")\n",
    "plt.axis([0, 60000, 0, 10])\n",
    "\n",
    "# 직선 그리기\n",
    "X=np.linspace(0, 60000, 1000)\n",
    "plt.plot(X, t0 + t1*X, \"b\")\n",
    "# 직선의 절편과 기울기 정보 명시\n",
    "plt.text(5000, 3.1, r\"$\\theta_0 = 4.85$\", fontsize=14, color=\"b\")\n",
    "plt.text(5000, 2.2, r\"$\\theta_1 = 4.91 \\times 10^{-5}$\", fontsize=14, color=\"b\")\n",
    "\n",
    "plt.show()"
   ]
  },
  {
   "cell_type": "markdown",
   "metadata": {
    "id": "ot5QhLe0BR5w"
   },
   "source": [
    "### 5단계: 학습된 모델 활용"
   ]
  },
  {
   "cell_type": "markdown",
   "metadata": {
    "id": "fnq-t9qZBZd-"
   },
   "source": [
    "훈련된 모델을 이용하여 한 국가의 삶의 만족도를 1인당 GDP를 이용하여 예측한다. \n",
    "예를 들어, OECD 비회원국인 키프러스(Cyprus)의 1인당 GDP가 다음과 같이 알려져 있을 때 \n",
    "키프러스 국민의 삶의 만족도를 예측한다.\n",
    "\n",
    "* 키프러스 1인당 GDP: 22587"
   ]
  },
  {
   "cell_type": "code",
   "execution_count": 37,
   "metadata": {
    "colab": {
     "base_uri": "https://localhost:8080/"
    },
    "id": "nhnfS8jQfLIl",
    "outputId": "bcce44db-0c38-42f3-ea2e-ac3770e2fe82"
   },
   "outputs": [
    {
     "data": {
      "text/plain": [
       "22587.49"
      ]
     },
     "execution_count": 37,
     "metadata": {},
     "output_type": "execute_result"
    }
   ],
   "source": [
    "cyprus_gdp_per_capita = gdp_per_capita.loc[\"Cyprus\"][\"GDP per capita\"]\n",
    "\n",
    "cyprus_gdp_per_capita"
   ]
  },
  {
   "cell_type": "markdown",
   "metadata": {
    "id": "11KnQQmKCbQq"
   },
   "source": [
    "훈련된 모델의 `predict()` 메서드를 이용하면 키프러스 국민의 삶의 만족도는 5.96 정도로 예측된다."
   ]
  },
  {
   "cell_type": "code",
   "execution_count": 38,
   "metadata": {
    "colab": {
     "base_uri": "https://localhost:8080/"
    },
    "id": "a_dU9MTwB72q",
    "outputId": "f2feb0a9-3bd2-4d67-bb97-8cce65e5c2f1"
   },
   "outputs": [
    {
     "data": {
      "text/plain": [
       "5.96244744318815"
      ]
     },
     "execution_count": 38,
     "metadata": {},
     "output_type": "execute_result"
    }
   ],
   "source": [
    "cyprus_predicted_life_satisfaction = lin1.predict([[cyprus_gdp_per_capita]])[0, 0]\n",
    "\n",
    "cyprus_predicted_life_satisfaction"
   ]
  },
  {
   "cell_type": "markdown",
   "metadata": {
    "id": "NHdGy3T5ClXj"
   },
   "source": [
    "아래 도표에서 확인할 수 있듯이 예측값은 정확하게 앞서 확인한 최적의 직선 위에 위치한다."
   ]
  },
  {
   "cell_type": "code",
   "execution_count": 39,
   "metadata": {
    "colab": {
     "base_uri": "https://localhost:8080/",
     "height": 242
    },
    "id": "QfhVrbnufLIl",
    "outputId": "256971c0-36eb-4919-f7b3-57261111a52e"
   },
   "outputs": [
    {
     "data": {
      "image/png": "[encoded data removed]",
      "text/plain": [
       "<Figure size 360x216 with 1 Axes>"
      ]
     },
     "metadata": {
      "needs_background": "light"
     },
     "output_type": "display_data"
    }
   ],
   "source": [
    "sample_data.plot(kind='scatter', x=\"GDP per capita\", y='Life satisfaction', figsize=(5,3), s=1)\n",
    "plt.xlabel(\"GDP per capita (USD)\")\n",
    "\n",
    "# 예측된 최적의 직선\n",
    "X=np.linspace(0, 60000, 1000)\n",
    "plt.plot(X, t0 + t1*X, \"b\")\n",
    "plt.axis([0, 60000, 0, 10])\n",
    "plt.text(5000, 7.5, r\"$\\theta_0 = 4.85$\", fontsize=14, color=\"b\")\n",
    "plt.text(5000, 6.6, r\"$\\theta_1 = 4.91 \\times 10^{-5}$\", fontsize=14, color=\"b\")\n",
    "\n",
    "# 키프러스에 대한 삶의 만족도 예측값\n",
    "\n",
    "# 빨간 점선 그리기\n",
    "plt.plot([cyprus_gdp_per_capita, cyprus_gdp_per_capita], [0, cyprus_predicted_life_satisfaction], \"r--\")\n",
    "plt.text(25000, 5.0, r\"Prediction = 5.96\", fontsize=14, color=\"b\")\n",
    "\n",
    "# 예측 지점 좌표 찍기(빨강생)\n",
    "plt.plot(cyprus_gdp_per_capita, cyprus_predicted_life_satisfaction, \"ro\")\n",
    "\n",
    "plt.show()"
   ]
  },
  {
   "cell_type": "markdown",
   "metadata": {
    "id": "tseGO4MOh3ZX"
   },
   "source": [
    "## 머신러닝의 주요 도전 과제"
   ]
  },
  {
   "cell_type": "markdown",
   "metadata": {},
   "source": [
    "머신러닝 알고리즘을 훈련시키다보면 다양한 도전 과제에 부딛친다. \n",
    "여기서는 대표성 없는 데이터가 훈련 세트에 포함될 때 발생할 수 있는 어려움을\n",
    "앞서 살펴본 선형회귀 모델을 이용하여 설명한다."
   ]
  },
  {
   "cell_type": "markdown",
   "metadata": {
    "id": "aPeIcRu5FbCg"
   },
   "source": [
    "### 대표성 없는 훈련 데이터"
   ]
  },
  {
   "cell_type": "markdown",
   "metadata": {
    "id": "jO1x_6gBFllU"
   },
   "source": [
    "앞서 7개 국가의 데이터를 훈련에서 제외시킨 후에 선형회귀 모델을 훈련시켰다.\n",
    "이제 7개 국가를 포함해서 훈련시켜 보자.\n",
    "제외된 7개 국가의 데이터는 다음과 같다.\n",
    "\n",
    "* 브라질(Brazil)\n",
    "* 멕시코(Mexico)\n",
    "* 칠레(Chile)\n",
    "* 체코(Czech Repulic)\n",
    "* 노르웨이(Norway)\n",
    "* 스위스(Switzerland)\n",
    "* 룩셈부르크(Luxembourg)"
   ]
  },
  {
   "cell_type": "code",
   "execution_count": 40,
   "metadata": {
    "colab": {
     "base_uri": "https://localhost:8080/",
     "height": 284
    },
    "id": "fpEMdt8cfLIn",
    "outputId": "8f1f7452-fc76-4062-a27e-6db03710ed6e"
   },
   "outputs": [
    {
     "data": {
      "text/html": [
       "<div>\n",
       "<style scoped>\n",
       "    .dataframe tbody tr th:only-of-type {\n",
       "        vertical-align: middle;\n",
       "    }\n",
       "\n",
       "    .dataframe tbody tr th {\n",
       "        vertical-align: top;\n",
       "    }\n",
       "\n",
       "    .dataframe thead th {\n",
       "        text-align: right;\n",
       "    }\n",
       "</style>\n",
       "<table border=\"1\" class=\"dataframe\">\n",
       "  <thead>\n",
       "    <tr style=\"text-align: right;\">\n",
       "      <th></th>\n",
       "      <th>GDP per capita</th>\n",
       "      <th>Life satisfaction</th>\n",
       "    </tr>\n",
       "    <tr>\n",
       "      <th>Country</th>\n",
       "      <th></th>\n",
       "      <th></th>\n",
       "    </tr>\n",
       "  </thead>\n",
       "  <tbody>\n",
       "    <tr>\n",
       "      <th>Brazil</th>\n",
       "      <td>8669.998</td>\n",
       "      <td>7.0</td>\n",
       "    </tr>\n",
       "    <tr>\n",
       "      <th>Mexico</th>\n",
       "      <td>9009.280</td>\n",
       "      <td>6.7</td>\n",
       "    </tr>\n",
       "    <tr>\n",
       "      <th>Chile</th>\n",
       "      <td>13340.905</td>\n",
       "      <td>6.7</td>\n",
       "    </tr>\n",
       "    <tr>\n",
       "      <th>Czech Republic</th>\n",
       "      <td>17256.918</td>\n",
       "      <td>6.5</td>\n",
       "    </tr>\n",
       "    <tr>\n",
       "      <th>Norway</th>\n",
       "      <td>74822.106</td>\n",
       "      <td>7.4</td>\n",
       "    </tr>\n",
       "    <tr>\n",
       "      <th>Switzerland</th>\n",
       "      <td>80675.308</td>\n",
       "      <td>7.5</td>\n",
       "    </tr>\n",
       "    <tr>\n",
       "      <th>Luxembourg</th>\n",
       "      <td>101994.093</td>\n",
       "      <td>6.9</td>\n",
       "    </tr>\n",
       "  </tbody>\n",
       "</table>\n",
       "</div>"
      ],
      "text/plain": [
       "                GDP per capita  Life satisfaction\n",
       "Country                                          \n",
       "Brazil                8669.998                7.0\n",
       "Mexico                9009.280                6.7\n",
       "Chile                13340.905                6.7\n",
       "Czech Republic       17256.918                6.5\n",
       "Norway               74822.106                7.4\n",
       "Switzerland          80675.308                7.5\n",
       "Luxembourg          101994.093                6.9"
      ]
     },
     "execution_count": 40,
     "metadata": {},
     "output_type": "execute_result"
    }
   ],
   "source": [
    "missing_data"
   ]
  },
  {
   "cell_type": "markdown",
   "metadata": {
    "id": "LR_yQU7FG7-A"
   },
   "source": [
    "아래 좌표는 7개 국가명을 아래 도표에서 표기할 때 사용할 좌표이다."
   ]
  },
  {
   "cell_type": "code",
   "execution_count": 41,
   "metadata": {
    "id": "dTKXly_rfLIn"
   },
   "outputs": [],
   "source": [
    "position_text2 = {\n",
    "    \"Brazil\": (1000, 9.0),\n",
    "    \"Mexico\": (11000, 9.0),\n",
    "    \"Chile\": (25000, 9.0),\n",
    "    \"Czech Republic\": (35000, 9.0),\n",
    "    \"Norway\": (60000, 3),\n",
    "    \"Switzerland\": (72000, 3.0),\n",
    "    \"Luxembourg\": (90000, 3.0),\n",
    "}"
   ]
  },
  {
   "cell_type": "markdown",
   "metadata": {
    "id": "HKiZxo9OHE75"
   },
   "source": [
    "7개 국가를 포함한 전체 훈련 데이터셋을 이용하여 훈련한 결과를\n",
    "7개 국가를 제외했을 때의 훈련 결과와 비교한다.\n",
    "\n",
    "* 검정 실선: 7개 국가 포함 예측 선형 모델\n",
    "* 파랑 점선: 7개 국가 제외 예측 선형 모델\n",
    "\n",
    "__결론:__ 선형회귀 모델은 1인당 GDP와 삶의 만족도 사이의 관계를 모델링 하기에 부적합하다."
   ]
  },
  {
   "cell_type": "code",
   "execution_count": 42,
   "metadata": {
    "colab": {
     "base_uri": "https://localhost:8080/",
     "height": 242
    },
    "id": "ii9DczeMfLIn",
    "outputId": "258d99bc-91e1-44f1-a699-d18133ebe058"
   },
   "outputs": [
    {
     "data": {
      "image/png": "[encoded data removed]",
      "text/plain": [
       "<Figure size 576x216 with 1 Axes>"
      ]
     },
     "metadata": {
      "needs_background": "light"
     },
     "output_type": "display_data"
    }
   ],
   "source": [
    "# 7개 국가를 제외한 국가들의 산점도 (파랑색 점)\n",
    "sample_data.plot(kind='scatter', x=\"GDP per capita\", y='Life satisfaction', figsize=(8,3))\n",
    "plt.axis([0, 110000, 0, 10])\n",
    "\n",
    "# 7개 국가 산점도(빨강 점)\n",
    "for country, pos_text in position_text2.items():\n",
    "    pos_data_x, pos_data_y = missing_data.loc[country]\n",
    "    # 7개 국가명 표기\n",
    "    plt.annotate(country, xy=(pos_data_x, pos_data_y), xytext=pos_text,\n",
    "            arrowprops=dict(facecolor='black', width=0.5, shrink=0.1, headwidth=5))\n",
    "    plt.plot(pos_data_x, pos_data_y, \"rs\")\n",
    "\n",
    "# 7개 국가 제외 예측 선형 모델 그래프 (파랑 점선)\n",
    "X=np.linspace(0, 110000, 1000)\n",
    "plt.plot(X, t0 + t1*X, \"b:\")\n",
    "\n",
    "# 7개 국가 포함 선형회귀 모델 훈련 및 예측\n",
    "lin_reg_full = linear_model.LinearRegression()\n",
    "Xfull = np.c_[oecd_country_stats[\"GDP per capita\"]]\n",
    "yfull = np.c_[oecd_country_stats[\"Life satisfaction\"]]\n",
    "lin_reg_full.fit(Xfull, yfull)\n",
    "\n",
    "# 7개 국가 포함 예측 선형 모델 그래프(검정 실선)\n",
    "t0full, t1full = lin_reg_full.intercept_[0], lin_reg_full.coef_[0][0]\n",
    "X = np.linspace(0, 110000, 1000)\n",
    "plt.plot(X, t0full + t1full * X, \"k\")\n",
    "plt.xlabel(\"GDP per capita (USD)\")\n",
    "\n",
    "plt.show()"
   ]
  },
  {
   "cell_type": "markdown",
   "metadata": {},
   "source": [
    "## 과제"
   ]
  },
  {
   "cell_type": "markdown",
   "metadata": {},
   "source": [
    "1. OECD 삶의 만족도 데이터와 IMF 1인당 GDP 데이터를 2020년 기준으로 업데이트하여 앞서 살펴본 과정과 동일한 과정을 수행하라.\n",
    "    2020년 기준 데이터는 아래 정보를 사용한다.\n",
    "    \n",
    "    * 기본 다운로드 경로\n",
    "    \n",
    "    ```python\n",
    "    DOWNLOAD_ROOT = \"https://raw.githubusercontent.com/codingalzi/handson-ml2/master/\"\n",
    "    ```\n",
    "    \n",
    "    * BLI 데이터 파일명: oecd_bli_2020.csv\n",
    "    * 1인당 GDP 데이터: gdp_per_capita_2020.xlsx\n",
    "    \n",
    "    주의사항:\n",
    "\n",
    "    * 1인당 GDP 데이터는 엑셀 파일로 주어졌다. 팬다스의 `read_csv()` 대신에 `read_excel()` 파일을 사용한다.\n",
    "    * `rename()` 메서드를 활용할 때 '2020' 문자열 대신에 2020 정수를 사용해야 한다.\n",
    "    * 제외되는 7개 국가 정보는 다음과 같다.\n",
    "        * 제외 국가 인덱스\n",
    "\n",
    "        ```python\n",
    "        remove_indices = [1, 2, 4, 6, 37, 38, 39]\n",
    "        keep_indices = list(set(range(40)) - set(remove_indices))\n",
    "        ```\n",
    "        \n",
    "        * 제외 국가: Columbia(콜롬비아), Brazil(브라질), Mexico(멕시코), Chille(칠레), \n",
    "            Ireland(아일랜드), Switzerland(스위스, Luxembourg(룩셈부르크)\n",
    "        \n",
    "    * 언급된 5개 국가명 명기 좌표\n",
    "\n",
    "    ```python\n",
    "    position_text = {\n",
    "        \"Hungary\": (8000, 1),\n",
    "        \"Korea\": (26000, 1.7),\n",
    "        \"France\": (34000, 2.4),\n",
    "        \"Australia\": (44000, 3.0),\n",
    "        \"United States\": (60000, 3.8),\n",
    "    }\n",
    "    ```"
   ]
  }
 ],
 "metadata": {
  "colab": {
   "name": "handson-ml-01.ipynb",
   "provenance": []
  },
  "kernelspec": {
   "display_name": "Python 3",
   "language": "python",
   "name": "python3"
  },
  "language_info": {
   "codemirror_mode": {
    "name": "ipython",
    "version": 3
   },
   "file_extension": ".py",
   "mimetype": "text/x-python",
   "name": "python",
   "nbconvert_exporter": "python",
   "pygments_lexer": "ipython3",
   "version": "3.7.10"
  },
  "nav_menu": {},
  "toc": {
   "navigate_menu": true,
   "number_sections": true,
   "sideBar": true,
   "threshold": 6,
   "toc_cell": false,
   "toc_section_display": "block",
   "toc_window_display": true
  },
  "toc_position": {
   "height": "616px",
   "left": "0px",
   "right": "20px",
   "top": "106px",
   "width": "213px"
  }
 },
 "nbformat": 4,
 "nbformat_minor": 1
}
