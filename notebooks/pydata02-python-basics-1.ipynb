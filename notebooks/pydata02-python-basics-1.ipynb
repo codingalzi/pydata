{
 "cells": [
  {
   "cell_type": "markdown",
   "metadata": {
    "id": "VgBCzsxVX04Y"
   },
   "source": [
    "# 2장 파이썬 프로그래밍 기초 1부 1편"
   ]
  },
  {
   "cell_type": "markdown",
   "metadata": {
    "id": "Ebo7RsnVX04f"
   },
   "source": [
    "## 주요 내용"
   ]
  },
  {
   "cell_type": "markdown",
   "metadata": {
    "id": "uBslsyVBX04g"
   },
   "source": [
    "* 파이썬 언어 기초 문법"
   ]
  },
  {
   "cell_type": "markdown",
   "metadata": {
    "id": "OGDJMotUX04h"
   },
   "source": [
    "## 기본 문법"
   ]
  },
  {
   "cell_type": "markdown",
   "metadata": {
    "id": "8ILl4ZL0X04h"
   },
   "source": [
    "### 들여쓰기"
   ]
  },
  {
   "cell_type": "markdown",
   "metadata": {
    "id": "f45MAnmKX04h"
   },
   "source": [
    "들여쓰기를 이용하여 명령문 블록(block)을 지정한다. \n",
    "예를 들어, `for` 반복문의 본문에 `if ... else ...` 조건문을 \n",
    "사용하고자 할 경우 아래와 같이 작성한다."
   ]
  },
  {
   "cell_type": "markdown",
   "metadata": {
    "id": "M1BphOy-X04h"
   },
   "source": [
    "```python\n",
    "for x in array:\n",
    "    if x < pivot:\n",
    "        less.append(x)\n",
    "    else:\n",
    "        greater.append(x)\n",
    "```"
   ]
  },
  {
   "cell_type": "markdown",
   "metadata": {
    "id": "ifFwRwv0X04i"
   },
   "source": [
    "__참고:__ 들여쓰기는 <kbd>Tab</kbd> 키를 이용하며 보통 스페이스 네 개에 해당한다.\n",
    "하지만 사용하는 편집기에 따라 다를 수 있다."
   ]
  },
  {
   "cell_type": "markdown",
   "metadata": {
    "id": "htGoUzKOX04i"
   },
   "source": [
    "### 세미콜론"
   ]
  },
  {
   "cell_type": "markdown",
   "metadata": {
    "id": "jv0XLKneX04i"
   },
   "source": [
    "모든 명령문은 한 줄에 완성하는 것이 기본이며,\n",
    "연속된 명령문은 줄바꿈을 해서 작성한다.\n",
    "하지만 매우 간단한 명령문을 한 줄에 연속으로 작성할 경우 사용할 수 있는데\n",
    "이때 세미콜론(`;`)을 사용한다."
   ]
  },
  {
   "cell_type": "code",
   "execution_count": 1,
   "metadata": {
    "executionInfo": {
     "elapsed": 995,
     "status": "ok",
     "timestamp": 1615199853743,
     "user": {
      "displayName": "",
      "photoUrl": "",
      "userId": ""
     },
     "user_tz": -540
    },
    "id": "EF2Z5BLvX04j"
   },
   "outputs": [],
   "source": [
    "a = 5; b = 6; c = 7"
   ]
  },
  {
   "cell_type": "markdown",
   "metadata": {
    "id": "o7E3WWNiX04j"
   },
   "source": [
    "세미콜론 사용은 자제하는 게 좋다.\n",
    "아래와 같이 줄바꿈을 하여 각각의 명령문을 명확하게 작성하는 것을 추천한다."
   ]
  },
  {
   "cell_type": "code",
   "execution_count": 2,
   "metadata": {
    "executionInfo": {
     "elapsed": 1235,
     "status": "ok",
     "timestamp": 1615199853989,
     "user": {
      "displayName": "",
      "photoUrl": "",
      "userId": ""
     },
     "user_tz": -540
    },
    "id": "_6BE8ij2X04k"
   },
   "outputs": [],
   "source": [
    "a = 5\n",
    "b = 6\n",
    "c = 7"
   ]
  },
  {
   "cell_type": "markdown",
   "metadata": {
    "id": "E9QTaDELX04k"
   },
   "source": [
    "연속된 변수 할당의 경우 파이썬은 아래 방식도 지원한다."
   ]
  },
  {
   "cell_type": "code",
   "execution_count": 3,
   "metadata": {
    "executionInfo": {
     "elapsed": 1234,
     "status": "ok",
     "timestamp": 1615199853990,
     "user": {
      "displayName": "",
      "photoUrl": "",
      "userId": ""
     },
     "user_tz": -540
    },
    "id": "LINER8BaX04k"
   },
   "outputs": [],
   "source": [
    "a, b, c = 5, 6, 7"
   ]
  },
  {
   "cell_type": "code",
   "execution_count": 4,
   "metadata": {
    "colab": {
     "base_uri": "https://localhost:8080/"
    },
    "executionInfo": {
     "elapsed": 1675,
     "status": "ok",
     "timestamp": 1615199854443,
     "user": {
      "displayName": "",
      "photoUrl": "",
      "userId": ""
     },
     "user_tz": -540
    },
    "id": "D1oTxg8_X04k",
    "outputId": "84e82c20-1418-468b-ef9c-415b3e2a6991"
   },
   "outputs": [
    {
     "name": "stdout",
     "output_type": "stream",
     "text": [
      "a: 5\n",
      "b: 6\n",
      "c: 7\n"
     ]
    }
   ],
   "source": [
    "print(f\"a: {a}\", f\"b: {b}\", f\"c: {c}\", sep='\\n')"
   ]
  },
  {
   "cell_type": "markdown",
   "metadata": {
    "id": "17LwZKxcX04l"
   },
   "source": [
    "__주의사항:__ `f\"...\"` 형식은 __문자열 템플릿__을 가리킨다.\n",
    "문자열 템플릿은 문자열의 특정 위치에 변수값을 입력할 수 있는 기능을 갖는 문자열이다.\n",
    "위에서 사용된 템플릿은 __f-문자열__이며,\n",
    "나중에 설명할 __format-문자열__과 함께 가장 유용한 문자열 템플릿이다."
   ]
  },
  {
   "cell_type": "markdown",
   "metadata": {
    "id": "-9v9R7oyX04m"
   },
   "source": [
    "### 객체"
   ]
  },
  {
   "cell_type": "markdown",
   "metadata": {
    "id": "BqfHI704X04m"
   },
   "source": [
    "파이썬이 다루는 대상(값)은 모두 __객체__(object)이다.\n",
    "즉, 모든 값은 특정 클래스의 인스턴스이라는 의미이다.\n",
    "따라서 값과 관련된 메서드(methods)가 존재하며 이런 메서드들을 \n",
    "적절하게 활용하면서 프로그램을 작성할 수 있어야 한다.\n",
    "\n",
    "여기서는 앞으로 수(numbers), 문자열(strings), 리스트(lists), 넘파이 어레이(numpy arrays), \n",
    "팬다스 데이터프레임(pandas dataframes) 등의 메서드의 활용법을 익혀나갈 것이다."
   ]
  },
  {
   "cell_type": "markdown",
   "metadata": {
    "id": "b662gAztX04m"
   },
   "source": [
    "### 주석"
   ]
  },
  {
   "cell_type": "markdown",
   "metadata": {
    "id": "6kAy9FqVX04m"
   },
   "source": [
    "샵 기호(`#`) 다음에 오는 문장은 파이썬 인터프리터에의 의해 무시된다.\n",
    "주로 코드의 일부 기능을 잠시 해제하거나 코드에 대한 설명을 전달하는 주석으로 활용된다.\n",
    "\n",
    "예를 들어 아래는 코드의 일부를 해제하는 기능으로 사용되었다."
   ]
  },
  {
   "cell_type": "code",
   "execution_count": 5,
   "metadata": {
    "colab": {
     "base_uri": "https://localhost:8080/"
    },
    "executionInfo": {
     "elapsed": 1665,
     "status": "ok",
     "timestamp": 1615199854443,
     "user": {
      "displayName": "",
      "photoUrl": "",
      "userId": ""
     },
     "user_tz": -540
    },
    "id": "ItFjHOrYX04n",
    "outputId": "1cf82fb6-d3ca-461e-a268-4f8c2ff2965f"
   },
   "outputs": [
    {
     "name": "stdout",
     "output_type": "stream",
     "text": [
      "['radio', 'tv', '', 'phone']\n"
     ]
    }
   ],
   "source": [
    "items = [\"radio\", \"tv\", \"\", \"phone\"]\n",
    "results = []\n",
    "for item in items:\n",
    "    # 아래 코드는 실행되지 않음.\n",
    "    # if len(item) == 0:\n",
    "    #   continue\n",
    "    results.append(item)\n",
    "\n",
    "print(results)"
   ]
  },
  {
   "cell_type": "markdown",
   "metadata": {
    "id": "r5xj_EN4X04n"
   },
   "source": [
    "주석을 제거하면 다른 결과가 나올 수 있다.\n",
    "이유는 `if` 조건문에 의해 빈 문자열(empty string)은 무시되기 때문이다.\n",
    "\n",
    "__참고:__ `continue` 명령문의 기능은 잠시 뒤에 자세히 설명한다."
   ]
  },
  {
   "cell_type": "code",
   "execution_count": 6,
   "metadata": {
    "colab": {
     "base_uri": "https://localhost:8080/"
    },
    "executionInfo": {
     "elapsed": 1656,
     "status": "ok",
     "timestamp": 1615199854444,
     "user": {
      "displayName": "",
      "photoUrl": "",
      "userId": ""
     },
     "user_tz": -540
    },
    "id": "k3P5oHoqX04n",
    "outputId": "55291bb1-fcc1-4096-e2a7-7eed1fba2087"
   },
   "outputs": [
    {
     "name": "stdout",
     "output_type": "stream",
     "text": [
      "['radio', 'tv', 'phone']\n"
     ]
    }
   ],
   "source": [
    "items = [\"radio\", \"tv\", \"\", \"phone\"]\n",
    "results = []\n",
    "for item in items:\n",
    "    if len(item) == 0:\n",
    "        continue\n",
    "    results.append(item)\n",
    "\n",
    "print(results)"
   ]
  },
  {
   "cell_type": "markdown",
   "metadata": {
    "id": "CPJcQdfZX04o"
   },
   "source": [
    "반면에 아래와 같이 명령문 끝 부분에 주석을 달아 \n",
    "해당 명령문에 대한 설명 또는 정보를 제공하기도 한다."
   ]
  },
  {
   "cell_type": "code",
   "execution_count": 7,
   "metadata": {
    "colab": {
     "base_uri": "https://localhost:8080/"
    },
    "executionInfo": {
     "elapsed": 1647,
     "status": "ok",
     "timestamp": 1615199854445,
     "user": {
      "displayName": "",
      "photoUrl": "",
      "userId": ""
     },
     "user_tz": -540
    },
    "id": "Ee0Af2KDX04o",
    "outputId": "5231e83a-e3b0-4d6d-cc30-c817448c6485"
   },
   "outputs": [
    {
     "name": "stdout",
     "output_type": "stream",
     "text": [
      "여기까지 공부했습니다.\n"
     ]
    }
   ],
   "source": [
    "print(\"여기까지 공부했습니다.\") # 여기까지 확인"
   ]
  },
  {
   "cell_type": "markdown",
   "metadata": {
    "id": "im-_GwSSX04o"
   },
   "source": [
    "### 함수 호출"
   ]
  },
  {
   "cell_type": "markdown",
   "metadata": {
    "id": "d8PZGUxLX04o"
   },
   "source": [
    "함수를 적절한 인자와 함께 실행하는 것을 __함수 호출__이라 한다. \n",
    "예를 들어, 아래와 같이 세 개의 인자를 받는 함수는 세 개의 매개변수를 이용하여 선언한다."
   ]
  },
  {
   "cell_type": "code",
   "execution_count": 8,
   "metadata": {
    "executionInfo": {
     "elapsed": 1645,
     "status": "ok",
     "timestamp": 1615199854445,
     "user": {
      "displayName": "",
      "photoUrl": "",
      "userId": ""
     },
     "user_tz": -540
    },
    "id": "qpcJi1SAX04o"
   },
   "outputs": [],
   "source": [
    "def f(x, y, z):\n",
    "    return (x + y) / z"
   ]
  },
  {
   "cell_type": "markdown",
   "metadata": {
    "id": "AnkAaEYpX04p"
   },
   "source": [
    "함수 `f`를 호출하려면 인자 세 개를 지정해야 한다.\n",
    "아래 코드에서는 정수 세 개를 이용하여 함수를 호출하고 \n",
    "함수가 실행하면서 반환한 값을 변수 `result`에 할당하였다."
   ]
  },
  {
   "cell_type": "code",
   "execution_count": 9,
   "metadata": {
    "executionInfo": {
     "elapsed": 1643,
     "status": "ok",
     "timestamp": 1615199854446,
     "user": {
      "displayName": "",
      "photoUrl": "",
      "userId": ""
     },
     "user_tz": -540
    },
    "id": "hONT6UxGX04p"
   },
   "outputs": [],
   "source": [
    "result = f(2, 3, 4)"
   ]
  },
  {
   "cell_type": "markdown",
   "metadata": {
    "id": "ISoPlfTZX04p"
   },
   "source": [
    "함수가 반환하는 값과 저장된 값이 동일함을 아래와 같이 확인할 수 있다."
   ]
  },
  {
   "cell_type": "code",
   "execution_count": 10,
   "metadata": {
    "colab": {
     "base_uri": "https://localhost:8080/"
    },
    "executionInfo": {
     "elapsed": 1634,
     "status": "ok",
     "timestamp": 1615199854446,
     "user": {
      "displayName": "",
      "photoUrl": "",
      "userId": ""
     },
     "user_tz": -540
    },
    "id": "IN--kuBlX04p",
    "outputId": "a8b9917b-2eb8-4997-b300-4de447d7d280"
   },
   "outputs": [
    {
     "data": {
      "text/plain": [
       "1.25"
      ]
     },
     "execution_count": 10,
     "metadata": {},
     "output_type": "execute_result"
    }
   ],
   "source": [
    "f(2, 3, 4)"
   ]
  },
  {
   "cell_type": "code",
   "execution_count": 11,
   "metadata": {
    "colab": {
     "base_uri": "https://localhost:8080/"
    },
    "executionInfo": {
     "elapsed": 1625,
     "status": "ok",
     "timestamp": 1615199854447,
     "user": {
      "displayName": "",
      "photoUrl": "",
      "userId": ""
     },
     "user_tz": -540
    },
    "id": "A2Lh7SjRX04q",
    "outputId": "afe0544e-297c-4699-8705-6087f5eb1f32"
   },
   "outputs": [
    {
     "data": {
      "text/plain": [
       "1.25"
      ]
     },
     "execution_count": 11,
     "metadata": {},
     "output_type": "execute_result"
    }
   ],
   "source": [
    "result"
   ]
  },
  {
   "cell_type": "markdown",
   "metadata": {
    "id": "yb887ulNX04q"
   },
   "source": [
    "특정 객체의 메서드를 호출하는 방식도 기본적으로 동일하다.\n",
    "다만, 객체의 이름과 함께 아래 방식으로 호출되어야 한다.\n",
    "예를 들어, 아래 코드는 리스트에 항목을 추가하는 `append()` 라는\n",
    "리스트 메서드의 활용법을 보여준다.\n",
    "\n",
    "__참고:__ 메서드는 특정 클래스 또는 해당 클래스의 인스턴스, 즉, \n",
    "해당 클래스의 객체에서만 사용할 수 있는 함수이다."
   ]
  },
  {
   "cell_type": "code",
   "execution_count": 12,
   "metadata": {
    "executionInfo": {
     "elapsed": 1622,
     "status": "ok",
     "timestamp": 1615199854447,
     "user": {
      "displayName": "",
      "photoUrl": "",
      "userId": ""
     },
     "user_tz": -540
    },
    "id": "lMUdufMJX04q"
   },
   "outputs": [],
   "source": [
    "x = [1, 2, 3]\n",
    "x.append(4)"
   ]
  },
  {
   "cell_type": "code",
   "execution_count": 13,
   "metadata": {
    "colab": {
     "base_uri": "https://localhost:8080/"
    },
    "executionInfo": {
     "elapsed": 1612,
     "status": "ok",
     "timestamp": 1615199854448,
     "user": {
      "displayName": "",
      "photoUrl": "",
      "userId": ""
     },
     "user_tz": -540
    },
    "id": "iscyepDTX04q",
    "outputId": "a8648643-1c81-4c5d-d267-3f646d73bc4e"
   },
   "outputs": [
    {
     "data": {
      "text/plain": [
       "[1, 2, 3, 4]"
      ]
     },
     "execution_count": 13,
     "metadata": {},
     "output_type": "execute_result"
    }
   ],
   "source": [
    "x"
   ]
  },
  {
   "cell_type": "markdown",
   "metadata": {
    "id": "yVO3L5iMX04r"
   },
   "source": [
    "### 함수 인자"
   ]
  },
  {
   "cell_type": "markdown",
   "metadata": {
    "id": "6EN0UetrX04r"
   },
   "source": [
    "함수의 인자는 크게 두 종류로 나뉜다. \n",
    "\n",
    "* __위치 인자__(positional argments): 인자를 지정된 위치에 사용해야 함.\n",
    "* __키워드 인자__(keyword arguments): 키워드와 함께 지정되는 인자. 해당 인자의 기본값을 미리 지정한 후에\n",
    "    상황에 따라 다른 인자를 사용하는 것을 허용하고자 할 때 사용하는 인자."
   ]
  },
  {
   "cell_type": "markdown",
   "metadata": {},
   "source": [
    "#### 예제: `print()` 함수의 키워드 인자"
   ]
  },
  {
   "cell_type": "markdown",
   "metadata": {
    "id": "nCOJhDhMX04r"
   },
   "source": [
    "`print()` 함수는 출력 대상인 인자는 위치 인자로 지정해야 하고, \n",
    "키워드 인자는 출력 방식에 대한 옵션을 지정할 때 사용된다.\n",
    "\n",
    "키워드 인자를 사용하지 않으면 여러 인자를 스페이스로 구분하여 한 줄에 출력한다."
   ]
  },
  {
   "cell_type": "code",
   "execution_count": 14,
   "metadata": {
    "colab": {
     "base_uri": "https://localhost:8080/"
    },
    "executionInfo": {
     "elapsed": 1602,
     "status": "ok",
     "timestamp": 1615199854448,
     "user": {
      "displayName": "",
      "photoUrl": "",
      "userId": ""
     },
     "user_tz": -540
    },
    "id": "1bFrIY8JX04r",
    "outputId": "087d46d5-c04d-4aa7-8706-c9157c63cca0"
   },
   "outputs": [
    {
     "name": "stdout",
     "output_type": "stream",
     "text": [
      "1 2 3\n"
     ]
    }
   ],
   "source": [
    "print(1, 2, 3)"
   ]
  },
  {
   "cell_type": "markdown",
   "metadata": {
    "id": "xHRKlZxEX04r"
   },
   "source": [
    "`sep` 키워드 인자는 출력되는 인자들을 구분하는 방식을 지정하며 기본값은 앞서 본대로 스페이스이다.\n",
    "이를 예를 들어 쉼표와 스페이스로 지정하는 방식은 다음과 같다."
   ]
  },
  {
   "cell_type": "code",
   "execution_count": 15,
   "metadata": {
    "colab": {
     "base_uri": "https://localhost:8080/"
    },
    "executionInfo": {
     "elapsed": 1593,
     "status": "ok",
     "timestamp": 1615199854449,
     "user": {
      "displayName": "",
      "photoUrl": "",
      "userId": ""
     },
     "user_tz": -540
    },
    "id": "6rX-61mQX04s",
    "outputId": "2ae5aa1f-e5e7-45b1-c1b8-8fdad7b3ea94"
   },
   "outputs": [
    {
     "name": "stdout",
     "output_type": "stream",
     "text": [
      "1, 2, 3\n"
     ]
    }
   ],
   "source": [
    "print(1, 2, 3, sep=', ')"
   ]
  },
  {
   "cell_type": "markdown",
   "metadata": {
    "id": "T_hDVYAZX04s"
   },
   "source": [
    "`end` 키워드 인자는 모든 출력을 마친 후에 추가로 할 일을 지정한다.\n",
    "기본 값은 줄바꿈이다. "
   ]
  },
  {
   "cell_type": "code",
   "execution_count": 16,
   "metadata": {
    "colab": {
     "base_uri": "https://localhost:8080/"
    },
    "executionInfo": {
     "elapsed": 1584,
     "status": "ok",
     "timestamp": 1615199854449,
     "user": {
      "displayName": "",
      "photoUrl": "",
      "userId": ""
     },
     "user_tz": -540
    },
    "id": "8CxbeituX04s",
    "outputId": "66cf38c4-9b2f-42d5-8162-752fd210abbf"
   },
   "outputs": [
    {
     "name": "stdout",
     "output_type": "stream",
     "text": [
      "1, 2, 3\n",
      "4, 5, 6\n"
     ]
    }
   ],
   "source": [
    "print(1, 2, 3, sep=', ')\n",
    "print(4, 5, 6, sep=', ')"
   ]
  },
  {
   "cell_type": "markdown",
   "metadata": {
    "id": "kHL_vUqsX04t"
   },
   "source": [
    "하지만 줄바꿈을 예를 들어 쉼표 스페이스로 대체하면 다음과 같이 작동한다."
   ]
  },
  {
   "cell_type": "code",
   "execution_count": 17,
   "metadata": {
    "colab": {
     "base_uri": "https://localhost:8080/"
    },
    "executionInfo": {
     "elapsed": 1575,
     "status": "ok",
     "timestamp": 1615199854450,
     "user": {
      "displayName": "",
      "photoUrl": "",
      "userId": ""
     },
     "user_tz": -540
    },
    "id": "Q8NIHpEyX04u",
    "outputId": "4cd95db6-222a-4775-e4f9-4cb9453c48e5"
   },
   "outputs": [
    {
     "name": "stdout",
     "output_type": "stream",
     "text": [
      "1, 2, 3, 4, 5, 6\n"
     ]
    }
   ],
   "source": [
    "print(1, 2, 3, sep=', ', end=', ')\n",
    "print(4, 5, 6, sep=', ')"
   ]
  },
  {
   "cell_type": "markdown",
   "metadata": {
    "id": "qr2MiKuvX04u"
   },
   "source": [
    "반드시 위치 인자를 모두 지정한 다음에 키워드 인자를 위치해야 하며,\n",
    "키워드 인자들 사이의 순서는 중요하지 않다."
   ]
  },
  {
   "cell_type": "code",
   "execution_count": 18,
   "metadata": {
    "colab": {
     "base_uri": "https://localhost:8080/"
    },
    "executionInfo": {
     "elapsed": 1566,
     "status": "ok",
     "timestamp": 1615199854451,
     "user": {
      "displayName": "",
      "photoUrl": "",
      "userId": ""
     },
     "user_tz": -540
    },
    "id": "mdnOKshJX04u",
    "outputId": "f6897a36-c332-45e8-8a1f-7c0538cbc6af"
   },
   "outputs": [
    {
     "name": "stdout",
     "output_type": "stream",
     "text": [
      "1, 2, 3, 4, 5, 6\n"
     ]
    }
   ],
   "source": [
    "print(1, 2, 3, end=', ', sep=', ')\n",
    "print(4, 5, 6, sep=', ')"
   ]
  },
  {
   "cell_type": "markdown",
   "metadata": {},
   "source": [
    "#### 예제: 키워드 인자를 갖는 함수 정의하기"
   ]
  },
  {
   "cell_type": "markdown",
   "metadata": {},
   "source": [
    "`print()` 함수 이외에도 파이썬에서 기본으로 제공하는 많은 함수가 키워드 인자를 사용한다.\n",
    "나중에 배울 넘파이에서 제공되는 다수의 함수처럼 특히 데이터 분석에 사용되는 많은 함수가 그러하다.\n",
    "여기서는 키워드 인자를 사용하는 함수를 정의하는 방식을 간단한 예제를 통해 살펴본다.\n",
    "\n",
    "온라인 서점에서는 책을 정가의 10%를 할인해서 판매한다. \n",
    "그런데 특별한 날엔 정가의 20%를 할인해주는 행사를 진행한다고 가정하자.\n",
    "이때, 일반적으로 10%의 할인을 적용하다가 행사가 진행되는 20%를 할인하는 함수를 다음과 같이 정의할 수 있다."
   ]
  },
  {
   "cell_type": "code",
   "execution_count": 19,
   "metadata": {},
   "outputs": [],
   "source": [
    "def book_price(price, discount=0.1):\n",
    "    return price * (1 - discount)"
   ]
  },
  {
   "cell_type": "markdown",
   "metadata": {},
   "source": [
    "이제 정가 23,000원인 책을 구입할 때 실제로 지급해야 하는 값은 10% 할인된 20,700원이다."
   ]
  },
  {
   "cell_type": "code",
   "execution_count": 20,
   "metadata": {},
   "outputs": [
    {
     "name": "stdout",
     "output_type": "stream",
     "text": [
      "책값은 10% 할인해서 20700.0원입니다.\n"
     ]
    }
   ],
   "source": [
    "discount = 0.1\n",
    "print(f\"책값은 {int(100*discount)}% 할인해서 {book_price(23000)}원입니다.\")"
   ]
  },
  {
   "cell_type": "markdown",
   "metadata": {},
   "source": [
    "이제, 예를 들어, 여름 특별 행사로 인해 20%를 할인해 준다고 가정하자.\n",
    "그러면 정가 23,000원에 대해 지불해야 하는 값은 18,400원이다."
   ]
  },
  {
   "cell_type": "code",
   "execution_count": 21,
   "metadata": {},
   "outputs": [
    {
     "name": "stdout",
     "output_type": "stream",
     "text": [
      "책값은 20% 할인해서 18400.0원입니다.\n"
     ]
    }
   ],
   "source": [
    "discount = 0.2\n",
    "print(f\"책값은 {int(100*discount)}% 할인해서 {book_price(23000, discount=discount)}원입니다.\")"
   ]
  },
  {
   "cell_type": "markdown",
   "metadata": {},
   "source": [
    "**주의사항:** \n",
    "위 코드의 `discount=discount`에서 왼편 `discount`는 `book_price()` 함수를 선언할 때 사용된 키워드,\n",
    "즉, 기본값이 있는 매개변수이다.\n",
    "반면에 오른편 `disconnt`는 바로 윗줄에 선언된 변수이다."
   ]
  },
  {
   "cell_type": "markdown",
   "metadata": {
    "id": "W90CY4XBX04w"
   },
   "source": [
    "<img src=\"https://github.com/codingalzi/python-data-analysis/blob/master/notebooks/images/keyword-arguments01.png?raw=1\" style=\"width:450px;\">"
   ]
  },
  {
   "cell_type": "markdown",
   "metadata": {
    "id": "aCebjPsqX04u"
   },
   "source": [
    "### 참조 변수"
   ]
  },
  {
   "cell_type": "markdown",
   "metadata": {
    "id": "tgpqI5L4X04v"
   },
   "source": [
    "변수가 리스트와 같이 좀 복잡한 객체를 가리킬 때는 __참조(reference)__ 기능을 사용한다."
   ]
  },
  {
   "cell_type": "code",
   "execution_count": 22,
   "metadata": {
    "executionInfo": {
     "elapsed": 1564,
     "status": "ok",
     "timestamp": 1615199854451,
     "user": {
      "displayName": "",
      "photoUrl": "",
      "userId": ""
     },
     "user_tz": -540
    },
    "id": "9ojGYyJyX04v"
   },
   "outputs": [],
   "source": [
    "a = [1, 2, 3]"
   ]
  },
  {
   "cell_type": "markdown",
   "metadata": {
    "id": "TLhi0BkAX04v"
   },
   "source": [
    "아래와 같이 하면 변수 `b` 가 변수 `a`가 동일한 값을 참조한다. "
   ]
  },
  {
   "cell_type": "code",
   "execution_count": 23,
   "metadata": {
    "executionInfo": {
     "elapsed": 1562,
     "status": "ok",
     "timestamp": 1615199854451,
     "user": {
      "displayName": "",
      "photoUrl": "",
      "userId": ""
     },
     "user_tz": -540
    },
    "id": "gococDGvX04v"
   },
   "outputs": [],
   "source": [
    "b = a"
   ]
  },
  {
   "cell_type": "markdown",
   "metadata": {
    "id": "IWlm2zsYX04v"
   },
   "source": [
    "__참고:__ 참조는 아래 그림에서 보여지듯이 화살표 형태로 다른 곳에 저장된 값을 가리키는 기능으로 이해하면 된다."
   ]
  },
  {
   "cell_type": "markdown",
   "metadata": {
    "id": "W90CY4XBX04w"
   },
   "source": [
    "<img src=\"https://github.com/codingalzi/python-data-analysis/blob/master/notebooks/images/variables-a-b-1.png?raw=1\" style=\"width:300px;\">"
   ]
  },
  {
   "cell_type": "markdown",
   "metadata": {
    "id": "Y0ViwfUbX04w"
   },
   "source": [
    "실제로 `a`가 참조하는 값을 변화시키면 `b`도 영향받는다."
   ]
  },
  {
   "cell_type": "code",
   "execution_count": 24,
   "metadata": {
    "colab": {
     "base_uri": "https://localhost:8080/"
    },
    "executionInfo": {
     "elapsed": 1553,
     "status": "ok",
     "timestamp": 1615199854452,
     "user": {
      "displayName": "",
      "photoUrl": "",
      "userId": ""
     },
     "user_tz": -540
    },
    "id": "SHcoUmCiX04w",
    "outputId": "a91ea544-ed1a-4458-9577-fb2480428787"
   },
   "outputs": [
    {
     "data": {
      "text/plain": [
       "[1, 2, 3, 4]"
      ]
     },
     "execution_count": 24,
     "metadata": {},
     "output_type": "execute_result"
    }
   ],
   "source": [
    "a.append(4)\n",
    "b"
   ]
  },
  {
   "cell_type": "markdown",
   "metadata": {
    "id": "c8SYO_mdX04w"
   },
   "source": [
    "<img src=\"https://github.com/codingalzi/python-data-analysis/blob/master/notebooks/images/variables-a-b-2.png?raw=1\" style=\"width:330px;\">"
   ]
  },
  {
   "cell_type": "markdown",
   "metadata": {
    "id": "YxFS45XKX04w"
   },
   "source": [
    "반면에 아래와 같은 경우는 리스트를 참조하는 경우와 다르게 작동한다."
   ]
  },
  {
   "cell_type": "code",
   "execution_count": 25,
   "metadata": {
    "executionInfo": {
     "elapsed": 1550,
     "status": "ok",
     "timestamp": 1615199854452,
     "user": {
      "displayName": "",
      "photoUrl": "",
      "userId": ""
     },
     "user_tz": -540
    },
    "id": "R0CM-ZZHX04x"
   },
   "outputs": [],
   "source": [
    "a = 4\n",
    "b = a"
   ]
  },
  {
   "cell_type": "markdown",
   "metadata": {
    "id": "Z-G31zdGX04x"
   },
   "source": [
    "변수 `a`가 가리키는 값을 변경해서 변수 `b`에 영향을 주지 않는다."
   ]
  },
  {
   "cell_type": "code",
   "execution_count": 26,
   "metadata": {
    "colab": {
     "base_uri": "https://localhost:8080/"
    },
    "executionInfo": {
     "elapsed": 1826,
     "status": "ok",
     "timestamp": 1615199854737,
     "user": {
      "displayName": "",
      "photoUrl": "",
      "userId": ""
     },
     "user_tz": -540
    },
    "id": "byt7fP5VX04x",
    "outputId": "54f83f0a-a599-4f50-a0e3-41326194a2b9"
   },
   "outputs": [
    {
     "name": "stdout",
     "output_type": "stream",
     "text": [
      "a = 5\n",
      "b = 4\n"
     ]
    }
   ],
   "source": [
    "a = a + 1\n",
    "\n",
    "print(f\"a = {a}\", f\"b = {b}\", sep=\"\\n\")"
   ]
  },
  {
   "cell_type": "markdown",
   "metadata": {
    "id": "OpBlpNj9X04x"
   },
   "source": [
    "### 전역 변수와 지역 변수"
   ]
  },
  {
   "cell_type": "markdown",
   "metadata": {
    "id": "Ba5l94VjX04x"
   },
   "source": [
    "함수 밖에서 선언된 __전역 변수__(global variables)는 함수 내에서 사용할 수 있지만,\n",
    "함수의 매개변수 또는 함수 본문 내에서 선언된 __지역 변수__(local variables)는 함수 밖에서 사용할 수 없다."
   ]
  },
  {
   "cell_type": "code",
   "execution_count": 27,
   "metadata": {
    "executionInfo": {
     "elapsed": 1825,
     "status": "ok",
     "timestamp": 1615199854738,
     "user": {
      "displayName": "",
      "photoUrl": "",
      "userId": ""
     },
     "user_tz": -540
    },
    "id": "hvzYKmGTX04x"
   },
   "outputs": [],
   "source": [
    "def append_element(some_list, element):\n",
    "    some_list.append(element)"
   ]
  },
  {
   "cell_type": "markdown",
   "metadata": {
    "id": "ZBLoHw0LX04y"
   },
   "source": [
    "아래 코드에서 `data`는 함수 밖에서 선언된 전역 변수이기에\n",
    "함수에 인자로 전달될 수 있다."
   ]
  },
  {
   "cell_type": "code",
   "execution_count": 28,
   "metadata": {
    "executionInfo": {
     "elapsed": 1824,
     "status": "ok",
     "timestamp": 1615199854739,
     "user": {
      "displayName": "",
      "photoUrl": "",
      "userId": ""
     },
     "user_tz": -540
    },
    "id": "4rKbWp8YX04y"
   },
   "outputs": [],
   "source": [
    "data = [1, 2, 3]\n",
    "\n",
    "append_element(data, 4)"
   ]
  },
  {
   "cell_type": "code",
   "execution_count": 29,
   "metadata": {
    "colab": {
     "base_uri": "https://localhost:8080/"
    },
    "executionInfo": {
     "elapsed": 1813,
     "status": "ok",
     "timestamp": 1615199854739,
     "user": {
      "displayName": "",
      "photoUrl": "",
      "userId": ""
     },
     "user_tz": -540
    },
    "id": "TRxZBvHuX04y",
    "outputId": "46d7f694-7045-4531-8dad-56d69b987ef3"
   },
   "outputs": [
    {
     "data": {
      "text/plain": [
       "[1, 2, 3, 4]"
      ]
     },
     "execution_count": 29,
     "metadata": {},
     "output_type": "execute_result"
    }
   ],
   "source": [
    "data"
   ]
  },
  {
   "cell_type": "markdown",
   "metadata": {
    "id": "62zdAataX04y"
   },
   "source": [
    "반면에 매개 변수로 지정된 `element`는 함수 실행이 멈춘 후에는 더 이상 사용할 수 없다."
   ]
  },
  {
   "cell_type": "code",
   "execution_count": 30,
   "metadata": {
    "colab": {
     "base_uri": "https://localhost:8080/",
     "height": 165
    },
    "executionInfo": {
     "elapsed": 2056,
     "status": "error",
     "timestamp": 1615199854992,
     "user": {
      "displayName": "",
      "photoUrl": "",
      "userId": ""
     },
     "user_tz": -540
    },
    "id": "AHW7Wj-YX04y",
    "outputId": "6da727d4-f7ef-45c3-fcea-51f47a0eeb06"
   },
   "outputs": [
    {
     "ename": "NameError",
     "evalue": "name 'element' is not defined",
     "output_type": "error",
     "traceback": [
      "\u001b[1;31m---------------------------------------------------------------------------\u001b[0m",
      "\u001b[1;31mNameError\u001b[0m                                 Traceback (most recent call last)",
      "\u001b[1;32m<ipython-input-30-80a9247ee20e>\u001b[0m in \u001b[0;36m<module>\u001b[1;34m\u001b[0m\n\u001b[1;32m----> 1\u001b[1;33m \u001b[0mprint\u001b[0m\u001b[1;33m(\u001b[0m\u001b[0melement\u001b[0m\u001b[1;33m)\u001b[0m\u001b[1;33m\u001b[0m\u001b[1;33m\u001b[0m\u001b[0m\n\u001b[0m",
      "\u001b[1;31mNameError\u001b[0m: name 'element' is not defined"
     ]
    }
   ],
   "source": [
    "print(element)"
   ]
  },
  {
   "cell_type": "markdown",
   "metadata": {
    "id": "QqF6bVM8X04z"
   },
   "source": [
    "### 동적 참조(dynamic reference)"
   ]
  },
  {
   "cell_type": "markdown",
   "metadata": {
    "id": "9pM9uZdEX04z"
   },
   "source": [
    "변수에 할당된 값은 심지어 다른 자료형의 값으로 변경될 수 있으며, \n",
    "그에 따른 자료형의 정보도 함께 변경되어 저장된다.\n",
    "이렇게 작동하는 방식을 __동적 참조__라 한다."
   ]
  },
  {
   "cell_type": "code",
   "execution_count": null,
   "metadata": {
    "colab": {
     "base_uri": "https://localhost:8080/"
    },
    "executionInfo": {
     "elapsed": 754,
     "status": "ok",
     "timestamp": 1615199876397,
     "user": {
      "displayName": "",
      "photoUrl": "",
      "userId": ""
     },
     "user_tz": -540
    },
    "id": "RDfO3sjGX04z",
    "outputId": "a0953070-6637-4943-9a7f-19ba654a153d"
   },
   "outputs": [],
   "source": [
    "a = 5\n",
    "\n",
    "type(a)"
   ]
  },
  {
   "cell_type": "code",
   "execution_count": null,
   "metadata": {
    "colab": {
     "base_uri": "https://localhost:8080/"
    },
    "executionInfo": {
     "elapsed": 1277,
     "status": "ok",
     "timestamp": 1615199876925,
     "user": {
      "displayName": "",
      "photoUrl": "",
      "userId": ""
     },
     "user_tz": -540
    },
    "id": "avHS-WpDX04z",
    "outputId": "c558c863-9349-4159-c033-6d818a24c6ce"
   },
   "outputs": [],
   "source": [
    "a = 'foo'\n",
    "\n",
    "type(a)"
   ]
  },
  {
   "cell_type": "markdown",
   "metadata": {
    "id": "qqoResVwX040"
   },
   "source": [
    "### 강타입 대 약타입"
   ]
  },
  {
   "cell_type": "markdown",
   "metadata": {
    "id": "b89XquOjX040"
   },
   "source": [
    "파이썬의 모든 값은 특정 클래스의 객체라고 하였다.\n",
    "따라서 사용되는 함수 또는 연산자에 따라 적절한 클래스의 객체를 사용하지 않으면\n",
    "실행오류가 발생할 수 있다.\n",
    "이처럼 사용되는 값의 자료형이 맞지 않을 경우 제대로 작동하지 않으면 __강타입(strong types)__라 부른다.\n",
    "\n",
    "예를 들어 문자열과 숫자는 더할 수 없다."
   ]
  },
  {
   "cell_type": "code",
   "execution_count": 31,
   "metadata": {
    "colab": {
     "base_uri": "https://localhost:8080/",
     "height": 165
    },
    "executionInfo": {
     "elapsed": 1294,
     "status": "error",
     "timestamp": 1615199876946,
     "user": {
      "displayName": "",
      "photoUrl": "",
      "userId": ""
     },
     "user_tz": -540
    },
    "id": "x4h6x9oqX040",
    "outputId": "bc0be492-a7cd-48ce-e63d-1978895e199d"
   },
   "outputs": [
    {
     "ename": "TypeError",
     "evalue": "can only concatenate str (not \"int\") to str",
     "output_type": "error",
     "traceback": [
      "\u001b[1;31m---------------------------------------------------------------------------\u001b[0m",
      "\u001b[1;31mTypeError\u001b[0m                                 Traceback (most recent call last)",
      "\u001b[1;32m<ipython-input-31-4dd8efb5fac1>\u001b[0m in \u001b[0;36m<module>\u001b[1;34m\u001b[0m\n\u001b[1;32m----> 1\u001b[1;33m \u001b[1;34m'5'\u001b[0m \u001b[1;33m+\u001b[0m \u001b[1;36m5\u001b[0m\u001b[1;33m\u001b[0m\u001b[1;33m\u001b[0m\u001b[0m\n\u001b[0m",
      "\u001b[1;31mTypeError\u001b[0m: can only concatenate str (not \"int\") to str"
     ]
    }
   ],
   "source": [
    "'5' + 5"
   ]
  },
  {
   "cell_type": "markdown",
   "metadata": {
    "id": "OQPZEvoZX040"
   },
   "source": [
    "반면에, 예를 들어, 부동소수점과 정수의 나눗셈은 정수를 부동소수점으로 \n",
    "강제로 형변환을 시켜서 실행된다."
   ]
  },
  {
   "cell_type": "code",
   "execution_count": 32,
   "metadata": {
    "colab": {
     "base_uri": "https://localhost:8080/"
    },
    "executionInfo": {
     "elapsed": 757,
     "status": "ok",
     "timestamp": 1615199884700,
     "user": {
      "displayName": "",
      "photoUrl": "",
      "userId": ""
     },
     "user_tz": -540
    },
    "id": "ROLdqoP1X040",
    "outputId": "c3909a55-979b-4f1d-c87a-0b6f4bfc8cb3"
   },
   "outputs": [
    {
     "data": {
      "text/plain": [
       "2.25"
      ]
     },
     "execution_count": 32,
     "metadata": {},
     "output_type": "execute_result"
    }
   ],
   "source": [
    "a = 4.5\n",
    "b = 2\n",
    "\n",
    "a / b"
   ]
  },
  {
   "cell_type": "markdown",
   "metadata": {
    "id": "tuKBDHYYX041"
   },
   "source": [
    "이렇게 작동하는 언어를 __약타입(weak types)__ 언어라 부른다.\n",
    "파이썬은 기본적으로 강타입 언어이지만, 약간의 약타입을 지원하는 언어라는 의미이다."
   ]
  },
  {
   "cell_type": "markdown",
   "metadata": {
    "id": "kJoUmKPCX041"
   },
   "source": [
    "### 객체의 자료형 활용"
   ]
  },
  {
   "cell_type": "markdown",
   "metadata": {
    "id": "4K_pgJSTX041"
   },
   "source": [
    "객체의 자료형에 따라 다른 일을 지정할 수도 있다.\n",
    "이를 위해 먼저 객체의 자료형이 지정된 자료형인지 확인하는 기능이 필요하다.\n",
    "\n",
    "예를 들어, `a`가 가리키는 값이 정수형의 값인지를 다음과 같이 확인한다."
   ]
  },
  {
   "cell_type": "code",
   "execution_count": 33,
   "metadata": {
    "colab": {
     "base_uri": "https://localhost:8080/"
    },
    "executionInfo": {
     "elapsed": 752,
     "status": "ok",
     "timestamp": 1615199884701,
     "user": {
      "displayName": "",
      "photoUrl": "",
      "userId": ""
     },
     "user_tz": -540
    },
    "id": "vcCp38GvX041",
    "outputId": "43533bed-4e98-4843-82bc-e703a7539a47"
   },
   "outputs": [
    {
     "data": {
      "text/plain": [
       "True"
      ]
     },
     "execution_count": 33,
     "metadata": {},
     "output_type": "execute_result"
    }
   ],
   "source": [
    "a = 5\n",
    "\n",
    "isinstance(a, int)"
   ]
  },
  {
   "cell_type": "markdown",
   "metadata": {
    "id": "IFXOTn3gX041"
   },
   "source": [
    "그리고 부동소수점의 자료형인가를 확인하려면 다음과 같이 한다."
   ]
  },
  {
   "cell_type": "code",
   "execution_count": 34,
   "metadata": {
    "colab": {
     "base_uri": "https://localhost:8080/"
    },
    "executionInfo": {
     "elapsed": 748,
     "status": "ok",
     "timestamp": 1615199884701,
     "user": {
      "displayName": "",
      "photoUrl": "",
      "userId": ""
     },
     "user_tz": -540
    },
    "id": "Aoc6r_n8X042",
    "outputId": "080f632c-865c-4892-88b1-65830debcfda"
   },
   "outputs": [
    {
     "data": {
      "text/plain": [
       "True"
      ]
     },
     "execution_count": 34,
     "metadata": {},
     "output_type": "execute_result"
    }
   ],
   "source": [
    "b = 4.5\n",
    "\n",
    "isinstance(b, (int, float))"
   ]
  },
  {
   "cell_type": "markdown",
   "metadata": {
    "id": "yDR-w2l1X042"
   },
   "source": [
    "여러 자료형 중의 하나인가를 확인하려면 여러 자료형을 튜플로 작성하여 사용한다.\n",
    "예를 들어, 정수 또는 부동소수점 중의 하나의 값인가를 확인하려면 다음과 같이 한다."
   ]
  },
  {
   "cell_type": "code",
   "execution_count": 35,
   "metadata": {
    "colab": {
     "base_uri": "https://localhost:8080/"
    },
    "executionInfo": {
     "elapsed": 746,
     "status": "ok",
     "timestamp": 1615199884702,
     "user": {
      "displayName": "",
      "photoUrl": "",
      "userId": ""
     },
     "user_tz": -540
    },
    "id": "-5plAoVFX042",
    "outputId": "755ac307-51aa-4b33-e6c1-20663afbfa89"
   },
   "outputs": [
    {
     "data": {
      "text/plain": [
       "True"
      ]
     },
     "execution_count": 35,
     "metadata": {},
     "output_type": "execute_result"
    }
   ],
   "source": [
    "isinstance(a, (int, float))"
   ]
  },
  {
   "cell_type": "code",
   "execution_count": 36,
   "metadata": {
    "colab": {
     "base_uri": "https://localhost:8080/"
    },
    "executionInfo": {
     "elapsed": 1034,
     "status": "ok",
     "timestamp": 1615199884994,
     "user": {
      "displayName": "",
      "photoUrl": "",
      "userId": ""
     },
     "user_tz": -540
    },
    "id": "l4gVY_SHX042",
    "outputId": "0589bab3-4852-4466-bb1c-c10b0935c1f6"
   },
   "outputs": [
    {
     "data": {
      "text/plain": [
       "True"
      ]
     },
     "execution_count": 36,
     "metadata": {},
     "output_type": "execute_result"
    }
   ],
   "source": [
    "isinstance(b, (int, float))"
   ]
  },
  {
   "cell_type": "markdown",
   "metadata": {
    "id": "cQ-j2xyHX043"
   },
   "source": [
    "### 객체의 속성과 메서드"
   ]
  },
  {
   "cell_type": "markdown",
   "metadata": {
    "id": "B-kbP_XxX043"
   },
   "source": [
    "모든 객체는 __속성__(attributes)과 __메서드__(methods)를 갖는다.\n",
    "\n",
    "* 속성: 객체와 관련된 정보\n",
    "* 메서트: 객체의 속성을 조작하는 기능을 가진 함수"
   ]
  },
  {
   "cell_type": "markdown",
   "metadata": {
    "id": "KYuCNzYJX043"
   },
   "source": [
    "탭 키(<kbd>Tab</kbd>)를 이용하면 주어진 객체의 모든 속성과 메서드를 확인할 수 있다."
   ]
  },
  {
   "cell_type": "markdown",
   "metadata": {
    "id": "VwnkPhlTX043"
   },
   "source": [
    "```python\n",
    "In [1]: a = 'foo'\n",
    "\n",
    "In [2]: a.<Tab>\n",
    "a.capitalize  a.format      a.isupper     a.rindex      a.strip\n",
    "a.center      a.index       a.join        a.rjust       a.swapcase\n",
    "a.count       a.isalnum     a.ljust       a.rpartition  a.title\n",
    "a.decode      a.isalpha     a.lower       a.rsplit      a.translate\n",
    "a.encode      a.isdigit     a.lstrip      a.rstrip      a.upper\n",
    "a.endswith    a.islower     a.partition   a.split       a.zfill\n",
    "a.expandtabs  a.isspace     a.replace     a.splitlines\n",
    "a.find        a.istitle     a.rfind       a.startswith\n",
    "```"
   ]
  },
  {
   "cell_type": "markdown",
   "metadata": {
    "id": "igPtkOZUX043"
   },
   "source": [
    "속성과 메서드를 확인하기 위해 `getattr()` 함수를 활용할 수도 있다.\n",
    "예를 들어, 문자열의 `split()` 메서드를 확인하면 아래의 결과를 보여준다."
   ]
  },
  {
   "cell_type": "code",
   "execution_count": 37,
   "metadata": {
    "colab": {
     "base_uri": "https://localhost:8080/"
    },
    "executionInfo": {
     "elapsed": 1031,
     "status": "ok",
     "timestamp": 1615199884994,
     "user": {
      "displayName": "",
      "photoUrl": "",
      "userId": ""
     },
     "user_tz": -540
    },
    "id": "VAw9gPqBX043",
    "outputId": "146f8eb2-ba8e-43ab-ef35-fe0bb0bc500e"
   },
   "outputs": [
    {
     "data": {
      "text/plain": [
       "<function str.split(sep=None, maxsplit=-1)>"
      ]
     },
     "execution_count": 37,
     "metadata": {},
     "output_type": "execute_result"
    }
   ],
   "source": [
    "a = 'foo'\n",
    "\n",
    "getattr(a, 'split')"
   ]
  },
  {
   "cell_type": "markdown",
   "metadata": {
    "id": "IR7HOwhMX044"
   },
   "source": [
    "즉, `split` 은 함수(function), 즉, 메서드임을 확인해준다."
   ]
  },
  {
   "cell_type": "markdown",
   "metadata": {
    "id": "oJJSIFswX044"
   },
   "source": [
    "### 덕 타이핑(Duck typing)"
   ]
  },
  {
   "cell_type": "markdown",
   "metadata": {
    "id": "bPBVDakRX044"
   },
   "source": [
    "__덕 타이핑__은 \"특정 기능을 지원하는가만 중요하다\"는 의미를 전달할 때 사용하는 표현이다. \n",
    "(\"오리처럼 꽥꽥 울기만 하면 그것은 오리다\" 라는 의미에서 만들어진 표현임)\n",
    "\n",
    "예를 들어, 문자열, 튜플, 리스트 등 처럼 각 항목을 차례대로 순환할 수 있는 값은\n",
    "`__iter__()` 메서드를 가지며, 이런 객체를 __이터러블__(iterable) 객체라 부른다.\n",
    "즉, 어떤 객체이든 `__iter__()` 메서드만 지원하면 순환기능을 사용할 수 있으며,\n",
    "그런 객체를 이터러블이라고 부른다."
   ]
  },
  {
   "cell_type": "code",
   "execution_count": 38,
   "metadata": {
    "colab": {
     "base_uri": "https://localhost:8080/"
    },
    "executionInfo": {
     "elapsed": 1028,
     "status": "ok",
     "timestamp": 1615199884995,
     "user": {
      "displayName": "",
      "photoUrl": "",
      "userId": ""
     },
     "user_tz": -540
    },
    "id": "QJ7wORP4X044",
    "outputId": "54117899-a230-4886-e798-4ecaadb4fb0c"
   },
   "outputs": [
    {
     "data": {
      "text/plain": [
       "<str_iterator at 0x2bd58718b80>"
      ]
     },
     "execution_count": 38,
     "metadata": {},
     "output_type": "execute_result"
    }
   ],
   "source": [
    "'123'.__iter__()"
   ]
  },
  {
   "cell_type": "code",
   "execution_count": 39,
   "metadata": {
    "colab": {
     "base_uri": "https://localhost:8080/"
    },
    "executionInfo": {
     "elapsed": 1026,
     "status": "ok",
     "timestamp": 1615199884996,
     "user": {
      "displayName": "",
      "photoUrl": "",
      "userId": ""
     },
     "user_tz": -540
    },
    "id": "53Odo_zdX045",
    "outputId": "3609d3e6-cb1e-4add-e47a-05060b93843a"
   },
   "outputs": [
    {
     "data": {
      "text/plain": [
       "<tuple_iterator at 0x2bd58718cd0>"
      ]
     },
     "execution_count": 39,
     "metadata": {},
     "output_type": "execute_result"
    }
   ],
   "source": [
    "(1, 2, 3).__iter__()"
   ]
  },
  {
   "cell_type": "code",
   "execution_count": 40,
   "metadata": {
    "colab": {
     "base_uri": "https://localhost:8080/"
    },
    "executionInfo": {
     "elapsed": 1022,
     "status": "ok",
     "timestamp": 1615199884997,
     "user": {
      "displayName": "",
      "photoUrl": "",
      "userId": ""
     },
     "user_tz": -540
    },
    "id": "dFUFNVjHX045",
    "outputId": "fca5a7db-17db-4fbc-91e4-74dbb55236ed"
   },
   "outputs": [
    {
     "data": {
      "text/plain": [
       "<list_iterator at 0x2bd58718f70>"
      ]
     },
     "execution_count": 40,
     "metadata": {},
     "output_type": "execute_result"
    }
   ],
   "source": [
    "[1, 2, 3].__iter__()"
   ]
  },
  {
   "cell_type": "markdown",
   "metadata": {
    "id": "ZHiHSr0DX045"
   },
   "source": [
    "아래 함수는 이터러블 객체인지 여부를 판단해준다.\n",
    "\n",
    "__참고:__ `iter()` 함수는 인자가 `__iter()__` 메서드를 갖고 있다면 그 메서드를 호출하고,\n",
    "아님면 오류를 발생시킨다."
   ]
  },
  {
   "cell_type": "code",
   "execution_count": 41,
   "metadata": {
    "executionInfo": {
     "elapsed": 1019,
     "status": "ok",
     "timestamp": 1615199884997,
     "user": {
      "displayName": "",
      "photoUrl": "",
      "userId": ""
     },
     "user_tz": -540
    },
    "id": "5UP2slxmX045"
   },
   "outputs": [],
   "source": [
    "def isiterable(obj):\n",
    "    try:\n",
    "        iter(obj)\n",
    "        return True\n",
    "    except TypeError: # 이터러블하지 않음\n",
    "        return False"
   ]
  },
  {
   "cell_type": "code",
   "execution_count": 42,
   "metadata": {
    "colab": {
     "base_uri": "https://localhost:8080/"
    },
    "executionInfo": {
     "elapsed": 1016,
     "status": "ok",
     "timestamp": 1615199884998,
     "user": {
      "displayName": "",
      "photoUrl": "",
      "userId": ""
     },
     "user_tz": -540
    },
    "id": "AIBY2JAtX045",
    "outputId": "1ee2b585-0329-472f-f655-e816b7dff2ee"
   },
   "outputs": [
    {
     "data": {
      "text/plain": [
       "True"
      ]
     },
     "execution_count": 42,
     "metadata": {},
     "output_type": "execute_result"
    }
   ],
   "source": [
    "isiterable('a string')"
   ]
  },
  {
   "cell_type": "code",
   "execution_count": 43,
   "metadata": {
    "colab": {
     "base_uri": "https://localhost:8080/"
    },
    "executionInfo": {
     "elapsed": 1013,
     "status": "ok",
     "timestamp": 1615199884998,
     "user": {
      "displayName": "",
      "photoUrl": "",
      "userId": ""
     },
     "user_tz": -540
    },
    "id": "5ePkvWaXX046",
    "outputId": "f633bbb2-0c00-45f0-deb3-f61d89fdbb4c"
   },
   "outputs": [
    {
     "data": {
      "text/plain": [
       "True"
      ]
     },
     "execution_count": 43,
     "metadata": {},
     "output_type": "execute_result"
    }
   ],
   "source": [
    "isiterable([1, 2, 3])"
   ]
  },
  {
   "cell_type": "markdown",
   "metadata": {
    "id": "4VDlTMFCX046"
   },
   "source": [
    "정수는 이터러블하지 않다."
   ]
  },
  {
   "cell_type": "code",
   "execution_count": 44,
   "metadata": {
    "colab": {
     "base_uri": "https://localhost:8080/"
    },
    "executionInfo": {
     "elapsed": 1009,
     "status": "ok",
     "timestamp": 1615199884999,
     "user": {
      "displayName": "",
      "photoUrl": "",
      "userId": ""
     },
     "user_tz": -540
    },
    "id": "nYPoGfbhX046",
    "outputId": "ac5ae76a-8fe9-4a9e-b3d5-37cadfe53ce6"
   },
   "outputs": [
    {
     "data": {
      "text/plain": [
       "False"
      ]
     },
     "execution_count": 44,
     "metadata": {},
     "output_type": "execute_result"
    }
   ],
   "source": [
    "isiterable(5)"
   ]
  },
  {
   "cell_type": "markdown",
   "metadata": {
    "id": "Lnq21FWDX046"
   },
   "source": [
    "`isiterable()` 함수를 이용하여\n",
    "리스트는 아니지만 이터러블한 값을 모두 리스트로 형변환 시켜주는 함수를\n",
    "아래와 같이 구현할 수 있다."
   ]
  },
  {
   "cell_type": "code",
   "execution_count": 45,
   "metadata": {
    "executionInfo": {
     "elapsed": 1005,
     "status": "ok",
     "timestamp": 1615199884999,
     "user": {
      "displayName": "",
      "photoUrl": "",
      "userId": ""
     },
     "user_tz": -540
    },
    "id": "WdgIwtq3X046"
   },
   "outputs": [],
   "source": [
    "def toList(x):\n",
    "    if not isinstance(x, list) and isiterable(x):\n",
    "        return list(x)"
   ]
  },
  {
   "cell_type": "markdown",
   "metadata": {
    "id": "4N9JTgPkX047"
   },
   "source": [
    "이제 문자열과 튜플을 리스트로 변환할 수 있다."
   ]
  },
  {
   "cell_type": "code",
   "execution_count": 46,
   "metadata": {
    "colab": {
     "base_uri": "https://localhost:8080/"
    },
    "executionInfo": {
     "elapsed": 1001,
     "status": "ok",
     "timestamp": 1615199884999,
     "user": {
      "displayName": "",
      "photoUrl": "",
      "userId": ""
     },
     "user_tz": -540
    },
    "id": "O0LACklnX047",
    "outputId": "96dc1ebc-2258-490c-96d4-4fb5696f39ed"
   },
   "outputs": [
    {
     "data": {
      "text/plain": [
       "['1', '2', '3']"
      ]
     },
     "execution_count": 46,
     "metadata": {},
     "output_type": "execute_result"
    }
   ],
   "source": [
    "toList(\"123\")"
   ]
  },
  {
   "cell_type": "code",
   "execution_count": 47,
   "metadata": {
    "colab": {
     "base_uri": "https://localhost:8080/"
    },
    "executionInfo": {
     "elapsed": 999,
     "status": "ok",
     "timestamp": 1615199885000,
     "user": {
      "displayName": "",
      "photoUrl": "",
      "userId": ""
     },
     "user_tz": -540
    },
    "id": "Z8VCnlW4X047",
    "outputId": "78b0e981-6da9-4cfb-c957-d0772dac22f7"
   },
   "outputs": [
    {
     "data": {
      "text/plain": [
       "[1, 2, 3]"
      ]
     },
     "execution_count": 47,
     "metadata": {},
     "output_type": "execute_result"
    }
   ],
   "source": [
    "toList((1,2,3))"
   ]
  },
  {
   "cell_type": "markdown",
   "metadata": {
    "id": "sJ9B-t5UX048"
   },
   "source": [
    "__참고:__ `toList()` 함수는 사실 `list()` 함수와 동일한 기능을 수행한다."
   ]
  },
  {
   "cell_type": "code",
   "execution_count": 48,
   "metadata": {
    "colab": {
     "base_uri": "https://localhost:8080/"
    },
    "executionInfo": {
     "elapsed": 995,
     "status": "ok",
     "timestamp": 1615199885000,
     "user": {
      "displayName": "",
      "photoUrl": "",
      "userId": ""
     },
     "user_tz": -540
    },
    "id": "548Uis6RX048",
    "outputId": "653cb368-aab2-4755-9143-9fed21469efa"
   },
   "outputs": [
    {
     "data": {
      "text/plain": [
       "['1', '2', '3']"
      ]
     },
     "execution_count": 48,
     "metadata": {},
     "output_type": "execute_result"
    }
   ],
   "source": [
    "list(\"123\")"
   ]
  },
  {
   "cell_type": "code",
   "execution_count": 49,
   "metadata": {
    "colab": {
     "base_uri": "https://localhost:8080/"
    },
    "executionInfo": {
     "elapsed": 993,
     "status": "ok",
     "timestamp": 1615199885001,
     "user": {
      "displayName": "",
      "photoUrl": "",
      "userId": ""
     },
     "user_tz": -540
    },
    "id": "BJusRHJHX048",
    "outputId": "f736c22a-587d-44c4-deb0-46511da729dd"
   },
   "outputs": [
    {
     "data": {
      "text/plain": [
       "[1, 2, 3]"
      ]
     },
     "execution_count": 49,
     "metadata": {},
     "output_type": "execute_result"
    }
   ],
   "source": [
    "list((1,2,3))"
   ]
  },
  {
   "cell_type": "markdown",
   "metadata": {
    "id": "wiOAAUrWX049"
   },
   "source": [
    "### 모듈 불러오기"
   ]
  },
  {
   "cell_type": "markdown",
   "metadata": {
    "id": "V9IEXBdBX049"
   },
   "source": [
    "__모듈__(module)은 파이썬 소스코드를 담고 있는, 확장자가 `.py`인 파이썬 스크립트 파일이다.\n",
    "\n",
    "다음 내용을 담은 모듈 `some_module.py`가 현재 주피터 노트북이 실행되고 있는 디렉토리에\n",
    "저장되어 있다고 가정하자."
   ]
  },
  {
   "cell_type": "markdown",
   "metadata": {
    "id": "gJ_zg2_EX049"
   },
   "source": [
    "```python\n",
    "# some_module.py\n",
    "PI = 3.14159\n",
    "\n",
    "def f(x):\n",
    "    return x + 2\n",
    "\n",
    "def g(a, b):\n",
    "    return a + b\n",
    "```"
   ]
  },
  {
   "cell_type": "markdown",
   "metadata": {
    "id": "DqSobztIZ6dR"
   },
   "source": [
    "__주의사항:__ 구글 코랩에서 아래 코드를 실행하려면 먼저 `some_module.py` 파일을 구글 코랩에 업로드 해야 한다. 아니면 아래 코드를 실행해서 해당 코드를 다운로드할 수도 있다. "
   ]
  },
  {
   "cell_type": "code",
   "execution_count": 50,
   "metadata": {
    "colab": {
     "base_uri": "https://localhost:8080/"
    },
    "executionInfo": {
     "elapsed": 1277,
     "status": "ok",
     "timestamp": 1615199885289,
     "user": {
      "displayName": "",
      "photoUrl": "",
      "userId": ""
     },
     "user_tz": -540
    },
    "id": "Zho-wkNrYIhB",
    "outputId": "96d0cbb2-77e3-4a0c-d943-302783312f73"
   },
   "outputs": [
    {
     "data": {
      "text/plain": [
       "('./some_module.py', <http.client.HTTPMessage at 0x2bd58759730>)"
      ]
     },
     "execution_count": 50,
     "metadata": {},
     "output_type": "execute_result"
    }
   ],
   "source": [
    "import urllib.request\n",
    "DOWNLOAD_ROOT = \"https://raw.githubusercontent.com/codingalzi/python-data-analysis/master/\"\n",
    "url = DOWNLOAD_ROOT + \"notebooks/some_module.py\"\n",
    "urllib.request.urlretrieve(url, \"./some_module.py\")"
   ]
  },
  {
   "cell_type": "markdown",
   "metadata": {
    "id": "orMSMJmcX049"
   },
   "source": [
    "모듈 `some_module`을 불러와서(import) 그 안에 정의된 함수와 변수를 사용하는 방법은\n",
    "다음과 같이 모듈이름과 함께 사용한다."
   ]
  },
  {
   "cell_type": "code",
   "execution_count": 51,
   "metadata": {
    "executionInfo": {
     "elapsed": 1274,
     "status": "ok",
     "timestamp": 1615199885289,
     "user": {
      "displayName": "",
      "photoUrl": "",
      "userId": ""
     },
     "user_tz": -540
    },
    "id": "ALFlwBEMX049"
   },
   "outputs": [],
   "source": [
    "import some_module"
   ]
  },
  {
   "cell_type": "code",
   "execution_count": 52,
   "metadata": {
    "colab": {
     "base_uri": "https://localhost:8080/"
    },
    "executionInfo": {
     "elapsed": 1271,
     "status": "ok",
     "timestamp": 1615199885290,
     "user": {
      "displayName": "",
      "photoUrl": "",
      "userId": ""
     },
     "user_tz": -540
    },
    "id": "XxYnIsNLX049",
    "outputId": "223a9721-ce59-42fb-a633-79fe5456addb"
   },
   "outputs": [
    {
     "name": "stdout",
     "output_type": "stream",
     "text": [
      "result:\t 7\n",
      "pi:\t 3.14159\n"
     ]
    }
   ],
   "source": [
    "result = some_module.f(5)\n",
    "pi = some_module.PI\n",
    "\n",
    "print(f\"result:\\t {result}\", f\"pi:\\t {pi}\", sep='\\n')"
   ]
  },
  {
   "cell_type": "markdown",
   "metadata": {
    "id": "nOgtKVvSX04-"
   },
   "source": [
    "모듈에서 특정 변수와 함수만을 불러오면 모듈 이름을 사용할 필요가 없다."
   ]
  },
  {
   "cell_type": "code",
   "execution_count": 53,
   "metadata": {
    "colab": {
     "base_uri": "https://localhost:8080/"
    },
    "executionInfo": {
     "elapsed": 1267,
     "status": "ok",
     "timestamp": 1615199885290,
     "user": {
      "displayName": "",
      "photoUrl": "",
      "userId": ""
     },
     "user_tz": -540
    },
    "id": "ZCdUTd33X04-",
    "outputId": "9535591c-65ce-4f57-c8e7-50ee7b255bb8"
   },
   "outputs": [
    {
     "data": {
      "text/plain": [
       "8.14159"
      ]
     },
     "execution_count": 53,
     "metadata": {},
     "output_type": "execute_result"
    }
   ],
   "source": [
    "from some_module import g, PI\n",
    "\n",
    "g(5, PI)"
   ]
  },
  {
   "cell_type": "markdown",
   "metadata": {
    "id": "QaZSI9CCX04-"
   },
   "source": [
    "모듈에 별칭을 주려면 `as` 예약어를 사용하여 지정한다."
   ]
  },
  {
   "cell_type": "code",
   "execution_count": 54,
   "metadata": {
    "colab": {
     "base_uri": "https://localhost:8080/"
    },
    "executionInfo": {
     "elapsed": 1265,
     "status": "ok",
     "timestamp": 1615199885291,
     "user": {
      "displayName": "",
      "photoUrl": "",
      "userId": ""
     },
     "user_tz": -540
    },
    "id": "SGjkjE5NX04-",
    "outputId": "21f8e9cf-851d-4a8f-f845-bfbcfef85cb1"
   },
   "outputs": [
    {
     "data": {
      "text/plain": [
       "5.14159"
      ]
     },
     "execution_count": 54,
     "metadata": {},
     "output_type": "execute_result"
    }
   ],
   "source": [
    "import some_module as sm\n",
    "\n",
    "sm.f(pi)"
   ]
  },
  {
   "cell_type": "markdown",
   "metadata": {
    "id": "MxjkpNv7X04_"
   },
   "source": [
    "함수 또는 변수만 따로 불러올 때에서 별칭을 줄 수 있다. \n",
    "역시 `as` 예약어를 이용한다."
   ]
  },
  {
   "cell_type": "code",
   "execution_count": 55,
   "metadata": {
    "colab": {
     "base_uri": "https://localhost:8080/"
    },
    "executionInfo": {
     "elapsed": 1261,
     "status": "ok",
     "timestamp": 1615199885291,
     "user": {
      "displayName": "",
      "photoUrl": "",
      "userId": ""
     },
     "user_tz": -540
    },
    "id": "K-xZfoOYX04_",
    "outputId": "ce3f26f8-7640-43c6-ca0b-6cd8ff3a9ba7"
   },
   "outputs": [
    {
     "data": {
      "text/plain": [
       "12.283180000000002"
      ]
     },
     "execution_count": 55,
     "metadata": {},
     "output_type": "execute_result"
    }
   ],
   "source": [
    "from some_module import PI as pi, g as gf\n",
    "\n",
    "gf(6, pi) + pi"
   ]
  },
  {
   "cell_type": "markdown",
   "metadata": {
    "id": "LlRNR6aTX04_"
   },
   "source": [
    "### 이항 연산자와 비교문"
   ]
  },
  {
   "cell_type": "markdown",
   "metadata": {
    "id": "F7ersisvX04_"
   },
   "source": [
    "사칙연산과 비교문의 사용법은 일반적으로 알려진 방식과 동일하다."
   ]
  },
  {
   "cell_type": "code",
   "execution_count": 56,
   "metadata": {
    "colab": {
     "base_uri": "https://localhost:8080/"
    },
    "executionInfo": {
     "elapsed": 1256,
     "status": "ok",
     "timestamp": 1615199885291,
     "user": {
      "displayName": "",
      "photoUrl": "",
      "userId": ""
     },
     "user_tz": -540
    },
    "id": "mmug2OC6X05A",
    "outputId": "f4bc0c8f-2333-4ab8-f845-127d7937d53b"
   },
   "outputs": [
    {
     "data": {
      "text/plain": [
       "-2"
      ]
     },
     "execution_count": 56,
     "metadata": {},
     "output_type": "execute_result"
    }
   ],
   "source": [
    "5 - 7"
   ]
  },
  {
   "cell_type": "code",
   "execution_count": 57,
   "metadata": {
    "colab": {
     "base_uri": "https://localhost:8080/"
    },
    "executionInfo": {
     "elapsed": 1254,
     "status": "ok",
     "timestamp": 1615199885292,
     "user": {
      "displayName": "",
      "photoUrl": "",
      "userId": ""
     },
     "user_tz": -540
    },
    "id": "2wLhTjnQX05A",
    "outputId": "65eed862-8c3b-4e36-e950-a84856998344"
   },
   "outputs": [
    {
     "data": {
      "text/plain": [
       "33.5"
      ]
     },
     "execution_count": 57,
     "metadata": {},
     "output_type": "execute_result"
    }
   ],
   "source": [
    "12 + 21.5"
   ]
  },
  {
   "cell_type": "code",
   "execution_count": 58,
   "metadata": {
    "colab": {
     "base_uri": "https://localhost:8080/"
    },
    "executionInfo": {
     "elapsed": 1250,
     "status": "ok",
     "timestamp": 1615199885292,
     "user": {
      "displayName": "",
      "photoUrl": "",
      "userId": ""
     },
     "user_tz": -540
    },
    "id": "onAkqeCnX05A",
    "outputId": "1de6dbc7-d85d-4d1f-f67c-7f92f7644455"
   },
   "outputs": [
    {
     "data": {
      "text/plain": [
       "False"
      ]
     },
     "execution_count": 58,
     "metadata": {},
     "output_type": "execute_result"
    }
   ],
   "source": [
    "5 <= 2"
   ]
  },
  {
   "cell_type": "markdown",
   "metadata": {
    "id": "VUjrLDYgX05A"
   },
   "source": [
    "부등호 연산자는 여러 개를 종합하여 사용할 수도 있다."
   ]
  },
  {
   "cell_type": "code",
   "execution_count": 59,
   "metadata": {
    "colab": {
     "base_uri": "https://localhost:8080/"
    },
    "executionInfo": {
     "elapsed": 1247,
     "status": "ok",
     "timestamp": 1615199885293,
     "user": {
      "displayName": "",
      "photoUrl": "",
      "userId": ""
     },
     "user_tz": -540
    },
    "id": "MTauElIgX05A",
    "outputId": "fcee1987-6b70-4a44-a44e-de9e95f7cf6d"
   },
   "outputs": [
    {
     "data": {
      "text/plain": [
       "True"
      ]
     },
     "execution_count": 59,
     "metadata": {},
     "output_type": "execute_result"
    }
   ],
   "source": [
    "4 > 3 >= 2 > 1"
   ]
  },
  {
   "cell_type": "markdown",
   "metadata": {
    "id": "kiu-HeyqX05B"
   },
   "source": [
    "파이썬에서 지원하는 주요 이항 연산자는 다음과 같다.\n",
    "\n",
    "| 이항 연산자 | 설명 |\n",
    "| :--- | :--- |\n",
    "| a + b | a와 b를 더한다|\n",
    "| a - b | a에서 b를 뺀다|\n",
    "| a * b | a와 b를 곱한다|\n",
    "| a / b | a를 b로 나눈다|\n",
    "| a // b | a를 b로 나눈 몫을 계산한다|\n",
    "| a ** b | a의 b승을 구한다|\n",
    "| a == b | a와 b가 동일한 값을 가리키는지 여부 판단|\n",
    "| a != b | a와 b가 서로 다른 값을 가리키는지 여부 판단|\n",
    "| a < b | a가 b보다 작은지 여부 판단|\n",
    "| a <= b | a가 b보다 작거나 같은지 여부 판단|\n",
    "| a > b | a가 b보다 큰지 여부 판단|\n",
    "| a >= b | a가 b보다 크거나 같은지 여부 판단|\n",
    "| a is b | a와 b가 동일한 위치에 저장된 값을 참조하는지 여부 판단|\n",
    "| a is not b | a와 b가 다른 위치에 저정된 값을 참조하는지 여부 판단|"
   ]
  },
  {
   "cell_type": "markdown",
   "metadata": {
    "id": "GdZxO491X05B"
   },
   "source": [
    "#### `is`와 `==`의 차이"
   ]
  },
  {
   "cell_type": "markdown",
   "metadata": {
    "id": "p_IaRxd8X05B"
   },
   "source": [
    "세 개의 변수 `a`, `b`, `c`를 아래처럼 선언하자."
   ]
  },
  {
   "cell_type": "code",
   "execution_count": 60,
   "metadata": {
    "executionInfo": {
     "elapsed": 1243,
     "status": "ok",
     "timestamp": 1615199885293,
     "user": {
      "displayName": "",
      "photoUrl": "",
      "userId": ""
     },
     "user_tz": -540
    },
    "id": "2aOiw5tHX05B"
   },
   "outputs": [],
   "source": [
    "a = [1, 2, 3]\n",
    "b = a\n",
    "c = list(a)"
   ]
  },
  {
   "cell_type": "markdown",
   "metadata": {
    "id": "wptUEeV3X05B"
   },
   "source": [
    "앞서 참조에 대해서 설명한 것처럼 각 변수가 참조하는 리스트는 아래 그림에서와 같다."
   ]
  },
  {
   "cell_type": "markdown",
   "metadata": {
    "id": "THnuoZ99X05C"
   },
   "source": [
    "<img src=\"https://github.com/codingalzi/python-data-analysis/blob/master/notebooks/images/variables-a-b-3.png?raw=1\" style=\"width:330px;\">"
   ]
  },
  {
   "cell_type": "markdown",
   "metadata": {
    "id": "Y5kaybe_X05C"
   },
   "source": [
    "먼저, `is` 연산자는 동일한 위치에 저정된 값을 참조하는지 여부를 결정한다.\n",
    "예를 들어, `a`와 `b`는 동일한 리스트를 참조한다."
   ]
  },
  {
   "cell_type": "code",
   "execution_count": 61,
   "metadata": {
    "colab": {
     "base_uri": "https://localhost:8080/"
    },
    "executionInfo": {
     "elapsed": 1240,
     "status": "ok",
     "timestamp": 1615199885294,
     "user": {
      "displayName": "",
      "photoUrl": "",
      "userId": ""
     },
     "user_tz": -540
    },
    "id": "sKNmOQpKX05C",
    "outputId": "f6b0a83c-d0ce-421b-edeb-a1cd1dde59d6"
   },
   "outputs": [
    {
     "data": {
      "text/plain": [
       "True"
      ]
     },
     "execution_count": 61,
     "metadata": {},
     "output_type": "execute_result"
    }
   ],
   "source": [
    "a is b"
   ]
  },
  {
   "cell_type": "markdown",
   "metadata": {
    "id": "rXATe6G-X05C"
   },
   "source": [
    "반면에 `a`와 `c `는 서로 다른 리스트를 참조한다.\n",
    "\n",
    "__참고:__ `is not`은 서로 다른 위치에 저정된 값을 참조할 때 참이다."
   ]
  },
  {
   "cell_type": "code",
   "execution_count": 62,
   "metadata": {
    "colab": {
     "base_uri": "https://localhost:8080/"
    },
    "executionInfo": {
     "elapsed": 1519,
     "status": "ok",
     "timestamp": 1615199885576,
     "user": {
      "displayName": "",
      "photoUrl": "",
      "userId": ""
     },
     "user_tz": -540
    },
    "id": "jrywC9xWX05C",
    "outputId": "d801abc8-5f80-4f94-8506-4fb87df3037b"
   },
   "outputs": [
    {
     "data": {
      "text/plain": [
       "False"
      ]
     },
     "execution_count": 62,
     "metadata": {},
     "output_type": "execute_result"
    }
   ],
   "source": [
    "a is c"
   ]
  },
  {
   "cell_type": "code",
   "execution_count": 63,
   "metadata": {
    "colab": {
     "base_uri": "https://localhost:8080/"
    },
    "executionInfo": {
     "elapsed": 1515,
     "status": "ok",
     "timestamp": 1615199885577,
     "user": {
      "displayName": "",
      "photoUrl": "",
      "userId": ""
     },
     "user_tz": -540
    },
    "id": "GeeET_XXX05D",
    "outputId": "326e75f1-4945-41b0-df4d-1d595b26be00"
   },
   "outputs": [
    {
     "data": {
      "text/plain": [
       "True"
      ]
     },
     "execution_count": 63,
     "metadata": {},
     "output_type": "execute_result"
    }
   ],
   "source": [
    "a is not c"
   ]
  },
  {
   "cell_type": "markdown",
   "metadata": {
    "id": "UW-EGU9WX05D"
   },
   "source": [
    "반면에, `==` 연산자는 두 변수가 참조하는 값이 동일한 값인지 여부를 판단한다.\n",
    "예를 들어, 두 변수 `a`, `c`가 비록 서로 다른 위치에 저정된 값을 참조하기는 하지만\n",
    "참조된 두 값 모두 리스트 `[1, 2, 3]` 으로 동일한 값이다."
   ]
  },
  {
   "cell_type": "code",
   "execution_count": 64,
   "metadata": {
    "colab": {
     "base_uri": "https://localhost:8080/"
    },
    "executionInfo": {
     "elapsed": 1511,
     "status": "ok",
     "timestamp": 1615199885577,
     "user": {
      "displayName": "",
      "photoUrl": "",
      "userId": ""
     },
     "user_tz": -540
    },
    "id": "My90zs-GX05F",
    "outputId": "c443d6cb-e547-4232-bc62-debb633a309d"
   },
   "outputs": [
    {
     "data": {
      "text/plain": [
       "True"
      ]
     },
     "execution_count": 64,
     "metadata": {},
     "output_type": "execute_result"
    }
   ],
   "source": [
    "a == c"
   ]
  },
  {
   "cell_type": "markdown",
   "metadata": {
    "id": "6W7sL9_jX05F"
   },
   "source": [
    "아래는 당연히 성립한다."
   ]
  },
  {
   "cell_type": "code",
   "execution_count": 65,
   "metadata": {
    "colab": {
     "base_uri": "https://localhost:8080/"
    },
    "executionInfo": {
     "elapsed": 1508,
     "status": "ok",
     "timestamp": 1615199885578,
     "user": {
      "displayName": "",
      "photoUrl": "",
      "userId": ""
     },
     "user_tz": -540
    },
    "id": "BanppZhQX05F",
    "outputId": "afc7c39a-ca33-47b3-826a-127e15a3c4a4"
   },
   "outputs": [
    {
     "data": {
      "text/plain": [
       "True"
      ]
     },
     "execution_count": 65,
     "metadata": {},
     "output_type": "execute_result"
    }
   ],
   "source": [
    "a == b"
   ]
  },
  {
   "cell_type": "markdown",
   "metadata": {
    "id": "qiGGvRgPX05G"
   },
   "source": [
    "`!=` 는 `==`와 반대로 작동한다."
   ]
  },
  {
   "cell_type": "code",
   "execution_count": 66,
   "metadata": {
    "colab": {
     "base_uri": "https://localhost:8080/"
    },
    "executionInfo": {
     "elapsed": 1505,
     "status": "ok",
     "timestamp": 1615199885578,
     "user": {
      "displayName": "",
      "photoUrl": "",
      "userId": ""
     },
     "user_tz": -540
    },
    "id": "VOnku_CGX05G",
    "outputId": "6e74b58a-eb43-4748-c90d-916a39b6f5f8"
   },
   "outputs": [
    {
     "data": {
      "text/plain": [
       "False"
      ]
     },
     "execution_count": 66,
     "metadata": {},
     "output_type": "execute_result"
    }
   ],
   "source": [
    "a != c"
   ]
  },
  {
   "cell_type": "code",
   "execution_count": 67,
   "metadata": {
    "colab": {
     "base_uri": "https://localhost:8080/"
    },
    "executionInfo": {
     "elapsed": 1502,
     "status": "ok",
     "timestamp": 1615199885579,
     "user": {
      "displayName": "",
      "photoUrl": "",
      "userId": ""
     },
     "user_tz": -540
    },
    "id": "B-VRboviX05G",
    "outputId": "25416bda-8f01-4424-8cd1-70c577e19821"
   },
   "outputs": [
    {
     "data": {
      "text/plain": [
       "False"
      ]
     },
     "execution_count": 67,
     "metadata": {},
     "output_type": "execute_result"
    }
   ],
   "source": [
    "a != b"
   ]
  },
  {
   "cell_type": "markdown",
   "metadata": {
    "id": "4m5kq2zkX05G"
   },
   "source": [
    "__참고:__ 앞서 언급된 산술 연산자 이외에 논리 연산자, 비트 연산자가 사용된다.\n",
    "논리 연산자는 아래에서 좀 더 살펴볼 예정이지만 비트 연산자는 여기서는 다루지 않는 \n",
    "대신에 [파이썬 코딩도장: 비트 연산자 사용하기](https://dojang.io/mod/page/view.php?id=2460)를\n",
    "추천한다."
   ]
  },
  {
   "cell_type": "markdown",
   "metadata": {
    "id": "EjfVxk49X05H"
   },
   "source": [
    "### 변경 가능한(mutable) 객체와 변경 불가능한(immutable) 객체"
   ]
  },
  {
   "cell_type": "markdown",
   "metadata": {
    "id": "gG4yYjDfX05H"
   },
   "source": [
    "리스트, 사전, 넘파이 어레이 등은 변경이 가능한 자료형이다.\n",
    "\n",
    "예를 들어, 리스트의 항목을 교체할 수 있다."
   ]
  },
  {
   "cell_type": "code",
   "execution_count": 68,
   "metadata": {
    "colab": {
     "base_uri": "https://localhost:8080/"
    },
    "executionInfo": {
     "elapsed": 685,
     "status": "ok",
     "timestamp": 1615199896832,
     "user": {
      "displayName": "",
      "photoUrl": "",
      "userId": ""
     },
     "user_tz": -540
    },
    "id": "iqLAUD27X05H",
    "outputId": "81e1eeb4-f11d-4837-f5a8-b1549006bf99"
   },
   "outputs": [
    {
     "data": {
      "text/plain": [
       "['foo', 2, (3, 4)]"
      ]
     },
     "execution_count": 68,
     "metadata": {},
     "output_type": "execute_result"
    }
   ],
   "source": [
    "a_list = ['foo', 2, [4, 5]]\n",
    "a_list[2] = (3, 4)\n",
    "\n",
    "a_list"
   ]
  },
  {
   "cell_type": "markdown",
   "metadata": {
    "id": "oVIOcvPxX05H"
   },
   "source": [
    "리스트에 새로운 항목을 추가할 수도 있다."
   ]
  },
  {
   "cell_type": "code",
   "execution_count": 69,
   "metadata": {
    "colab": {
     "base_uri": "https://localhost:8080/"
    },
    "executionInfo": {
     "elapsed": 567,
     "status": "ok",
     "timestamp": 1615199900345,
     "user": {
      "displayName": "",
      "photoUrl": "",
      "userId": ""
     },
     "user_tz": -540
    },
    "id": "K-bhCVXrX05H",
    "outputId": "98a37c24-5a1a-479e-80da-7a5df7c90738"
   },
   "outputs": [
    {
     "data": {
      "text/plain": [
       "['foo', 2, (3, 4), 'four']"
      ]
     },
     "execution_count": 69,
     "metadata": {},
     "output_type": "execute_result"
    }
   ],
   "source": [
    "a_list.append('four')\n",
    "\n",
    "a_list"
   ]
  },
  {
   "cell_type": "markdown",
   "metadata": {
    "id": "Vr_2RJdFX05I"
   },
   "source": [
    "반면에 문자열과 튜플은 항목 수정이 불가능하다."
   ]
  },
  {
   "cell_type": "code",
   "execution_count": 70,
   "metadata": {
    "colab": {
     "base_uri": "https://localhost:8080/",
     "height": 200
    },
    "executionInfo": {
     "elapsed": 676,
     "status": "error",
     "timestamp": 1615199901931,
     "user": {
      "displayName": "",
      "photoUrl": "",
      "userId": ""
     },
     "user_tz": -540
    },
    "id": "cAtPedLqX05I",
    "outputId": "67711850-87fa-4ad0-c51e-b4a53b0fcf00"
   },
   "outputs": [
    {
     "ename": "TypeError",
     "evalue": "'tuple' object does not support item assignment",
     "output_type": "error",
     "traceback": [
      "\u001b[1;31m---------------------------------------------------------------------------\u001b[0m",
      "\u001b[1;31mTypeError\u001b[0m                                 Traceback (most recent call last)",
      "\u001b[1;32m<ipython-input-70-47e051761c01>\u001b[0m in \u001b[0;36m<module>\u001b[1;34m\u001b[0m\n\u001b[0;32m      1\u001b[0m \u001b[0ma_tuple\u001b[0m \u001b[1;33m=\u001b[0m \u001b[1;33m(\u001b[0m\u001b[1;36m3\u001b[0m\u001b[1;33m,\u001b[0m \u001b[1;36m5\u001b[0m\u001b[1;33m,\u001b[0m \u001b[1;33m(\u001b[0m\u001b[1;36m4\u001b[0m\u001b[1;33m,\u001b[0m \u001b[1;36m5\u001b[0m\u001b[1;33m)\u001b[0m\u001b[1;33m)\u001b[0m\u001b[1;33m\u001b[0m\u001b[1;33m\u001b[0m\u001b[0m\n\u001b[0;32m      2\u001b[0m \u001b[1;33m\u001b[0m\u001b[0m\n\u001b[1;32m----> 3\u001b[1;33m \u001b[0ma_tuple\u001b[0m\u001b[1;33m[\u001b[0m\u001b[1;36m1\u001b[0m\u001b[1;33m]\u001b[0m \u001b[1;33m=\u001b[0m \u001b[1;34m'four'\u001b[0m\u001b[1;33m\u001b[0m\u001b[1;33m\u001b[0m\u001b[0m\n\u001b[0m",
      "\u001b[1;31mTypeError\u001b[0m: 'tuple' object does not support item assignment"
     ]
    }
   ],
   "source": [
    "a_tuple = (3, 5, (4, 5))\n",
    "\n",
    "a_tuple[1] = 'four'"
   ]
  },
  {
   "cell_type": "code",
   "execution_count": 71,
   "metadata": {
    "colab": {
     "base_uri": "https://localhost:8080/",
     "height": 183
    },
    "executionInfo": {
     "elapsed": 594,
     "status": "error",
     "timestamp": 1615199904862,
     "user": {
      "displayName": "",
      "photoUrl": "",
      "userId": ""
     },
     "user_tz": -540
    },
    "id": "9leOyDESX05I",
    "outputId": "79745c72-250f-497e-bfa3-084a8927926b"
   },
   "outputs": [
    {
     "ename": "TypeError",
     "evalue": "'str' object does not support item assignment",
     "output_type": "error",
     "traceback": [
      "\u001b[1;31m---------------------------------------------------------------------------\u001b[0m",
      "\u001b[1;31mTypeError\u001b[0m                                 Traceback (most recent call last)",
      "\u001b[1;32m<ipython-input-71-eb254ba7dce7>\u001b[0m in \u001b[0;36m<module>\u001b[1;34m\u001b[0m\n\u001b[0;32m      1\u001b[0m \u001b[0ma_string\u001b[0m \u001b[1;33m=\u001b[0m \u001b[1;34m\"123\"\u001b[0m\u001b[1;33m\u001b[0m\u001b[1;33m\u001b[0m\u001b[0m\n\u001b[1;32m----> 2\u001b[1;33m \u001b[0ma_string\u001b[0m\u001b[1;33m[\u001b[0m\u001b[1;36m2\u001b[0m\u001b[1;33m]\u001b[0m\u001b[1;33m=\u001b[0m\u001b[1;34m'4'\u001b[0m\u001b[1;33m\u001b[0m\u001b[1;33m\u001b[0m\u001b[0m\n\u001b[0m",
      "\u001b[1;31mTypeError\u001b[0m: 'str' object does not support item assignment"
     ]
    }
   ],
   "source": [
    "a_string = \"123\"\n",
    "a_string[2]='4'"
   ]
  }
 ],
 "metadata": {
  "colab": {
   "name": "pydata02-python-basics-1.ipynb의 사본",
   "provenance": [
    {
     "file_id": "https://github.com/codingalzi/python-data-analysis/blob/master/notebooks/pydata02-python-basics-1.ipynb",
     "timestamp": 1615199938293
    }
   ]
  },
  "kernelspec": {
   "display_name": "Python 3",
   "language": "python",
   "name": "python3"
  },
  "language_info": {
   "codemirror_mode": {
    "name": "ipython",
    "version": 3
   },
   "file_extension": ".py",
   "mimetype": "text/x-python",
   "name": "python",
   "nbconvert_exporter": "python",
   "pygments_lexer": "ipython3",
   "version": "3.8.3"
  }
 },
 "nbformat": 4,
 "nbformat_minor": 1
}
