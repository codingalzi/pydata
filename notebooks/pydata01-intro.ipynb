{
 "cells": [
  {
   "cell_type": "markdown",
   "metadata": {
    "slideshow": {
     "slide_type": "-"
    }
   },
   "source": [
    "# 강의 소개"
   ]
  },
  {
   "cell_type": "markdown",
   "metadata": {
    "slideshow": {
     "slide_type": "slide"
    }
   },
   "source": [
    "최근 몇 년 사이에 머신러닝/딥러닝 기술이 획기적으로 발전하면서 데이터 분석 및 인공지능 관련 연구의 \n",
    "중요성이 사회, 경제, 산업의 거의 모든 분야에 지대한 영향을 미치고 있으며,\n",
    "앞으로 그런 경향이 더욱 강화될 것으로 기대된다.\n",
    "이에 본 강의에서는 데이터 분석의 기본 아이디어와 다양한 활용법을 실전 예제와 \n",
    "함께 전달하여 학습자의 문제해결능력을 향상시키고자 한다.\n",
    "데이터 분석의 다양한 개념과 기법에 대한 이해는 머신러닝/딥러닝 학습을 위한 필수조건이기도 하다."
   ]
  },
  {
   "cell_type": "markdown",
   "metadata": {},
   "source": [
    "## 데이터 과학과 파이썬 데이터 분석"
   ]
  },
  {
   "cell_type": "markdown",
   "metadata": {},
   "source": [
    "데이터 과학이란 **주어진 데이터로부터 수학과 통계에 대한 지식을 활용하여 필요한 정보를 추출하는 학문 분야**이다.\n",
    "반면에 파이썬 데이터 분석은 **데이터 과학의 주요 연구 도구**이다. \n",
    "\n",
    "파이썬 데이터 분석 학습을 위해 아래 분야의 기초지식이 요구되지만\n",
    "미적분학, 선형대수, 확률과통계 관련 이론은 필요한 최소의 내용만 다룬다.\n",
    "\n",
    "* 파이썬 프로그래밍\n",
    "* 미적분학, 선형대수, 확률과통계"
   ]
  },
  {
   "cell_type": "markdown",
   "metadata": {
    "slideshow": {
     "slide_type": "slide"
    }
   },
   "source": [
    "## 데이터 과학, 인공지능, 머신러닝, 딥러닝"
   ]
  },
  {
   "cell_type": "markdown",
   "metadata": {
    "slideshow": {
     "slide_type": "slide"
    }
   },
   "source": [
    "데이터 과학과 인공지능, 머신러닝, 딥러닝의 관계는 아래 그림으로 설명된다.\n",
    "\n",
    "![관계](./images/ai-ml-relation.png)\n",
    "\n",
    "그림 출처: [교보문고: 에이지 오브 머신러닝](https://bit.ly/2YmwB7U)\n",
    "\n",
    "위 그림에서 언급된 분야들의 정의는 다음과 같다. \n",
    "\n",
    "* 인공지능: 사고나 학습 등 인간이 가진 지적능력을 컴퓨터를 통해 구현하는 \n",
    "    기술 또는 해당 연구 분야\n",
    "* 머신러닝: 컴퓨터가 데이터로부터 스스로 정보를 추출하는 기법 또는 해당 연구 분야.\n",
    "* 딥러닝: 인공신경망 이론을 기반으로 복잡한 비선형 문제를 해결하는 머신러닝 기법 \n",
    "    또는 해당 연구 분야"
   ]
  },
  {
   "cell_type": "markdown",
   "metadata": {
    "slideshow": {
     "slide_type": "slide"
    }
   },
   "source": [
    "## 주요 학습내용"
   ]
  },
  {
   "cell_type": "markdown",
   "metadata": {
    "slideshow": {
     "slide_type": "slide"
    }
   },
   "source": [
    "* 파이썬 프로그래밍 언어 기초 1\n",
    "* 파이썬 프로그래밍 언어 기초 2\n",
    "* numpy 기초\n",
    "* pandas 기초\n",
    "* 데이터 불러오기 및 저장, 파일 형식\n",
    "* 데이터 전처리: 데이터 정제 및 변환\n",
    "* 데이터 다루기: 조인, 병합, 변형\n",
    "* 데이터 시각화\n",
    "* 데이터 집계와 그룹화 연산\n",
    "* 시계열 데이터\n",
    "* 고급 pandas\n",
    "* 모델링 라이브러리 소개: statsmodels, scikit-learn\n",
    "* 데이터 분석 실전 예제"
   ]
  },
  {
   "cell_type": "markdown",
   "metadata": {},
   "source": [
    "## 파이썬 프로그래밍 언어"
   ]
  },
  {
   "cell_type": "markdown",
   "metadata": {
    "slideshow": {
     "slide_type": "slide"
    }
   },
   "source": [
    "실습에 사용되는 프로그래밍 언어는 파이썬(Python)이며, 현재 데이터 분석 및 머신러닝 분야에서 \n",
    "가장 많이 사용되는 언어이다.\n",
    "파이썬은 1991년 귀도 반 로섬(Guido van Rossum)이라는 프로그래머가 개발한 고급 프로그래밍 언어이며\n",
    "아래의 특징을 갖는다.\n",
    "\n",
    "* C, Java 등과 같은 범용 프로그래밍 언어\n",
    "* 객체지향 언어\n",
    "* 인터프리터 언어 (스크립트 언어라고도 불림)\n",
    "* 동적타이핑 지원\n",
    "\n",
    "TIOBE Index 2021년 2월 기준 세 번째로 가장 많이 사용되는 프로그래밍 언어이며 그 추체가 점점 강해지고 있다.\n",
    "\n",
    "<p>\n",
    "<table cellspacing=\"20\">\n",
    "<tr>\n",
    "<td>\n",
    "<img src=\"images/tiobe-index202102.png\" style=\"width:600\">\n",
    "</td>\n",
    "</tr>\n",
    "</table>\n",
    "</p>\n",
    "\n",
    "그림출처: [TIOBE Index](https://www.tiobe.com/tiobe-index/)"
   ]
  },
  {
   "cell_type": "markdown",
   "metadata": {},
   "source": [
    "### 데이터 과학에서의 파이썬 인기도\n",
    "\n",
    "데이터 과학 관련 전문 사이트인 KDnuggets에서 수행한 데이터 과학 분야에서의 소프트웨어 인기도 조사에서 \n",
    "가장 많은 사용자가 사용하는 언어로 선정됨.\n",
    "\n",
    "<p>\n",
    "<table cellspacing=\"20\">\n",
    "<tr>\n",
    "<td>\n",
    "<img src=\"images/KDnuggets-software-poll-2019.jpg\" style=\"height:60\">\n",
    "</td>\n",
    "</tr>\n",
    "</table>\n",
    "</p>\n",
    "\n",
    "그림출처: [KDnuggets](https://www.kdnuggets.com/2019/05/poll-top-data-science-machine-learning-platforms.html)"
   ]
  },
  {
   "cell_type": "markdown",
   "metadata": {},
   "source": [
    "### 파이썬이 데이터 과학 분야에서 인기가 높은 이유\n",
    "\n",
    "* 범용 프로그래밍의 장점과 더불어 R, 매트랩, SQL, 엑셀 등 특정 분야를 위한 언어들의 편리함도 함께 지원\n",
    "* 데이터 적재, 시각화, 통계, 자연어 처리, 이미지 처리 등에 필요한 라이브러리 제공\n",
    "* 머신러닝, 데이터 분석 등을 위한 최신 개발에 특화된 라이브러리가 지속적으로 개발됨.\n",
    "    * 예제: 구글이 개발한 딥러닝 라이브러리 텐서플로(Tensorflow, https://www.tensorflow.org/) \n",
    "* 범용 프로그래밍 언어로써 복잡한 그래픽 사용자 인터페이스(GUI), 웹 서비스 등의 개발에도 적합함.\n",
    "* 아나콘다(Anaconda) 등 데이터 과학에 필수적인 라이브러리와 통합 개발환경을 제공하는 다양한 패키지 존재"
   ]
  },
  {
   "cell_type": "markdown",
   "metadata": {},
   "source": [
    "# 아나콘다(Anaconda) 소개"
   ]
  },
  {
   "cell_type": "markdown",
   "metadata": {},
   "source": [
    "__안내:__\n",
    "여기서는 오프라인 개발환경을 준비하는 방법을 설명한다.\n",
    "하지만 개발환경 설정이 조금 어렵게 다가오는 경우 온라인 개발환경인 \n",
    "[구글 코랩](https://colab.research.google.com/) 사용을 추천한다. "
   ]
  },
  {
   "cell_type": "markdown",
   "metadata": {},
   "source": [
    "## 아나콘다 패키지 소개\n",
    "\n",
    "* 파이썬 프로그래밍 언어 개발환경 \n",
    "* 파이썬 기본 패키지 이외에 데이터 분석용 필수 패키지 포함 \n",
    "* 파이썬 데이터 분석, 머신러닝, 딥러닝 등에 가장 많이 활용되는 패키지 제공"
   ]
  },
  {
   "cell_type": "markdown",
   "metadata": {},
   "source": [
    "## 아나콘다 패키지 다운로드 및 설치\n",
    "\n",
    "아나콘다 패키지를 다운로드 하려면 아래 사이트를 방문한다\n",
    "\n",
    "https://www.anaconda.com/download/\n",
    "    \n",
    "__파이썬3__ 최신 버전을 지원하는 설치파일을 다운로드한 후 실행하여 설치한다. "
   ]
  },
  {
   "cell_type": "markdown",
   "metadata": {},
   "source": [
    "## 주피터 노트북 활용\n",
    "\n",
    "아나콘다 패키지를 설치하면 구글 코랩과 거의 동일하게 작동하는 주피터 노트북을 활용할 수 있다."
   ]
  },
  {
   "cell_type": "markdown",
   "metadata": {},
   "source": [
    "## 참고 동영상\n",
    "\n",
    "아나콘다 패키지 설치 및 주피터 노트북 기본 사용법은 아래 동영상을 참조할 수 있다.\n",
    "\n",
    "* [[파이썬 기초]NO 1. 파이썬 개요 및 아나콘다 설치](https://www.youtube.com/watch?v=cMB6-AxatPU&list=PLRYL8FHwJMhD_Wi22JLm2VURrjt_iVX7X&index=1)\n",
    "* [[파이썬 기초]NO.2 주피터 노트북 사용법](https://www.youtube.com/watch?v=4_-IIfbdR5M&list=PLRYL8FHwJMhD_Wi22JLm2VURrjt_iVX7X&index=2)"
   ]
  },
  {
   "cell_type": "markdown",
   "metadata": {},
   "source": [
    "## 머신러닝(응용수학전공) 강의 예비학습 안내"
   ]
  },
  {
   "cell_type": "markdown",
   "metadata": {},
   "source": [
    "### 예비학습 주요 내용과 목적\n",
    "\n",
    "학기가 시작하기 전에 아래 내용을 미리 공부해야 하며,\n",
    "이유와 목적은 다음과 같다.\n",
    "\n",
    "* 파이썬 프로그래밍 왕기초 학습\n",
    "* 학기 중에 학습할 내용 일부 익혀두기\n",
    "* 학기 초에 아래 내용을 반복하겠지만 보다 많은 내용을 보다 빠른 속도로 학습 예정\n",
    "* 파이썬 기초지식이 부족하면 학습에 많은 어려움 발생"
   ]
  },
  {
   "cell_type": "markdown",
   "metadata": {},
   "source": [
    "### 예비학습 1\n",
    "\n",
    "* 구글 코랩(Google Colab) 활용법 익혀두기\n",
    "* 구글 코랩만 이용하여 강의 진행 예정\n",
    "* 참조: [구글 코랩 기초 사용법 안내 동영상](https://bit.ly/2L1NAcE)"
   ]
  },
  {
   "cell_type": "markdown",
   "metadata": {},
   "source": [
    "### 예비학습 2\n",
    "\n",
    "* __파이썬 데이터 과학 입문__ 강좌에서 소개하는 파이썬 프로그래밍 왕기초 학습\n",
    "    * 참조: [파이썬 데이터 과학 입문](https://formal.hknu.ac.kr/Gongsu-DataSci/)\n",
    "* 실습환경: [구글 코랩(Google Colab)](https://colab.research.google.com/)"
   ]
  },
  {
   "cell_type": "markdown",
   "metadata": {},
   "source": [
    "### 예비학습 3\n",
    "\n",
    "* 예비학습2 과정을 마친 후 아래 동영상 시리즈 시청 추천\n",
    "    * 참조: [Data analysis in Python with Pandas](http://bit.ly/3ov40rn)\n",
    "    * 내용: 다양한 판다스 실전 활용법 소개\n",
    "\n",
    "* 자동번역 한글자막 수준이 매우 우수함.\n",
    "    * 설정 => 자막 => 자동 번역 => 한국어.\n",
    "\n",
    "* 참조: [강의노트](http://bit.ly/3osVCJ7)"
   ]
  },
  {
   "cell_type": "markdown",
   "metadata": {},
   "source": [
    "### 학습법\n",
    "\n",
    "* 학습법: 강의노트에서 소개하고 설명하는 내용을 구글 코랩에서 직접 타이핑 하면서 따라해볼 것.\n",
    "\n",
    "* __주의사항:__ 주어진 구글 코랩 강의노트를 단순히 실행만 하면 제대로 학습되지 않을 것임."
   ]
  }
 ],
 "metadata": {
  "kernelspec": {
   "display_name": "Python 3",
   "language": "python",
   "name": "python3"
  },
  "language_info": {
   "codemirror_mode": {
    "name": "ipython",
    "version": 3
   },
   "file_extension": ".py",
   "mimetype": "text/x-python",
   "name": "python",
   "nbconvert_exporter": "python",
   "pygments_lexer": "ipython3",
   "version": "3.8.5"
  }
 },
 "nbformat": 4,
 "nbformat_minor": 2
}
