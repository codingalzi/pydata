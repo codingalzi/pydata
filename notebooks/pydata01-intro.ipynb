{
 "cells": [
  {
   "cell_type": "markdown",
   "metadata": {
    "slideshow": {
     "slide_type": "-"
    }
   },
   "source": [
    "# 강의 소개"
   ]
  },
  {
   "cell_type": "markdown",
   "metadata": {
    "slideshow": {
     "slide_type": "slide"
    }
   },
   "source": [
    "머신러닝/딥러닝 기술이 획기적으로 발전하면서 데이터 분석 및 인공지능 관련 연구의 \n",
    "중요성이 사회, 경제, 산업의 거의 모든 분야에 지대한 영향을 미치고 있으며,\n",
    "앞으로 그런 경향이 더욱 강화될 것으로 기대된다.\n",
    "\n",
    "본 강의는 데이터 분석의 기본 아이디어와 다양한 활용법을 실전 예제와 \n",
    "함께 전달한다. \n",
    "여기서 다루는 내용은 또한 머신러닝/딥러닝 학습을 위한 기초 지식으로 활용된다."
   ]
  },
  {
   "cell_type": "markdown",
   "metadata": {},
   "source": [
    "## 데이터 과학과 파이썬 데이터 분석"
   ]
  },
  {
   "cell_type": "markdown",
   "metadata": {},
   "source": [
    "데이터 과학이란 **주어진 데이터로부터 수학과 통계 지식을 활용하여 필요한 정보를 추출하는 학문 분야**이다.\n",
    "반면에 파이썬 데이터 분석은 **데이터 과학의 주요 연구 도구**이다. \n",
    "\n",
    "파이썬 데이터 분석 학습을 위해 아래 분야의 기초지식이 요구되지만\n",
    "미적분학, 선형대수, 확률과통계 관련 이론은 여기서는 필요한 최소의 내용만 다룬다.\n",
    "\n",
    "* 파이썬 프로그래밍\n",
    "* 미적분학, 선형대수, 확률과통계"
   ]
  },
  {
   "cell_type": "markdown",
   "metadata": {
    "slideshow": {
     "slide_type": "slide"
    }
   },
   "source": [
    "## 데이터 과학, 인공지능, 머신러닝, 딥러닝"
   ]
  },
  {
   "cell_type": "markdown",
   "metadata": {
    "slideshow": {
     "slide_type": "slide"
    }
   },
   "source": [
    "데이터 과학과 인공지능, 머신러닝, 딥러닝의 관계는 아래 그림으로 설명된다.\n",
    "\n",
    "<img src=\"./images/ai-ml-relation.png\" style=\"width:500px;\">\n",
    "\n",
    "그림 출처: [교보문고: 에이지 오브 머신러닝](http://www.kyobobook.co.kr/readIT/readITColumnView.laf?thmId=00198&sntnId=14142)\n",
    "\n",
    "위 그림에서 언급된 분야들의 정의는 다음과 같다. \n",
    "\n",
    "* 인공지능: 사고(thinking), 학습(learning) 등 인간의 지적능력을 컴퓨터를 통해 구현하는 \n",
    "    기술 또는 해당 연구 분야\n",
    "* 머신러닝: 컴퓨터가 데이터로부터 스스로 정보를 추출하는 기법 또는 해당 연구 분야.\n",
    "* 딥러닝: 심층 신경망 이론을 기반으로 복잡한 비선형 문제를 해결하는 머신러닝 기법 \n",
    "    또는 해당 연구 분야    "
   ]
  },
  {
   "cell_type": "markdown",
   "metadata": {
    "slideshow": {
     "slide_type": "slide"
    }
   },
   "source": [
    "역사적 관점에서 바라본 인공지능, 머신러닝, 딥러닝의 관계는 다음과 같다.\n",
    "\n",
    "<img src=\"./images/ai-ml-relation2.png\" style=\"width:600px;\">\n",
    "\n",
    "그림 출처: [NVIDIA 블로그](https://blogs.nvidia.com/blog/2016/07/29/whats-difference-artificial-intelligence-machine-learning-deep-learning-ai/)"
   ]
  },
  {
   "cell_type": "markdown",
   "metadata": {
    "slideshow": {
     "slide_type": "slide"
    }
   },
   "source": [
    "## 주요 학습내용"
   ]
  },
  {
   "cell_type": "markdown",
   "metadata": {
    "slideshow": {
     "slide_type": "slide"
    }
   },
   "source": [
    "* 파이썬 프로그래밍 기초\n",
    "* numpy 기초\n",
    "* pandas 기초\n",
    "* 데이터 불러오기 및 저장\n",
    "* 데이터 전처리: 데이터 정제 및 변환\n",
    "* 데이터 다루기: 조인, 병합, 변형\n",
    "* 데이터 시각화\n",
    "* 데이터 집계와 그룹화\n",
    "* 시계열 데이터\n",
    "* 고급 pandas\n",
    "* 모델링 라이브러리: statsmodels, scikit-learn\n",
    "* 데이터 분석 실전 예제"
   ]
  },
  {
   "cell_type": "markdown",
   "metadata": {},
   "source": [
    "## 파이썬(Python)"
   ]
  },
  {
   "cell_type": "markdown",
   "metadata": {
    "slideshow": {
     "slide_type": "slide"
    }
   },
   "source": [
    "프로그래밍 실습에 사용되는 파이썬(Python)은 현재 데이터 분석 및 머신러닝 분야에서 \n",
    "가장 많이 사용되는 프로그래밍언어이다."
   ]
  },
  {
   "cell_type": "markdown",
   "metadata": {},
   "source": [
    "### 인기도"
   ]
  },
  {
   "cell_type": "markdown",
   "metadata": {
    "slideshow": {
     "slide_type": "slide"
    }
   },
   "source": [
    "TIOBE Index 2021년 2월 기준 세 번째로 가장 많이 사용되는 프로그래밍 언어이며 \n",
    "점유율이 점점 높아지고 있다. \n",
    "\n",
    "<img src=\"images/tiobe-index202102.png\" style=\"width:750px\">\n",
    "\n",
    "그림출처: [TIOBE Index](https://www.tiobe.com/tiobe-index/)"
   ]
  },
  {
   "cell_type": "markdown",
   "metadata": {},
   "source": [
    "데이터 과학 분야로 한정할 경우 파이썬의 인기도가 가장 높다.\n",
    "\n",
    "<img src=\"images/KDnuggets-software-poll-2019.jpg\" style=\"height:400px\">\n",
    "\n",
    "그림출처: [KDnuggets](https://www.kdnuggets.com/2019/05/poll-top-data-science-machine-learning-platforms.html)"
   ]
  },
  {
   "cell_type": "markdown",
   "metadata": {},
   "source": [
    "### 언어 특성"
   ]
  },
  {
   "cell_type": "markdown",
   "metadata": {},
   "source": [
    "파이썬이 데이터 과학 분야에서 인기가 높은 이유는 다음과 같다.\n",
    "\n",
    "* 범용 프로그래밍언어\n",
    "* R, 매트랩, SQL, 엑셀 등 특정 분야에서 유용하게 사용되는 언어들의 기능 지원\n",
    "* 데이터 적재, 시각화, 통계, 자연어 처리, 이미지 처리 등에 필요한 라이브러리 제공\n",
    "* 머신러닝, 데이터 분석 등에 활용될 수 있는 라이브러리 및 도구의 지속적 개발\n",
    "    * [Anaconda](https://www.anaconda.com/products/individual)\n",
    "    * [TensorFlow](https://www.tensorflow.org/)\n",
    "    * [scikit-learn](https://scikit-learn.org/)\n",
    "    * [Keras](https://keras.io/)\n",
    "    * [PyTorch](https://keras.io/)\n",
    "    * ..."
   ]
  }
 ],
 "metadata": {
  "kernelspec": {
   "display_name": "Python 3",
   "language": "python",
   "name": "python3"
  },
  "language_info": {
   "codemirror_mode": {
    "name": "ipython",
    "version": 3
   },
   "file_extension": ".py",
   "mimetype": "text/x-python",
   "name": "python",
   "nbconvert_exporter": "python",
   "pygments_lexer": "ipython3",
   "version": "3.8.3"
  }
 },
 "nbformat": 4,
 "nbformat_minor": 2
}
