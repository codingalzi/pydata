{
 "cells": [
  {
   "cell_type": "markdown",
   "metadata": {},
   "source": [
    "# 선형대수 기초: 벡터와 행렬"
   ]
  },
  {
   "cell_type": "markdown",
   "metadata": {},
   "source": [
    "## 주요 내용"
   ]
  },
  {
   "cell_type": "markdown",
   "metadata": {},
   "source": [
    "선형대수는 벡터와 행렬의 성질을 연구하는 수학의 한 분야이다.\n",
    "여기서는 데이터 분석 기술의 기초를 제공하는 벡터와 행렬의 기본 개념을 소개한다. "
   ]
  },
  {
   "cell_type": "markdown",
   "metadata": {},
   "source": [
    "## 목표"
   ]
  },
  {
   "cell_type": "markdown",
   "metadata": {},
   "source": [
    "넘파이의 어레이는 길이와 모양에 대한 정보와 함께 어레이를 조작하거나 어레이로부터 다양한 정보를 추출하는 메서드를 \n",
    "기본으로 제공한다.\n",
    "반면에 파이썬 리스트(`list`)는 인덱싱 및 기본 리스트 조작 기능 이외에 별 다른 정보와 기능을 제공하지 않는다. \n",
    "\n",
    "여기서는 벡터와 행렬을 각각 1차원과 2차원 리스트로 구현하여 실용적으로 사용하는 과정을 살펴본다.\n",
    "보다 구체적으로는 벡터와 행렬의 자료형 정의에서 출발하여 벡터와 행렬의 연산 등을 모두 리스트와 기본 파이썬만을 \n",
    "이용하여 구현한다. \n",
    "\n",
    "이를 통해 넘파이 어레이가 제공하는 다양한 기능을 보다 깊게 이해할 수 있으며 더 나아가 파이썬 데이터 분석 관련\n",
    "프로그래밍 실력을 향상시킬 수 있을 것으로 기대한다."
   ]
  },
  {
   "cell_type": "markdown",
   "metadata": {},
   "source": [
    "__참고:__ 여기서 사용하는 코드는 조엘 그루스(Joel Grus)의 [밑다닥부터 시작하는 데이터 과학](https://blog.insightbook.co.kr/2020/02/28/%EB%8D%B0%EC%9D%B4%ED%84%B0-%EA%B3%BC%ED%95%99-%EB%B6%84%EC%95%BC%EC%9D%98-%EA%B8%B0%EC%B4%88%EB%B6%80%ED%84%B0-%EC%95%8C%EA%B2%8C-%ED%95%B4%EC%A3%BC%EB%8A%94-%EA%B0%95%EB%A0%A5%ED%95%98%EA%B3%A0/)의 \n",
    "2장에 사용된 [소스코드](https://github.com/joelgrus/data-science-from-scratch)의 일부를 기반으로 작성되었다."
   ]
  },
  {
   "cell_type": "markdown",
   "metadata": {},
   "source": [
    "__주의사항:__ 아래 코드는 [자료형 명시(type annotation)](https://codingalzi.github.io/pydata/notebooks/pydata03-python-basics-6.html)와 \n",
    "[리스트 조건제시법](https://codingalzi.github.io/pydata/notebooks/pydata03-python-basics-2.html)을 \n",
    "많이 활용한다. "
   ]
  },
  {
   "cell_type": "markdown",
   "metadata": {},
   "source": [
    "## 벡터\n",
    "\n",
    "벡터는 보통 유한 개의 숫자를 담고 있으며, 벡터의 길이를 **차원**(dimension)이라 부른다.\n",
    "\n",
    "__주의사항:__ 넘파이 어레이의 차원과 다른 개념임에 주의하라.\n",
    "\n",
    "통계 및 물리학에서 많이 사용된다.\n",
    "\n",
    "* 물리학 예제: 방향과 크기를 표현할 때 벡터 사용\n",
    "    * 2차원 벡터 형식: (x, y)\n",
    "\n",
    "\n",
    "* 통계 예제: 사람들의 키, 몸무게, 나이로 이루어진 벡터\n",
    "    * 3차원 벡터 형식: (키, 몸무게, 나이)\n",
    "\n",
    "\n",
    "* 통계 예제: 네 번의 시험 점수로 이루어진 벡터\n",
    "    * 4차원 벡터 형식: (1차점수, 2차점수, 3차점수, 4차점수)"
   ]
  },
  {
   "cell_type": "markdown",
   "metadata": {},
   "source": [
    "### 벡터 자료형"
   ]
  },
  {
   "cell_type": "markdown",
   "metadata": {},
   "source": [
    "벡터 자료형은 부동소수점들로 이루어진 리스트이다. "
   ]
  },
  {
   "cell_type": "code",
   "execution_count": 1,
   "metadata": {},
   "outputs": [],
   "source": [
    "from typing import List\n",
    "\n",
    "Vector = List[float]"
   ]
  },
  {
   "cell_type": "markdown",
   "metadata": {},
   "source": [
    "* 예제: 3차원 벡터"
   ]
  },
  {
   "cell_type": "code",
   "execution_count": 5,
   "metadata": {},
   "outputs": [],
   "source": [
    "# (키, 몸무게, 나이)\n",
    "\n",
    "height_weight_age1 : Vector = [70, 170, 50]\n",
    "height_weight_age2 : Vector = [66, 163, 50]"
   ]
  },
  {
   "cell_type": "markdown",
   "metadata": {},
   "source": [
    "* 예제: 4차원 벡터"
   ]
  },
  {
   "cell_type": "code",
   "execution_count": 6,
   "metadata": {},
   "outputs": [],
   "source": [
    "# (1차, 2차, 3차, 4차 시험 점수)\n",
    "\n",
    "grades1 : Vector = [95, 80, 75, 62]\n",
    "grades2 : Vector = [85, 82, 79, 82]"
   ]
  },
  {
   "cell_type": "markdown",
   "metadata": {},
   "source": [
    "### 벡터 덧셈\n",
    "\n",
    "차원이 같은 벡터 두 개의 덧셈은 같은 위치에 있는 항목끼기 더한 결과로 이루어진 벡터를 생성한다."
   ]
  },
  {
   "cell_type": "markdown",
   "metadata": {},
   "source": [
    "$$\n",
    "\\begin{align*}\n",
    "(1, 2) + (2, 1) &= (1+2, 2+1) \\\\\n",
    "&= (3, 3) \\\\[1ex]\n",
    "(6, 3, 2) + (1, 7, 9) & = (6+1, 3+7, 2+9) \\\\\n",
    "&= (7, 10, 11)\n",
    "\\end{align*}\n",
    "$$"
   ]
  },
  {
   "cell_type": "markdown",
   "metadata": {},
   "source": [
    "#### 벡터 덧셈의 기하적 의미\n",
    "\n",
    "벡터 $a$와 벡터 $b$의 합 $a+b$의 의미를 아래 그래프에서처럼 해석할 수 있다."
   ]
  },
  {
   "cell_type": "markdown",
   "metadata": {},
   "source": [
    "<img src=\"https://raw.githubusercontent.com/codingalzi/pydata/master/notebooks/images/vector_addition.png\" width=\"40%\">\n",
    "\n",
    "출처: [위키백과](https://en.wikipedia.org/wiki/Euclidean_vector)"
   ]
  },
  {
   "cell_type": "markdown",
   "metadata": {},
   "source": [
    "#### 벡터 덧셈 함수"
   ]
  },
  {
   "cell_type": "code",
   "execution_count": 8,
   "metadata": {},
   "outputs": [],
   "source": [
    "def addV(v: Vector, w: Vector) -> Vector:\n",
    "    assert len(v) == len(w)   # 두 벡터의 길이가 같아야 함\n",
    "\n",
    "    return [v_i + w_i for v_i, w_i in zip(v, w)]"
   ]
  },
  {
   "cell_type": "code",
   "execution_count": 10,
   "metadata": {},
   "outputs": [
    {
     "data": {
      "text/plain": [
       "[136, 333, 100]"
      ]
     },
     "execution_count": 10,
     "metadata": {},
     "output_type": "execute_result"
    }
   ],
   "source": [
    "addV(height_weight_age1, height_weight_age2)"
   ]
  },
  {
   "cell_type": "code",
   "execution_count": 9,
   "metadata": {},
   "outputs": [
    {
     "data": {
      "text/plain": [
       "[180, 162, 154, 144]"
      ]
     },
     "execution_count": 9,
     "metadata": {},
     "output_type": "execute_result"
    }
   ],
   "source": [
    "addV(grades1, grades2)"
   ]
  },
  {
   "cell_type": "markdown",
   "metadata": {},
   "source": [
    "#### 벡터 덧셈 함수 일반화"
   ]
  },
  {
   "cell_type": "markdown",
   "metadata": {},
   "source": [
    "임이의 개수의 벡터를 더하는 함수를 다음과 같이 정의할 수 있다."
   ]
  },
  {
   "cell_type": "code",
   "execution_count": 20,
   "metadata": {},
   "outputs": [],
   "source": [
    "def vector_sum(vectors: List[Vector]) -> Vector:\n",
    "    \"\"\"\n",
    "    인자: 동일한 차원의 벡터들의 리스트\n",
    "    반환값: 각 항목의 합으로 이루어진 동일한 차원의 벡터\n",
    "    \"\"\"\n",
    "    \n",
    "    assert vectors                   # 1개 이상의 벡터가 주어져야 함\n",
    "\n",
    "    num_elements = len(vectors[0])   # 벡터 개수\n",
    "    \n",
    "    assert all(len(v) == num_elements for v in vectors)   # 모든 벡터의 크기가 같아야 함\n",
    "\n",
    "    # 동일한 위치의 항목을 모두 더한 값들로 이루어진 벡터 반환\n",
    "    return [sum(vector[i] for vector in vectors)\n",
    "            for i in range(num_elements)]"
   ]
  },
  {
   "cell_type": "markdown",
   "metadata": {},
   "source": [
    "예를 들어, 2차원 벡터 네 개를 더한 결과는 다음과 같다."
   ]
  },
  {
   "cell_type": "code",
   "execution_count": 21,
   "metadata": {},
   "outputs": [
    {
     "data": {
      "text/plain": [
       "[16, 20]"
      ]
     },
     "execution_count": 21,
     "metadata": {},
     "output_type": "execute_result"
    }
   ],
   "source": [
    "vector_sum([[1, 2], [3, 4], [5, 6], [7, 8]])"
   ]
  },
  {
   "cell_type": "markdown",
   "metadata": {},
   "source": [
    "### 벡터 뺄셈\n",
    "\n",
    "차원이 같은 벡터 두 개의 덧셈은 같은 위치에 있는 항목끼기 뺀 결과로 이루어진 벡터를 생성한다."
   ]
  },
  {
   "cell_type": "markdown",
   "metadata": {},
   "source": [
    "$$\n",
    "\\begin{align*}\n",
    "(1, 2) - (2, 1) &= (1-2, 2-1) \\\\\n",
    "&= (-1, 1) \\\\[1ex]\n",
    "(6, 3, 2) - (1, 7, 9) & = (6-1, 3-7, 2-9) \\\\\n",
    "&= (5, -4, -7)\n",
    "\\end{align*}\n",
    "$$"
   ]
  },
  {
   "cell_type": "markdown",
   "metadata": {},
   "source": [
    "#### 벡터 뺄셈의 기하적 의미\n",
    "\n",
    "벡터 $a$와 벡터 $b$의 합 $a-b$의 의미를 아래 그래프에서처럼 해석할 수 있다."
   ]
  },
  {
   "cell_type": "markdown",
   "metadata": {},
   "source": [
    "<img src=\"https://raw.githubusercontent.com/codingalzi/pydata/master/notebooks/images/vector_subtraction.png\" width=\"20%\">\n",
    "\n",
    "출처: [위키백과](https://en.wikipedia.org/wiki/Euclidean_vector)"
   ]
  },
  {
   "cell_type": "markdown",
   "metadata": {},
   "source": [
    "#### 벡터 뺄셈 함수"
   ]
  },
  {
   "cell_type": "code",
   "execution_count": 15,
   "metadata": {},
   "outputs": [],
   "source": [
    "def subtractV(v: Vector, w: Vector) -> Vector:\n",
    "    assert len(v) == len(w)   # 두 벡터의 길이가 같아야 함\n",
    "\n",
    "    return [v_i - w_i for v_i, w_i in zip(v, w)]"
   ]
  },
  {
   "cell_type": "code",
   "execution_count": 16,
   "metadata": {},
   "outputs": [
    {
     "data": {
      "text/plain": [
       "[4, 7, 0]"
      ]
     },
     "execution_count": 16,
     "metadata": {},
     "output_type": "execute_result"
    }
   ],
   "source": [
    "subtractV(height_weight_age1, height_weight_age2)"
   ]
  },
  {
   "cell_type": "code",
   "execution_count": 17,
   "metadata": {},
   "outputs": [
    {
     "data": {
      "text/plain": [
       "[10, -2, -4, -20]"
      ]
     },
     "execution_count": 17,
     "metadata": {},
     "output_type": "execute_result"
    }
   ],
   "source": [
    "subtractV(grades1, grades2)"
   ]
  },
  {
   "cell_type": "markdown",
   "metadata": {},
   "source": [
    "### 벡터 스칼라 곱셈"
   ]
  },
  {
   "cell_type": "markdown",
   "metadata": {},
   "source": [
    "숫자 하나와 벡터의 곱셈을 스칼라 곱셈이라 부른다. \n",
    "스칼라 곱셈은 벡터의 각 항목을 지정된 숫자로 곱해 새로운 벡터를 생성한다. "
   ]
  },
  {
   "cell_type": "markdown",
   "metadata": {},
   "source": [
    "$$\n",
    "\\begin{align*}\n",
    "3\\cdot (1, 2) &= (3\\cdot 1, 3\\cdot 2) \\\\\n",
    "&= (3, 6) \\\\[1ex]\n",
    "2\\cdot (6, 3, 2) & = (2\\cdot 6, 2\\cdot 3, 2\\cdot 2) \\\\\n",
    "&= (12, 6, 4)\n",
    "\\end{align*}\n",
    "$$"
   ]
  },
  {
   "cell_type": "markdown",
   "metadata": {},
   "source": [
    "#### 스칼라 곱셈의 기하적 의미\n",
    "\n",
    "<table>\n",
    "<tr>\n",
    "    <td><img src=\"https://raw.githubusercontent.com/codingalzi/pydata/master/notebooks/images/Scalar_mult_3.png\" width=\"60%\"></td>\n",
    "    <td><img src=\"https://raw.githubusercontent.com/codingalzi/pydata/master/notebooks/images/Scalar_mult_2.png\" width=\"60%\"></td>\n",
    "</tr>\n",
    "</table>\n",
    "\n",
    "출처: [위키백과](https://en.wikipedia.org/wiki/Euclidean_vector)"
   ]
  },
  {
   "cell_type": "markdown",
   "metadata": {},
   "source": [
    "#### 벡터 스칼라 곱셈 함수"
   ]
  },
  {
   "cell_type": "code",
   "execution_count": 26,
   "metadata": {},
   "outputs": [],
   "source": [
    "def scalar_multV(c: float, v: Vector) -> Vector:\n",
    "    return [c * v_i for v_i in v]"
   ]
  },
  {
   "cell_type": "code",
   "execution_count": 27,
   "metadata": {},
   "outputs": [
    {
     "data": {
      "text/plain": [
       "[2, 4, 6]"
      ]
     },
     "execution_count": 27,
     "metadata": {},
     "output_type": "execute_result"
    }
   ],
   "source": [
    "scalar_multV(2, [1, 2, 3])"
   ]
  },
  {
   "cell_type": "markdown",
   "metadata": {},
   "source": [
    "### 항목별 벡터 평균"
   ]
  },
  {
   "cell_type": "markdown",
   "metadata": {},
   "source": [
    "같은 길의의 벡터가 여러 개 주어졌을 때 항목별 평균을 구할 수 있다.\n",
    "항목별 평균은 항목끼리 모두 더한 후 벡터의 개수로 나누면 된다.\n",
    "즉, 벡터의 덧셈과 스칼라 곱셈을 이용하면 된다."
   ]
  },
  {
   "cell_type": "markdown",
   "metadata": {},
   "source": [
    "$$\n",
    "\\frac 1 3 \\cdot \\left ((1, 2) + (2, 1) + (2, 3) \\right) = \n",
    "\\frac 1 3 \\cdot (1+2+2, 2+1+3) = \n",
    "\\left ( \\frac 5 3, \\frac 6 3 \\right ) = \\left (\\frac 5 3, 2 \\right)\n",
    "$$"
   ]
  },
  {
   "cell_type": "markdown",
   "metadata": {},
   "source": [
    "#### 항목별 벡터 평균 함수"
   ]
  },
  {
   "cell_type": "code",
   "execution_count": 30,
   "metadata": {},
   "outputs": [],
   "source": [
    "def vector_mean(vectors: List[Vector]) -> Vector:\n",
    "    n = len(vectors)\n",
    "    return scalar_multV(1/n, vector_sum(vectors))"
   ]
  },
  {
   "cell_type": "code",
   "execution_count": 34,
   "metadata": {},
   "outputs": [
    {
     "data": {
      "text/plain": [
       "[1.6666666666666665, 2.0]"
      ]
     },
     "execution_count": 34,
     "metadata": {},
     "output_type": "execute_result"
    }
   ],
   "source": [
    "vector_mean([[1, 2], [2, 1], [2, 3]])"
   ]
  },
  {
   "cell_type": "markdown",
   "metadata": {},
   "source": [
    "### 벡터 내적"
   ]
  },
  {
   "cell_type": "markdown",
   "metadata": {},
   "source": [
    "차원이 같은 벡터 두 개의 내적은 같은 위치에 있는 항목끼기 곱한 후 모두 더한 결과를 의미한다."
   ]
  },
  {
   "cell_type": "markdown",
   "metadata": {},
   "source": [
    "$u = (u_1, \\cdots, u_n)$, $v = (v_1, \\cdots, v_n)$ 일 때 두 벡터의 내적은 아래와 같다. \n",
    "\n",
    "$$\n",
    "u \\cdot v = u_1\\cdot v_1 + \\cdots + u_n\\cdot v_n\n",
    "$$"
   ]
  },
  {
   "cell_type": "markdown",
   "metadata": {},
   "source": [
    "#### 벡터 내적의 기하적 의미\n",
    "\n",
    "두 개의 벡터 $A$와 $B$가 주어졌고, 벡터 $B$의 길이가 1이라고 가정하자.\n",
    "그러면 내적 $A \\cdot B$는 벡터 $A$가 벡터 $B$ 방향으로 사영되었을 때의 길이를 나타낸다. "
   ]
  },
  {
   "cell_type": "markdown",
   "metadata": {},
   "source": [
    "<img src=\"https://raw.githubusercontent.com/codingalzi/pydata/master/notebooks/images/dot_product.png\" width=\"20%\">\n",
    "\n",
    "출처: [위키백과](https://en.wikipedia.org/wiki/Dot_product)"
   ]
  },
  {
   "cell_type": "markdown",
   "metadata": {},
   "source": [
    "임의의 벡터 $B$에 대한 내적 $A \\cdot B$는 다음과 같다. ($\\theta$ 두 벡터가 이루는 각을 나타낸다.)\n",
    "\n",
    "$$\n",
    "A \\cdot B = \\vert A\\vert\\cdot \\vert B\\vert \\cdot \\cos\\theta\n",
    "$$"
   ]
  },
  {
   "cell_type": "markdown",
   "metadata": {},
   "source": [
    "#### 벡터 내적 함수"
   ]
  },
  {
   "cell_type": "code",
   "execution_count": 37,
   "metadata": {},
   "outputs": [],
   "source": [
    "def dot(v: Vector, w: Vector) -> float:\n",
    "    assert len(v) == len(w), \"벡터들의 길이가 동일해야 함\"\"\"\n",
    "\n",
    "    return sum(v_i * w_i for v_i, w_i in zip(v, w))"
   ]
  },
  {
   "cell_type": "code",
   "execution_count": 38,
   "metadata": {},
   "outputs": [
    {
     "data": {
      "text/plain": [
       "True"
      ]
     },
     "execution_count": 38,
     "metadata": {},
     "output_type": "execute_result"
    }
   ],
   "source": [
    "dot([1, 2, 3], [4, 5, 6]) == 32"
   ]
  },
  {
   "cell_type": "markdown",
   "metadata": {},
   "source": [
    "### 예제: 벡터 항목별 제곱의 합\n",
    "\n",
    "내적을 이용하여 벡터 항목별 제곱의 합을 쉽게 구할 수 있다.\n",
    "$v = (v_1, \\cdots, v_n)$ 일 때 각 항목별 제곱의 합은 $v$와 $v$ 자신의 내적과 같다.\n",
    "\n",
    "$$v \\cdot v = v_1^2 + \\cdots + v_n^2$$"
   ]
  },
  {
   "cell_type": "markdown",
   "metadata": {},
   "source": [
    "$$(1, 2) \\cdot (1, 2) = 1^2 + 2^2 = 5$$"
   ]
  },
  {
   "cell_type": "markdown",
   "metadata": {},
   "source": [
    "### 예제: 벡터의 크기\n",
    "\n",
    "$v = (v_1, \\cdots, v_n)$ 일 때 벡터 $v$의 크기 $\\vert v\\vert$는 각 항목별 제곱을 합한 결과의 제곱근이다. 즉, \n",
    "\n",
    "$$\\vert\\, v\\vert = \\sqrt{v \\cdot v} = \\sqrt{v_1^2 + \\cdots + v_n^2}$$"
   ]
  },
  {
   "cell_type": "markdown",
   "metadata": {},
   "source": [
    "$$\\vert (1, 2)\\vert  = \\sqrt{1^2 + 2^2} = \\sqrt{5}$$"
   ]
  },
  {
   "cell_type": "markdown",
   "metadata": {},
   "source": [
    "### 예제: 벡터 사이의 거리\n",
    "\n",
    "$v = (v_1, \\cdots, v_n)$이고 $w = (w_1, \\cdots, w_n)$ 일 때 \n",
    "벡터 $v$와 벡터 $w$ 사이의 거리는 벡터 $v-w$의 크기이다. 즉, \n",
    "\n",
    "$$\\vert v - w\\vert  = \\sqrt{(v-w) \\cdot (v-w)} = \\sqrt{(v_1-w_1)^2 + \\cdots + (v_n-w_n)^2}$$"
   ]
  },
  {
   "cell_type": "markdown",
   "metadata": {},
   "source": [
    "$$\\vert (1, 2) - (2, 1)\\vert  = \\sqrt{(-1)^2 + 1^2} = \\sqrt{2}$$"
   ]
  },
  {
   "cell_type": "markdown",
   "metadata": {},
   "source": [
    "## 행렬\n",
    "\n",
    "행렬(matrix)은 보통 숫자들을 직사각형 형태로 배열한 것이다. \n",
    "\n",
    "예를 들어, $1, 2, 3, 4, 5, 6$ 여섯 개의 항목을 가진 \n",
    "행렬의 모양(shape)은 네 종류가 있다. \n",
    "이유는 6을 두 개의 양의 정수의 곱셈으로 표현하는 방법이 네 가지이기 때문이다. \n",
    "\n",
    "$$ 6 = 1\\times6 = 2\\times 3 = 3 \\times 2 = 6 \\times 1$$\n",
    "\n",
    "* $1\\times 6$ 행렬: 한 개의 행과 여섯 개의 열\n",
    "\n",
    "\\begin{bmatrix}\n",
    "    1 & 2 & 3 & 4 & 5 & 6\n",
    "\\end{bmatrix}\n",
    "\n",
    "* $2 \\times 3$ 행렬 예제: 두 개의 행과 세 개의 열\n",
    "\n",
    "\\begin{bmatrix}\n",
    "    1 & 2 & 3\\\\\n",
    "    4 & 5 & 6\n",
    "\\end{bmatrix}\n",
    "\n",
    "* $3 \\times 2$ 행렬 예제: 세 개의 행과 두 개의 열\n",
    "\n",
    "\\begin{bmatrix}\n",
    "    1 & 2 \\\\\n",
    "    3 & 4 \\\\\n",
    "    5 & 6\n",
    "\\end{bmatrix}\n",
    "\n",
    "* $6 \\times 1$ 행렬 예제: 여섯 개의 행과 한 개의 열\n",
    "\n",
    "\\begin{bmatrix}\n",
    "    1 \\\\\n",
    "    2 \\\\\n",
    "    3 \\\\\n",
    "    4 \\\\\n",
    "    5 \\\\\n",
    "    6\n",
    "\\end{bmatrix}"
   ]
  },
  {
   "cell_type": "markdown",
   "metadata": {},
   "source": [
    "### 모양(shape)\n",
    "\n",
    "$n$ 개의 행과 $k$ 개의 열로 구성된 행렬을 $n \\times k$ 행렬이라 부르며,\n",
    "$(n,k)$를 해당 행렬의 모양(shape)라 부른다."
   ]
  },
  {
   "cell_type": "markdown",
   "metadata": {},
   "source": [
    "### 특수 행렬"
   ]
  },
  {
   "cell_type": "markdown",
   "metadata": {},
   "source": [
    "#### 영행렬\n",
    "\n",
    "영행렬(zero matrix)이란 행렬의 모든 원소의 값이 0인 행렬을 말한다.\n",
    "\n",
    "예를 들어, 아래 행렬은 $3 \\times 2$ 영행렬이다.\n",
    "\n",
    "\\begin{bmatrix}\n",
    "    0 & 0 \\\\\n",
    "    0 & 0 \\\\\n",
    "    0 & 0\n",
    "    \\end{bmatrix}"
   ]
  },
  {
   "cell_type": "markdown",
   "metadata": {},
   "source": [
    "#### 단위행렬\n",
    "\n",
    "단위행렬(identity matrix)은 정사각형 모양의 행렬 중에서 대각선 상에 위치한 항목은 1이고\n",
    "나머지는 0인 행렬을 말한다. \n",
    "\n",
    "예를 들어, 아래 행렬은 $5\\times 5$ 단위행렬이다.\n",
    "\n",
    "\\begin{bmatrix}\n",
    "    1&0&0&0&0 \\\\\n",
    "    0&1&0&0&0 \\\\\n",
    "    0&0&1&0&0 \\\\\n",
    "    0&0&0&1&0 \\\\\n",
    "    0&0&0&0&1\n",
    "\\end{bmatrix}"
   ]
  },
  {
   "cell_type": "markdown",
   "metadata": {},
   "source": [
    "### 행렬 덧셈과 뺄셈\n",
    "\n",
    "모양이 같은 두 행렬의 덧셈/뺄셈은 항목별로 더한/뺀 결과로 이루어진 행렬이다. \n",
    "즉, 벡터의 덧셈/뺄셈과 동일한 방식이다."
   ]
  },
  {
   "cell_type": "markdown",
   "metadata": {},
   "source": [
    "예를 들어, $2 \\times 3$ 행렬의 덧셈/뺄셈은 다음과 같다.\n",
    "\n",
    "$$\n",
    "\\begin{align*}\n",
    "\\begin{bmatrix}1&3&7\\\\1&0&0\\end{bmatrix} \n",
    "+ \\begin{bmatrix}0&0&5\\\\7&5&0\\end{bmatrix}\n",
    "&= \\begin{bmatrix}1+0&3+0&7+5\\\\1+7&0+5&0+0\\end{bmatrix} \\\\[.5ex]\n",
    "&= \\begin{bmatrix}1&3&12\\\\8&5&0\\end{bmatrix}\\\\[2ex]\n",
    "\\begin{bmatrix}1&3&7\\\\1&0&0\\end{bmatrix} \n",
    "- \\begin{bmatrix}0&0&5\\\\7&5&0\\end{bmatrix}\n",
    "&= \\begin{bmatrix}1-0&3-0&7-5\\\\1-7&0-5&0-0\\end{bmatrix} \\\\[.5ex]\n",
    "&= \\begin{bmatrix}1&3&2\\\\-6&-5&0\\end{bmatrix}\n",
    "\\end{align*}\n",
    "$$"
   ]
  },
  {
   "cell_type": "markdown",
   "metadata": {},
   "source": [
    "### 행렬 스칼라 곱셈\n",
    "\n",
    "숫자 하나와 행렬의 곱셈을 행렬 스칼라 곱셈이라 부른다. \n",
    "스칼라 곱셈은 행렬의 각 항목을 지정된 숫자로 곱해 새로운 행렬을 생성한다.\n",
    "즉, 벡터의 스칼라 곱셈과 동일한 방식이다. "
   ]
  },
  {
   "cell_type": "markdown",
   "metadata": {},
   "source": [
    "예를 들어, $2 \\times 3$ 행렬의 스칼라 곱셈은 다음과 같다.\n",
    "\n",
    "$$\n",
    "\\begin{align*}\n",
    "2\\cdot \n",
    "\\begin{bmatrix}1&8&-3\\\\4&-2&5\\end{bmatrix}\n",
    "&= \\begin{bmatrix}2\\cdot 1&2\\cdot 8&2\\cdot -3\\\\2\\cdot 4&2\\cdot -2&2\\cdot 5\\end{bmatrix} \\\\[.5ex]\n",
    "&= \\begin{bmatrix}2&16&-6\\\\8&-4&10\\end{bmatrix}\n",
    "\\end{align*}\n",
    "$$"
   ]
  },
  {
   "cell_type": "markdown",
   "metadata": {},
   "source": [
    "### 행렬 곱셈\n",
    "\n",
    "$m \\times n$ 행렬 $A$와 $n \\times p$ 행렬 $B$의 곱은 $m \\times p$ 행렬이며, \n",
    "각 $(i, j)$번째 항목은 다음과 같이 정의된다."
   ]
  },
  {
   "cell_type": "markdown",
   "metadata": {},
   "source": [
    "$$\n",
    "\\begin{align*}\n",
    "(A B)_{ij}\n",
    "&= \\sum _{k=0}^{n-1} A_{ik} \\cdot B_{kj} \\\\\n",
    "&= A_{i0} \\cdot B_{0j} + A_{i2} \\cdot B_{2j} + \\cdots + A_{i(n-1)} \\cdot B_{(n-1)j}\n",
    "\\end{align*}\n",
    "$$"
   ]
  },
  {
   "cell_type": "markdown",
   "metadata": {},
   "source": [
    "그림으로 나타내면 다음과 같다."
   ]
  },
  {
   "cell_type": "markdown",
   "metadata": {},
   "source": [
    "<img src=\"https://raw.githubusercontent.com/codingalzi/pydata/master/notebooks/images/Matrix_mult_diagram.png\" width=\"30%\">\n",
    "\n",
    "출처: [위키백과](https://en.wikipedia.org/wiki/Dot_product)"
   ]
  },
  {
   "cell_type": "markdown",
   "metadata": {},
   "source": [
    "즉, 좌측 행렬 열의 수 $n$과 우측 행렬 행의 수 $n$이 같은 경우에만 곱셈이 가능하다.\n",
    "예를 들어, $2 \\times 3$ 행렬과 $3 \\times 2$ 행렬의 곱셈은 다음과 같다.\n",
    "\n",
    "$$\n",
    "\\begin{align*}\n",
    "\\begin{bmatrix}\n",
    "    1&0&2\\\\-1&3&1\n",
    "\\end{bmatrix}\n",
    "\\begin{bmatrix}\n",
    "    3&1\\\\2&1\\\\1&0\n",
    "\\end{bmatrix}\n",
    "&=\n",
    "\\begin{bmatrix}\n",
    "    (1\\cdot 3+0\\cdot 2+2\\cdot 1)&(1\\cdot 1+0\\cdot 1+2\\cdot 0)\\\\(-1\\cdot 3+3\\cdot 2+1\\cdot 1)&(-1\\cdot 1+3\\cdot 1+1\\cdot 0)\n",
    "\\end{bmatrix} \\\\[.5ex]\n",
    "&= \n",
    "\\begin{bmatrix}\n",
    "    5&1\\\\4&2\n",
    "\\end{bmatrix}\n",
    "\\end{align*}\n",
    "$$"
   ]
  },
  {
   "cell_type": "markdown",
   "metadata": {},
   "source": [
    "### 항등원\n",
    "\n",
    "영행렬은 행렬 덧셈의 항등원이며, 단위행렬은 행렬 곱셈의 항등원이다."
   ]
  },
  {
   "cell_type": "markdown",
   "metadata": {},
   "source": [
    "$$\n",
    "\\begin{align*}\n",
    "\\begin{bmatrix}\n",
    "    3&1 \\\\\n",
    "    2&1 \\\\\n",
    "    1&0\n",
    "\\end{bmatrix}\n",
    "+\n",
    "\\begin{bmatrix}\n",
    "    0&0 \\\\ \n",
    "    0&0 \\\\\n",
    "    0&0\n",
    "\\end{bmatrix}\n",
    "&= \n",
    "\\begin{bmatrix}\n",
    "    (3+0)&(1+0)\\\\\n",
    "    (2+0)&(1+0)\\\\\n",
    "    (1+0)&(0+0)\n",
    "\\end{bmatrix} \\\\[.5ex]\n",
    "&= \n",
    "\\begin{bmatrix}\n",
    "    3&1\\\\\n",
    "    2&1\\\\\n",
    "    1&0\n",
    "\\end{bmatrix}\\\\[2ex]\n",
    "\\begin{bmatrix}\n",
    "    3&1 \\\\\n",
    "    2&1 \\\\\n",
    "    1&0\n",
    "\\end{bmatrix}\n",
    "\\begin{bmatrix}\n",
    "    1&0 \\\\ \n",
    "    0&1\n",
    "\\end{bmatrix}\n",
    "&=\n",
    "\\begin{bmatrix}\n",
    "    (3\\cdot 1+1\\cdot 0)&(3\\cdot 0+1\\cdot 1) \\\\\n",
    "    (2\\cdot 1+1\\cdot 0)&(2\\cdot 0+1\\cdot 1) \\\\\n",
    "    (1\\cdot 1+0\\cdot 0)&(1\\cdot 0+0\\cdot 1) \\\\\n",
    "\\end{bmatrix} \\\\[.5ex]\n",
    "&= \n",
    "\\begin{bmatrix}\n",
    "    3&1\\\\\n",
    "    2&1\\\\\n",
    "    1&0\n",
    "\\end{bmatrix}\n",
    "\\end{align*}\n",
    "$$"
   ]
  },
  {
   "cell_type": "markdown",
   "metadata": {},
   "source": [
    "### 전치행렬"
   ]
  },
  {
   "cell_type": "markdown",
   "metadata": {},
   "source": [
    "행렬의 **전치**란 행과 열을 바꾸는 것으로, 행렬 $A$의 전치는 $A^T$로 나타낸다. \n",
    "즉, $A$가 $m \\times n$ 행렬이면 $A^T$는 $n \\times m$ 행렬이며,\n",
    "그리고 $A^T$의 $i$행의 $j$열번째 값은 $A$의 $j$행의 $i$열번째 값이다. \n",
    "즉,\n",
    "\n",
    "$$\n",
    "A ^{T}_{ij} = A_{ji}\n",
    "$$"
   ]
  },
  {
   "cell_type": "markdown",
   "metadata": {},
   "source": [
    "예를 들어, $2\\times 3$ 행렬의 전치는 $3 \\times 2$ 행렬이 되며 다음과 같이 작동한다.\n",
    "\n",
    "$$\n",
    "\\begin{bmatrix}\n",
    "    9&8&7\\\\\n",
    "    -1&3&4\n",
    "\\end{bmatrix}^{T}\n",
    "=\n",
    "\\begin{bmatrix}\n",
    "    9&-1\\\\\n",
    "    8&3\\\\\n",
    "    7&4\n",
    "\\end{bmatrix}\n",
    "$$"
   ]
  },
  {
   "cell_type": "markdown",
   "metadata": {},
   "source": [
    "#### 전치의 성질\n",
    "\n",
    "$a$를 스칼라, $A, B$를 크기가 같은 행렬이라 하자. 이때 다음이 성립한다.\n",
    "\n",
    "* $(A^T)^T = A$\n",
    "* $(A + B)^T = A^T + B^T$\n",
    "* $(A - B)^T = A^T - B^T$\n",
    "* $(a\\cdot A)^T = a\\cdot A^T$\n",
    "* $(A B)^T = B^T A^T$"
   ]
  },
  {
   "cell_type": "markdown",
   "metadata": {},
   "source": [
    "### 행렬 곱셈, 벡터 내적, 그리고 전치행렬\n",
    "\n",
    "행렬 $A B$의 $(i, j)$번째 항목 $(A B)_{ij}$는\n",
    "벡터 내적 또는 전치행렬과 깊이 연관되어 있다.\n",
    "\n",
    "먼저, $m \\times n$ 행렬 $A$와 $n \\times p$ 행렬 $B$의 곱 $A \\times B$의\n",
    "$(i, j)$ 번째 항목은 다음과 같다."
   ]
  },
  {
   "cell_type": "markdown",
   "metadata": {},
   "source": [
    "$$\n",
    "\\begin{align*}\n",
    "(A B)_{ij}\n",
    "&= \\sum _{k=0}^{n-1} A_{ik} \\cdot B_{kj} \\\\\n",
    "&= A_{i0} \\cdot B_{0j} + A_{i2} \\cdot B_{2j} + \\cdots + A_{i(n-1)} \\cdot B_{(n-1)j}\n",
    "\\end{align*}\n",
    "$$"
   ]
  },
  {
   "cell_type": "markdown",
   "metadata": {},
   "source": [
    "#### 행렬 곱셈과 벡터 내적\n",
    "\n",
    "행렬 $A$의 $i$ 행벡터를 \n",
    "\n",
    "$$A^0_i = (A_{i0},\\dots, A_{i(n-1)}),$$\n",
    "\n",
    "행렬 $B$의 $j$ 열벡터를 \n",
    "\n",
    "$$B^1_j = (B_{0j},\\dots, B_{(n-1)j})$$\n",
    "\n",
    "라 할 때, 다음이 성립한다.\n",
    "\n",
    "$$(A B)_{ij} = A^0_i \\cdot B^1_j$$\n",
    "\n",
    "즉, $A$의 $i$ 행벡터와 $B$의 $j$ 열벡터의 **내적**으로 정의된다."
   ]
  },
  {
   "cell_type": "markdown",
   "metadata": {},
   "source": [
    "#### 행렬 곱셈과 전치행렬\n",
    "\n",
    "행렬 $A$의 $i$ 행벡터를 $(1,n)$ 모양의 행렬로 볼 수 있다.\n",
    "즉,\n",
    "\n",
    "$$A^0_i = \n",
    "\\begin{bmatrix}\n",
    "A_{i0} & \\cdots & A_{i(n-1)}\n",
    "\\end{bmatrix}$$\n",
    "\n",
    "행렬 $B$의 $j$ 열벡터 역시 $(1, n)$ 모양의 행렬로 볼 수 있는데,\n",
    "이 행렬의 전치 $(B^1_j)^T$는 $(n, 1)$ 모양의 행렬이 된다.\n",
    "즉,\n",
    "\n",
    "$$(B^1_j)^T = \n",
    "\\begin{bmatrix}\n",
    "B_{0j} \\\\ \\vdots \\\\ B_{(n-1)j}\n",
    "\\end{bmatrix}$$\n",
    "\n",
    "이제 다음이 성립한다. \n",
    "\n",
    "$$(A B)_{ij} = A^0_i\\, (B^1_j)^T$$"
   ]
  },
  {
   "cell_type": "markdown",
   "metadata": {},
   "source": [
    "#### 예제\n",
    "\n",
    "$2 \\times 3$ 행렬과 $3 \\times 2$ 행렬의 곱셈을 다시 살펴보자."
   ]
  },
  {
   "cell_type": "markdown",
   "metadata": {},
   "source": [
    "$$\n",
    "\\begin{align*}\n",
    "\\begin{bmatrix}\n",
    "    1&0&2\\\\-1&3&1\n",
    "\\end{bmatrix}\n",
    "\\cdot \n",
    "\\begin{bmatrix}\n",
    "    3&1\\\\2&1\\\\1&0\n",
    "\\end{bmatrix}\n",
    "&=\n",
    "\\begin{bmatrix}\n",
    "    (1\\cdot 3+0\\cdot 2+2\\cdot 1)&(1\\cdot 1+0\\cdot 1+2\\cdot 0)\\\\(-1\\cdot 3+3\\cdot 2+1\\cdot 1)&(-1\\cdot 1+3\\cdot 1+1\\cdot 0)\n",
    "\\end{bmatrix} \\\\[.5ex]\n",
    "&= \n",
    "\\begin{bmatrix}\n",
    "    5&1\\\\4&2\n",
    "\\end{bmatrix}\n",
    "\\end{align*}\n",
    "$$"
   ]
  },
  {
   "cell_type": "markdown",
   "metadata": {},
   "source": [
    "위 계산을 벡터 내적으로 표현해보자.\n",
    "먼저 두 행렬 $A$와 $B$를 지정한다."
   ]
  },
  {
   "cell_type": "markdown",
   "metadata": {},
   "source": [
    "$$\n",
    "A = \\begin{bmatrix}\n",
    "    1&0&2\\\\-1&3&1\n",
    "\\end{bmatrix} \\text{,}\n",
    "\\qquad\n",
    "B = \\begin{bmatrix}\n",
    "    3&1\\\\2&1\\\\1&0\n",
    "\\end{bmatrix}\n",
    "$$"
   ]
  },
  {
   "cell_type": "markdown",
   "metadata": {},
   "source": [
    "그러면 \n",
    "\n",
    "$$(A\\cdot B)_{11} = -1\\cdot 1+3\\cdot 1+1\\cdot 0 = 2$$\n",
    "\n",
    "이고, 이것은 아래 결과와 동일하다."
   ]
  },
  {
   "cell_type": "markdown",
   "metadata": {},
   "source": [
    "$$\n",
    "\\begin{align*}\n",
    "A^0_1 \\, (B^1_1)^T \n",
    "&= \n",
    "\\begin{bmatrix}\n",
    "    -1&3&1\n",
    "\\end{bmatrix}\n",
    "\\begin{bmatrix}\n",
    "    1\\\\1\\\\0\n",
    "\\end{bmatrix} \\\\[.5ex]\n",
    "&=\n",
    "\\begin{bmatrix}\n",
    "    -1\\cdot 1+3\\cdot 1+1\\cdot 0\n",
    "\\end{bmatrix}\n",
    "=\n",
    "\\begin{bmatrix}\n",
    "    2\n",
    "\\end{bmatrix}\n",
    "\\end{align*}\n",
    "$$"
   ]
  },
  {
   "cell_type": "markdown",
   "metadata": {},
   "source": [
    "단, $A^0_1$와 $B^1_1$는 다음과 같다."
   ]
  },
  {
   "cell_type": "markdown",
   "metadata": {},
   "source": [
    "$$\n",
    "A^0_1 = \n",
    "\\begin{bmatrix}\n",
    "    -1&3&1\n",
    "\\end{bmatrix}\n",
    "\\qquad\n",
    "B_1^1 = \n",
    "\\begin{bmatrix}\n",
    "    1&1&0\n",
    "\\end{bmatrix}\n",
    "$$"
   ]
  },
  {
   "cell_type": "markdown",
   "metadata": {},
   "source": [
    "## 벡터와 행렬의 활용"
   ]
  },
  {
   "cell_type": "markdown",
   "metadata": {},
   "source": [
    "파이썬 데이터분석에스는 \n",
    "길이가 $n$인 벡터를 많은 경우 $(1, n)$ 모양의 행렬로 다룬다.\n",
    "또한 행렬을 여러 개의 벡터로 구성된 리스트로 다룬다. "
   ]
  },
  {
   "cell_type": "markdown",
   "metadata": {},
   "source": [
    "### 활용 예제 1\n",
    "\n",
    "1,000명에 대한 키, 몸무게, 나이가 주어졌다면 $1000 \\times 3$ 행렬로 표현할 수 있다."
   ]
  },
  {
   "cell_type": "markdown",
   "metadata": {},
   "source": [
    "$$\n",
    "\\begin{bmatrix}\n",
    "    70 & 170 & 40 \\\\\n",
    "    65 & 120 & 26 \\\\\n",
    "    77 & 250 & 19 \\\\\n",
    "    & \\vdots & \\\\\n",
    "    72 & 200 & 23\n",
    "\\end{bmatrix}\n",
    "$$"
   ]
  },
  {
   "cell_type": "markdown",
   "metadata": {},
   "source": [
    "### 활용 예제 2\n",
    "\n",
    "$k$ 차원의 벡터를 $n$ 차원의 벡터로 변환해주는 $n \\times k$ 행렬로 표현할 수 있다.\n",
    "왜냐하면, $n\\times k$ 행렬과 $k \\times 1$ 행렬을 곱하면 $n \\times 1$ 행렬을 얻기 때문이다."
   ]
  },
  {
   "cell_type": "markdown",
   "metadata": {},
   "source": [
    "예를 들어, $B$가 3차원 벡터 $(3, 2, 1)$이면, $2\\times 3$ 행렬과의 \n",
    "곱을 이용하여 2차원 벡터를 구할 수 있다."
   ]
  },
  {
   "cell_type": "markdown",
   "metadata": {},
   "source": [
    "$$\n",
    "A = \\begin{bmatrix}\n",
    "    1&0&2\\\\-1&3&1\n",
    "\\end{bmatrix}\n",
    "\\qquad\n",
    "B = \\begin{bmatrix}\n",
    "    3&2&1\n",
    "\\end{bmatrix}\n",
    "$$"
   ]
  },
  {
   "cell_type": "markdown",
   "metadata": {},
   "source": [
    "$$\n",
    "\\begin{align*}\n",
    "C = A B^T \n",
    "&=\n",
    "\\begin{bmatrix}\n",
    "    1&0&2\\\\-1&3&1\n",
    "\\end{bmatrix}\n",
    "\\begin{bmatrix}\n",
    "    3\\\\2\\\\1\n",
    "\\end{bmatrix}\\\\[.5ex]\n",
    "&=\n",
    "\\begin{bmatrix}\n",
    "3+0+2 \\\\ -3 + 6 + 1\n",
    "\\end{bmatrix}\\\\[.5ex]\n",
    "&=\n",
    "\\begin{bmatrix}\n",
    "    5\\\\4\n",
    "\\end{bmatrix}\n",
    "\\end{align*}\n",
    "$$"
   ]
  },
  {
   "cell_type": "markdown",
   "metadata": {},
   "source": [
    "따라서 $C^T = \\begin{bmatrix}5&4\\end{bmatrix}$ 에 \n",
    "해당하는 2차원 벡터 $(5,4)$를 얻는다."
   ]
  },
  {
   "cell_type": "markdown",
   "metadata": {},
   "source": [
    "### 활용 예제 3\n",
    "\n",
    "이진 관계를 행렬로 표현할 수 있다. \n",
    "예를 들어, 사용자 아이디 $i$와 $j$가 친구사이라는 사실을 $(i, j)$로 표시한다고 하자.\n",
    "그리고 열 명의 사용자 사이의 친구관계가 다음과 같다고 가정하자. \n",
    "\n",
    "$$\n",
    "F = \n",
    "[(0, 1), (0, 2), (1, 2), (1, 3), (2, 3), (3, 4),\n",
    "(4, 5), (5, 6), (5, 7), (6, 8), (7, 8), (8, 9)]\n",
    "$$\n",
    "\n",
    "그런데 이렇게 하면 사용자들 사이의 친구관계를 쉽게 파악하기 어렵다. \n",
    "반면에 아래와 같이 $10\\times 10$ 행렬로 표시하면 다르게 보인다."
   ]
  },
  {
   "cell_type": "markdown",
   "metadata": {},
   "source": [
    "$$\n",
    "F =\n",
    "\\begin{bmatrix}\n",
    "0&1&1&0&0&0&0&0&0&0\\\\\n",
    "1&0&1&1&0&0&0&0&0&0\\\\\n",
    "1&1&0&1&0&0&0&0&0&0\\\\\n",
    "0&1&1&0&1&0&0&0&0&0\\\\\n",
    "0&0&0&1&0&1&0&0&0&0\\\\\n",
    "0&0&0&0&1&0&1&1&0&0\\\\\n",
    "0&0&0&0&0&1&0&0&1&0\\\\\n",
    "0&0&0&0&0&1&0&0&1&0\\\\\n",
    "0&0&0&0&0&0&1&1&0&1\\\\\n",
    "0&0&0&0&0&0&0&0&1&0\n",
    "\\end{bmatrix}\n",
    "$$"
   ]
  },
  {
   "cell_type": "markdown",
   "metadata": {},
   "source": [
    "즉, 사용자 $i$와 사용자 $j$ 사이의 친구관계 성립여부는 \n",
    "행렬 $F$의 $(i,j)$ 번째 항목이 1이면 친구관계이고, 0이면 아니라는 것을 바로 확인할 수 있다. \n",
    "즉, $F_{ij} = 1$인가를 확인만 하면 된다."
   ]
  }
 ],
 "metadata": {
  "kernelspec": {
   "display_name": "Python 3",
   "language": "python",
   "name": "python3"
  },
  "language_info": {
   "codemirror_mode": {
    "name": "ipython",
    "version": 3
   },
   "file_extension": ".py",
   "mimetype": "text/x-python",
   "name": "python",
   "nbconvert_exporter": "python",
   "pygments_lexer": "ipython3",
   "version": "3.8.5"
  }
 },
 "nbformat": 4,
 "nbformat_minor": 2
}
