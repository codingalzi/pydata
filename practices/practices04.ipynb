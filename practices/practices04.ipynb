{
 "cells": [
  {
   "cell_type": "markdown",
   "metadata": {
    "id": "vN2D9cmLHZ3_"
   },
   "source": [
    "# 4차 과제 (준비중)"
   ]
  },
  {
   "cell_type": "markdown",
   "metadata": {
    "id": "C0rzb0moZ01z"
   },
   "source": [
    "## 이름과 학번을 작성하세요."
   ]
  },
  {
   "cell_type": "markdown",
   "metadata": {
    "id": "z9idGNvbZwbm"
   },
   "source": [
    "- 이름:\n",
    "- 학번:"
   ]
  },
  {
   "cell_type": "code",
   "execution_count": null,
   "metadata": {},
   "outputs": [],
   "source": [
    "from sklearn.datasets import load_boston\n",
    "X = load_boston()"
   ]
  },
  {
   "cell_type": "code",
   "execution_count": null,
   "metadata": {},
   "outputs": [],
   "source": [
    "type(X)"
   ]
  },
  {
   "cell_type": "code",
   "execution_count": null,
   "metadata": {},
   "outputs": [],
   "source": [
    "X.keys()"
   ]
  },
  {
   "cell_type": "code",
   "execution_count": null,
   "metadata": {},
   "outputs": [],
   "source": [
    "X.data"
   ]
  },
  {
   "cell_type": "code",
   "execution_count": null,
   "metadata": {},
   "outputs": [],
   "source": [
    "X.target"
   ]
  },
  {
   "cell_type": "code",
   "execution_count": null,
   "metadata": {},
   "outputs": [],
   "source": [
    "print(X.DESCR)"
   ]
  },
  {
   "cell_type": "markdown",
   "metadata": {},
   "source": [
    "| 특성 | 의미 |\n",
    "|:------|:---------|\n",
    "| CRIM  | 지역별 1인당 범죄율 |\n",
    "| ZN    | 25,000 평방 피트 이상의 주거 지역 비율 |\n",
    "| INDUS | 지역별 비 소매 사업 에이커(acre) 비율 |\n",
    "| CHAS  | Charles River 더미 변수(지역이 강 경계에 닿으면 1, 아니면 0) |\n",
    "| NOX   | 산화 질소 농도(1000만분 율) |\n",
    "| RM    | 주택 당 평균 방 수 |\n",
    "| AGE   | 소유주가 살고 있는 1940년 이전에 지어진 건물 비율 |\n",
    "| DIS   | 보스턴 고용 센터 다섯 곳 까지의 가중 거리 |\n",
    "| RAD   | 방사형 고속도로 접근성 지수 |\n",
    "| TAX   | 1만달러당 전체 가지 재산 세율 |\n",
    "| PTRATIO | 지역별 학생-교사 비율 |\n",
    "| B     | 1000(Bk - 0.63)^2 (Bk 지역별 흑인 비율) |\n",
    "| LSTAT | 지역별 낮은 지위 인구 비율 |\n",
    "| MEDV  | 소유주 거주 주택의 중간 가격(단위: 1,000달러) |"
   ]
  },
  {
   "cell_type": "code",
   "execution_count": null,
   "metadata": {},
   "outputs": [],
   "source": [
    "X.feature_names"
   ]
  },
  {
   "cell_type": "code",
   "execution_count": null,
   "metadata": {},
   "outputs": [],
   "source": [
    "X.filename"
   ]
  },
  {
   "cell_type": "code",
   "execution_count": null,
   "metadata": {},
   "outputs": [],
   "source": [
    "boston = X.data\n",
    "boston"
   ]
  },
  {
   "cell_type": "code",
   "execution_count": null,
   "metadata": {},
   "outputs": [],
   "source": [
    "boston = pd.DataFrame(X.data, columns=X.feature_names)\n",
    "boston"
   ]
  },
  {
   "cell_type": "code",
   "execution_count": null,
   "metadata": {},
   "outputs": [],
   "source": [
    "boston.info()"
   ]
  },
  {
   "cell_type": "code",
   "execution_count": null,
   "metadata": {},
   "outputs": [],
   "source": [
    "boston.describe()"
   ]
  },
  {
   "cell_type": "code",
   "execution_count": null,
   "metadata": {},
   "outputs": [],
   "source": [
    "boston['RM'][100:105] = np.nan"
   ]
  },
  {
   "cell_type": "code",
   "execution_count": null,
   "metadata": {},
   "outputs": [],
   "source": [
    "boston[97:107]"
   ]
  },
  {
   "cell_type": "code",
   "execution_count": null,
   "metadata": {},
   "outputs": [],
   "source": [
    "boston.info()"
   ]
  },
  {
   "cell_type": "code",
   "execution_count": null,
   "metadata": {},
   "outputs": [],
   "source": [
    "boston.describe()"
   ]
  },
  {
   "cell_type": "code",
   "execution_count": null,
   "metadata": {},
   "outputs": [],
   "source": [
    "boston.shape"
   ]
  },
  {
   "cell_type": "code",
   "execution_count": null,
   "metadata": {},
   "outputs": [],
   "source": []
  }
 ],
 "metadata": {
  "colab": {
   "name": "pydata-quiz01-solutions.ipynb",
   "provenance": []
  },
  "kernelspec": {
   "display_name": "Python 3",
   "language": "python",
   "name": "python3"
  },
  "language_info": {
   "codemirror_mode": {
    "name": "ipython",
    "version": 3
   },
   "file_extension": ".py",
   "mimetype": "text/x-python",
   "name": "python",
   "nbconvert_exporter": "python",
   "pygments_lexer": "ipython3",
   "version": "3.8.5"
  }
 },
 "nbformat": 4,
 "nbformat_minor": 1
}
