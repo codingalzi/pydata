{
 "cells": [
  {
   "cell_type": "markdown",
   "metadata": {
    "id": "vN2D9cmLHZ3_"
   },
   "source": [
    "# 2차 과제"
   ]
  },
  {
   "cell_type": "markdown",
   "metadata": {
    "id": "C0rzb0moZ01z"
   },
   "source": [
    "## 이름과 학번을 작성하세요."
   ]
  },
  {
   "cell_type": "markdown",
   "metadata": {
    "id": "z9idGNvbZwbm"
   },
   "source": [
    "- 이름:\n",
    "- 학번:"
   ]
  },
  {
   "cell_type": "markdown",
   "metadata": {},
   "source": [
    "__과제 1.__ 앞서 사용한 보간법은 네 칸 중에서 대각선 상에 위치한 두 개의 픽셀에 대해서만 평균값을 구하여 사용한다.\n",
    "대신에 네 칸 모두를 대상으로 픽셀 평균값을 계산하는 이미지 축소 함수 `resize_half()`를 정의하라."
   ]
  },
  {
   "cell_type": "markdown",
   "metadata": {},
   "source": [
    "<img src=\"https://github.com/codingalzi/pydata/blob/master/notebooks/images/interpolation03.png?raw=true\" style=\"width:150px;\">"
   ]
  },
  {
   "cell_type": "markdown",
   "metadata": {},
   "source": [
    "사용되는 매개변수와 의미는 다음과 같다.\n",
    "\n",
    "* `imageName`: 이미지 어레이를 가리키는 변수 또는 값. \n",
    "    어레이의 `dtype`은 0에서 255사이의 정수인 `uint8`, 또는\n",
    "    0과 1사이의 부동소수점인 `float64` 이다.\n",
    "* 반환값은 행과 열의 크기가 1/2로 줄어든 3차원 넘파이 어레이. `dtype`은 `float64`."
   ]
  },
  {
   "cell_type": "markdown",
   "metadata": {},
   "source": [
    "__주의사항:__ 기본적으로 어레이 관련 연산, 메서드, 함수만 사용한다. `for` 반복문은 사용하지 않는다."
   ]
  },
  {
   "cell_type": "markdown",
   "metadata": {},
   "source": [
    "예를 들어, `face`에 사용된 `dtype`과 사용된 값들의 최대, 최소를 확인해보자."
   ]
  },
  {
   "cell_type": "code",
   "execution_count": null,
   "metadata": {},
   "outputs": [],
   "source": [
    "import scipy.misc\n",
    "face = scipy.misc.face()"
   ]
  },
  {
   "cell_type": "code",
   "execution_count": null,
   "metadata": {},
   "outputs": [],
   "source": [
    "face.dtype"
   ]
  },
  {
   "cell_type": "code",
   "execution_count": null,
   "metadata": {},
   "outputs": [],
   "source": [
    "face.min()"
   ]
  },
  {
   "cell_type": "code",
   "execution_count": null,
   "metadata": {},
   "outputs": [],
   "source": [
    "face.max()"
   ]
  },
  {
   "cell_type": "markdown",
   "metadata": {},
   "source": [
    "어레이를 255로 나누면 `float64` 자료형이 된다."
   ]
  },
  {
   "cell_type": "code",
   "execution_count": null,
   "metadata": {},
   "outputs": [],
   "source": [
    "(face/255).dtype"
   ]
  },
  {
   "cell_type": "markdown",
   "metadata": {},
   "source": [
    "평균 연산을 하면 소수점이 나올 수밖에 없기에 이미지 어레이가 인자로 들어오면\n",
    "무조건 0과 1사이의 부동소수점으로 변환을 한 다음에 이미지 크기를 조정하도록 해야 한다."
   ]
  },
  {
   "cell_type": "code",
   "execution_count": null,
   "metadata": {},
   "outputs": [],
   "source": [
    "# pass와 None을 각각 적절한 코드와 값으로 대체해야 함.\n",
    "def resize_half(imageName):\n",
    "    if imageName.dtype == 'uint8':\n",
    "        imageName = imageName/255\n",
    "    pass\n",
    "    return None"
   ]
  },
  {
   "cell_type": "markdown",
   "metadata": {},
   "source": [
    "구현된 함수가 제대로 작동하는제 테스트하라."
   ]
  },
  {
   "cell_type": "code",
   "execution_count": null,
   "metadata": {},
   "outputs": [],
   "source": [
    "face_half = resize_half(face)\n",
    "\n",
    "assert face_half.shape == (384, 512, 3)"
   ]
  },
  {
   "cell_type": "code",
   "execution_count": null,
   "metadata": {},
   "outputs": [],
   "source": [
    "plt.imshow(face_half)\n",
    "plt.show()"
   ]
  },
  {
   "cell_type": "markdown",
   "metadata": {},
   "source": [
    "__과제 2.__ 이미지의 픽셀 수를 임의의 지정된 비율로 줄이는 함수 `resize_ratio()`를 선언하라.\n",
    "사용되는 매개변수와 의미는 다음과 같다.\n",
    "\n",
    "* `imageName`: 이미지 어레이를 가리키는 변수 또는 값. \n",
    "    어레이의 `dtype`은 0에서 255사이의 정수인 `uint8`, 또는\n",
    "    0과 1사이의 부동소수점인 `float64` 이다.\n",
    "* `ratio` : 양의 정수를 입력 받는 키워드 인자로 사용되며 기본값은 2.\n",
    "    기본값 2를 사용하면 `resize_half()` 함수와 동일하게 작동해야 함.\n",
    "    일반적으로, `n`이 입력되면 `n x n` 개의 픽셀값들의 평균값을 이용해야 함.\n",
    "* 반환값은 행과 열의 크기가 `1/n`로 줄어든 3차원 넘파이 어레이. `dtype`은 `float64`.\n",
    "\n",
    "__주의사항:__ \n",
    "1. 크기를 n으로 나눈 나머지 행과 열은 삭제한다.\n",
    "1. n은 8 정도까지만 시험해 본다. 그보다 크면 원본 이미지에서 너무 많은 데이터를 잃어버릴 것이다.\n",
    "1. 기본적으로 어레이 연산만 사용한다. `for` 반복문을 어레이의 각 항목의 값을 지정하는 데에 사용하지는 말아야 한다.\n",
    "\n",
    "__힌트:__\n",
    "`np.hsplit()` 함수와 `sum()` 메서드를 적절히 활용하면 `for` 반복문을 전혀 사용하지 않아도 된다.\n",
    "다만, `np.hsplit()` 함수의 작동법이 그렇게 간단하지는 않다. "
   ]
  },
  {
   "cell_type": "code",
   "execution_count": null,
   "metadata": {},
   "outputs": [],
   "source": [
    "# pass와 None을 각각 적절한 코드와 값으로 대체해야 함.\n",
    "def resize_ratio(imageName, ratio=2):\n",
    "    if imageName.dtype == 'uint8':\n",
    "        imageName = imageName/255\n",
    "    pass\n",
    "    return None"
   ]
  },
  {
   "cell_type": "markdown",
   "metadata": {},
   "source": [
    "구현된 함수가 제대로 작동하는제 테스트하라."
   ]
  },
  {
   "cell_type": "code",
   "execution_count": null,
   "metadata": {},
   "outputs": [],
   "source": [
    "face_half_ratio = resize_ratio(face)\n",
    "\n",
    "assert face_half_ratio.shape == (384, 512, 3)"
   ]
  },
  {
   "cell_type": "code",
   "execution_count": null,
   "metadata": {},
   "outputs": [],
   "source": [
    "face_fourth = resize_ratio(face, 4)\n",
    "\n",
    "assert face_fourth.shape == (192, 256, 3)"
   ]
  },
  {
   "cell_type": "code",
   "execution_count": null,
   "metadata": {},
   "outputs": [],
   "source": [
    "plt.imshow(face_fourth)\n",
    "plt.show()"
   ]
  }
 ],
 "metadata": {
  "colab": {
   "name": "pydata-quiz01-solutions.ipynb",
   "provenance": []
  },
  "kernelspec": {
   "display_name": "Python 3",
   "language": "python",
   "name": "python3"
  },
  "language_info": {
   "codemirror_mode": {
    "name": "ipython",
    "version": 3
   },
   "file_extension": ".py",
   "mimetype": "text/x-python",
   "name": "python",
   "nbconvert_exporter": "python",
   "pygments_lexer": "ipython3",
   "version": "3.8.5"
  }
 },
 "nbformat": 4,
 "nbformat_minor": 1
}
